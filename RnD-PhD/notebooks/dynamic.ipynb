{
 "cells": [
  {
   "cell_type": "markdown",
   "id": "c874be57-1429-419f-b8af-ae47804fdc27",
   "metadata": {},
   "source": [
    "![](../../PythonCompendium/storage/banners/15_dynamics.png)"
   ]
  },
  {
   "cell_type": "markdown",
   "id": "2a49cdcd-4dfa-4cb2-9ff7-35c85e87dfed",
   "metadata": {},
   "source": [
    "##### <u>Инициализация</u>"
   ]
  },
  {
   "cell_type": "code",
   "execution_count": 1,
   "id": "48a0335a-8c2b-401f-871e-2c096fb8ce8c",
   "metadata": {},
   "outputs": [
    {
     "name": "stdout",
     "output_type": "stream",
     "text": [
      "\u001b[32mИнициализация проекта kiam-formation\u001b[0m\n",
      "\u001b[31mПараметры не могут быть загружены! Нет файла: kiamformation/data/config_choose.csv\u001b[0m\n",
      "\u001b[32mМатрицы Ф:(6, 6), Q:(3, 3), P:(6, 6), D:(6, 3)\u001b[0m\n",
      "Высота орбиты: 400 км\n",
      "Период орбиты: 1.54 часов\n",
      "Плотность атмосферы: 6.404751331738951e-12 кг/м³\n"
     ]
    }
   ],
   "source": [
    "from common_func import *\n",
    "from p_tqdm import p_map\n",
    "\n",
    "o, num_params, t, w_0, μ, ρ, r_orb, v_orb = init_symbol_params()\n",
    "w = kf.get_vars(\"w\", 3, numb=False)\n",
    "q = kf.vec2quat(kf.get_vars(name='q', n=3, numb=False))"
   ]
  },
  {
   "cell_type": "markdown",
   "id": "ee754214-c0b3-43e9-a870-98d14c4e56a8",
   "metadata": {},
   "source": [
    "##### <u>Матрицы поворота</u>"
   ]
  },
  {
   "cell_type": "code",
   "execution_count": 4,
   "id": "15e460b0-7a3f-459e-897c-e1bdcf021967",
   "metadata": {},
   "outputs": [
    {
     "name": "stdout",
     "output_type": "stream",
     "text": [
      "\u001b[0mМатрица A ИСК->ССК:\u001b[0m\n"
     ]
    },
    {
     "data": {
      "text/latex": [
       "$\\displaystyle \\left[\\begin{matrix}- 2 q_{y}^{2} - 2 q_{z}^{2} + 1 & 2 q_{x} q_{y} + 2 q_{z} \\sqrt{- q_{x}^{2} - q_{y}^{2} - q_{z}^{2} + 1} & 2 q_{x} q_{z} - 2 q_{y} \\sqrt{- q_{x}^{2} - q_{y}^{2} - q_{z}^{2} + 1}\\\\2 q_{x} q_{y} - 2 q_{z} \\sqrt{- q_{x}^{2} - q_{y}^{2} - q_{z}^{2} + 1} & - 2 q_{x}^{2} - 2 q_{z}^{2} + 1 & 2 q_{x} \\sqrt{- q_{x}^{2} - q_{y}^{2} - q_{z}^{2} + 1} + 2 q_{y} q_{z}\\\\2 q_{x} q_{z} + 2 q_{y} \\sqrt{- q_{x}^{2} - q_{y}^{2} - q_{z}^{2} + 1} & - 2 q_{x} \\sqrt{- q_{x}^{2} - q_{y}^{2} - q_{z}^{2} + 1} + 2 q_{y} q_{z} & - 2 q_{x}^{2} - 2 q_{y}^{2} + 1\\end{matrix}\\right]$"
      ],
      "text/plain": [
       "Matrix([\n",
       "[                             -2*q_y**2 - 2*q_z**2 + 1,  2*q_x*q_y + 2*q_z*sqrt(-q_x**2 - q_y**2 - q_z**2 + 1), 2*q_x*q_z - 2*q_y*sqrt(-q_x**2 - q_y**2 - q_z**2 + 1)],\n",
       "[2*q_x*q_y - 2*q_z*sqrt(-q_x**2 - q_y**2 - q_z**2 + 1),                               -2*q_x**2 - 2*q_z**2 + 1, 2*q_x*sqrt(-q_x**2 - q_y**2 - q_z**2 + 1) + 2*q_y*q_z],\n",
       "[2*q_x*q_z + 2*q_y*sqrt(-q_x**2 - q_y**2 - q_z**2 + 1), -2*q_x*sqrt(-q_x**2 - q_y**2 - q_z**2 + 1) + 2*q_y*q_z,                              -2*q_x**2 - 2*q_y**2 + 1]])"
      ]
     },
     "metadata": {},
     "output_type": "display_data"
    },
    {
     "name": "stdout",
     "output_type": "stream",
     "text": [
      "Матрица U ИСК->ОСК:\n"
     ]
    },
    {
     "ename": "NameError",
     "evalue": "name 'U' is not defined",
     "output_type": "error",
     "traceback": [
      "\u001b[0;31m---------------------------------------------------------------------------\u001b[0m",
      "\u001b[0;31mNameError\u001b[0m                                 Traceback (most recent call last)",
      "Cell \u001b[0;32mIn[4], line 6\u001b[0m\n\u001b[1;32m      4\u001b[0m display(A)\n\u001b[1;32m      5\u001b[0m \u001b[38;5;28mprint\u001b[39m(\u001b[38;5;124mf\u001b[39m\u001b[38;5;124m\"\u001b[39m\u001b[38;5;124mМатрица U ИСК->ОСК:\u001b[39m\u001b[38;5;124m\"\u001b[39m)\n\u001b[0;32m----> 6\u001b[0m display(\u001b[43mU\u001b[49m)\n\u001b[1;32m      7\u001b[0m \u001b[38;5;28mprint\u001b[39m(\u001b[38;5;124mf\u001b[39m\u001b[38;5;124m\"\u001b[39m\u001b[38;5;124mМатрица S ОСК->ССК:\u001b[39m\u001b[38;5;124m\"\u001b[39m)\n\u001b[1;32m      8\u001b[0m display(S)\n",
      "\u001b[0;31mNameError\u001b[0m: name 'U' is not defined"
     ]
    }
   ],
   "source": [
    "A = kf.quart2dcm(q)\n",
    "U = kf.get\n",
    "\n",
    "kf.my_print(f\"Матрица A ИСК->ССК:\")\n",
    "display(A)\n",
    "print(f\"Матрица U ИСК->ОСК:\")\n",
    "display(U)\n",
    "print(f\"Матрица S ОСК->ССК:\")\n",
    "display(S)"
   ]
  },
  {
   "cell_type": "markdown",
   "id": "f74ab84a-f8da-4801-86cb-0a78b26b492d",
   "metadata": {
    "jp-MarkdownHeadingCollapsed": true
   },
   "source": [
    "##### <u>Уравнения движения</u>"
   ]
  },
  {
   "cell_type": "code",
   "execution_count": 5,
   "id": "62cc5da4-a37c-4c29-8877-a3bdc408a23a",
   "metadata": {},
   "outputs": [
    {
     "data": {
      "text/latex": [
       "$\\displaystyle - \\left(2 q_{x} q_{z} + 2 q_{y} \\sqrt{- q_{x}^{2} - q_{y}^{2} - q_{z}^{2} + 1}\\right) \\sin{\\left(t ω_{0} \\right)} + \\left(- 2 q_{x} \\sqrt{- q_{x}^{2} - q_{y}^{2} - q_{z}^{2} + 1} + 2 q_{y} q_{z}\\right) \\cos{\\left(t ω_{0} \\right)}$"
      ],
      "text/plain": [
       "-(2*q_x*q_z + 2*q_y*sqrt(-q_x**2 - q_y**2 - q_z**2 + 1))*sin(t*ω_0) + (-2*q_x*sqrt(-q_x**2 - q_y**2 - q_z**2 + 1) + 2*q_y*q_z)*cos(t*ω_0)"
      ]
     },
     "execution_count": 5,
     "metadata": {},
     "output_type": "execute_result"
    }
   ],
   "source": [
    "U, S, A, R_orb = kf.get_matrices(v=o.v, t=t, obj=o.c, n=0, q=q)\n",
    "τ = Matrix([1, 0, 0])  # Набегающий поток ОСК\n",
    "n = S.T @ Matrix([0, 0, 1])  # Нормаль к поверхности ОСК\n",
    "n.dot(τ)"
   ]
  },
  {
   "cell_type": "markdown",
   "id": "7a4e8c11-b18e-4ed8-98a7-9bba4feaf415",
   "metadata": {
    "jp-MarkdownHeadingCollapsed": true
   },
   "source": [
    "##### <u>Компоненты производной угловой скорости</u>"
   ]
  },
  {
   "cell_type": "code",
   "execution_count": 23,
   "id": "00d39d01-3739-4af8-be71-534115ebe39c",
   "metadata": {
    "scrolled": true
   },
   "outputs": [],
   "source": [
    "M = 3 * μ / R_0**5 * (S @ R_orb).cross(J @ S @ R_orb)\n",
    "w = Matrix(kf.get_func(\"w\", 3, numb=False, t=t))\n",
    "dw = Matrix(kf.get_func(\"dw\", 3, numb=False, t=t))\n",
    "\n",
    "w_diff = J.inv() @ (- (w).cross(J @ w) + M)\n",
    "w_diff = A.T @ J.inv() @ (- (A @ w).cross(J @ A @ w) + M)"
   ]
  },
  {
   "cell_type": "code",
   "execution_count": null,
   "id": "4b758183-9cff-4122-957a-f987dd17cb02",
   "metadata": {},
   "outputs": [],
   "source": [
    "print(f\"Разложение по Тейлору:\")\n",
    "display(w_diff[0].subs([(w[0], w[0]+dw[0])]).diff(dw[0]).expand())"
   ]
  },
  {
   "cell_type": "markdown",
   "id": "22ea5b60-1625-457a-95e8-d48c536f4f48",
   "metadata": {},
   "source": [
    "##### <u>Линеаризация уравнений движения</u>"
   ]
  },
  {
   "cell_type": "code",
   "execution_count": 3,
   "id": "fa8082d6-ca10-4f99-a41f-e93931a8d98c",
   "metadata": {},
   "outputs": [
    {
     "name": "stdout",
     "output_type": "stream",
     "text": [
      "Линеаризованная матрица Ф:\n"
     ]
    },
    {
     "data": {
      "text/latex": [
       "$\\displaystyle \\left[\\begin{array}{cccccccccccc}0 & 0 & 0 & 0 & 0 & 0 & 1 & 0 & 0 & 0 & 0 & 0\\\\0 & 0 & 0 & 0 & 0 & 0 & 0 & 1 & 0 & 0 & 0 & 0\\\\0 & 0 & 0 & 0 & 0 & 0 & 0 & 0 & 1 & 0 & 0 & 0\\\\0 & 0 & 0 & 0 & 0 & 0 & 0 & 0 & 0 & 0 & 0 & 0\\\\0 & 0 & 0 & 0 & 0 & 0 & 0 & 0 & 0 & 0 & 0 & 0\\\\0 & 0 & 0 & 0 & 0 & 0 & 0 & 0 & 0 & 0 & 0 & 0\\\\0 & 0 & 0 & 0 & 0 & 0 & 0 & 0 & - 2 w_{0} & 0 & 0 & 0\\\\0 & - w_{0}^{2} & 0 & 0 & 0 & 0 & 0 & 0 & 0 & 0 & 0 & 0\\\\0 & 0 & 3 w_{0}^{2} & 0 & 0 & 0 & 2 w_{0} & 0 & 0 & 0 & 0 & 0\\\\0 & 0 & 0 & 0 & 0 & 0 & 0 & 0 & 0 & 0 & 0 & 0\\\\0 & 0 & 0 & 0 & 0 & 0 & 0 & 0 & 0 & 0 & 0 & 0\\\\0 & 0 & 0 & 0 & 0 & 0 & 0 & 0 & 0 & 0 & 0 & 0\\end{array}\\right]$"
      ],
      "text/plain": [
       "Matrix([\n",
       "[0,       0,        0, 0, 0, 0,     1, 0,      0, 0, 0, 0],\n",
       "[0,       0,        0, 0, 0, 0,     0, 1,      0, 0, 0, 0],\n",
       "[0,       0,        0, 0, 0, 0,     0, 0,      1, 0, 0, 0],\n",
       "[0,       0,        0, 0, 0, 0,     0, 0,      0, 0, 0, 0],\n",
       "[0,       0,        0, 0, 0, 0,     0, 0,      0, 0, 0, 0],\n",
       "[0,       0,        0, 0, 0, 0,     0, 0,      0, 0, 0, 0],\n",
       "[0,       0,        0, 0, 0, 0,     0, 0, -2*w_0, 0, 0, 0],\n",
       "[0, -w_0**2,        0, 0, 0, 0,     0, 0,      0, 0, 0, 0],\n",
       "[0,       0, 3*w_0**2, 0, 0, 0, 2*w_0, 0,      0, 0, 0, 0],\n",
       "[0,       0,        0, 0, 0, 0,     0, 0,      0, 0, 0, 0],\n",
       "[0,       0,        0, 0, 0, 0,     0, 0,      0, 0, 0, 0],\n",
       "[0,       0,        0, 0, 0, 0,     0, 0,      0, 0, 0, 0]])"
      ]
     },
     "execution_count": 3,
     "metadata": {},
     "output_type": "execute_result"
    }
   ],
   "source": [
    "r = get_func(\"r\", 3, numb=False)\n",
    "v = get_func(\"v\", 3, numb=False)\n",
    "q = get_func(\"q\", 3, numb=False)\n",
    "w = get_func(\"w\", 3, numb=False)\n",
    "q0 = 1 - sqrt(q[0]**2 + q[1]**2 + q[2]**2)\n",
    "\n",
    "M = 3 * μ / R_0**5 * (S @ R_orb).cross(J @ S @ R_orb)\n",
    "w_diff = A.T @ J.inv() @ (- (A @ Matrix(w)).cross(J @ A @ Matrix(w)) + M)\n",
    "\n",
    "state_vector = r + q + v + w\n",
    "motion_equations = [Eq(r[0].diff(t), v[0]),\n",
    "                    Eq(r[1].diff(t), v[1]),\n",
    "                    Eq(r[2].diff(t), v[2]),\n",
    "                    # Eq(q[0].diff(t), (-w[0]*q[1] - w[1]*q[2] - w[2]*q[3])/2),\n",
    "                    Eq(q[0].diff(t), (w[0]*q0 + w[1]*q[2] - w[2]*q[1])/2),\n",
    "                    Eq(q[1].diff(t), (w[1]*q0 + w[2]*q[0] - w[0]*q[2])/2),\n",
    "                    Eq(q[2].diff(t), (w[2]*q0 + w[0]*q[1] - w[1]*q[0])/2),\n",
    "                    Eq(v[0].diff(t), -2*w_0 * v[2]),\n",
    "                    Eq(v[1].diff(t), -w_0**2 * r[1]),\n",
    "                    Eq(v[2].diff(t), 2*w_0 * v[0] + 3*w_0**2 * r[2]),\n",
    "                    Eq(w[0].diff(t), (J.inv() @ (- Matrix(w).cross(J @ Matrix(w)) + Matrix(M)))[0]),\n",
    "                    Eq(w[1].diff(t), (J.inv() @ (- Matrix(w).cross(J @ Matrix(w)) + Matrix(M)))[1]),\n",
    "                    Eq(w[2].diff(t), (J.inv() @ (- Matrix(w).cross(J @ Matrix(w)) + Matrix(M)))[2])]\n",
    "motion_derivs = [expr.rhs for expr in motion_equations]\n",
    "\n",
    "def get_linearized_component(i_exp: int, i_var: int):\n",
    "    anw = motion_derivs[i_exp].diff(state_vector[i_var])\n",
    "    sv = state_vector.copy()\n",
    "    sv.remove(state_vector[i_var])\n",
    "    for i in sv:\n",
    "        if anw.diff(i) != 0:\n",
    "            return 0\n",
    "    '''for i in state_vector:\n",
    "        if anw.diff(i) != zero:\n",
    "            anw -= anw.diff(i) * i'''\n",
    "    return anw\n",
    "\n",
    "print(f\"Линеаризованная матрица Ф:\")\n",
    "Ф = Matrix(np.zeros((len(motion_equations), len(state_vector))))\n",
    "for i in range(len(motion_equations)):\n",
    "    for j in range(len(state_vector)):\n",
    "        Ф[i, j] = get_linearized_component(i, j)\n",
    "Ф"
   ]
  },
  {
   "cell_type": "markdown",
   "id": "515b87f6-d926-4b90-8788-4936a7738021",
   "metadata": {
    "jp-MarkdownHeadingCollapsed": true
   },
   "source": [
    "##### <u>Генерация файла</u> `H_matrix.py` <u>(матрица H)</u> (новое)"
   ]
  },
  {
   "cell_type": "code",
   "execution_count": 3,
   "id": "37febfbb-ee6b-4b4e-81f6-9f191ee5608f",
   "metadata": {},
   "outputs": [],
   "source": [
    "# num_params"
   ]
  },
  {
   "cell_type": "code",
   "execution_count": 3,
   "id": "b5662203-c02d-4078-841a-ce4e7fca203e",
   "metadata": {},
   "outputs": [
    {
     "name": "stdout",
     "output_type": "stream",
     "text": [
      "\u001b[31mПараметры не могут быть загружены! Нет файла: kiamformation/data/config_choose.csv\u001b[0m\n",
      "\u001b[32mМатрицы Ф:(6, 6), Q:(3, 3), P:(6, 6), D:(6, 3)\u001b[0m\n"
     ]
    }
   ],
   "source": [
    "o = kf.init()\n",
    "n_vec = 6\n",
    "GAIN_MODES = o.v.GAIN_MODES.copy()\n",
    "GAIN_MODES.remove('3 antennas')\n",
    "GAIN_MODES.remove('ellipsoid')\n",
    "tf = [True, False]\n",
    "param_variation = [[angnav, gm_1, gm_2, mulsend, mulsend, rel] for angnav in tf for gm_1 in GAIN_MODES for gm_2 in GAIN_MODES for mulsend in tf for rel in ['cd', 'dd']]\n",
    "\n",
    "# >>>>>>>>>>>> Гиперпараметры (запихнуть в цикл?) <<<<<<<<<<<<\n",
    "angnav, gm_1, gm_2, mulsend, mulsend, rel = param_variation[0]\n",
    "o.f.n = 3\n",
    "o.c.n = 2\n",
    "o.c.gain_mode = o.v.GAIN_MODEL_C = '2 antennas'\n",
    "o.f.gain_mode = o.v.GAIN_MODEL_F = 'isotropic'\n",
    "o.v.N_ANTENNA_C = 2\n",
    "o.v.N_ANTENNA_F = 1\n",
    "o.v.NAVIGATION_ANGLES = True\n",
    "o.v.MULTI_ANTENNA_SEND = True\n",
    "o.v.MULTI_ANTENNA_TAKE = True\n",
    "\n",
    "# >>>>>>>>>>>> Внутри цикла <<<<<<<<<<<<\n",
    "# Подстановка символьных переменных\n",
    "t, ω, μ, ρ, r_orb, v_orb = var(\"t ω_0 μ ρ r_0 v_0\")\n",
    "o.v.ORBIT_RADIUS = r_orb\n",
    "o.v.V_ORB = v_orb\n",
    "o.v.W_ORB = ω\n",
    "o.v.MU = μ\n",
    "\n",
    "# Те, которые не передаются\n",
    "o.v.dT = var('dt')\n",
    "\n",
    "J = [kf.get_vars(\"J^d\", 3, numb=False), kf.get_vars(\"J^c\", 3, numb=False)]\n",
    "o.f.J = diag(J[0][0], J[0][1], J[0][2])\n",
    "o.c.J = diag(J[1][0], J[1][1], J[1][2])\n",
    "o.f.r_orf = [kf.get_vars(name=f'rf^o_{i}', n=3, numb=False) for i in range(o.f.n)]\n",
    "o.c.r_orf = [kf.get_vars(name=f'rc^o_{i}', n=3, numb=False) for i in range(o.c.n)]\n",
    "o.f.q = [kf.get_vars(name=f'qf_{i}', n=4, numb=False) for i in range(o.f.n)]\n",
    "o.c.q = [kf.get_vars(name=f'qc_{i}', n=4, numb=False) for i in range(o.c.n)]\n",
    "o.f.mass, o.c.mass = var('m_d m_c')\n",
    "o.f.c_resist, o.c.c_resist = var('C_d C_c')\n",
    "o.f.size = kf.get_vars(name='s^d', n=2)\n",
    "o.c.size = kf.get_vars(name='s^c', n=2)\n",
    "o.p.record = kf.pd.DataFrame()\n",
    "\n",
    "# >>>>>>>>>>>> Повторная инициализация <<<<<<<<<<<<\n",
    "# o.init_classes()\n",
    "\n",
    "# >>>>>>>>>>>> Измерения <<<<<<<<<<<<\n",
    "kf.measure_antennas_power(c=o.c, f=o.f, v=o.v, noise=0, produce=True, p=o.p, estimated_params=[])\n",
    "y = o.v.MEASURES_VECTOR\n",
    "# y"
   ]
  },
  {
   "cell_type": "code",
   "execution_count": 15,
   "id": "2758bda0-8d8a-44da-9d66-cf8a504edc7c",
   "metadata": {},
   "outputs": [
    {
     "data": {
      "text/plain": [
       "[1]"
      ]
     },
     "metadata": {},
     "output_type": "display_data"
    },
    {
     "data": {
      "text/plain": [
       "[0.7546761650605133, 0.7546761650605133]"
      ]
     },
     "metadata": {},
     "output_type": "display_data"
    }
   ],
   "source": [
    "display(kf.get_gain(v=o.v, obj=o.f, r=np.ones(3), if_take=True))\n",
    "display(kf.get_gain(v=o.v, obj=o.c, r=np.ones(3), if_take=True))"
   ]
  },
  {
   "cell_type": "markdown",
   "id": "76ce4d42-fdb7-4212-b357-73ce9234abfb",
   "metadata": {
    "jp-MarkdownHeadingCollapsed": true
   },
   "source": [
    "##### <u>Режимы вращения</u>"
   ]
  },
  {
   "cell_type": "code",
   "execution_count": null,
   "id": "27e0b2bc-7f9a-4f63-bfd9-6652e958e9b4",
   "metadata": {},
   "outputs": [],
   "source": [
    "import matplotlib.pyplot as plt\n",
    "import numpy as np"
   ]
  },
  {
   "cell_type": "code",
   "execution_count": 83,
   "id": "0f002d28",
   "metadata": {},
   "outputs": [
    {
     "data": {
      "text/plain": [
       "4.514455893826088e-11"
      ]
     },
     "execution_count": 83,
     "metadata": {},
     "output_type": "execute_result"
    }
   ],
   "source": [
    "Cf = 1\n",
    "m = 0.03\n",
    "a = 0.1\n",
    "b = 0.1\n",
    "\n",
    "rho =  5.21e-13\n",
    "S = a*b\n",
    "M = 5.972e24\n",
    "G = 6.6743e-11\n",
    "mu = M * G\n",
    "v_orb = np.sqrt(mu / 6900e3)\n",
    "c = Cf * rho * v_orb**2 * S / 6 * m * (a**2 + a*b + b**2)\n",
    "c"
   ]
  },
  {
   "cell_type": "code",
   "execution_count": 91,
   "id": "868a8bf5",
   "metadata": {},
   "outputs": [
    {
     "data": {
      "image/png": "[encoded data removed]",
      "text/plain": [
       "<Figure size 432x288 with 1 Axes>"
      ]
     },
     "metadata": {
      "needs_background": "light"
     },
     "output_type": "display_data"
    }
   ],
   "source": [
    "# p = phi\n",
    "dt = 10.\n",
    "T = 1e6\n",
    "days = True\n",
    "\n",
    "def func(p: float, w: float, c: float, dt: float):\n",
    "    return p + w * dt, w - dt * c * np.sin(p)\n",
    "\n",
    "def integrate(c: float, dt: float = 1., T: float = 1000):\n",
    "    w_list = [0.]\n",
    "    p_list = [3.1415/2]\n",
    "    t_list = [0.]\n",
    "    for i in range(int(round(T / dt))):\n",
    "        tmp = func(p_list[i], w_list[i], c, dt)\n",
    "        t_list += [(i+1)*dt]\n",
    "        p_list += [tmp[0]]\n",
    "        w_list += [tmp[1]]\n",
    "    return t_list, p_list\n",
    "\n",
    "t, p = integrate(c=c, dt=dt, T=T)\n",
    "t = [i/(3600*24) for i in t] if days else t\n",
    "plt.plot(t, np.array(p), c='navy', label=f\"c={c}\")  # /(np.pi/2)\n",
    "plt.plot(t, [np.pi/2 for _ in range(len(t))], c='violet')\n",
    "plt.plot(t,[-np.pi/2 for _ in range(len(t))], c='violet')\n",
    "plt.legend()\n",
    "plt.xlabel(\"days\" if days else \"time t, s\")\n",
    "plt.ylabel(\"angle φ, rad\")\n",
    "# plt.ylim([-np.pi/2, np.pi/2])\n",
    "plt.show()"
   ]
  },
  {
   "cell_type": "markdown",
   "id": "4b1c59ab",
   "metadata": {
    "jp-MarkdownHeadingCollapsed": true
   },
   "source": [
    "##### Движение со <u>смещённым центром масс</u>"
   ]
  },
  {
   "cell_type": "code",
   "execution_count": 1,
   "id": "82e509e3",
   "metadata": {},
   "outputs": [],
   "source": [
    "from sympy import *"
   ]
  },
  {
   "cell_type": "code",
   "execution_count": 46,
   "id": "0c822473",
   "metadata": {},
   "outputs": [],
   "source": [
    "a, b, ex, ey = var('a b e_x e_y', real=True, constant=True)  # Стороны ЧипСата, отклонения цетра масс\n",
    "m, f, v = var('m f v', real=True, constant=True)\n",
    "t = var('t', real=True, constant=False)\n",
    "n_x = Function(\"n_x\")(t)\n",
    "n_y = Function(\"n_y\")(t)\n",
    "n_z = Function(\"n_z\")(t)\n",
    "w_x = Function(\"w_x\")(t)\n",
    "w_y = Function(\"w_y\")(t)\n",
    "w_z = Function(\"w_z\")(t)\n",
    "x0 = -a + ex\n",
    "x1 = a + ex\n",
    "y0 = -b + ey\n",
    "y1 = b + ey\n",
    "Ix = m/3 * (x1 - x0) * (y1**3 - y0**3)\n",
    "Iy = m/3 * (y1 - y0) * (x0**3 - x1**3)\n",
    "Iz = Ix + Iy  # верно для пластины\n",
    "eq_n_x = Eq(n_x.diff(t), w_y*n_z - w_z*n_y)\n",
    "eq_n_y = Eq(n_y.diff(t), w_z*n_x - w_x*n_z)\n",
    "eq_n_z = Eq(n_z.diff(t), w_x*n_y - w_y*n_x)\n",
    "eq_x = Eq(f*n_x*v*(x1-x0)*(y1**2-y0**2), Ix * w_x.diff(t) + (Iz - Iy)*w_y*w_z)\n",
    "eq_y = Eq(f*n_x*v*(y1-y0)*(x0**2-x1**2), Iy * w_y.diff(t) + (Ix - Iz)*w_x*w_z)\n",
    "eq_z = Eq(0, Iz * w_z.diff(t) + (Iy - Ix)*w_x*w_y)"
   ]
  },
  {
   "cell_type": "code",
   "execution_count": 17,
   "id": "c63ed902",
   "metadata": {
    "collapsed": true,
    "jupyter": {
     "outputs_hidden": true
    }
   },
   "outputs": [
    {
     "ename": "NotImplementedError",
     "evalue": "",
     "output_type": "error",
     "traceback": [
      "\u001b[0;31m---------------------------------------------------------------------------\u001b[0m",
      "\u001b[0;31mNotImplementedError\u001b[0m                       Traceback (most recent call last)",
      "\u001b[0;32m<ipython-input-17-61361af40bff>\u001b[0m in \u001b[0;36m<module>\u001b[0;34m\u001b[0m\n\u001b[0;32m----> 1\u001b[0;31m \u001b[0manw\u001b[0m \u001b[0;34m=\u001b[0m \u001b[0mdsolve\u001b[0m\u001b[0;34m(\u001b[0m\u001b[0;34m{\u001b[0m\u001b[0meq_n_x\u001b[0m\u001b[0;34m,\u001b[0m \u001b[0meq_n_y\u001b[0m\u001b[0;34m,\u001b[0m \u001b[0meq_n_z\u001b[0m\u001b[0;34m,\u001b[0m \u001b[0meq_x\u001b[0m\u001b[0;34m,\u001b[0m \u001b[0meq_y\u001b[0m\u001b[0;34m,\u001b[0m \u001b[0meq_z\u001b[0m\u001b[0;34m}\u001b[0m\u001b[0;34m)\u001b[0m\u001b[0;34m\u001b[0m\u001b[0;34m\u001b[0m\u001b[0m\n\u001b[0m",
      "\u001b[0;32m~/.local/lib/python3.6/site-packages/sympy/solvers/ode/ode.py\u001b[0m in \u001b[0;36mdsolve\u001b[0;34m(eq, func, hint, simplify, ics, xi, eta, x0, n, **kwargs)\u001b[0m\n\u001b[1;32m    586\u001b[0m             \"number of functions being equal to number of equations\")\n\u001b[1;32m    587\u001b[0m         \u001b[0;32mif\u001b[0m \u001b[0mmatch\u001b[0m\u001b[0;34m[\u001b[0m\u001b[0;34m'type_of_equation'\u001b[0m\u001b[0;34m]\u001b[0m \u001b[0;32mis\u001b[0m \u001b[0;32mNone\u001b[0m\u001b[0;34m:\u001b[0m\u001b[0;34m\u001b[0m\u001b[0;34m\u001b[0m\u001b[0m\n\u001b[0;32m--> 588\u001b[0;31m             \u001b[0;32mraise\u001b[0m \u001b[0mNotImplementedError\u001b[0m\u001b[0;34m\u001b[0m\u001b[0;34m\u001b[0m\u001b[0m\n\u001b[0m\u001b[1;32m    589\u001b[0m         \u001b[0;32melse\u001b[0m\u001b[0;34m:\u001b[0m\u001b[0;34m\u001b[0m\u001b[0;34m\u001b[0m\u001b[0m\n\u001b[1;32m    590\u001b[0m             \u001b[0;32mif\u001b[0m \u001b[0mmatch\u001b[0m\u001b[0;34m[\u001b[0m\u001b[0;34m'is_linear'\u001b[0m\u001b[0;34m]\u001b[0m \u001b[0;34m==\u001b[0m \u001b[0;32mTrue\u001b[0m\u001b[0;34m:\u001b[0m\u001b[0;34m\u001b[0m\u001b[0;34m\u001b[0m\u001b[0m\n",
      "\u001b[0;31mNotImplementedError\u001b[0m: "
     ]
    }
   ],
   "source": [
    "anw = dsolve({eq_n_x, eq_n_y, eq_n_z, eq_x, eq_y, eq_z})"
   ]
  },
  {
   "cell_type": "markdown",
   "id": "178ac739-7167-4e24-a077-ba01ae1cf10e",
   "metadata": {},
   "source": [
    "##### <u>Свистни</u> когда доделаешь"
   ]
  },
  {
   "cell_type": "code",
   "execution_count": 2,
   "id": "d54b2c85-7773-40b8-b2bb-adc40db791db",
   "metadata": {},
   "outputs": [
    {
     "name": "stdout",
     "output_type": "stream",
     "text": [
      "\u001b[36mСочувствую.\u001b[0m\n"
     ]
    }
   ],
   "source": [
    "kf.talk()"
   ]
  }
 ],
 "metadata": {
  "kernelspec": {
   "display_name": "Python 3 (ipykernel)",
   "language": "python",
   "name": "python3"
  },
  "language_info": {
   "codemirror_mode": {
    "name": "ipython",
    "version": 3
   },
   "file_extension": ".py",
   "mimetype": "text/x-python",
   "name": "python",
   "nbconvert_exporter": "python",
   "pygments_lexer": "ipython3",
   "version": "3.10.12"
  }
 },
 "nbformat": 4,
 "nbformat_minor": 5
}
