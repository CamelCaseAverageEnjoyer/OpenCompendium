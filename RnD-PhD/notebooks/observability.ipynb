{
 "cells": [
  {
   "cell_type": "markdown",
   "id": "af80236e-9cce-4c88-b3ca-68225373eda8",
   "metadata": {},
   "source": [
    "![](../../PythonCompendium/storage/banners/28_observability.png)"
   ]
  },
  {
   "cell_type": "markdown",
   "id": "665ee46a-fa0a-4ea7-aaa0-5a3b5d93c5b1",
   "metadata": {
    "jp-MarkdownHeadingCollapsed": true
   },
   "source": [
    "##### **<u>Свои догадки</u>**"
   ]
  },
  {
   "cell_type": "markdown",
   "id": "e4093b8b-3307-4e8a-b529-c5fa22a1ba61",
   "metadata": {
    "jp-MarkdownHeadingCollapsed": true
   },
   "source": [
    "###### <u>Попытка вывода симметрии у решения</u> - Частные случаи"
   ]
  },
  {
   "cell_type": "code",
   "execution_count": 11,
   "id": "0aabb974-60cb-4e7e-81d3-3a2fa14b1a2a",
   "metadata": {},
   "outputs": [],
   "source": [
    "from sympy import *\n",
    "import sympy\n",
    "from cosmetic import *\n",
    "\n",
    "def add_extraname(s, extraname):\n",
    "    return \" \".join([i+extraname for i in s.split()])\n",
    "\n",
    "def get_x_y_z(case: dict, extraname: str = \"\", planar: bool = False, test_xz: bool = False):\n",
    "    x0, y0, z0, vx0, vy0, vz0 = var(add_extraname(s=\"x_0 y_0 z_0 v^x_0 v^y_0 v^z_0\", extraname=extraname))\n",
    "    X0, Y0, Z0, VX0, VY0, VZ0 = var(add_extraname(s=\"X_0 Y_0 Z_0 V^X_0 V^Y_0 V^Z_0\", extraname=extraname))\n",
    "    c, rho, m, M, s, S, v_orb = var(add_extraname(s=\"C rho m M s S v_{orb}\", extraname=extraname))\n",
    "    t, w0 = var(\"t w_0\")\n",
    "\n",
    "    r, R = 3*[None], 3*[None]\n",
    "    \n",
    "    if case['C1 = 0']:\n",
    "        vx0 = - 2 * z0 * w0\n",
    "        VX0 = - 2 * Z0 * w0\n",
    "    if not case['CubeSat motion']:\n",
    "        X0, Y0, Z0, VX0, VY0, VZ0 = [0]*6\n",
    "    if planar:\n",
    "        y0, Y0, vy0, VY0 = [0]*4\n",
    "\n",
    "    for _x0, _y0, _z0, _vx0, _vy0, _vz0, _r, _m, _s in zip((x0, X0), (y0, Y0), (z0, Z0), (vx0, VX0), (vy0, VY0), (vz0, VZ0), \n",
    "                                                           (r, R), (m, M), (s, S)):\n",
    "        C_1 = 2 * _z0 + _vx0 / w0\n",
    "        C_2 = _vz0 / w0\n",
    "        C_3 = -3 * _z0 - 2 * _vx0 / w0\n",
    "        C_4 = _x0 - 2 * _vz0 / w0\n",
    "        C_5 = _vy0 / w0\n",
    "        C_6 = _y0\n",
    "        \n",
    "        tmp = (-t**2 / 2 * c * rho / _m * _s * v_orb**2) if case['Aero'] else 0\n",
    "        \n",
    "        _r[0] = C_4 - 3*C_1*w0*t + 2*C_2*cos(w0*t) -2*C_3*sin(w0*t) + tmp\n",
    "        _r[1] = C_5*sin(w0*t) + C_6*cos(w0*t)\n",
    "        _r[2] = 2*C_1 + C_2*sin(w0*t) + C_3*cos(w0*t)\n",
    "    \n",
    "    return {'w0': w0, 't': t,\n",
    "            'x0': x0, 'y0': y0, 'z0': z0, 'vx0': vx0, 'vy0': vy0, 'vz0': vz0,\n",
    "            'x': r[0], 'y': r[1], 'z': r[2], \n",
    "            'X': R[0], 'Y': R[1], 'Z': R[2]}\n",
    "\n",
    "def get_measurements(case: dict, params: dict):\n",
    "    if case['antenna type'] == 'isotropic':\n",
    "        measurements = [(params['X'] - params['x'])**2 + \n",
    "                        (params['Y'] - params['y'])**2 + \n",
    "                        (params['Z'] - params['z'])**2]\n",
    "\n",
    "    return measurements\n",
    "\n",
    "def get_discrepancy_invert_param(measurements, params: dict, variables: list) -> list:\n",
    "    global counter\n",
    "    subses = []\n",
    "    for v in variables:\n",
    "        subses.append((params[v], -params[v]))\n",
    "\n",
    "    anw = []\n",
    "    for i, m in zip(range(len(measurements)), measurements):\n",
    "        tmp = (m - m.subs(subses)).simplify()\n",
    "        anw.append(tmp)\n",
    "        if isinstance(tmp, sympy.core.numbers.Zero):\n",
    "            print(f\"По параметрам\\033[1m\", *variables, f\"\\033[0mу измерения №{i+1} есть зеркальная симметрия\")\n",
    "            counter *= 2\n",
    "    return anw\n",
    "\n",
    "def print_symmetry_problem_result():\n",
    "    global counter\n",
    "    if counter == 1:\n",
    "        my_print(f\"Решение единственное: {counter}!\", bold=True, color=\"g\")\n",
    "    else:\n",
    "        my_print(f\"Симметричных решений: {counter}\", bold=True, color=\"b\")\n",
    "\n",
    "\n",
    "def calculate_symmetry(motion_case, measurement_case, v_list):\n",
    "    global counter\n",
    "    counter = 1\n",
    "    params = get_x_y_z(case=motion_case)\n",
    "    measurements = get_measurements(case=measurement_case, params=params)\n",
    "    for variables in v_list:\n",
    "        _ = get_discrepancy_invert_param(measurements=measurements, variables=variables, params=params)\n",
    "    print_symmetry_problem_result()"
   ]
  },
  {
   "cell_type": "markdown",
   "id": "fe29321b-0fe9-4605-831e-9b279bf76712",
   "metadata": {
    "jp-MarkdownHeadingCollapsed": true
   },
   "source": [
    "###### 0. Поиск решения"
   ]
  },
  {
   "cell_type": "markdown",
   "id": "c15bd12a-621c-4cec-8dd6-6405b93f060d",
   "metadata": {},
   "source": [
    ">> Уравнения:\n",
    "$$\\ddot{x} = -2 \\omega_0 \\upsilon_z,$$\n",
    "$$\\ddot{y} = -\\omega_0^2 y,$$\n",
    "$$\\ddot{z} = 2 \\omega_0 \\upsilon_x + 3 \\omega_0^2 z.$$\n",
    "\n",
    "> Движение по $y$ отделимо <br>\n",
    "> Возможна симметрия по одновременному изменению положений и скоростей по $x, z$ <br>"
   ]
  },
  {
   "cell_type": "code",
   "execution_count": 13,
   "id": "a87df3f7-edef-46d8-b9ad-7388c974b586",
   "metadata": {},
   "outputs": [
    {
     "data": {
      "text/latex": [
       "$\\displaystyle \\left(- \\frac{v^{y}_{0} \\sin{\\left(t w_{0} \\right)}}{w_{0}} - y_{0} \\cos{\\left(t w_{0} \\right)}\\right)^{2} + \\left(- \\frac{2 v^{x}_{0}}{w_{0}} - \\frac{v^{z}_{0} \\sin{\\left(t w_{0} \\right)}}{w_{0}} - 4 z_{0} - \\left(- \\frac{2 v^{x}_{0}}{w_{0}} - 3 z_{0}\\right) \\cos{\\left(t w_{0} \\right)}\\right)^{2} + \\left(t w_{0} \\left(\\frac{3 v^{x}_{0}}{w_{0}} + 6 z_{0}\\right) - \\frac{2 v^{z}_{0} \\cos{\\left(t w_{0} \\right)}}{w_{0}} + \\frac{2 v^{z}_{0}}{w_{0}} - x_{0} + \\left(- \\frac{4 v^{x}_{0}}{w_{0}} - 6 z_{0}\\right) \\sin{\\left(t w_{0} \\right)}\\right)^{2}$"
      ],
      "text/plain": [
       "(-v^y_0*sin(t*w_0)/w_0 - y_0*cos(t*w_0))**2 + (-2*v^x_0/w_0 - v^z_0*sin(t*w_0)/w_0 - 4*z_0 - (-2*v^x_0/w_0 - 3*z_0)*cos(t*w_0))**2 + (t*w_0*(3*v^x_0/w_0 + 6*z_0) - 2*v^z_0*cos(t*w_0)/w_0 + 2*v^z_0/w_0 - x_0 + (-4*v^x_0/w_0 - 6*z_0)*sin(t*w_0))**2"
      ]
     },
     "execution_count": 13,
     "metadata": {},
     "output_type": "execute_result"
    }
   ],
   "source": [
    "# Инициализация\n",
    "motion_case = {'C1 = 0': False, \n",
    "               'Aero': False,\n",
    "               'CubeSat motion': False}\n",
    "\n",
    "measurement_case = {'antenna type': 'isotropic'}\n",
    "\n",
    "params = get_x_y_z(case=motion_case)\n",
    "measurements = get_measurements(case=measurement_case, params=params)\n",
    "\n",
    "# params_wrong = get_x_y_z(case=motion_case, planar=False, extraname=\"^w\")\n",
    "# measurements_wrong = get_measurements(case=measurement_case, params=params_wrong)\n",
    "measurements[0]"
   ]
  },
  {
   "cell_type": "code",
   "execution_count": 16,
   "id": "982dba7d-a329-4ccd-9794-8d5a21c2e2e8",
   "metadata": {},
   "outputs": [],
   "source": [
    "grad_vec = {}\n",
    "for v in [\"x0\", \"y0\", \"z0\", \"vx0\", \"vy0\", \"vz0\"]:\n",
    "    grad_vec[v] = measurements[0].diff(params[v])"
   ]
  },
  {
   "cell_type": "code",
   "execution_count": null,
   "id": "78fc292c-47bc-49cc-83d1-ee6a56754830",
   "metadata": {},
   "outputs": [],
   "source": []
  },
  {
   "cell_type": "markdown",
   "id": "5f611411-35f9-4d8a-a93a-6fc3a04367a0",
   "metadata": {
    "jp-MarkdownHeadingCollapsed": true
   },
   "source": [
    "###### 1. <u>ХКУ, 1к-1ч, изотропные антенны, без определение углового движения</u>"
   ]
  },
  {
   "cell_type": "markdown",
   "id": "4f21e04c-9c21-4dcb-8c4b-a2eb83269654",
   "metadata": {},
   "source": [
    "> Уравнения ХКУ имеют 4 симметричных решения <br>\n",
    "> Антенны изотропные, но углы не ищутся -> симметрия не уменьшается <br>\n",
    "> Итого: 4 симметричных решения"
   ]
  },
  {
   "cell_type": "code",
   "execution_count": 117,
   "id": "f28e1be0-483b-4ccc-8ad2-764ba6782de9",
   "metadata": {},
   "outputs": [
    {
     "name": "stdout",
     "output_type": "stream",
     "text": [
      "По параметрам\u001b[1m y0 vy0 \u001b[0mу измерения №1 есть зеркальная симметрия\n",
      "По параметрам\u001b[1m x0 z0 vx0 vz0 \u001b[0mу измерения №1 есть зеркальная симметрия\n",
      "\u001b[34m\u001b[1mСимметричных решений: 4\u001b[0m\u001b[0m\n"
     ]
    }
   ],
   "source": [
    "# Инициализация\n",
    "motion_case = {'C1 = 0': False, \n",
    "               'Aero': False,\n",
    "               'CubeSat motion': False}\n",
    "\n",
    "measurement_case = {'antenna type': 'isotropic'}\n",
    "\n",
    "v_list = [['x0'], ['vx0'], ['y0'], ['vy0'], ['z0'], ['vz0'],\n",
    "          ['x0', 'vx0'], ['y0', 'vy0'], ['z0', 'vz0'],\n",
    "          ['x0', 'z0'],\n",
    "          ['x0', 'z0', 'vz0'],\n",
    "          ['x0', 'z0', 'vx0', 'vz0']]\n",
    "\n",
    "calculate_symmetry(motion_case=motion_case, measurement_case=measurement_case, v_list=v_list)"
   ]
  },
  {
   "cell_type": "code",
   "execution_count": 118,
   "id": "0cfcebd5-8ca1-40e6-82a1-3266e4f88d52",
   "metadata": {},
   "outputs": [
    {
     "name": "stdout",
     "output_type": "stream",
     "text": [
      "\u001b[32m\u001b[1mРешение единственное: 1!\u001b[0m\u001b[0m\n"
     ]
    }
   ],
   "source": [
    "# Инициализация\n",
    "motion_case = {'C1 = 0': False, \n",
    "               'Aero': False,\n",
    "               'CubeSat motion': True}\n",
    "\n",
    "measurement_case = {'antenna type': 'isotropic'}\n",
    "\n",
    "v_list = [['x0'], ['vx0'], ['y0'], ['vy0'], ['z0'], ['vz0'],\n",
    "          ['x0', 'vx0'], ['y0', 'vy0'], ['z0', 'vz0'],\n",
    "          ['x0', 'z0'],\n",
    "          ['x0', 'z0', 'vz0'],\n",
    "          ['x0', 'z0', 'vx0', 'vz0']]\n",
    "\n",
    "calculate_symmetry(motion_case=motion_case, measurement_case=measurement_case, v_list=v_list)"
   ]
  },
  {
   "cell_type": "code",
   "execution_count": 119,
   "id": "0a53181c-1b86-4a24-8789-2a4859b3ad16",
   "metadata": {},
   "outputs": [
    {
     "name": "stdout",
     "output_type": "stream",
     "text": [
      "По параметрам\u001b[1m vx0 \u001b[0mу измерения №1 есть зеркальная симметрия\n",
      "По параметрам\u001b[1m y0 vy0 \u001b[0mу измерения №1 есть зеркальная симметрия\n",
      "По параметрам\u001b[1m x0 z0 vz0 \u001b[0mу измерения №1 есть зеркальная симметрия\n",
      "\u001b[34m\u001b[1mСимметричных решений: 8\u001b[0m\u001b[0m\n"
     ]
    }
   ],
   "source": [
    "# Инициализация\n",
    "motion_case = {'C1 = 0': True, \n",
    "               'Aero': False,\n",
    "               'CubeSat motion': False}\n",
    "\n",
    "measurement_case = {'antenna type': 'isotropic'}\n",
    "\n",
    "v_list = [['x0'], ['vx0'], ['y0'], ['vy0'], ['z0'], ['vz0'],\n",
    "          ['x0', 'vx0'], ['y0', 'vy0'], ['z0', 'vz0'],\n",
    "          ['x0', 'z0'],\n",
    "          ['x0', 'z0', 'vz0']]\n",
    "\n",
    "calculate_symmetry(motion_case=motion_case, measurement_case=measurement_case, v_list=v_list)"
   ]
  },
  {
   "cell_type": "code",
   "execution_count": 120,
   "id": "8fb30c8e-8d94-428a-a615-b93573a6243c",
   "metadata": {},
   "outputs": [
    {
     "name": "stdout",
     "output_type": "stream",
     "text": [
      "По параметрам\u001b[1m vx0 \u001b[0mу измерения №1 есть зеркальная симметрия\n",
      "\u001b[34m\u001b[1mСимметричных решений: 2\u001b[0m\u001b[0m\n"
     ]
    }
   ],
   "source": [
    "# Инициализация\n",
    "motion_case = {'C1 = 0': True, \n",
    "               'Aero': False,\n",
    "               'CubeSat motion': True}\n",
    "\n",
    "measurement_case = {'antenna type': 'isotropic'}\n",
    "\n",
    "v_list = [['x0'], ['vx0'], ['y0'], ['vy0'], ['z0'], ['vz0'],\n",
    "          ['x0', 'vx0'], ['y0', 'vy0'], ['z0', 'vz0'],\n",
    "          ['x0', 'z0'],\n",
    "          ['x0', 'z0', 'vz0']]\n",
    "\n",
    "calculate_symmetry(motion_case=motion_case, measurement_case=measurement_case, v_list=v_list)"
   ]
  },
  {
   "cell_type": "markdown",
   "id": "5b456168-c526-4f77-9475-88814557b905",
   "metadata": {
    "jp-MarkdownHeadingCollapsed": true
   },
   "source": [
    "###### 2. <u>ХКУ + аэро, 1к-1ч, изотропные антенны, без определение углового движения</u>"
   ]
  },
  {
   "cell_type": "markdown",
   "id": "87531b27-acd2-42b5-bd25-16f53d21e391",
   "metadata": {},
   "source": [
    "> Уравнения ХКУ имеют 4 симметричных решения <br>\n",
    "> Антенны изотропные, но углы не ищутся -> симметрия не уменьшается <br> \n",
    "> Итого: 4 симметричных решения"
   ]
  },
  {
   "cell_type": "code",
   "execution_count": 121,
   "id": "8ae5caad-a1a1-414c-aae3-eb8a8fe02505",
   "metadata": {},
   "outputs": [
    {
     "name": "stdout",
     "output_type": "stream",
     "text": [
      "По параметрам\u001b[1m y0 vy0 \u001b[0mу измерения №1 есть зеркальная симметрия\n",
      "\u001b[34m\u001b[1mСимметричных решений: 2\u001b[0m\u001b[0m\n"
     ]
    }
   ],
   "source": [
    "# Инициализация\n",
    "motion_case = {'C1 = 0': False, \n",
    "               'Aero': True,\n",
    "               'CubeSat motion': False}\n",
    "\n",
    "measurement_case = {'antenna type': 'isotropic'}\n",
    "\n",
    "v_list = [['x0'], ['vx0'], ['y0'], ['vy0'], ['z0'], ['vz0'],\n",
    "          ['x0', 'vx0'], ['y0', 'vy0'], ['z0', 'vz0'],\n",
    "          ['x0', 'z0'],\n",
    "          ['x0', 'z0', 'vz0'],\n",
    "          ['x0', 'z0', 'vx0', 'vz0']]\n",
    "\n",
    "calculate_symmetry(motion_case=motion_case, measurement_case=measurement_case, v_list=v_list)"
   ]
  },
  {
   "cell_type": "code",
   "execution_count": 122,
   "id": "9e0247d8-473e-43a5-8a67-6d4d46e16b50",
   "metadata": {},
   "outputs": [
    {
     "name": "stderr",
     "output_type": "stream",
     "text": [
      "\n",
      "KeyboardInterrupt\n",
      "\n"
     ]
    }
   ],
   "source": [
    "# Инициализация\n",
    "motion_case = {'C1 = 0': False, \n",
    "               'Aero': True,\n",
    "               'CubeSat motion': True}\n",
    "\n",
    "measurement_case = {'antenna type': 'isotropic'}\n",
    "\n",
    "v_list = [['x0'], ['vx0'], ['y0'], ['vy0'], ['z0'], ['vz0'],\n",
    "          ['x0', 'vx0'], ['y0', 'vy0'], ['z0', 'vz0'],\n",
    "          ['x0', 'z0'],\n",
    "          ['x0', 'z0', 'vz0'],\n",
    "          ['x0', 'z0', 'vx0', 'vz0']]\n",
    "\n",
    "calculate_symmetry(motion_case=motion_case, measurement_case=measurement_case, v_list=v_list)"
   ]
  },
  {
   "cell_type": "code",
   "execution_count": 105,
   "id": "ab88e116-a199-47bf-96ad-7d852652b391",
   "metadata": {},
   "outputs": [
    {
     "name": "stdout",
     "output_type": "stream",
     "text": [
      "По параметрам vx0 у измерения №1 есть симметрия\n",
      "По параметрам y0 vy0 у измерения №1 есть симметрия\n",
      "\u001b[34m\u001b[1mСимметричных решений: 4\u001b[0m\u001b[0m\n"
     ]
    }
   ],
   "source": [
    "# Инициализация\n",
    "motion_case = {'C1 = 0': True, \n",
    "               'Aero': True,\n",
    "               'CubeSat motion': False}\n",
    "\n",
    "measurement_case = {'antenna type': 'isotropic'}\n",
    "\n",
    "v_list = [['x0'], ['vx0'], ['y0'], ['vy0'], ['z0'], ['vz0'],\n",
    "          ['x0', 'vx0'], ['y0', 'vy0'], ['z0', 'vz0'],\n",
    "          ['x0', 'z0'],\n",
    "          ['x0', 'z0', 'vz0']]\n",
    "\n",
    "calculate_symmetry(motion_case=motion_case, measurement_case=measurement_case, v_list=v_list)"
   ]
  },
  {
   "cell_type": "code",
   "execution_count": 106,
   "id": "348fa9ba-135c-4bd5-a5db-4f096c06a60a",
   "metadata": {},
   "outputs": [
    {
     "name": "stdout",
     "output_type": "stream",
     "text": [
      "По параметрам vx0 у измерения №1 есть симметрия\n",
      "\u001b[34m\u001b[1mСимметричных решений: 2\u001b[0m\u001b[0m\n"
     ]
    }
   ],
   "source": [
    "# Инициализация\n",
    "motion_case = {'C1 = 0': True, \n",
    "               'Aero': True,\n",
    "               'CubeSat motion': True}\n",
    "\n",
    "measurement_case = {'antenna type': 'isotropic'}\n",
    "\n",
    "v_list = [['x0'], ['vx0'], ['y0'], ['vy0'], ['z0'], ['vz0'],\n",
    "          ['x0', 'vx0'], ['y0', 'vy0'], ['z0', 'vz0'],\n",
    "          ['x0', 'z0'],\n",
    "          ['x0', 'z0', 'vz0']]\n",
    "\n",
    "calculate_symmetry(motion_case=motion_case, measurement_case=measurement_case, v_list=v_list)"
   ]
  },
  {
   "cell_type": "markdown",
   "id": "d6cf3800-4fec-40c1-a19f-4eb41530d889",
   "metadata": {
    "jp-MarkdownHeadingCollapsed": true
   },
   "source": [
    "###### <u>Минимальное кол-во материнских аппаратов для наблюдаемости</u>"
   ]
  },
  {
   "cell_type": "code",
   "execution_count": 9,
   "id": "03c7bbe2-1e64-439f-aa7b-f13bdc6f2c0b",
   "metadata": {},
   "outputs": [
    {
     "name": "stdout",
     "output_type": "stream",
     "text": [
      "Не нашлось такого количества! Измени параметры\n",
      "Минимальное кол-во материнских аппаратов для наблюдаемости: \u001b[1m-1\u001b[0m\n"
     ]
    }
   ],
   "source": [
    "def get_min_chief_amount(fn: int, motion: str, antenna_config: dict) -> int:\n",
    "    \"\"\"\n",
    "    :param fn: кол-во дочерних КА (НЕ УЧИТЫВАЕТСЯ)\n",
    "    :param motion: По каким координатам ОСК движение КА\n",
    "    :param antenna_config: типы антенн материнских и дочерних КА\n",
    "    :return: Кол-во материнских КА для наблюдаемости на НОО (околокруговые)\n",
    "    \"\"\"\n",
    "    for cn in range(1, 10):\n",
    "        n_symmetry_solution = [1, 1, 1]\n",
    "        ############################\n",
    "        # Увеличение симметричных решений\n",
    "        if antenna_config['c-type'] == \"изотропные\":\n",
    "            for i in range(3):\n",
    "                n_symmetry_solution[i] *= 2\n",
    "        if antenna_config['d-type'] == \"изотропные\":\n",
    "            for i in range(3):\n",
    "                n_symmetry_solution[i] *= 2\n",
    "        \n",
    "        # Уменьшение симметричных решений\n",
    "        if not antenna_config['c-multy-send'] and not antenna_config['d-multy-take']:\n",
    "            if cn == 4:\n",
    "                for i in range(3):\n",
    "                    n_symmetry_solution[i] /= 2\n",
    "        ############################\n",
    "        if sum(n_symmetry_solution) == 3:\n",
    "            return cn\n",
    "    print(\"Не нашлось такого количества! Измени параметры\")\n",
    "    return -1\n",
    "    \n",
    "cn = get_min_chief_amount(fn=1, motion=\"xyz\", \n",
    "                          antenna_config={'c-type': [\"изотропные\"][0], \n",
    "                                          'd-type': [\"изотропные\"][0],\n",
    "                                          'c-multy-send': False,\n",
    "                                          'c-multy-take': False,\n",
    "                                          'd-multy-send': False,\n",
    "                                          'd-multy-take': False,})\n",
    "print(f\"Минимальное кол-во материнских аппаратов для наблюдаемости: \\033[1m{cn}\\033[0m\")"
   ]
  },
  {
   "cell_type": "markdown",
   "id": "2be79dd1-7edb-45ed-8076-167a6875c7a8",
   "metadata": {
    "jp-MarkdownHeadingCollapsed": true
   },
   "source": [
    "##### **<u>RSSI to range-based</u>**"
   ]
  },
  {
   "cell_type": "code",
   "execution_count": 1,
   "id": "2d5cf55b-7094-4bfc-8552-f56d7d6d242c",
   "metadata": {},
   "outputs": [
    {
     "name": "stdout",
     "output_type": "stream",
     "text": [
      "\u001b[32mИнициализация проекта kiam-formation\u001b[0m\n"
     ]
    }
   ],
   "source": [
    "from common_func import *"
   ]
  },
  {
   "cell_type": "code",
   "execution_count": 2,
   "id": "86b55974-523d-4dc5-8a26-3fb4284883d6",
   "metadata": {},
   "outputs": [],
   "source": [
    "r = Matrix(var('r_x r_y r_z'))\n",
    "xr, yr, zr = var('x_r y_r z_r')\n",
    "dx, dy, dz = var('δx δy δz')\n",
    "q = kf.vec2quat(Matrix(var('q_x q_y q_z')))"
   ]
  },
  {
   "cell_type": "markdown",
   "id": "c6b14790-174d-44e7-bebb-7022a5cfb1b0",
   "metadata": {
    "jp-MarkdownHeadingCollapsed": true
   },
   "source": [
    "###### **ВЫКЛАДКИ ДЛЯ ПОЛУВОЛНОВОЙ АНТЕННЫ** (я легко и непринуждённо забил на то, что от $r$ тоже идёт $\\delta x$"
   ]
  },
  {
   "cell_type": "code",
   "execution_count": null,
   "id": "7ce1b364-5797-473b-a44c-08ac80adfa80",
   "metadata": {},
   "outputs": [],
   "source": [
    "series(x, r[0], r[0] + dx, n=6)"
   ]
  },
  {
   "cell_type": "code",
   "execution_count": 7,
   "id": "70c1c7f0-2f9c-444a-acfc-b474808f9450",
   "metadata": {},
   "outputs": [
    {
     "name": "stdout",
     "output_type": "stream",
     "text": [
      "Усиление G вдоль оси x:\n"
     ]
    },
    {
     "data": {
      "text/latex": [
       "$\\displaystyle \\frac{1.0 \\cos{\\left(\\frac{\\pi r_{x}}{2 \\sqrt{d^{2}}} \\right)}}{\\sqrt{\\frac{r_{y}^{2} + r_{z}^{2}}{d^{2}}}}$"
      ],
      "text/plain": [
       "1.0*cos(pi*r_x/(2*sqrt(d**2)))/sqrt((r_y**2 + r_z**2)/d**2)"
      ]
     },
     "metadata": {},
     "output_type": "display_data"
    },
    {
     "name": "stdout",
     "output_type": "stream",
     "text": [
      "Усиление G вдоль оси y:\n"
     ]
    },
    {
     "data": {
      "text/latex": [
       "$\\displaystyle \\frac{1.0 \\cos{\\left(\\frac{\\pi r_{y}}{2 \\sqrt{d^{2}}} \\right)}}{\\sqrt{\\frac{r_{x}^{2} + r_{z}^{2}}{d^{2}}}}$"
      ],
      "text/plain": [
       "1.0*cos(pi*r_y/(2*sqrt(d**2)))/sqrt((r_x**2 + r_z**2)/d**2)"
      ]
     },
     "metadata": {},
     "output_type": "display_data"
    },
    {
     "name": "stdout",
     "output_type": "stream",
     "text": [
      "Усиление G вдоль оси z:\n"
     ]
    },
    {
     "data": {
      "text/latex": [
       "$\\displaystyle \\frac{1.0 \\cos{\\left(\\frac{\\pi r_{z}}{2 \\sqrt{d^{2}}} \\right)}}{\\sqrt{\\frac{r_{x}^{2} + r_{y}^{2}}{d^{2}}}}$"
      ],
      "text/plain": [
       "1.0*cos(pi*r_z/(2*sqrt(d**2)))/sqrt((r_x**2 + r_y**2)/d**2)"
      ]
     },
     "metadata": {},
     "output_type": "display_data"
    }
   ],
   "source": [
    "d = var('d')\n",
    "x = eval(str(kf.local_dipole(None, r, 'x')).replace('r_x**2 + r_y**2 + r_z**2', 'd**2')).simplify()\n",
    "y = eval(str(kf.local_dipole(None, r, 'y')).replace('r_x**2 + r_y**2 + r_z**2', 'd**2')).simplify()\n",
    "z = eval(str(kf.local_dipole(None, r, 'z')).replace('r_x**2 + r_y**2 + r_z**2', 'd**2')).simplify()\n",
    "print('Усиление G вдоль оси x:')\n",
    "display(x)\n",
    "print('Усиление G вдоль оси y:')\n",
    "display(y)\n",
    "print('Усиление G вдоль оси z:')\n",
    "display(z)"
   ]
  },
  {
   "cell_type": "markdown",
   "id": "67ffbce5-ef3f-45c8-8d72-e1f754738b33",
   "metadata": {},
   "source": [
    "$$Y_x(x) = \\frac{\\cos\\left( \\frac{\\pi x}{2 r} \\right)}{\\sqrt{1 - \\frac{x^2}{r^2}}}$$\n",
    "\n",
    "$$Y_x(x + \\delta x) = \\frac{\\cos\\left( \\frac{\\pi x  + \\pi \\delta x}{2 r} \\right)}{\\sqrt{1 - \\frac{x^2}{r^2}  + \\frac{2x\\delta x}{r^2}}}$$"
   ]
  },
  {
   "cell_type": "markdown",
   "id": "e0cf7196-a31c-460d-8e63-cd93b2571add",
   "metadata": {},
   "source": [
    "Воспользовавшись разложением\n",
    "\n",
    "$$\\frac{1}{\\sqrt{1 - \\frac{x^2}{r^2}  + \\frac{2x\\delta x}{r^2}}} = \\frac{1}{\\sqrt{a  + b \\delta x}} = \\frac{1}{\\sqrt{a}\\sqrt{1  + \\frac{b}{a} \\delta x}}  \\approx \\frac{1}{\\sqrt{a}} \\left( 1 - \\frac{b\\delta x}{2 a} \\right) $$"
   ]
  },
  {
   "cell_type": "code",
   "execution_count": null,
   "id": "eec520b4-8e6f-4299-a095-c3c57fc89c85",
   "metadata": {},
   "outputs": [],
   "source": []
  },
  {
   "cell_type": "markdown",
   "id": "ff56a1d7-9a27-4465-8c4b-a5e99dd6fb89",
   "metadata": {},
   "source": [
    "А если мы ещё вспомним про\n",
    "$$\\cos\\left( \\frac{\\pi x}{2 r} + \\frac{\\pi \\delta x}{2 r} \\right) = \\cos{\\left( \\frac{\\pi x}{2 r} \\right)}\\cos{\\left( \\frac{\\pi \\delta x}{2 r} \\right)} - \\sin{\\left( \\frac{\\pi x}{2 r} \\right)}\\sin{\\left( \\frac{\\pi \\delta x}{2 r} \\right)} \\approx$$\n",
    "\n",
    "$$\\approx  \\cos{\\left( \\frac{\\pi x}{2 r} \\right)} - \\sin{\\left( \\frac{\\pi x}{2 r} \\right)}\\frac{\\pi \\delta x}{2 r} $$"
   ]
  },
  {
   "cell_type": "markdown",
   "id": "40520cb4-0f3c-43dd-8e96-caa87fac8e86",
   "metadata": {},
   "source": [
    "В конце получим вот такую штуку\n",
    "$$Y_x(x + \\delta x) = \\frac{\\cos{\\left( \\frac{\\pi x}{2 r} \\right)} - \\sin{\\left( \\frac{\\pi x}{2 r} \\right)}\\frac{\\pi \\delta x}{2 r}}{\\sqrt{1 - \\frac{x^2}{r^2}}}   -  \\frac{\\cos{\\left( \\frac{\\pi x}{2 r} \\right)} - \\sin{\\left( \\frac{\\pi x}{2 r} \\right)}\\frac{\\pi \\delta x}{2 r}}{\\sqrt{1 - \\frac{x^2}{r^2}}} \\frac{x\\delta x}{r\\sqrt{r^2 - x^2}}$$\n",
    "\n",
    "Это значит, что при приращении $\\delta x$, мы имеем приращение скалярного измерения \n",
    "$$Y_x(x + \\delta x) - Y_x(x) = \\frac{- \\sin{\\left( \\frac{\\pi x}{2 r} \\right)}\\frac{\\pi \\delta x}{2 r}}{\\sqrt{1 - \\frac{x^2}{r^2}}}   -  \\frac{\\cos{\\left( \\frac{\\pi x}{2 r} \\right)} - \\sin{\\left( \\frac{\\pi x}{2 r} \\right)}\\frac{\\pi \\delta x}{2 r}}{\\sqrt{1 - \\frac{x^2}{r^2}}} \\frac{x\\delta x}{r\\sqrt{r^2 - x^2}}$$\n",
    "\n",
    "А если мы оставим только линейные члены по $\\delta x$, выйдет\n",
    "$$Y_x(x + \\delta x) - Y_x(x) = \\frac{- \\sin{\\left( \\frac{\\pi x}{2 r} \\right)}\\frac{\\pi \\delta x}{2 r}}{\\sqrt{1 - \\frac{x^2}{r^2}}}   -  \\frac{\\cos{\\left( \\frac{\\pi x}{2 r} \\right)} }{\\sqrt{1 - \\frac{x^2}{r^2}}} \\frac{x\\delta x}{r\\sqrt{r^2 - x^2}}$$"
   ]
  },
  {
   "cell_type": "markdown",
   "id": "9ef7c230-a594-4937-99c5-d014296c720b",
   "metadata": {},
   "source": [
    "$$Y_x(x + \\delta x) - Y_x(x) = -\\frac{\\delta x}{\\sqrt{1 - \\frac{x^2}{r^2}}}  \\left( \\sin{\\left( \\frac{\\pi x}{2 r} \\right)}\\frac{\\pi}{2 r} + \\cos{\\left( \\frac{\\pi x}{2 r} \\right)}  \\frac{x}{r\\sqrt{r^2 - x^2}}   \\right)$$"
   ]
  },
  {
   "cell_type": "markdown",
   "id": "d12881da-c787-4fc6-93ba-d2f54f6979b7",
   "metadata": {},
   "source": [
    "А дальше что? А дальше кот прошёлся по клавиатуре и у меня всё блин удалилось. Короче там в итоге $Y_x(x + \\delta x) - Y_x(x) = 0$ только при $x=0$"
   ]
  },
  {
   "cell_type": "markdown",
   "id": "c20a8ee6-dbd3-4791-80f1-23777776392f",
   "metadata": {},
   "source": [
    "###### **ВЫКЛАДКИ ДЛЯ КОРОТКОГО ДИПОЛЯ**"
   ]
  },
  {
   "cell_type": "markdown",
   "id": "c22931cf-484e-444e-82c3-5ac6b8c61b12",
   "metadata": {},
   "source": [
    "КА-1 в ССК-1 принимает сигнал от КА-2. В ССК-1:\n",
    "- КА-1 в начале координат, $q=[1,0,0,0]$\n",
    "- КА-2 в $r,q$ <br>\n",
    "Если у каждого КА по 3 антенны, то в итоге 9 измерений"
   ]
  },
  {
   "cell_type": "code",
   "execution_count": 3,
   "id": "b7c4a5ef-01ed-4230-9171-735f0ccb001a",
   "metadata": {},
   "outputs": [
    {
     "name": "stdout",
     "output_type": "stream",
     "text": [
      "\u001b[0m\u001b[1mУсиления для КА-1\u001b[0m\u001b[0m\n",
      "Усиление G вдоль оси x:\n"
     ]
    },
    {
     "data": {
      "text/latex": [
       "$\\displaystyle 1.0 \\sqrt{\\frac{r_{y}^{2} + r_{z}^{2}}{r_{x}^{2} + r_{y}^{2} + r_{z}^{2}}}$"
      ],
      "text/plain": [
       "1.0*sqrt((r_y**2 + r_z**2)/(r_x**2 + r_y**2 + r_z**2))"
      ]
     },
     "metadata": {},
     "output_type": "display_data"
    },
    {
     "name": "stdout",
     "output_type": "stream",
     "text": [
      "Усиление G вдоль оси y:\n"
     ]
    },
    {
     "data": {
      "text/latex": [
       "$\\displaystyle 1.0 \\sqrt{\\frac{r_{x}^{2} + r_{z}^{2}}{r_{x}^{2} + r_{y}^{2} + r_{z}^{2}}}$"
      ],
      "text/plain": [
       "1.0*sqrt((r_x**2 + r_z**2)/(r_x**2 + r_y**2 + r_z**2))"
      ]
     },
     "metadata": {},
     "output_type": "display_data"
    },
    {
     "name": "stdout",
     "output_type": "stream",
     "text": [
      "Усиление G вдоль оси z:\n"
     ]
    },
    {
     "data": {
      "text/latex": [
       "$\\displaystyle 1.0 \\sqrt{\\frac{r_{x}^{2} + r_{y}^{2}}{r_{x}^{2} + r_{y}^{2} + r_{z}^{2}}}$"
      ],
      "text/plain": [
       "1.0*sqrt((r_x**2 + r_y**2)/(r_x**2 + r_y**2 + r_z**2))"
      ]
     },
     "metadata": {},
     "output_type": "display_data"
    },
    {
     "name": "stdout",
     "output_type": "stream",
     "text": [
      "\u001b[0m\u001b[1m\n",
      "Усиления для КА-2\u001b[0m\u001b[0m\n",
      "Усиление G вдоль оси x:\n"
     ]
    },
    {
     "data": {
      "text/latex": [
       "$\\displaystyle 1.0 \\sqrt{\\frac{\\left(2 r_{x} \\left(q_{x} q_{y} - q_{z} \\sqrt{- q_{x}^{2} - q_{y}^{2} - q_{z}^{2} + 1}\\right) - r_{y} \\left(2 q_{x}^{2} + 2 q_{z}^{2} - 1\\right) + 2 r_{z} \\left(q_{x} \\sqrt{- q_{x}^{2} - q_{y}^{2} - q_{z}^{2} + 1} + q_{y} q_{z}\\right)\\right)^{2} + \\left(- 2 r_{x} \\left(q_{x} q_{z} + q_{y} \\sqrt{- q_{x}^{2} - q_{y}^{2} - q_{z}^{2} + 1}\\right) + 2 r_{y} \\left(q_{x} \\sqrt{- q_{x}^{2} - q_{y}^{2} - q_{z}^{2} + 1} - q_{y} q_{z}\\right) + r_{z} \\left(2 q_{x}^{2} + 2 q_{y}^{2} - 1\\right)\\right)^{2}}{\\left(2 r_{x} \\left(q_{x} q_{y} - q_{z} \\sqrt{- q_{x}^{2} - q_{y}^{2} - q_{z}^{2} + 1}\\right) - r_{y} \\left(2 q_{x}^{2} + 2 q_{z}^{2} - 1\\right) + 2 r_{z} \\left(q_{x} \\sqrt{- q_{x}^{2} - q_{y}^{2} - q_{z}^{2} + 1} + q_{y} q_{z}\\right)\\right)^{2} + \\left(- 2 r_{x} \\left(q_{x} q_{z} + q_{y} \\sqrt{- q_{x}^{2} - q_{y}^{2} - q_{z}^{2} + 1}\\right) + 2 r_{y} \\left(q_{x} \\sqrt{- q_{x}^{2} - q_{y}^{2} - q_{z}^{2} + 1} - q_{y} q_{z}\\right) + r_{z} \\left(2 q_{x}^{2} + 2 q_{y}^{2} - 1\\right)\\right)^{2} + \\left(- r_{x} \\left(2 q_{y}^{2} + 2 q_{z}^{2} - 1\\right) + 2 r_{y} \\left(q_{x} q_{y} + q_{z} \\sqrt{- q_{x}^{2} - q_{y}^{2} - q_{z}^{2} + 1}\\right) + 2 r_{z} \\left(q_{x} q_{z} - q_{y} \\sqrt{- q_{x}^{2} - q_{y}^{2} - q_{z}^{2} + 1}\\right)\\right)^{2}}}$"
      ],
      "text/plain": [
       "1.0*sqrt(((2*r_x*(q_x*q_y - q_z*sqrt(-q_x**2 - q_y**2 - q_z**2 + 1)) - r_y*(2*q_x**2 + 2*q_z**2 - 1) + 2*r_z*(q_x*sqrt(-q_x**2 - q_y**2 - q_z**2 + 1) + q_y*q_z))**2 + (-2*r_x*(q_x*q_z + q_y*sqrt(-q_x**2 - q_y**2 - q_z**2 + 1)) + 2*r_y*(q_x*sqrt(-q_x**2 - q_y**2 - q_z**2 + 1) - q_y*q_z) + r_z*(2*q_x**2 + 2*q_y**2 - 1))**2)/((2*r_x*(q_x*q_y - q_z*sqrt(-q_x**2 - q_y**2 - q_z**2 + 1)) - r_y*(2*q_x**2 + 2*q_z**2 - 1) + 2*r_z*(q_x*sqrt(-q_x**2 - q_y**2 - q_z**2 + 1) + q_y*q_z))**2 + (-2*r_x*(q_x*q_z + q_y*sqrt(-q_x**2 - q_y**2 - q_z**2 + 1)) + 2*r_y*(q_x*sqrt(-q_x**2 - q_y**2 - q_z**2 + 1) - q_y*q_z) + r_z*(2*q_x**2 + 2*q_y**2 - 1))**2 + (-r_x*(2*q_y**2 + 2*q_z**2 - 1) + 2*r_y*(q_x*q_y + q_z*sqrt(-q_x**2 - q_y**2 - q_z**2 + 1)) + 2*r_z*(q_x*q_z - q_y*sqrt(-q_x**2 - q_y**2 - q_z**2 + 1)))**2))"
      ]
     },
     "metadata": {},
     "output_type": "display_data"
    },
    {
     "name": "stdout",
     "output_type": "stream",
     "text": [
      "Усиление G вдоль оси y:\n"
     ]
    },
    {
     "data": {
      "text/latex": [
       "$\\displaystyle 1.0 \\sqrt{\\frac{\\left(- 2 r_{x} \\left(q_{x} q_{z} + q_{y} \\sqrt{- q_{x}^{2} - q_{y}^{2} - q_{z}^{2} + 1}\\right) + 2 r_{y} \\left(q_{x} \\sqrt{- q_{x}^{2} - q_{y}^{2} - q_{z}^{2} + 1} - q_{y} q_{z}\\right) + r_{z} \\left(2 q_{x}^{2} + 2 q_{y}^{2} - 1\\right)\\right)^{2} + \\left(- r_{x} \\left(2 q_{y}^{2} + 2 q_{z}^{2} - 1\\right) + 2 r_{y} \\left(q_{x} q_{y} + q_{z} \\sqrt{- q_{x}^{2} - q_{y}^{2} - q_{z}^{2} + 1}\\right) + 2 r_{z} \\left(q_{x} q_{z} - q_{y} \\sqrt{- q_{x}^{2} - q_{y}^{2} - q_{z}^{2} + 1}\\right)\\right)^{2}}{\\left(2 r_{x} \\left(q_{x} q_{y} - q_{z} \\sqrt{- q_{x}^{2} - q_{y}^{2} - q_{z}^{2} + 1}\\right) - r_{y} \\left(2 q_{x}^{2} + 2 q_{z}^{2} - 1\\right) + 2 r_{z} \\left(q_{x} \\sqrt{- q_{x}^{2} - q_{y}^{2} - q_{z}^{2} + 1} + q_{y} q_{z}\\right)\\right)^{2} + \\left(- 2 r_{x} \\left(q_{x} q_{z} + q_{y} \\sqrt{- q_{x}^{2} - q_{y}^{2} - q_{z}^{2} + 1}\\right) + 2 r_{y} \\left(q_{x} \\sqrt{- q_{x}^{2} - q_{y}^{2} - q_{z}^{2} + 1} - q_{y} q_{z}\\right) + r_{z} \\left(2 q_{x}^{2} + 2 q_{y}^{2} - 1\\right)\\right)^{2} + \\left(- r_{x} \\left(2 q_{y}^{2} + 2 q_{z}^{2} - 1\\right) + 2 r_{y} \\left(q_{x} q_{y} + q_{z} \\sqrt{- q_{x}^{2} - q_{y}^{2} - q_{z}^{2} + 1}\\right) + 2 r_{z} \\left(q_{x} q_{z} - q_{y} \\sqrt{- q_{x}^{2} - q_{y}^{2} - q_{z}^{2} + 1}\\right)\\right)^{2}}}$"
      ],
      "text/plain": [
       "1.0*sqrt(((-2*r_x*(q_x*q_z + q_y*sqrt(-q_x**2 - q_y**2 - q_z**2 + 1)) + 2*r_y*(q_x*sqrt(-q_x**2 - q_y**2 - q_z**2 + 1) - q_y*q_z) + r_z*(2*q_x**2 + 2*q_y**2 - 1))**2 + (-r_x*(2*q_y**2 + 2*q_z**2 - 1) + 2*r_y*(q_x*q_y + q_z*sqrt(-q_x**2 - q_y**2 - q_z**2 + 1)) + 2*r_z*(q_x*q_z - q_y*sqrt(-q_x**2 - q_y**2 - q_z**2 + 1)))**2)/((2*r_x*(q_x*q_y - q_z*sqrt(-q_x**2 - q_y**2 - q_z**2 + 1)) - r_y*(2*q_x**2 + 2*q_z**2 - 1) + 2*r_z*(q_x*sqrt(-q_x**2 - q_y**2 - q_z**2 + 1) + q_y*q_z))**2 + (-2*r_x*(q_x*q_z + q_y*sqrt(-q_x**2 - q_y**2 - q_z**2 + 1)) + 2*r_y*(q_x*sqrt(-q_x**2 - q_y**2 - q_z**2 + 1) - q_y*q_z) + r_z*(2*q_x**2 + 2*q_y**2 - 1))**2 + (-r_x*(2*q_y**2 + 2*q_z**2 - 1) + 2*r_y*(q_x*q_y + q_z*sqrt(-q_x**2 - q_y**2 - q_z**2 + 1)) + 2*r_z*(q_x*q_z - q_y*sqrt(-q_x**2 - q_y**2 - q_z**2 + 1)))**2))"
      ]
     },
     "metadata": {},
     "output_type": "display_data"
    },
    {
     "name": "stdout",
     "output_type": "stream",
     "text": [
      "Усиление G вдоль оси z:\n"
     ]
    },
    {
     "data": {
      "text/latex": [
       "$\\displaystyle 1.0 \\sqrt{\\frac{\\left(2 r_{x} \\left(q_{x} q_{y} - q_{z} \\sqrt{- q_{x}^{2} - q_{y}^{2} - q_{z}^{2} + 1}\\right) - r_{y} \\left(2 q_{x}^{2} + 2 q_{z}^{2} - 1\\right) + 2 r_{z} \\left(q_{x} \\sqrt{- q_{x}^{2} - q_{y}^{2} - q_{z}^{2} + 1} + q_{y} q_{z}\\right)\\right)^{2} + \\left(- r_{x} \\left(2 q_{y}^{2} + 2 q_{z}^{2} - 1\\right) + 2 r_{y} \\left(q_{x} q_{y} + q_{z} \\sqrt{- q_{x}^{2} - q_{y}^{2} - q_{z}^{2} + 1}\\right) + 2 r_{z} \\left(q_{x} q_{z} - q_{y} \\sqrt{- q_{x}^{2} - q_{y}^{2} - q_{z}^{2} + 1}\\right)\\right)^{2}}{\\left(2 r_{x} \\left(q_{x} q_{y} - q_{z} \\sqrt{- q_{x}^{2} - q_{y}^{2} - q_{z}^{2} + 1}\\right) - r_{y} \\left(2 q_{x}^{2} + 2 q_{z}^{2} - 1\\right) + 2 r_{z} \\left(q_{x} \\sqrt{- q_{x}^{2} - q_{y}^{2} - q_{z}^{2} + 1} + q_{y} q_{z}\\right)\\right)^{2} + \\left(- 2 r_{x} \\left(q_{x} q_{z} + q_{y} \\sqrt{- q_{x}^{2} - q_{y}^{2} - q_{z}^{2} + 1}\\right) + 2 r_{y} \\left(q_{x} \\sqrt{- q_{x}^{2} - q_{y}^{2} - q_{z}^{2} + 1} - q_{y} q_{z}\\right) + r_{z} \\left(2 q_{x}^{2} + 2 q_{y}^{2} - 1\\right)\\right)^{2} + \\left(- r_{x} \\left(2 q_{y}^{2} + 2 q_{z}^{2} - 1\\right) + 2 r_{y} \\left(q_{x} q_{y} + q_{z} \\sqrt{- q_{x}^{2} - q_{y}^{2} - q_{z}^{2} + 1}\\right) + 2 r_{z} \\left(q_{x} q_{z} - q_{y} \\sqrt{- q_{x}^{2} - q_{y}^{2} - q_{z}^{2} + 1}\\right)\\right)^{2}}}$"
      ],
      "text/plain": [
       "1.0*sqrt(((2*r_x*(q_x*q_y - q_z*sqrt(-q_x**2 - q_y**2 - q_z**2 + 1)) - r_y*(2*q_x**2 + 2*q_z**2 - 1) + 2*r_z*(q_x*sqrt(-q_x**2 - q_y**2 - q_z**2 + 1) + q_y*q_z))**2 + (-r_x*(2*q_y**2 + 2*q_z**2 - 1) + 2*r_y*(q_x*q_y + q_z*sqrt(-q_x**2 - q_y**2 - q_z**2 + 1)) + 2*r_z*(q_x*q_z - q_y*sqrt(-q_x**2 - q_y**2 - q_z**2 + 1)))**2)/((2*r_x*(q_x*q_y - q_z*sqrt(-q_x**2 - q_y**2 - q_z**2 + 1)) - r_y*(2*q_x**2 + 2*q_z**2 - 1) + 2*r_z*(q_x*sqrt(-q_x**2 - q_y**2 - q_z**2 + 1) + q_y*q_z))**2 + (-2*r_x*(q_x*q_z + q_y*sqrt(-q_x**2 - q_y**2 - q_z**2 + 1)) + 2*r_y*(q_x*sqrt(-q_x**2 - q_y**2 - q_z**2 + 1) - q_y*q_z) + r_z*(2*q_x**2 + 2*q_y**2 - 1))**2 + (-r_x*(2*q_y**2 + 2*q_z**2 - 1) + 2*r_y*(q_x*q_y + q_z*sqrt(-q_x**2 - q_y**2 - q_z**2 + 1)) + 2*r_z*(q_x*q_z - q_y*sqrt(-q_x**2 - q_y**2 - q_z**2 + 1)))**2))"
      ]
     },
     "metadata": {},
     "output_type": "display_data"
    }
   ],
   "source": [
    "x1 = kf.local_dipole(None, r, 'x', model='short dipole').simplify()\n",
    "y1 = kf.local_dipole(None, r, 'y', model='short dipole').simplify()\n",
    "z1 = kf.local_dipole(None, r, 'z', model='short dipole').simplify()\n",
    "x2 = kf.local_dipole(None, -kf.quart2dcm(q) @ r, 'x', model='short dipole').simplify()\n",
    "y2 = kf.local_dipole(None, -kf.quart2dcm(q) @ r, 'y', model='short dipole').simplify()\n",
    "z2 = kf.local_dipole(None, -kf.quart2dcm(q) @ r, 'z', model='short dipole').simplify()\n",
    "kf.my_print('Усиления для КА-1', bold=True)\n",
    "print('Усиление G вдоль оси x:')\n",
    "display(x1)\n",
    "print('Усиление G вдоль оси y:')\n",
    "display(y1)\n",
    "print('Усиление G вдоль оси z:')\n",
    "display(z1)\n",
    "kf.my_print('\\nУсиления для КА-2', bold=True)\n",
    "print('Усиление G вдоль оси x:')\n",
    "display(x2)\n",
    "print('Усиление G вдоль оси y:')\n",
    "display(y2)\n",
    "print('Усиление G вдоль оси z:')\n",
    "display(z2)"
   ]
  },
  {
   "cell_type": "code",
   "execution_count": null,
   "id": "00363b0e-6e47-4a83-b962-f3ba65ac31df",
   "metadata": {},
   "outputs": [],
   "source": [
    "h = kf.get_vars('h', 9)\n",
    "n = sqrt(r[0]**2 + r[1]**2 + r[2]**2)\n",
    "eqs = [Eq(h[0], n / sqrt(x1*x2)), Eq(h[1], n / sqrt(x1*y2)), Eq(h[2], n / sqrt(x1*z2)),\n",
    "       Eq(h[3], n / sqrt(y1*x2)), Eq(h[4], n / sqrt(y1*y2)), Eq(h[5], n / sqrt(y1*z2)),\n",
    "       Eq(h[6], n / sqrt(z1*x2)), Eq(h[7], n / sqrt(z1*y2)), Eq(h[8], n / sqrt(z1*z2))]\n",
    "anw = solve(eqs, r)"
   ]
  },
  {
   "cell_type": "markdown",
   "id": "61f7a6cd-787d-4cf2-b7d6-52cff73a4cc2",
   "metadata": {},
   "source": [
    "**Не считается**\n",
    "\n",
    "Теперь допустим, что КА-2 имеет 1 изотропнуб антенну"
   ]
  },
  {
   "cell_type": "code",
   "execution_count": 5,
   "id": "239d0f21-a77c-484f-bb08-e926f33679d6",
   "metadata": {},
   "outputs": [
    {
     "name": "stdout",
     "output_type": "stream",
     "text": [
      "\u001b[0m\u001b[1mG2=1, так что имеем готовые измерения:\u001b[0m\u001b[0m\n",
      "h1:\n"
     ]
    },
    {
     "data": {
      "text/latex": [
       "$\\displaystyle \\frac{1.0 \\sqrt{r_{x}^{2} + r_{y}^{2} + r_{z}^{2}}}{\\sqrt[4]{\\frac{r_{y}^{2} + r_{z}^{2}}{r_{x}^{2} + r_{y}^{2} + r_{z}^{2}}}}$"
      ],
      "text/plain": [
       "1.0*sqrt(r_x**2 + r_y**2 + r_z**2)/((r_y**2 + r_z**2)/(r_x**2 + r_y**2 + r_z**2))**(1/4)"
      ]
     },
     "metadata": {},
     "output_type": "display_data"
    },
    {
     "name": "stdout",
     "output_type": "stream",
     "text": [
      "h2:\n"
     ]
    },
    {
     "data": {
      "text/latex": [
       "$\\displaystyle \\frac{1.0 \\sqrt{r_{x}^{2} + r_{y}^{2} + r_{z}^{2}}}{\\sqrt[4]{\\frac{r_{x}^{2} + r_{z}^{2}}{r_{x}^{2} + r_{y}^{2} + r_{z}^{2}}}}$"
      ],
      "text/plain": [
       "1.0*sqrt(r_x**2 + r_y**2 + r_z**2)/((r_x**2 + r_z**2)/(r_x**2 + r_y**2 + r_z**2))**(1/4)"
      ]
     },
     "metadata": {},
     "output_type": "display_data"
    },
    {
     "name": "stdout",
     "output_type": "stream",
     "text": [
      "h3:\n"
     ]
    },
    {
     "data": {
      "text/latex": [
       "$\\displaystyle \\frac{1.0 \\sqrt{r_{x}^{2} + r_{y}^{2} + r_{z}^{2}}}{\\sqrt[4]{\\frac{r_{x}^{2} + r_{y}^{2}}{r_{x}^{2} + r_{y}^{2} + r_{z}^{2}}}}$"
      ],
      "text/plain": [
       "1.0*sqrt(r_x**2 + r_y**2 + r_z**2)/((r_x**2 + r_y**2)/(r_x**2 + r_y**2 + r_z**2))**(1/4)"
      ]
     },
     "metadata": {},
     "output_type": "display_data"
    }
   ],
   "source": [
    "kf.my_print('G2=1, так что имеем готовые измерения:', bold=True)\n",
    "h1 = (sqrt(r[0]**2 + r[1]**2 + r[2]**2) / sqrt(x1)).simplify()\n",
    "h2 = (sqrt(r[0]**2 + r[1]**2 + r[2]**2) / sqrt(y1)).simplify()\n",
    "h3 = (sqrt(r[0]**2 + r[1]**2 + r[2]**2) / sqrt(z1)).simplify()\n",
    "print('h1:')\n",
    "display(h1)\n",
    "print('h2:')\n",
    "display(h2)\n",
    "print('h3:')\n",
    "display(h3)"
   ]
  },
  {
   "cell_type": "code",
   "execution_count": 42,
   "id": "8798bb96-01eb-4cb7-8a31-c4cc652599a0",
   "metadata": {},
   "outputs": [
    {
     "name": "stdout",
     "output_type": "stream",
     "text": [
      "Укороченная запись: h1 = \n"
     ]
    },
    {
     "data": {
      "text/latex": [
       "$\\displaystyle \\sqrt[4]{\\frac{\\left(r_{x}^{2} + r_{y}^{2} + r_{z}^{2}\\right)^{3}}{r_{y}^{2} + r_{z}^{2}}}$"
      ],
      "text/plain": [
       "((r_x**2 + r_y**2 + r_z**2)**3/(r_y**2 + r_z**2))**(1/4)"
      ]
     },
     "metadata": {},
     "output_type": "display_data"
    },
    {
     "name": "stdout",
     "output_type": "stream",
     "text": [
      "Проверка: 0.0\n"
     ]
    }
   ],
   "source": [
    "tmp = (sqrt(sqrt(r.dot(r)**3 / (r[1]**2 + r[2]**2))))\n",
    "print(f\"Укороченная запись: h1 = \")\n",
    "display(tmp)\n",
    "print(f\"Проверка: {float((h1 - tmp).subs([(r[0], 1), (r[1], 2), (r[2], 3)]))}\")"
   ]
  },
  {
   "cell_type": "code",
   "execution_count": 35,
   "id": "47364316-8139-4da9-9f41-f58fb5d5f6b0",
   "metadata": {},
   "outputs": [
    {
     "data": {
      "text/plain": [
       "-2.417245056926546e-16"
      ]
     },
     "execution_count": 35,
     "metadata": {},
     "output_type": "execute_result"
    }
   ],
   "source": []
  },
  {
   "cell_type": "code",
   "execution_count": 57,
   "id": "f8c85e9a-6ce0-4250-8eb1-b7bdc5633cce",
   "metadata": {},
   "outputs": [
    {
     "data": {
      "text/latex": [
       "$\\displaystyle \\frac{1.0 \\left(r_{y}^{2} + r_{z}^{2}\\right)}{\\left(r_{x}^{2} + r_{y}^{2} + r_{z}^{2}\\right)^{3}}$"
      ],
      "text/plain": [
       "1.0*(r_y**2 + r_z**2)/(r_x**2 + r_y**2 + r_z**2)**3"
      ]
     },
     "execution_count": 57,
     "metadata": {},
     "output_type": "execute_result"
    }
   ],
   "source": [
    "1/h1**4"
   ]
  },
  {
   "cell_type": "code",
   "execution_count": 58,
   "id": "256c692d-29fd-4294-b30b-2da0f2f5dc52",
   "metadata": {},
   "outputs": [
    {
     "data": {
      "text/latex": [
       "$\\displaystyle \\frac{1.0 \\left(r_{x}^{2} + r_{z}^{2}\\right)}{\\left(r_{x}^{2} + r_{y}^{2} + r_{z}^{2}\\right)^{3}}$"
      ],
      "text/plain": [
       "1.0*(r_x**2 + r_z**2)/(r_x**2 + r_y**2 + r_z**2)**3"
      ]
     },
     "execution_count": 58,
     "metadata": {},
     "output_type": "execute_result"
    }
   ],
   "source": [
    "1/h2**4"
   ]
  },
  {
   "cell_type": "code",
   "execution_count": 59,
   "id": "9a74d6d4-6d28-4187-846e-6c5f2453d13f",
   "metadata": {},
   "outputs": [
    {
     "data": {
      "text/latex": [
       "$\\displaystyle \\frac{1.0 \\left(r_{x}^{2} + r_{y}^{2}\\right)}{\\left(r_{x}^{2} + r_{y}^{2} + r_{z}^{2}\\right)^{3}}$"
      ],
      "text/plain": [
       "1.0*(r_x**2 + r_y**2)/(r_x**2 + r_y**2 + r_z**2)**3"
      ]
     },
     "execution_count": 59,
     "metadata": {},
     "output_type": "execute_result"
    }
   ],
   "source": [
    "1/h3**4"
   ]
  },
  {
   "cell_type": "code",
   "execution_count": 43,
   "id": "b682519b-8944-4547-8c26-38d23c701412",
   "metadata": {},
   "outputs": [
    {
     "data": {
      "text/latex": [
       "$\\displaystyle 1.0 \\left(r_{x}^{2} + r_{y}^{2} + r_{z}^{2}\\right)^{2}$"
      ],
      "text/plain": [
       "1.0*(r_x**2 + r_y**2 + r_z**2)**2"
      ]
     },
     "execution_count": 43,
     "metadata": {},
     "output_type": "execute_result"
    }
   ],
   "source": [
    "(2/(1/h1**4 + 1/h2**4 + 1/h3**4)).simplify()"
   ]
  },
  {
   "cell_type": "code",
   "execution_count": null,
   "id": "9b1fb921-448f-4230-b681-e65a2d4dd2d8",
   "metadata": {},
   "outputs": [],
   "source": []
  },
  {
   "cell_type": "code",
   "execution_count": null,
   "id": "cad437d7-3ea6-4cb9-b568-a663b0f82ab3",
   "metadata": {},
   "outputs": [],
   "source": []
  },
  {
   "cell_type": "code",
   "execution_count": null,
   "id": "d7193db7-eef8-43d0-965a-b82ce53349a4",
   "metadata": {},
   "outputs": [],
   "source": []
  },
  {
   "cell_type": "code",
   "execution_count": null,
   "id": "b561a7c4-9733-495c-8a1f-111c5e9cd2a1",
   "metadata": {},
   "outputs": [],
   "source": []
  },
  {
   "cell_type": "markdown",
   "id": "775f200a-e5e7-4c85-977e-7e960aa5dd9a",
   "metadata": {},
   "source": [
    "$$Y_x(x,y,z) = \\sqrt{1 - \\frac{x^2}{x^2+y^2+z^2}}$$\n",
    "\n",
    "$$Y_x(x + \\delta x,y + \\delta y,z + \\delta z) = \\sqrt{1 - \\frac{x^2 + 2x\\delta x}{x^2 +y^2 +z^2+ 2x\\delta x+ 2y\\delta y + 2z\\delta z}} = \\sqrt{1 - \\frac{x^2 + 2x\\delta x}{x^2 +y^2 +z^2}\\frac{1}{1 + \\frac{2x\\delta x+ 2y\\delta y + 2z\\delta z}{x^2 +y^2 +z^2}}}$$\n",
    "\n",
    "$$Y_x(x + \\delta x,y + \\delta y,z + \\delta z) \\approx \n",
    "\\sqrt{1 - \\frac{x^2 + 2x\\delta x}{x^2 +y^2 +z^2}\\left(1 - \\frac{2x\\delta x+ 2y\\delta y + 2z\\delta z}{x^2 +y^2 +z^2} \\right)} =  \n",
    "\\sqrt{1 - \\frac{x^2 + 2x\\delta x}{x^2 +y^2 +z^2} + \\frac{x^2 + 2x\\delta x}{x^2 +y^2 +z^2} \\frac{2x\\delta x+ 2y\\delta y + 2z\\delta z}{x^2 +y^2 +z^2}}$$"
   ]
  },
  {
   "cell_type": "code",
   "execution_count": null,
   "id": "c3e3dd39-f3c2-4329-8ac8-298dd41b3e56",
   "metadata": {},
   "outputs": [],
   "source": []
  },
  {
   "cell_type": "code",
   "execution_count": null,
   "id": "a3257eb7-720d-4ea4-b020-986c81f184d8",
   "metadata": {},
   "outputs": [],
   "source": []
  },
  {
   "cell_type": "code",
   "execution_count": null,
   "id": "a53b4acc-d92d-4a81-854a-f02fe612a2f0",
   "metadata": {},
   "outputs": [],
   "source": []
  },
  {
   "cell_type": "markdown",
   "id": "021e460c-65ab-40d1-9be6-19bde3b9a013",
   "metadata": {
    "jp-MarkdownHeadingCollapsed": true
   },
   "source": [
    "###### Ненужные выкладки (удалить)"
   ]
  },
  {
   "cell_type": "code",
   "execution_count": 24,
   "id": "451b1448-c1cb-4995-bc37-a0a633bfc531",
   "metadata": {},
   "outputs": [
    {
     "data": {
      "text/latex": [
       "$\\displaystyle \\frac{1.0 \\cos{\\left(\\frac{\\pi r_{x}}{2 \\sqrt{d^{2}}} + \\frac{\\pi δx}{2 \\sqrt{d^{2}}} \\right)}}{\\sqrt{\\frac{r_{y}^{2}}{d^{2}} + \\frac{2 r_{y} δy}{d^{2}} + \\frac{r_{z}^{2}}{d^{2}} + \\frac{2 r_{z} δz}{d^{2}} + \\frac{δy^{2}}{d^{2}} + \\frac{δz^{2}}{d^{2}}}} - \\frac{1.0 \\cos{\\left(\\frac{\\pi r_{x}}{2 \\sqrt{d^{2}}} \\right)}}{\\sqrt{\\frac{r_{y}^{2}}{d^{2}} + \\frac{r_{z}^{2}}{d^{2}}}}$"
      ],
      "text/plain": [
       "1.0*cos(pi*r_x/(2*sqrt(d**2)) + pi*δx/(2*sqrt(d**2)))/sqrt(r_y**2/d**2 + 2*r_y*δy/d**2 + r_z**2/d**2 + 2*r_z*δz/d**2 + δy**2/d**2 + δz**2/d**2) - 1.0*cos(pi*r_x/(2*sqrt(d**2)))/sqrt(r_y**2/d**2 + r_z**2/d**2)"
      ]
     },
     "execution_count": 24,
     "metadata": {},
     "output_type": "execute_result"
    }
   ],
   "source": [
    "tmp = (x.subs(d_subs) - x).expand()\n",
    "tmp"
   ]
  },
  {
   "cell_type": "code",
   "execution_count": 10,
   "id": "69cd85ed-618f-40ee-9662-31259a9806bd",
   "metadata": {},
   "outputs": [
    {
     "data": {
      "text/plain": [
       "[]"
      ]
     },
     "execution_count": 10,
     "metadata": {},
     "output_type": "execute_result"
    }
   ],
   "source": [
    "d_subs = [(r[0], r[0] + dx), (r[1], r[1] + dy), (r[2], r[2] + dz)]\n",
    "anw = sp.solve([sp.Eq(x.subs(d_subs),x), sp.Eq(y.subs(d_subs),y), sp.Eq(z.subs(d_subs),z)], [dx, dy, dz])\n",
    "anw"
   ]
  },
  {
   "cell_type": "code",
   "execution_count": 37,
   "id": "8a6a5322-7358-4d5f-8e5e-45ffd4ff6a3c",
   "metadata": {},
   "outputs": [
    {
     "ename": "NotImplementedError",
     "evalue": "could not solve -x_r*sqrt((r_y**2 + r_z**2)/(r_x**2 + r_y**2 + r_z**2)) + cos(pi*r_x/(2*sqrt(r_x**2 + r_y**2 + r_z**2)))",
     "output_type": "error",
     "traceback": [
      "\u001b[0;31m---------------------------------------------------------------------------\u001b[0m",
      "\u001b[0;31mNotImplementedError\u001b[0m                       Traceback (most recent call last)",
      "Cell \u001b[0;32mIn[37], line 2\u001b[0m\n\u001b[1;32m      1\u001b[0m eqs \u001b[38;5;241m=\u001b[39m [sp\u001b[38;5;241m.\u001b[39mEq(xr, x), sp\u001b[38;5;241m.\u001b[39mEq(yr, y), sp\u001b[38;5;241m.\u001b[39mEq(zr, z), sp\u001b[38;5;241m.\u001b[39mEq(d\u001b[38;5;241m*\u001b[39m\u001b[38;5;241m*\u001b[39m\u001b[38;5;241m2\u001b[39m, r\u001b[38;5;241m.\u001b[39mdot(r))]\n\u001b[0;32m----> 2\u001b[0m anw \u001b[38;5;241m=\u001b[39m \u001b[43msp\u001b[49m\u001b[38;5;241;43m.\u001b[39;49m\u001b[43msolve\u001b[49m\u001b[43m(\u001b[49m\u001b[43meqs\u001b[49m\u001b[43m,\u001b[49m\u001b[43m \u001b[49m\u001b[43m[\u001b[49m\u001b[43md\u001b[49m\u001b[43m,\u001b[49m\u001b[43m \u001b[49m\u001b[43mr\u001b[49m\u001b[43m[\u001b[49m\u001b[38;5;241;43m0\u001b[39;49m\u001b[43m]\u001b[49m\u001b[43m,\u001b[49m\u001b[43m \u001b[49m\u001b[43mr\u001b[49m\u001b[43m[\u001b[49m\u001b[38;5;241;43m1\u001b[39;49m\u001b[43m]\u001b[49m\u001b[43m,\u001b[49m\u001b[43m \u001b[49m\u001b[43mr\u001b[49m\u001b[43m[\u001b[49m\u001b[38;5;241;43m2\u001b[39;49m\u001b[43m]\u001b[49m\u001b[43m]\u001b[49m\u001b[43m)\u001b[49m\n\u001b[1;32m      3\u001b[0m anw\n",
      "File \u001b[0;32m~/.local/lib/python3.10/site-packages/sympy/solvers/solvers.py:1172\u001b[0m, in \u001b[0;36msolve\u001b[0;34m(f, *symbols, **flags)\u001b[0m\n\u001b[1;32m   1170\u001b[0m         solution \u001b[38;5;241m=\u001b[39m _solve(f[\u001b[38;5;241m0\u001b[39m], \u001b[38;5;241m*\u001b[39msymbols, \u001b[38;5;241m*\u001b[39m\u001b[38;5;241m*\u001b[39mflags)\n\u001b[1;32m   1171\u001b[0m \u001b[38;5;28;01melse\u001b[39;00m:\n\u001b[0;32m-> 1172\u001b[0m     linear, solution \u001b[38;5;241m=\u001b[39m \u001b[43m_solve_system\u001b[49m\u001b[43m(\u001b[49m\u001b[43mf\u001b[49m\u001b[43m,\u001b[49m\u001b[43m \u001b[49m\u001b[43msymbols\u001b[49m\u001b[43m,\u001b[49m\u001b[43m \u001b[49m\u001b[38;5;241;43m*\u001b[39;49m\u001b[38;5;241;43m*\u001b[39;49m\u001b[43mflags\u001b[49m\u001b[43m)\u001b[49m\n\u001b[1;32m   1173\u001b[0m \u001b[38;5;28;01massert\u001b[39;00m \u001b[38;5;28mtype\u001b[39m(solution) \u001b[38;5;129;01mis\u001b[39;00m \u001b[38;5;28mlist\u001b[39m\n\u001b[1;32m   1174\u001b[0m \u001b[38;5;28;01massert\u001b[39;00m \u001b[38;5;129;01mnot\u001b[39;00m solution \u001b[38;5;129;01mor\u001b[39;00m \u001b[38;5;28mtype\u001b[39m(solution[\u001b[38;5;241m0\u001b[39m]) \u001b[38;5;129;01mis\u001b[39;00m \u001b[38;5;28mdict\u001b[39m, solution\n",
      "File \u001b[0;32m~/.local/lib/python3.10/site-packages/sympy/solvers/solvers.py:1998\u001b[0m, in \u001b[0;36m_solve_system\u001b[0;34m(exprs, symbols, **flags)\u001b[0m\n\u001b[1;32m   1996\u001b[0m         got_s\u001b[38;5;241m.\u001b[39madd(s)\n\u001b[1;32m   1997\u001b[0m     \u001b[38;5;28;01mif\u001b[39;00m \u001b[38;5;129;01mnot\u001b[39;00m hit:\n\u001b[0;32m-> 1998\u001b[0m         \u001b[38;5;28;01mraise\u001b[39;00m \u001b[38;5;167;01mNotImplementedError\u001b[39;00m(\u001b[38;5;124m'\u001b[39m\u001b[38;5;124mcould not solve \u001b[39m\u001b[38;5;132;01m%s\u001b[39;00m\u001b[38;5;124m'\u001b[39m \u001b[38;5;241m%\u001b[39m eq2)\n\u001b[1;32m   1999\u001b[0m \u001b[38;5;28;01melse\u001b[39;00m:\n\u001b[1;32m   2000\u001b[0m     result \u001b[38;5;241m=\u001b[39m newresult\n",
      "\u001b[0;31mNotImplementedError\u001b[0m: could not solve -x_r*sqrt((r_y**2 + r_z**2)/(r_x**2 + r_y**2 + r_z**2)) + cos(pi*r_x/(2*sqrt(r_x**2 + r_y**2 + r_z**2)))"
     ]
    }
   ],
   "source": [
    "eqs = [sp.Eq(xr, x), sp.Eq(yr, y), sp.Eq(zr, z), sp.Eq(d**2, r.dot(r))]\n",
    "anw = sp.solve(eqs, [d, r[0], r[1], r[2]])\n",
    "anw"
   ]
  },
  {
   "cell_type": "markdown",
   "id": "fa32b67b-5e46-4431-a6f7-f11c50f0199d",
   "metadata": {},
   "source": [
    "##### **<u>Согласно статье</u> 038 (Shauying R.K.) Observability of Nonlinear Systems**"
   ]
  },
  {
   "cell_type": "markdown",
   "id": "e23f1582-78ea-4667-96f7-a845736c1c4d",
   "metadata": {},
   "source": [
    "<span style=\"color:#2b817d\">Примечание:</span>     $km \\geq n$\n",
    "\n",
    "<span style=\"color:#0ab49a\">Согласно статье</span> <span style=\"color:#A254FC\">055 (Yujiro Inowe) On the Observability of Autonomous Nonlinear Systems</span> <span style=\"color:#0ab49a\">надо просто проверить ранг во всём $R^n$!</span>    $rg\\frac{\\partial \\boldsymbol{H}_d}{\\partial \\boldsymbol{x}} (\\boldsymbol{x}) = n \\hskip20px \\forall x \\in R^n,$\n",
    "$$d = n \\frac{n +3}{2}.$$\n",
    "\n",
    "<span style=\"color:#0ab49a\">Согласно статье</span> <span style=\"color:#A254FC\">051 (Andrew J. Whalen) Observability and Controllability of Nonlinear Networks The Role of Symmetry</span> <span style=\"color:#0ab49a\">надо проверить</span> $\\delta(x) = \\frac{|\\sigma_{min}[O^T O]|}{|\\sigma_{max}[O^T O]|}.$"
   ]
  },
  {
   "cell_type": "markdown",
   "id": "da7fe0ed-5aa5-49e7-b661-5bfde30733a2",
   "metadata": {},
   "source": [
    "###### <u>Инициализация</u>"
   ]
  },
  {
   "cell_type": "code",
   "execution_count": 1,
   "id": "c5b0fe04-c03e-4378-a7c0-0dc446d20e16",
   "metadata": {},
   "outputs": [
    {
     "name": "stdout",
     "output_type": "stream",
     "text": [
      "\u001b[32mИнициализация проекта kiam-formation\u001b[0m\n",
      "\u001b[31mПараметры не могут быть загружены! Нет файла: kiamformation/data/config_choose.csv\u001b[0m\n",
      "\u001b[32mМатрицы Ф:(6, 6), Q:(3, 3), P:(6, 6), D:(6, 3)\u001b[0m\n",
      "Высота орбиты: 400 км\n",
      "Период орбиты: 1.54 часов\n",
      "Плотность атмосферы: 6.404751331738951e-12 кг/м³\n"
     ]
    }
   ],
   "source": [
    "from common_func import *\n",
    "\n",
    "o, num_params, t, ω, μ, ρ, r_orb, v_orb = init_symbol_params()"
   ]
  },
  {
   "cell_type": "markdown",
   "id": "5f5a87fb-8dc9-4946-a868-4c553fc0a530",
   "metadata": {},
   "source": [
    "###### <u>Алгоритм</u> (новое)"
   ]
  },
  {
   "cell_type": "code",
   "execution_count": 16,
   "id": "8fbf0938-4b0a-4d35-b459-63a950a43f23",
   "metadata": {},
   "outputs": [],
   "source": [
    "def my_diff(expr, power: int = 1, n_c=1, n_d=1):\n",
    "    \"\"\"\n",
    "    :param expr: Выражение, от которого надо взять производную по времени t\n",
    "    :param power: Степень производной\n",
    "    \"\"\"    \n",
    "    global r_d, v_d, q_d, ω_d, r_c, v_c, q_c, ω_c\n",
    "    global dr_d, dv_d, dq_d, dω_d, dr_c, dv_c, dq_c, dω_c\n",
    "    if power == 0:\n",
    "        return expr\n",
    "    if power == 1:\n",
    "        anw = expr\n",
    "    else:\n",
    "        anw = my_diff(expr, power - 1)\n",
    "    subses = []\n",
    "    for j in range(3):\n",
    "        for i in range(n_d):\n",
    "            subses += [(Derivative(r_d[i][j], t), dr_d[i][j])]\n",
    "            subses += [(Derivative(v_d[i][j], t), dv_d[i][j])]\n",
    "            subses += [(Derivative(q_d[i][j+1], t), dq_d[i][j+1])]\n",
    "            subses += [(Derivative(ω_d[i][j], t), dω_d[i][j])]\n",
    "        for i in range(n_c):\n",
    "            subses += [(Derivative(r_c[i][j], t), dr_c[i][j])]\n",
    "            subses += [(Derivative(v_c[i][j], t), dv_c[i][j])]\n",
    "            subses += [(Derivative(q_c[i][j+1], t), dq_c[i][j+1])]\n",
    "            subses += [(Derivative(ω_c[i][j], t), dω_c[i][j])]\n",
    "    anw = anw.diff(t).subs(subses)\n",
    "    anw.simplify()\n",
    "    return anw\n",
    "\n",
    "def SubRandParams(J, n_d: int, n_c: int, n_x: int, n_y: int, testprint: bool = False):\n",
    "    \"\"\"Берёт матрицу J размером n_x на n_y, подставляет случайные значения\"\"\"\n",
    "    global r_d, v_d, q_d, ω_d, r_c, v_c, q_c, ω_c\n",
    "    # Генерация случайных параметров движения\n",
    "    s_r = lambda: o.v.spread(param='r', name=\"FemtoSat\")[0]\n",
    "    s_v = lambda: o.v.spread(param='v', name=\"FemtoSat\")[0]\n",
    "    s_w = lambda: o.v.spread(param='w', name=\"FemtoSat\")[0]\n",
    "    rand_params = [(ω, num_params['ω0']), (pi, np.pi), (ρ, num_params['ρ']), (v_orb, num_params['v0']), \n",
    "                   (o.f.c_resist, num_params['Cd']), (o.c.c_resist, num_params['Cc']), \n",
    "                   (o.f.mass, num_params['md']), (o.c.mass, num_params['mc']),\n",
    "                   (o.f.size[0], num_params['sd'][0]), (o.f.size[1], num_params['sd'][1]),\n",
    "                   (o.c.size[0], num_params['sc'][0]), (o.c.size[1], num_params['sc'][1]),\n",
    "                   (o.f.J[0, 0], num_params['Jd'][0, 0]), (o.f.J[1, 1], num_params['Jd'][1, 1]), (o.f.J[2, 2], num_params['Jd'][2, 2])] \n",
    "    for i in range(n_d):\n",
    "        q = np.random.uniform(-1, 1, 4)\n",
    "        for j in range(3):\n",
    "            rand_params.extend([(r_d[i][j], s_r()), (v_d[i][j], s_v()), (ω_d[i][j], s_w()), (q_d[i][j+1], q[j+1] / np.linalg.norm(q))])\n",
    "    for i in range(n_c):\n",
    "        q = np.random.uniform(-1, 1, 4)\n",
    "        for j in range(3):\n",
    "            rand_params.extend([(r_c[i][j], s_r()), (v_c[i][j], s_v()), (ω_c[i][j], s_w()), (q_c[i][j+1], q[j+1] / np.linalg.norm(q))])\n",
    "\n",
    "    # Якобиан матрицы наблюдаемости: J[измерение (H), состояние (X)] \n",
    "    J_numb = np.array([[float(J[i, j].subs(rand_params).subs(t,0)) for j in range(n_x)] for i in range(n_y)])\n",
    "    return J_numb\n",
    "\n",
    "def ShauyingObservabilitySufficientCondition(o, n_d: int, n_c: int, X: list, Y: list, testprint: bool = False, hand_written_deriv: int = None, is_only_xz: bool = False):\n",
    "    \"\"\"Проверка достаточного условия наблюдаемости системы. Проверка равномерного отношения миноров матрицы наблюдаемости.\n",
    "    :param n_d: Количество чипсатов\n",
    "    :param X: Список неизвестных параметров, которые необходимо найти\n",
    "    :param Y: Список известных параметров (измерений системы в t₀=0)\n",
    "    :param my_diff: Функция взятия производной по времени\n",
    "    :param testprint: Флаг вывода экстра-информации\"\"\"\n",
    "    global r_d, v_d, q_d, ω_d, r_c, v_c, q_c, ω_c\n",
    "    def print_and_record(report: str, lcl_txt: str):\n",
    "        print(lcl_txt)\n",
    "        return report + lcl_txt + \"\\n\"\n",
    "    report = kf.my_print(f\"Количество кубсатов: {n_c}\\nКоличество чипсатов: {n_d}\\n\", if_return=True, bold=True)\n",
    "\n",
    "    # Количество одномоментных измерений\n",
    "    l = len(Y)\n",
    "    # Требуемое количество существующих производных функции измерения\n",
    "    k = int(len(X) // len(Y)) if hand_written_deriv is None else hand_written_deriv\n",
    "    txt = f\"\" if hand_written_deriv is None else f\"\\033[1mВнимание! Рассчитывается не отношение миноров, а ранг расширенного Якобиана\\033[0m\\n\"\n",
    "    report = print_and_record(report, txt + f\"Неизвестные: n = {len(X)} (на каждый чипсат по {int(len(X) // n_d)} параметров)\\nИзвестные: l = {l}\\n∃ производные порядка k = {len(X) / len(Y)} (Должна быть целой!)\")\n",
    "\n",
    "    # Матрица наблюдаемости системы\n",
    "    if is_only_xz:\n",
    "        f = Matrix([Matrix([*dr_d[i][::2], *dv_d[i][::2]]) for i in range(len(dr_d))])\n",
    "    else:\n",
    "        f = Matrix([Matrix([*dr_d[i], *dq_d[i][1:4], *dv_d[i], *dω_d[i]]) for i in range(len(dr_d))]) if o.v.NAVIGATION_ANGLES else Matrix([Matrix([*dr_d[i], *dv_d[i]]) for i in range(len(dr_d))])\n",
    "    H1 = Y\n",
    "    H = []\n",
    "    for kk in range(k):\n",
    "        if kk > 0:\n",
    "            dhdx = Matrix([[H1[ll].diff(X[j]) for j in range(len(X))] for ll in range(l)])\n",
    "            dhdx_f = dhdx @ f\n",
    "            dhdx_f.simplify()\n",
    "        for ll in range(l):\n",
    "            if testprint:\n",
    "                print(f\"__расчёт матрицы H_: k={(kk+1)}/{k}, l={(ll+1)}/{l}\")\n",
    "            H1[ll] = Y[ll] if kk == 0 else my_diff(H1[ll], n_c=n_c, n_d=n_d) + dhdx_f[ll]\n",
    "        H.extend(H1)\n",
    "    H = Matrix(H)\n",
    "    report = print_and_record(report, f\"Размерность матрицы H: {shape(H)}\")\n",
    "\n",
    "    # Якобиан матрицы наблюдаемости: J[измерение (H), состояние (X)]\n",
    "    J = Matrix([[H[i].diff(X[j]) for j in range(len(X))] for i in range(k * l)])\n",
    "    report = print_and_record(report, f\"Размерность матрицы J: {shape(J)}\")\n",
    "\n",
    "    # Подстановка конкретных значений\n",
    "    J_numb = SubRandParams(J=J, n_c=n_c, n_d=n_d, n_x=len(X), n_y=k*l, testprint=testprint)\n",
    "    _, v, _ = np.linalg.svd(J_numb.T @ J_numb)\n",
    "    report = print_and_record(report, f\"v = {v}\")\n",
    "    report = print_and_record(report, f\"σₘₙ/σₘₐₓ = {np.min(v)}/{np.max(v)} = {np.min(v) / np.max(v)} | σ>10⁻⁷: {np.sum(v>1e-7)}/{len(v)} (f-051)\")\n",
    "\n",
    "    # Достаточное условие\n",
    "    txt = f\"\\nРанг матрицы: {[np.linalg.matrix_rank(J_numb, tol=tol) for tol in [1e-3, 1e-5, 1e-7, 1e-10, 1e-12, 1e-15]]} (f-055)\\n\"\n",
    "    txt += f\"Детерминант матрицы: {np.linalg.det(J_numb)}\\n\" if J_numb.shape[0] == J_numb.shape[1] else \"\"\n",
    "    if hand_written_deriv is None:\n",
    "        report = print_and_record(report, txt + f\"Следующие параметры не должны быть нулевыми:\\n\")\n",
    "        d, Δ, flag, i_min = [], [], True, -1\n",
    "        for i in range(len(X)):\n",
    "            tmp = kf.principal_minor(J_numb, i)\n",
    "            d += [tmp if i == 0 else tmp / Δ[-1]]\n",
    "            Δ += [tmp]\n",
    "            report = print_and_record(report, f\"Δ_{i} = {d[-1]}\" if i == 0 else f\"Δ_{i} / Δ_{i-1} = {d[-1]}\")\n",
    "        \n",
    "            # Чек наблюдаемости\n",
    "            if flag and abs(d[-1]) < 1e-10:\n",
    "                i_min = i\n",
    "                flag = False\n",
    "            if not flag:\n",
    "                break\n",
    "    \n",
    "        # Вывод\n",
    "        if flag:\n",
    "            txt = f\"\\n\\033[1mВыполнено достаточное условие! Система наблюдаема\\033[0m\"\n",
    "        else:\n",
    "            in_txt = f\"Δ_{i_min}\" if i_min == 0 else f\"Δ_{i_min} / Δ_{i_min-1}\"\n",
    "            txt = f\"\\n\\033[1mНе выполнено достаточное условие. Нулевой параметр: {in_txt} = {d[i_min]}\\033[0m\"\n",
    "        report = print_and_record(report, txt)\n",
    "        return H, J, J_numb, Δ, report\n",
    "    report = print_and_record(report, txt)\n",
    "    return H, J, J_numb, None, report\n",
    "    \n",
    "\n",
    "def observe_system(n_c, n_d, is_d_qw, gains, is_drag, is_only_xz, testprint, hand_written_deriv, disp: bool = True, Hcheck: bool = True):\n",
    "    global r_d, v_d, q_d, ω_d, r_c, v_c, q_c, ω_c, t\n",
    "    global dr_d, dv_d, dq_d, dω_d, dr_c, dv_c, dq_c, dω_c, dydq\n",
    "    r_d, v_d, q_d, ω_d = get_state_vector(func=kf.get_func, obj='d', n=n_d)\n",
    "    r_c, v_c, q_c, ω_c = get_state_vector(func=kf.get_func, obj='c', n=n_c)\n",
    "\n",
    "    o.c.n = n_c\n",
    "    o.f.n = n_d\n",
    "    o.f.r_orf, o.f.v_orf, o.f.q, o.f.w_brf = r_d, v_d, q_d, ω_d\n",
    "    o.c.r_orf, o.c.v_orf, o.c.q, o.c.w_brf = r_c, v_c, q_c, ω_c\n",
    "\n",
    "    x = []\n",
    "    for i in range(n_d):\n",
    "        x.extend(r_d[i])\n",
    "        if is_d_qw:\n",
    "            x.extend(q_d[i][1:4])\n",
    "        x.extend(v_d[i])\n",
    "        if is_d_qw:\n",
    "            x.extend(ω_d[i])\n",
    "    x = Matrix(x)\n",
    "    \n",
    "    kf.my_print(f\"Вектор состояния:\", bold=True)\n",
    "    display(x.T)\n",
    "\n",
    "    o.v.GAIN_MODEL_C_N = gains['cN']\n",
    "    o.v.GAIN_MODEL_F_N = gains['dN']\n",
    "    o.v.init_choice_params()\n",
    "    o.c.gain_mode = o.v.GAIN_MODEL_C = gains['cModel']\n",
    "    o.f.gain_mode = o.v.GAIN_MODEL_F = gains['dModel']\n",
    "    o.v.NAVIGATION_ANGLES = is_d_qw\n",
    "    o.v.DYNAMIC_MODEL['aero drag'] = is_drag\n",
    "    o.v.MULTI_ANTENNA_TAKE = True\n",
    "    o.v.MULTI_ANTENNA_SEND = True\n",
    "    \n",
    "    y, dydq, notes = kf.measure_antennas_power(c=o.c, f=o.f, v=o.v, p=o.p, j=int(len(x) // n_d), estimated_params=x, t=t)\n",
    "    if disp:\n",
    "        kf.my_print(f\"Вектор измерений:\", bold=True)\n",
    "        display(y)\n",
    "\n",
    "    # >>>>>>>>>>>>>>>>> Проверка матрицы H <<<<<<<<<<<<<<<<<\n",
    "    if Hcheck:\n",
    "        H_1 = kf.h_matrix(t=t, v=o.v, f=o.f, c=o.c, r_f=r_d, r_c=r_c, \n",
    "                          q_f=[Matrix(q_d[i][1:4]) for i in range(o.f.n)], q_c=[Matrix(q_c[i][1:4]) for i in range(o.c.n)])\n",
    "        H_2 = zeros(*H_1.shape)\n",
    "        for ix, xx in enumerate(x):\n",
    "            for iy, yy in enumerate(y):\n",
    "                H_2[iy, ix] = yy.diff(xx)\n",
    "        kf.my_print(\"Проверка матрицы H:\", bold=True)\n",
    "        tmp = H_1 - H_2\n",
    "        tmp.simplify()\n",
    "        display(tmp)\n",
    "\n",
    "    if is_only_xz:\n",
    "        tmp = []\n",
    "        for i in range(n_d):\n",
    "            tmp.extend([r_d[i][0], r_d[i][2], v_d[i][0], v_d[i][2]])\n",
    "        x = Matrix(tmp)\n",
    "        kf.my_print(f\"Вектор состояния (изменённый):\", bold=True)\n",
    "        display(x.T)\n",
    "    \n",
    "    dr_d, dv_d, dq_d, dω_d = ([0 for _ in range(n_d)] for _ in range(4))\n",
    "    dr_c, dv_c, dq_c, dω_c = ([0 for _ in range(n_c)] for _ in range(4))\n",
    "    for i in range(n_d):\n",
    "        dr_d[i], dv_d[i] = kf.translate_rhs(vrs=o.v, obj=o.f, i=i, rv=(r_d[i], v_d[i]), w=ω, mu=μ, rho=ρ)\n",
    "        dq_d[i], dω_d[i] = kf.attitude_rhs(v=o.v, obj=o.f, t=t, i=i, qw=(q_d[i], ω_d[i]))\n",
    "    for i in range(n_c):\n",
    "        dr_c[i], dv_c[i] = kf.translate_rhs(vrs=o.v, obj=o.c, i=i, rv=(r_c[i], v_c[i]), w=ω, mu=μ, rho=ρ)\n",
    "        dq_c[i], dω_c[i] = kf.attitude_rhs(v=o.v, obj=o.c, t=t, i=i, qw=(q_c[i], ω_c[i]))\n",
    "    if disp:\n",
    "        kf.my_print(f\"Динамика: \\n{' '*10}dr = \", bold=True)\n",
    "        display(dr_d[0])\n",
    "        kf.my_print(f\"{' '*10}dv = \", bold=True)\n",
    "        display(dv_d[0])\n",
    "        kf.my_print(f\"{' '*10}dq = \", bold=True)\n",
    "        display(dq_d[0])\n",
    "        kf.my_print(f\"{' '*10}dω = \", bold=True)\n",
    "    \n",
    "    return ShauyingObservabilitySufficientCondition(o=o, testprint=True, n_c=n_c, n_d=n_d, X=x, Y=y, hand_written_deriv=hand_written_deriv, is_only_xz=is_only_xz)"
   ]
  },
  {
   "cell_type": "markdown",
   "id": "10757555-65e9-468d-a03b-616e48dda241",
   "metadata": {
    "jp-MarkdownHeadingCollapsed": true
   },
   "source": [
    "###### <u>Наблюдаемость системы</u> без аэродинамики и углового движения, антенны изотропные"
   ]
  },
  {
   "cell_type": "code",
   "execution_count": null,
   "id": "5a5ba4c9-75a3-461d-947c-0aef6020558b",
   "metadata": {
    "scrolled": true
   },
   "outputs": [],
   "source": [
    "H, J, Jn, Δ, report = observe_system(n_c=1, \n",
    "                                     n_d=2, \n",
    "                                     is_d_qw=False, \n",
    "                                     is_drag=False, \n",
    "                                     is_only_xz=False, \n",
    "                                     gains={'cN': 0, 'cModel': 'isotropic', 'dN': 0, 'dModel': 'isotropic'},\n",
    "                                     hand_written_deriv=None, testprint=True, disp=True, Hcheck=True)"
   ]
  },
  {
   "cell_type": "code",
   "execution_count": 3,
   "id": "84aed378-4ce2-4f30-9282-2d281aba99ab",
   "metadata": {
    "scrolled": true
   },
   "outputs": [
    {
     "name": "stdout",
     "output_type": "stream",
     "text": [
      "\u001b[0m\u001b[1mВектор состояния:\u001b[0m\u001b[0m\n"
     ]
    },
    {
     "data": {
      "text/latex": [
       "$\\displaystyle \\left[\\begin{array}{cccccccccccccccccccccccccccccc}r^{d}_{0 x}{\\left(t \\right)} & r^{d}_{0 y}{\\left(t \\right)} & r^{d}_{0 z}{\\left(t \\right)} & v^{d}_{0 x}{\\left(t \\right)} & v^{d}_{0 y}{\\left(t \\right)} & v^{d}_{0 z}{\\left(t \\right)} & r^{d}_{1 x}{\\left(t \\right)} & r^{d}_{1 y}{\\left(t \\right)} & r^{d}_{1 z}{\\left(t \\right)} & v^{d}_{1 x}{\\left(t \\right)} & v^{d}_{1 y}{\\left(t \\right)} & v^{d}_{1 z}{\\left(t \\right)} & r^{d}_{2 x}{\\left(t \\right)} & r^{d}_{2 y}{\\left(t \\right)} & r^{d}_{2 z}{\\left(t \\right)} & v^{d}_{2 x}{\\left(t \\right)} & v^{d}_{2 y}{\\left(t \\right)} & v^{d}_{2 z}{\\left(t \\right)} & r^{d}_{3 x}{\\left(t \\right)} & r^{d}_{3 y}{\\left(t \\right)} & r^{d}_{3 z}{\\left(t \\right)} & v^{d}_{3 x}{\\left(t \\right)} & v^{d}_{3 y}{\\left(t \\right)} & v^{d}_{3 z}{\\left(t \\right)} & r^{d}_{4 x}{\\left(t \\right)} & r^{d}_{4 y}{\\left(t \\right)} & r^{d}_{4 z}{\\left(t \\right)} & v^{d}_{4 x}{\\left(t \\right)} & v^{d}_{4 y}{\\left(t \\right)} & v^{d}_{4 z}{\\left(t \\right)}\\end{array}\\right]$"
      ],
      "text/plain": [
       "Matrix([[r_0^d_x(t), r_0^d_y(t), r_0^d_z(t), v_0^d_x(t), v_0^d_y(t), v_0^d_z(t), r_1^d_x(t), r_1^d_y(t), r_1^d_z(t), v_1^d_x(t), v_1^d_y(t), v_1^d_z(t), r_2^d_x(t), r_2^d_y(t), r_2^d_z(t), v_2^d_x(t), v_2^d_y(t), v_2^d_z(t), r_3^d_x(t), r_3^d_y(t), r_3^d_z(t), v_3^d_x(t), v_3^d_y(t), v_3^d_z(t), r_4^d_x(t), r_4^d_y(t), r_4^d_z(t), v_4^d_x(t), v_4^d_y(t), v_4^d_z(t)]])"
      ]
     },
     "metadata": {},
     "output_type": "display_data"
    },
    {
     "name": "stdout",
     "output_type": "stream",
     "text": [
      "\u001b[0m\u001b[1mВектор измерений:\u001b[0m\u001b[0m\n"
     ]
    },
    {
     "data": {
      "text/latex": [
       "$\\displaystyle \\left[\\begin{matrix}\\frac{1}{\\left(r^{c}_{0 x}{\\left(t \\right)} - r^{d}_{0 x}{\\left(t \\right)}\\right)^{2} + \\left(r^{c}_{0 y}{\\left(t \\right)} - r^{d}_{0 y}{\\left(t \\right)}\\right)^{2} + \\left(r^{c}_{0 z}{\\left(t \\right)} - r^{d}_{0 z}{\\left(t \\right)}\\right)^{2}}\\\\\\frac{1}{\\left(r^{c}_{0 x}{\\left(t \\right)} - r^{d}_{1 x}{\\left(t \\right)}\\right)^{2} + \\left(r^{c}_{0 y}{\\left(t \\right)} - r^{d}_{1 y}{\\left(t \\right)}\\right)^{2} + \\left(r^{c}_{0 z}{\\left(t \\right)} - r^{d}_{1 z}{\\left(t \\right)}\\right)^{2}}\\\\\\frac{1}{\\left(r^{c}_{0 x}{\\left(t \\right)} - r^{d}_{2 x}{\\left(t \\right)}\\right)^{2} + \\left(r^{c}_{0 y}{\\left(t \\right)} - r^{d}_{2 y}{\\left(t \\right)}\\right)^{2} + \\left(r^{c}_{0 z}{\\left(t \\right)} - r^{d}_{2 z}{\\left(t \\right)}\\right)^{2}}\\\\\\frac{1}{\\left(r^{c}_{0 x}{\\left(t \\right)} - r^{d}_{3 x}{\\left(t \\right)}\\right)^{2} + \\left(r^{c}_{0 y}{\\left(t \\right)} - r^{d}_{3 y}{\\left(t \\right)}\\right)^{2} + \\left(r^{c}_{0 z}{\\left(t \\right)} - r^{d}_{3 z}{\\left(t \\right)}\\right)^{2}}\\\\\\frac{1}{\\left(r^{c}_{0 x}{\\left(t \\right)} - r^{d}_{4 x}{\\left(t \\right)}\\right)^{2} + \\left(r^{c}_{0 y}{\\left(t \\right)} - r^{d}_{4 y}{\\left(t \\right)}\\right)^{2} + \\left(r^{c}_{0 z}{\\left(t \\right)} - r^{d}_{4 z}{\\left(t \\right)}\\right)^{2}}\\\\\\frac{1}{\\left(- r^{d}_{0 x}{\\left(t \\right)} + r^{d}_{1 x}{\\left(t \\right)}\\right)^{2} + \\left(- r^{d}_{0 y}{\\left(t \\right)} + r^{d}_{1 y}{\\left(t \\right)}\\right)^{2} + \\left(- r^{d}_{0 z}{\\left(t \\right)} + r^{d}_{1 z}{\\left(t \\right)}\\right)^{2}}\\\\\\frac{1}{\\left(- r^{d}_{0 x}{\\left(t \\right)} + r^{d}_{2 x}{\\left(t \\right)}\\right)^{2} + \\left(- r^{d}_{0 y}{\\left(t \\right)} + r^{d}_{2 y}{\\left(t \\right)}\\right)^{2} + \\left(- r^{d}_{0 z}{\\left(t \\right)} + r^{d}_{2 z}{\\left(t \\right)}\\right)^{2}}\\\\\\frac{1}{\\left(- r^{d}_{1 x}{\\left(t \\right)} + r^{d}_{2 x}{\\left(t \\right)}\\right)^{2} + \\left(- r^{d}_{1 y}{\\left(t \\right)} + r^{d}_{2 y}{\\left(t \\right)}\\right)^{2} + \\left(- r^{d}_{1 z}{\\left(t \\right)} + r^{d}_{2 z}{\\left(t \\right)}\\right)^{2}}\\\\\\frac{1}{\\left(- r^{d}_{0 x}{\\left(t \\right)} + r^{d}_{3 x}{\\left(t \\right)}\\right)^{2} + \\left(- r^{d}_{0 y}{\\left(t \\right)} + r^{d}_{3 y}{\\left(t \\right)}\\right)^{2} + \\left(- r^{d}_{0 z}{\\left(t \\right)} + r^{d}_{3 z}{\\left(t \\right)}\\right)^{2}}\\\\\\frac{1}{\\left(- r^{d}_{1 x}{\\left(t \\right)} + r^{d}_{3 x}{\\left(t \\right)}\\right)^{2} + \\left(- r^{d}_{1 y}{\\left(t \\right)} + r^{d}_{3 y}{\\left(t \\right)}\\right)^{2} + \\left(- r^{d}_{1 z}{\\left(t \\right)} + r^{d}_{3 z}{\\left(t \\right)}\\right)^{2}}\\\\\\frac{1}{\\left(- r^{d}_{2 x}{\\left(t \\right)} + r^{d}_{3 x}{\\left(t \\right)}\\right)^{2} + \\left(- r^{d}_{2 y}{\\left(t \\right)} + r^{d}_{3 y}{\\left(t \\right)}\\right)^{2} + \\left(- r^{d}_{2 z}{\\left(t \\right)} + r^{d}_{3 z}{\\left(t \\right)}\\right)^{2}}\\\\\\frac{1}{\\left(- r^{d}_{0 x}{\\left(t \\right)} + r^{d}_{4 x}{\\left(t \\right)}\\right)^{2} + \\left(- r^{d}_{0 y}{\\left(t \\right)} + r^{d}_{4 y}{\\left(t \\right)}\\right)^{2} + \\left(- r^{d}_{0 z}{\\left(t \\right)} + r^{d}_{4 z}{\\left(t \\right)}\\right)^{2}}\\\\\\frac{1}{\\left(- r^{d}_{1 x}{\\left(t \\right)} + r^{d}_{4 x}{\\left(t \\right)}\\right)^{2} + \\left(- r^{d}_{1 y}{\\left(t \\right)} + r^{d}_{4 y}{\\left(t \\right)}\\right)^{2} + \\left(- r^{d}_{1 z}{\\left(t \\right)} + r^{d}_{4 z}{\\left(t \\right)}\\right)^{2}}\\\\\\frac{1}{\\left(- r^{d}_{2 x}{\\left(t \\right)} + r^{d}_{4 x}{\\left(t \\right)}\\right)^{2} + \\left(- r^{d}_{2 y}{\\left(t \\right)} + r^{d}_{4 y}{\\left(t \\right)}\\right)^{2} + \\left(- r^{d}_{2 z}{\\left(t \\right)} + r^{d}_{4 z}{\\left(t \\right)}\\right)^{2}}\\\\\\frac{1}{\\left(- r^{d}_{3 x}{\\left(t \\right)} + r^{d}_{4 x}{\\left(t \\right)}\\right)^{2} + \\left(- r^{d}_{3 y}{\\left(t \\right)} + r^{d}_{4 y}{\\left(t \\right)}\\right)^{2} + \\left(- r^{d}_{3 z}{\\left(t \\right)} + r^{d}_{4 z}{\\left(t \\right)}\\right)^{2}}\\end{matrix}\\right]$"
      ],
      "text/plain": [
       "Matrix([\n",
       "[   1/((r_0^c_x(t) - r_0^d_x(t))**2 + (r_0^c_y(t) - r_0^d_y(t))**2 + (r_0^c_z(t) - r_0^d_z(t))**2)],\n",
       "[   1/((r_0^c_x(t) - r_1^d_x(t))**2 + (r_0^c_y(t) - r_1^d_y(t))**2 + (r_0^c_z(t) - r_1^d_z(t))**2)],\n",
       "[   1/((r_0^c_x(t) - r_2^d_x(t))**2 + (r_0^c_y(t) - r_2^d_y(t))**2 + (r_0^c_z(t) - r_2^d_z(t))**2)],\n",
       "[   1/((r_0^c_x(t) - r_3^d_x(t))**2 + (r_0^c_y(t) - r_3^d_y(t))**2 + (r_0^c_z(t) - r_3^d_z(t))**2)],\n",
       "[   1/((r_0^c_x(t) - r_4^d_x(t))**2 + (r_0^c_y(t) - r_4^d_y(t))**2 + (r_0^c_z(t) - r_4^d_z(t))**2)],\n",
       "[1/((-r_0^d_x(t) + r_1^d_x(t))**2 + (-r_0^d_y(t) + r_1^d_y(t))**2 + (-r_0^d_z(t) + r_1^d_z(t))**2)],\n",
       "[1/((-r_0^d_x(t) + r_2^d_x(t))**2 + (-r_0^d_y(t) + r_2^d_y(t))**2 + (-r_0^d_z(t) + r_2^d_z(t))**2)],\n",
       "[1/((-r_1^d_x(t) + r_2^d_x(t))**2 + (-r_1^d_y(t) + r_2^d_y(t))**2 + (-r_1^d_z(t) + r_2^d_z(t))**2)],\n",
       "[1/((-r_0^d_x(t) + r_3^d_x(t))**2 + (-r_0^d_y(t) + r_3^d_y(t))**2 + (-r_0^d_z(t) + r_3^d_z(t))**2)],\n",
       "[1/((-r_1^d_x(t) + r_3^d_x(t))**2 + (-r_1^d_y(t) + r_3^d_y(t))**2 + (-r_1^d_z(t) + r_3^d_z(t))**2)],\n",
       "[1/((-r_2^d_x(t) + r_3^d_x(t))**2 + (-r_2^d_y(t) + r_3^d_y(t))**2 + (-r_2^d_z(t) + r_3^d_z(t))**2)],\n",
       "[1/((-r_0^d_x(t) + r_4^d_x(t))**2 + (-r_0^d_y(t) + r_4^d_y(t))**2 + (-r_0^d_z(t) + r_4^d_z(t))**2)],\n",
       "[1/((-r_1^d_x(t) + r_4^d_x(t))**2 + (-r_1^d_y(t) + r_4^d_y(t))**2 + (-r_1^d_z(t) + r_4^d_z(t))**2)],\n",
       "[1/((-r_2^d_x(t) + r_4^d_x(t))**2 + (-r_2^d_y(t) + r_4^d_y(t))**2 + (-r_2^d_z(t) + r_4^d_z(t))**2)],\n",
       "[1/((-r_3^d_x(t) + r_4^d_x(t))**2 + (-r_3^d_y(t) + r_4^d_y(t))**2 + (-r_3^d_z(t) + r_4^d_z(t))**2)]])"
      ]
     },
     "metadata": {},
     "output_type": "display_data"
    },
    {
     "name": "stdout",
     "output_type": "stream",
     "text": [
      "\u001b[0m\u001b[1mПроверка матрицы H:\u001b[0m\u001b[0m\n"
     ]
    },
    {
     "data": {
      "text/latex": [
       "$\\displaystyle \\left[\\begin{array}{cccccccccccccccccccccccccccccc}0 & 0 & 0 & 0 & 0 & 0 & 0 & 0 & 0 & 0 & 0 & 0 & 0 & 0 & 0 & 0 & 0 & 0 & 0 & 0 & 0 & 0 & 0 & 0 & 0 & 0 & 0 & 0 & 0 & 0\\\\0 & 0 & 0 & 0 & 0 & 0 & 0 & 0 & 0 & 0 & 0 & 0 & 0 & 0 & 0 & 0 & 0 & 0 & 0 & 0 & 0 & 0 & 0 & 0 & 0 & 0 & 0 & 0 & 0 & 0\\\\0 & 0 & 0 & 0 & 0 & 0 & 0 & 0 & 0 & 0 & 0 & 0 & 0 & 0 & 0 & 0 & 0 & 0 & 0 & 0 & 0 & 0 & 0 & 0 & 0 & 0 & 0 & 0 & 0 & 0\\\\0 & 0 & 0 & 0 & 0 & 0 & 0 & 0 & 0 & 0 & 0 & 0 & 0 & 0 & 0 & 0 & 0 & 0 & 0 & 0 & 0 & 0 & 0 & 0 & 0 & 0 & 0 & 0 & 0 & 0\\\\0 & 0 & 0 & 0 & 0 & 0 & 0 & 0 & 0 & 0 & 0 & 0 & 0 & 0 & 0 & 0 & 0 & 0 & 0 & 0 & 0 & 0 & 0 & 0 & 0 & 0 & 0 & 0 & 0 & 0\\\\0 & 0 & 0 & 0 & 0 & 0 & 0 & 0 & 0 & 0 & 0 & 0 & 0 & 0 & 0 & 0 & 0 & 0 & 0 & 0 & 0 & 0 & 0 & 0 & 0 & 0 & 0 & 0 & 0 & 0\\\\0 & 0 & 0 & 0 & 0 & 0 & 0 & 0 & 0 & 0 & 0 & 0 & 0 & 0 & 0 & 0 & 0 & 0 & 0 & 0 & 0 & 0 & 0 & 0 & 0 & 0 & 0 & 0 & 0 & 0\\\\0 & 0 & 0 & 0 & 0 & 0 & 0 & 0 & 0 & 0 & 0 & 0 & 0 & 0 & 0 & 0 & 0 & 0 & 0 & 0 & 0 & 0 & 0 & 0 & 0 & 0 & 0 & 0 & 0 & 0\\\\0 & 0 & 0 & 0 & 0 & 0 & 0 & 0 & 0 & 0 & 0 & 0 & 0 & 0 & 0 & 0 & 0 & 0 & 0 & 0 & 0 & 0 & 0 & 0 & 0 & 0 & 0 & 0 & 0 & 0\\\\0 & 0 & 0 & 0 & 0 & 0 & 0 & 0 & 0 & 0 & 0 & 0 & 0 & 0 & 0 & 0 & 0 & 0 & 0 & 0 & 0 & 0 & 0 & 0 & 0 & 0 & 0 & 0 & 0 & 0\\\\0 & 0 & 0 & 0 & 0 & 0 & 0 & 0 & 0 & 0 & 0 & 0 & 0 & 0 & 0 & 0 & 0 & 0 & 0 & 0 & 0 & 0 & 0 & 0 & 0 & 0 & 0 & 0 & 0 & 0\\\\0 & 0 & 0 & 0 & 0 & 0 & 0 & 0 & 0 & 0 & 0 & 0 & 0 & 0 & 0 & 0 & 0 & 0 & 0 & 0 & 0 & 0 & 0 & 0 & 0 & 0 & 0 & 0 & 0 & 0\\\\0 & 0 & 0 & 0 & 0 & 0 & 0 & 0 & 0 & 0 & 0 & 0 & 0 & 0 & 0 & 0 & 0 & 0 & 0 & 0 & 0 & 0 & 0 & 0 & 0 & 0 & 0 & 0 & 0 & 0\\\\0 & 0 & 0 & 0 & 0 & 0 & 0 & 0 & 0 & 0 & 0 & 0 & 0 & 0 & 0 & 0 & 0 & 0 & 0 & 0 & 0 & 0 & 0 & 0 & 0 & 0 & 0 & 0 & 0 & 0\\\\0 & 0 & 0 & 0 & 0 & 0 & 0 & 0 & 0 & 0 & 0 & 0 & 0 & 0 & 0 & 0 & 0 & 0 & 0 & 0 & 0 & 0 & 0 & 0 & 0 & 0 & 0 & 0 & 0 & 0\\end{array}\\right]$"
      ],
      "text/plain": [
       "Matrix([\n",
       "[0, 0, 0, 0, 0, 0, 0, 0, 0, 0, 0, 0, 0, 0, 0, 0, 0, 0, 0, 0, 0, 0, 0, 0, 0, 0, 0, 0, 0, 0],\n",
       "[0, 0, 0, 0, 0, 0, 0, 0, 0, 0, 0, 0, 0, 0, 0, 0, 0, 0, 0, 0, 0, 0, 0, 0, 0, 0, 0, 0, 0, 0],\n",
       "[0, 0, 0, 0, 0, 0, 0, 0, 0, 0, 0, 0, 0, 0, 0, 0, 0, 0, 0, 0, 0, 0, 0, 0, 0, 0, 0, 0, 0, 0],\n",
       "[0, 0, 0, 0, 0, 0, 0, 0, 0, 0, 0, 0, 0, 0, 0, 0, 0, 0, 0, 0, 0, 0, 0, 0, 0, 0, 0, 0, 0, 0],\n",
       "[0, 0, 0, 0, 0, 0, 0, 0, 0, 0, 0, 0, 0, 0, 0, 0, 0, 0, 0, 0, 0, 0, 0, 0, 0, 0, 0, 0, 0, 0],\n",
       "[0, 0, 0, 0, 0, 0, 0, 0, 0, 0, 0, 0, 0, 0, 0, 0, 0, 0, 0, 0, 0, 0, 0, 0, 0, 0, 0, 0, 0, 0],\n",
       "[0, 0, 0, 0, 0, 0, 0, 0, 0, 0, 0, 0, 0, 0, 0, 0, 0, 0, 0, 0, 0, 0, 0, 0, 0, 0, 0, 0, 0, 0],\n",
       "[0, 0, 0, 0, 0, 0, 0, 0, 0, 0, 0, 0, 0, 0, 0, 0, 0, 0, 0, 0, 0, 0, 0, 0, 0, 0, 0, 0, 0, 0],\n",
       "[0, 0, 0, 0, 0, 0, 0, 0, 0, 0, 0, 0, 0, 0, 0, 0, 0, 0, 0, 0, 0, 0, 0, 0, 0, 0, 0, 0, 0, 0],\n",
       "[0, 0, 0, 0, 0, 0, 0, 0, 0, 0, 0, 0, 0, 0, 0, 0, 0, 0, 0, 0, 0, 0, 0, 0, 0, 0, 0, 0, 0, 0],\n",
       "[0, 0, 0, 0, 0, 0, 0, 0, 0, 0, 0, 0, 0, 0, 0, 0, 0, 0, 0, 0, 0, 0, 0, 0, 0, 0, 0, 0, 0, 0],\n",
       "[0, 0, 0, 0, 0, 0, 0, 0, 0, 0, 0, 0, 0, 0, 0, 0, 0, 0, 0, 0, 0, 0, 0, 0, 0, 0, 0, 0, 0, 0],\n",
       "[0, 0, 0, 0, 0, 0, 0, 0, 0, 0, 0, 0, 0, 0, 0, 0, 0, 0, 0, 0, 0, 0, 0, 0, 0, 0, 0, 0, 0, 0],\n",
       "[0, 0, 0, 0, 0, 0, 0, 0, 0, 0, 0, 0, 0, 0, 0, 0, 0, 0, 0, 0, 0, 0, 0, 0, 0, 0, 0, 0, 0, 0],\n",
       "[0, 0, 0, 0, 0, 0, 0, 0, 0, 0, 0, 0, 0, 0, 0, 0, 0, 0, 0, 0, 0, 0, 0, 0, 0, 0, 0, 0, 0, 0]])"
      ]
     },
     "metadata": {},
     "output_type": "display_data"
    },
    {
     "name": "stdout",
     "output_type": "stream",
     "text": [
      "\u001b[0m\u001b[1mДинамика: \n",
      "          dr = \u001b[0m\u001b[0m\n"
     ]
    },
    {
     "data": {
      "text/latex": [
       "$\\displaystyle \\left[\\begin{matrix}v^{d}_{0 x}{\\left(t \\right)}\\\\v^{d}_{0 y}{\\left(t \\right)}\\\\v^{d}_{0 z}{\\left(t \\right)}\\end{matrix}\\right]$"
      ],
      "text/plain": [
       "Matrix([\n",
       "[v_0^d_x(t)],\n",
       "[v_0^d_y(t)],\n",
       "[v_0^d_z(t)]])"
      ]
     },
     "metadata": {},
     "output_type": "display_data"
    },
    {
     "name": "stdout",
     "output_type": "stream",
     "text": [
      "\u001b[0m\u001b[1m          dv = \u001b[0m\u001b[0m\n"
     ]
    },
    {
     "data": {
      "text/latex": [
       "$\\displaystyle \\left[\\begin{matrix}- 2 w_{0} v^{d}_{0 z}{\\left(t \\right)}\\\\- w_{0}^{2} r^{d}_{0 y}{\\left(t \\right)}\\\\3 w_{0}^{2} r^{d}_{0 z}{\\left(t \\right)} + 2 w_{0} v^{d}_{0 x}{\\left(t \\right)}\\end{matrix}\\right]$"
      ],
      "text/plain": [
       "Matrix([\n",
       "[                     -2*w_0*v_0^d_z(t)],\n",
       "[                    -w_0**2*r_0^d_y(t)],\n",
       "[3*w_0**2*r_0^d_z(t) + 2*w_0*v_0^d_x(t)]])"
      ]
     },
     "metadata": {},
     "output_type": "display_data"
    },
    {
     "name": "stdout",
     "output_type": "stream",
     "text": [
      "\u001b[0m\u001b[1m          dq = \u001b[0m\u001b[0m\n"
     ]
    },
    {
     "data": {
      "text/latex": [
       "$\\displaystyle \\left[\\begin{matrix}- 0.5 q^{d}_{0 x}{\\left(t \\right)} ω^{d}_{0 x}{\\left(t \\right)} - 0.5 q^{d}_{0 y}{\\left(t \\right)} ω^{d}_{0 y}{\\left(t \\right)} - 0.5 q^{d}_{0 z}{\\left(t \\right)} ω^{d}_{0 z}{\\left(t \\right)}\\\\0.5 \\sqrt{- \\left(q^{d}_{0 x}\\right)^{2}{\\left(t \\right)} - \\left(q^{d}_{0 y}\\right)^{2}{\\left(t \\right)} - \\left(q^{d}_{0 z}\\right)^{2}{\\left(t \\right)} + 1} ω^{d}_{0 x}{\\left(t \\right)} - 0.5 q^{d}_{0 y}{\\left(t \\right)} ω^{d}_{0 z}{\\left(t \\right)} + 0.5 q^{d}_{0 z}{\\left(t \\right)} ω^{d}_{0 y}{\\left(t \\right)}\\\\0.5 \\sqrt{- \\left(q^{d}_{0 x}\\right)^{2}{\\left(t \\right)} - \\left(q^{d}_{0 y}\\right)^{2}{\\left(t \\right)} - \\left(q^{d}_{0 z}\\right)^{2}{\\left(t \\right)} + 1} ω^{d}_{0 y}{\\left(t \\right)} + 0.5 q^{d}_{0 x}{\\left(t \\right)} ω^{d}_{0 z}{\\left(t \\right)} - 0.5 q^{d}_{0 z}{\\left(t \\right)} ω^{d}_{0 x}{\\left(t \\right)}\\\\0.5 \\sqrt{- \\left(q^{d}_{0 x}\\right)^{2}{\\left(t \\right)} - \\left(q^{d}_{0 y}\\right)^{2}{\\left(t \\right)} - \\left(q^{d}_{0 z}\\right)^{2}{\\left(t \\right)} + 1} ω^{d}_{0 z}{\\left(t \\right)} - 0.5 q^{d}_{0 x}{\\left(t \\right)} ω^{d}_{0 y}{\\left(t \\right)} + 0.5 q^{d}_{0 y}{\\left(t \\right)} ω^{d}_{0 x}{\\left(t \\right)}\\end{matrix}\\right]$"
      ],
      "text/plain": [
       "Matrix([\n",
       "[                                             -0.5*q_0^d_x(t)*ω_0^d_x(t) - 0.5*q_0^d_y(t)*ω_0^d_y(t) - 0.5*q_0^d_z(t)*ω_0^d_z(t)],\n",
       "[0.5*sqrt(-q_0^d_x(t)**2 - q_0^d_y(t)**2 - q_0^d_z(t)**2 + 1)*ω_0^d_x(t) - 0.5*q_0^d_y(t)*ω_0^d_z(t) + 0.5*q_0^d_z(t)*ω_0^d_y(t)],\n",
       "[0.5*sqrt(-q_0^d_x(t)**2 - q_0^d_y(t)**2 - q_0^d_z(t)**2 + 1)*ω_0^d_y(t) + 0.5*q_0^d_x(t)*ω_0^d_z(t) - 0.5*q_0^d_z(t)*ω_0^d_x(t)],\n",
       "[0.5*sqrt(-q_0^d_x(t)**2 - q_0^d_y(t)**2 - q_0^d_z(t)**2 + 1)*ω_0^d_z(t) - 0.5*q_0^d_x(t)*ω_0^d_y(t) + 0.5*q_0^d_y(t)*ω_0^d_x(t)]])"
      ]
     },
     "metadata": {},
     "output_type": "display_data"
    },
    {
     "name": "stdout",
     "output_type": "stream",
     "text": [
      "\u001b[0m\u001b[1m          dω = \u001b[0m\u001b[0m\n",
      "\u001b[0m\u001b[1mКоличество кубсатов: 1\n",
      "Количество чипсатов: 5\n",
      "\u001b[0m\u001b[0m\n",
      "Неизвестные: n = 30 (на каждый чипсат по 6 параметров)\n",
      "Известные: l = 15\n",
      "∃ производные порядка k = 2.0 (Должна быть целой!)\n",
      "Критерий (055): происзводные порядка 33.0\n",
      "a: None\n",
      "a: None\n",
      "_расчёт матрицы H_: k=1/2, l=1/15\n",
      "_расчёт матрицы H_: k=1/2, l=2/15\n",
      "_расчёт матрицы H_: k=1/2, l=3/15\n",
      "_расчёт матрицы H_: k=1/2, l=4/15\n",
      "_расчёт матрицы H_: k=1/2, l=5/15\n",
      "_расчёт матрицы H_: k=1/2, l=6/15\n",
      "_расчёт матрицы H_: k=1/2, l=7/15\n",
      "_расчёт матрицы H_: k=1/2, l=8/15\n",
      "_расчёт матрицы H_: k=1/2, l=9/15\n",
      "_расчёт матрицы H_: k=1/2, l=10/15\n",
      "_расчёт матрицы H_: k=1/2, l=11/15\n",
      "_расчёт матрицы H_: k=1/2, l=12/15\n",
      "_расчёт матрицы H_: k=1/2, l=13/15\n",
      "_расчёт матрицы H_: k=1/2, l=14/15\n",
      "_расчёт матрицы H_: k=1/2, l=15/15\n",
      "a: None\n",
      "a: None\n",
      "_расчёт матрицы H_: k=2/2, l=1/15\n",
      "_расчёт матрицы H_: k=2/2, l=2/15\n",
      "_расчёт матрицы H_: k=2/2, l=3/15\n",
      "_расчёт матрицы H_: k=2/2, l=4/15\n",
      "_расчёт матрицы H_: k=2/2, l=5/15\n",
      "_расчёт матрицы H_: k=2/2, l=6/15\n",
      "_расчёт матрицы H_: k=2/2, l=7/15\n",
      "_расчёт матрицы H_: k=2/2, l=8/15\n",
      "_расчёт матрицы H_: k=2/2, l=9/15\n",
      "_расчёт матрицы H_: k=2/2, l=10/15\n",
      "_расчёт матрицы H_: k=2/2, l=11/15\n",
      "_расчёт матрицы H_: k=2/2, l=12/15\n",
      "_расчёт матрицы H_: k=2/2, l=13/15\n",
      "_расчёт матрицы H_: k=2/2, l=14/15\n",
      "_расчёт матрицы H_: k=2/2, l=15/15\n",
      "Размерность матрицы H: (30, 1)\n",
      "Размерность матрицы J: (30, 30)\n",
      "v = [5.96947801e-10 2.44769117e-10 1.49234905e-10 7.96477336e-11\n",
      " 6.11920739e-11 2.56539869e-11 1.99118685e-11 1.70297126e-11\n",
      " 1.25586387e-11 8.11416634e-12 6.41356611e-12 5.36842255e-12\n",
      " 4.25739964e-12 3.78249252e-12 3.13967756e-12 2.33928048e-12\n",
      " 2.02850692e-12 1.34211835e-12 9.45620637e-13 6.41319039e-13\n",
      " 5.84823220e-13 2.04484007e-13 1.60324406e-13 5.11196370e-14\n",
      " 4.58631830e-26 4.58631830e-26 4.58631830e-26 4.58631830e-26\n",
      " 4.58631830e-26 3.17146175e-27]\n",
      "σₘₙ/σₘₐₓ = 3.1714617512031704e-27/5.969478009795582e-10 = 5.3127957687405465e-18 | σ>10⁻⁵: 0/30 (статья 051)\n",
      "\n",
      "Ранг матрицы: [0, 3, 24, 24, 24, 24] (статья 055)\n",
      "Детерминант матрицы: -1.1063230273363327e-271\n",
      "Следующие параметры не должны быть нулевыми:\n",
      "\n",
      "Δ_0 = 6.138344983375684e-252\n",
      "\n",
      "\u001b[1mНе выполнено достаточное условие. Нулевой параметр: Δ_0 = 6.138344983375684e-252\u001b[0m\n"
     ]
    }
   ],
   "source": [
    "H, J, Jn, Δ, report = observe_system(n_c=1, \n",
    "                                     n_d=5, \n",
    "                                     is_d_qw=False, \n",
    "                                     is_drag=False, \n",
    "                                     is_only_xz=False, \n",
    "                                     gains={'cN': 0, 'cModel': 'isotropic', 'dN': 0, 'dModel': 'isotropic'},\n",
    "                                     hand_written_deriv=None, testprint=True, disp=True, Hcheck=True)"
   ]
  },
  {
   "cell_type": "code",
   "execution_count": 18,
   "id": "8a7749e1-2f2c-4e93-ae27-fd65c7994632",
   "metadata": {
    "scrolled": true
   },
   "outputs": [
    {
     "name": "stdout",
     "output_type": "stream",
     "text": [
      "\u001b[0m\u001b[1mВектор состояния:\u001b[0m\u001b[0m\n"
     ]
    },
    {
     "data": {
      "text/latex": [
       "$\\displaystyle \\left[\\begin{array}{cccccccccccccccccccccccccccccccccccccccccccccccccccccccccccccccccc}r^{d}_{0 x}{\\left(t \\right)} & r^{d}_{0 y}{\\left(t \\right)} & r^{d}_{0 z}{\\left(t \\right)} & v^{d}_{0 x}{\\left(t \\right)} & v^{d}_{0 y}{\\left(t \\right)} & v^{d}_{0 z}{\\left(t \\right)} & r^{d}_{1 x}{\\left(t \\right)} & r^{d}_{1 y}{\\left(t \\right)} & r^{d}_{1 z}{\\left(t \\right)} & v^{d}_{1 x}{\\left(t \\right)} & v^{d}_{1 y}{\\left(t \\right)} & v^{d}_{1 z}{\\left(t \\right)} & r^{d}_{2 x}{\\left(t \\right)} & r^{d}_{2 y}{\\left(t \\right)} & r^{d}_{2 z}{\\left(t \\right)} & v^{d}_{2 x}{\\left(t \\right)} & v^{d}_{2 y}{\\left(t \\right)} & v^{d}_{2 z}{\\left(t \\right)} & r^{d}_{3 x}{\\left(t \\right)} & r^{d}_{3 y}{\\left(t \\right)} & r^{d}_{3 z}{\\left(t \\right)} & v^{d}_{3 x}{\\left(t \\right)} & v^{d}_{3 y}{\\left(t \\right)} & v^{d}_{3 z}{\\left(t \\right)} & r^{d}_{4 x}{\\left(t \\right)} & r^{d}_{4 y}{\\left(t \\right)} & r^{d}_{4 z}{\\left(t \\right)} & v^{d}_{4 x}{\\left(t \\right)} & v^{d}_{4 y}{\\left(t \\right)} & v^{d}_{4 z}{\\left(t \\right)} & r^{d}_{5 x}{\\left(t \\right)} & r^{d}_{5 y}{\\left(t \\right)} & r^{d}_{5 z}{\\left(t \\right)} & v^{d}_{5 x}{\\left(t \\right)} & v^{d}_{5 y}{\\left(t \\right)} & v^{d}_{5 z}{\\left(t \\right)} & r^{d}_{6 x}{\\left(t \\right)} & r^{d}_{6 y}{\\left(t \\right)} & r^{d}_{6 z}{\\left(t \\right)} & v^{d}_{6 x}{\\left(t \\right)} & v^{d}_{6 y}{\\left(t \\right)} & v^{d}_{6 z}{\\left(t \\right)} & r^{d}_{7 x}{\\left(t \\right)} & r^{d}_{7 y}{\\left(t \\right)} & r^{d}_{7 z}{\\left(t \\right)} & v^{d}_{7 x}{\\left(t \\right)} & v^{d}_{7 y}{\\left(t \\right)} & v^{d}_{7 z}{\\left(t \\right)} & r^{d}_{8 x}{\\left(t \\right)} & r^{d}_{8 y}{\\left(t \\right)} & r^{d}_{8 z}{\\left(t \\right)} & v^{d}_{8 x}{\\left(t \\right)} & v^{d}_{8 y}{\\left(t \\right)} & v^{d}_{8 z}{\\left(t \\right)} & r^{d}_{9 x}{\\left(t \\right)} & r^{d}_{9 y}{\\left(t \\right)} & r^{d}_{9 z}{\\left(t \\right)} & v^{d}_{9 x}{\\left(t \\right)} & v^{d}_{9 y}{\\left(t \\right)} & v^{d}_{9 z}{\\left(t \\right)} & r^{d}_{10 x}{\\left(t \\right)} & r^{d}_{10 y}{\\left(t \\right)} & r^{d}_{10 z}{\\left(t \\right)} & v^{d}_{10 x}{\\left(t \\right)} & v^{d}_{10 y}{\\left(t \\right)} & v^{d}_{10 z}{\\left(t \\right)}\\end{array}\\right]$"
      ],
      "text/plain": [
       "Matrix([[r_0^d_x(t), r_0^d_y(t), r_0^d_z(t), v_0^d_x(t), v_0^d_y(t), v_0^d_z(t), r_1^d_x(t), r_1^d_y(t), r_1^d_z(t), v_1^d_x(t), v_1^d_y(t), v_1^d_z(t), r_2^d_x(t), r_2^d_y(t), r_2^d_z(t), v_2^d_x(t), v_2^d_y(t), v_2^d_z(t), r_3^d_x(t), r_3^d_y(t), r_3^d_z(t), v_3^d_x(t), v_3^d_y(t), v_3^d_z(t), r_4^d_x(t), r_4^d_y(t), r_4^d_z(t), v_4^d_x(t), v_4^d_y(t), v_4^d_z(t), r_5^d_x(t), r_5^d_y(t), r_5^d_z(t), v_5^d_x(t), v_5^d_y(t), v_5^d_z(t), r_6^d_x(t), r_6^d_y(t), r_6^d_z(t), v_6^d_x(t), v_6^d_y(t), v_6^d_z(t), r_7^d_x(t), r_7^d_y(t), r_7^d_z(t), v_7^d_x(t), v_7^d_y(t), v_7^d_z(t), r_8^d_x(t), r_8^d_y(t), r_8^d_z(t), v_8^d_x(t), v_8^d_y(t), v_8^d_z(t), r_9^d_x(t), r_9^d_y(t), r_9^d_z(t), v_9^d_x(t), v_9^d_y(t), v_9^d_z(t), r_10^d_x(t), r_10^d_y(t), r_10^d_z(t), v_10^d_x(t), v_10^d_y(t), v_10^d_z(t)]])"
      ]
     },
     "metadata": {},
     "output_type": "display_data"
    },
    {
     "name": "stdout",
     "output_type": "stream",
     "text": [
      "\u001b[0m\u001b[1mКоличество кубсатов: 1\n",
      "Количество чипсатов: 11\n",
      "\u001b[0m\u001b[0m\n",
      "Неизвестные: n = 66 (на каждый чипсат по 6 параметров)\n",
      "Известные: l = 66\n",
      "∃ производные порядка k = 1.0 (Должна быть целой!)\n",
      "Критерий (055): происзводные порядка 34.5\n",
      "_расчёт матрицы H_: k=1/1, l=1/66\n",
      "_расчёт матрицы H_: k=1/1, l=2/66\n",
      "_расчёт матрицы H_: k=1/1, l=3/66\n",
      "_расчёт матрицы H_: k=1/1, l=4/66\n",
      "_расчёт матрицы H_: k=1/1, l=5/66\n",
      "_расчёт матрицы H_: k=1/1, l=6/66\n",
      "_расчёт матрицы H_: k=1/1, l=7/66\n",
      "_расчёт матрицы H_: k=1/1, l=8/66\n",
      "_расчёт матрицы H_: k=1/1, l=9/66\n",
      "_расчёт матрицы H_: k=1/1, l=10/66\n",
      "_расчёт матрицы H_: k=1/1, l=11/66\n",
      "_расчёт матрицы H_: k=1/1, l=12/66\n",
      "_расчёт матрицы H_: k=1/1, l=13/66\n",
      "_расчёт матрицы H_: k=1/1, l=14/66\n",
      "_расчёт матрицы H_: k=1/1, l=15/66\n",
      "_расчёт матрицы H_: k=1/1, l=16/66\n",
      "_расчёт матрицы H_: k=1/1, l=17/66\n",
      "_расчёт матрицы H_: k=1/1, l=18/66\n",
      "_расчёт матрицы H_: k=1/1, l=19/66\n",
      "_расчёт матрицы H_: k=1/1, l=20/66\n",
      "_расчёт матрицы H_: k=1/1, l=21/66\n",
      "_расчёт матрицы H_: k=1/1, l=22/66\n",
      "_расчёт матрицы H_: k=1/1, l=23/66\n",
      "_расчёт матрицы H_: k=1/1, l=24/66\n",
      "_расчёт матрицы H_: k=1/1, l=25/66\n",
      "_расчёт матрицы H_: k=1/1, l=26/66\n",
      "_расчёт матрицы H_: k=1/1, l=27/66\n",
      "_расчёт матрицы H_: k=1/1, l=28/66\n",
      "_расчёт матрицы H_: k=1/1, l=29/66\n",
      "_расчёт матрицы H_: k=1/1, l=30/66\n",
      "_расчёт матрицы H_: k=1/1, l=31/66\n",
      "_расчёт матрицы H_: k=1/1, l=32/66\n",
      "_расчёт матрицы H_: k=1/1, l=33/66\n",
      "_расчёт матрицы H_: k=1/1, l=34/66\n",
      "_расчёт матрицы H_: k=1/1, l=35/66\n",
      "_расчёт матрицы H_: k=1/1, l=36/66\n",
      "_расчёт матрицы H_: k=1/1, l=37/66\n",
      "_расчёт матрицы H_: k=1/1, l=38/66\n",
      "_расчёт матрицы H_: k=1/1, l=39/66\n",
      "_расчёт матрицы H_: k=1/1, l=40/66\n",
      "_расчёт матрицы H_: k=1/1, l=41/66\n",
      "_расчёт матрицы H_: k=1/1, l=42/66\n",
      "_расчёт матрицы H_: k=1/1, l=43/66\n",
      "_расчёт матрицы H_: k=1/1, l=44/66\n",
      "_расчёт матрицы H_: k=1/1, l=45/66\n",
      "_расчёт матрицы H_: k=1/1, l=46/66\n",
      "_расчёт матрицы H_: k=1/1, l=47/66\n",
      "_расчёт матрицы H_: k=1/1, l=48/66\n",
      "_расчёт матрицы H_: k=1/1, l=49/66\n",
      "_расчёт матрицы H_: k=1/1, l=50/66\n",
      "_расчёт матрицы H_: k=1/1, l=51/66\n",
      "_расчёт матрицы H_: k=1/1, l=52/66\n",
      "_расчёт матрицы H_: k=1/1, l=53/66\n",
      "_расчёт матрицы H_: k=1/1, l=54/66\n",
      "_расчёт матрицы H_: k=1/1, l=55/66\n",
      "_расчёт матрицы H_: k=1/1, l=56/66\n",
      "_расчёт матрицы H_: k=1/1, l=57/66\n",
      "_расчёт матрицы H_: k=1/1, l=58/66\n",
      "_расчёт матрицы H_: k=1/1, l=59/66\n",
      "_расчёт матрицы H_: k=1/1, l=60/66\n",
      "_расчёт матрицы H_: k=1/1, l=61/66\n",
      "_расчёт матрицы H_: k=1/1, l=62/66\n",
      "_расчёт матрицы H_: k=1/1, l=63/66\n",
      "_расчёт матрицы H_: k=1/1, l=64/66\n",
      "_расчёт матрицы H_: k=1/1, l=65/66\n",
      "_расчёт матрицы H_: k=1/1, l=66/66\n",
      "Размерность матрицы H: (66, 1)\n",
      "Размерность матрицы J: (66, 66)\n",
      "v = [4.20719968e-08 1.65854418e-08 3.86364301e-09 5.89696375e-10\n",
      " 1.21360356e-10 5.90960177e-11 5.20014328e-11 4.66194093e-11\n",
      " 2.26406473e-11 2.21272650e-11 1.35459688e-11 1.21640194e-11\n",
      " 1.00135967e-11 6.19680157e-12 5.50994185e-12 4.94021077e-12\n",
      " 3.87553755e-12 3.69125439e-12 2.77837525e-12 2.25659383e-12\n",
      " 1.73011679e-12 1.58908798e-12 1.45808487e-12 1.08553866e-12\n",
      " 8.01583429e-13 5.08802194e-13 3.07853881e-13 2.46202209e-13\n",
      " 1.57743431e-13 1.01543052e-13 1.74938725e-23 3.92464268e-24\n",
      " 3.92464268e-24 3.92464268e-24 3.92464268e-24 3.92464268e-24\n",
      " 3.92464268e-24 3.92464268e-24 3.92464268e-24 3.92464268e-24\n",
      " 3.92464268e-24 3.92464268e-24 3.92464268e-24 3.92464268e-24\n",
      " 3.92464268e-24 3.92464268e-24 3.92464268e-24 3.92464268e-24\n",
      " 3.92464268e-24 3.92464268e-24 3.92464268e-24 3.92464268e-24\n",
      " 3.92464268e-24 3.92464268e-24 3.92464268e-24 3.92464268e-24\n",
      " 3.92464268e-24 3.92464268e-24 3.92464268e-24 3.92464268e-24\n",
      " 3.92464268e-24 3.92464268e-24 3.92464268e-24 3.92464268e-24\n",
      " 3.92464268e-24 3.92464268e-24]\n",
      "σₘₙ/σₘₐₓ = 3.924642678899362e-24/4.2071996759530096e-08 = 9.328396513555913e-17 | σ>10⁻⁵: 0/66 (статья 051)\n",
      "\n",
      "Ранг матрицы: [0, 5, 30, 30, 30, 30] (статья 055)\n",
      "Детерминант матрицы: 0.0\n",
      "Следующие параметры не должны быть нулевыми:\n",
      "\n",
      "Δ_0 = 0.0\n",
      "\n",
      "\u001b[1mНе выполнено достаточное условие. Нулевой параметр: Δ_0 = 0.0\u001b[0m\n"
     ]
    }
   ],
   "source": [
    "H, J, Jn, Δ, report = observe_system(n_c=1, \n",
    "                                     n_d=11, \n",
    "                                     is_d_qw=False, \n",
    "                                     is_drag=False, \n",
    "                                     is_only_xz=False, \n",
    "                                     gains={'cN': 0, 'cModel': 'isotropic', 'dN': 0, 'dModel': 'isotropic'},\n",
    "                                     hand_written_deriv=None, testprint=True, disp=False, Hcheck=False)"
   ]
  },
  {
   "cell_type": "code",
   "execution_count": 4,
   "id": "47dc7673-fccf-4c27-ac1d-34dde39c003b",
   "metadata": {
    "scrolled": true
   },
   "outputs": [
    {
     "name": "stdout",
     "output_type": "stream",
     "text": [
      "\u001b[0m\u001b[1mВектор состояния:\u001b[0m\u001b[0m\n"
     ]
    },
    {
     "data": {
      "text/latex": [
       "$\\displaystyle \\left[\\begin{matrix}r^{d}_{0 x}{\\left(t \\right)} & r^{d}_{0 y}{\\left(t \\right)} & r^{d}_{0 z}{\\left(t \\right)} & v^{d}_{0 x}{\\left(t \\right)} & v^{d}_{0 y}{\\left(t \\right)} & v^{d}_{0 z}{\\left(t \\right)}\\end{matrix}\\right]$"
      ],
      "text/plain": [
       "Matrix([[r_0^d_x(t), r_0^d_y(t), r_0^d_z(t), v_0^d_x(t), v_0^d_y(t), v_0^d_z(t)]])"
      ]
     },
     "metadata": {},
     "output_type": "display_data"
    },
    {
     "name": "stdout",
     "output_type": "stream",
     "text": [
      "\u001b[0m\u001b[1mВектор измерений:\u001b[0m\u001b[0m\n"
     ]
    },
    {
     "data": {
      "text/latex": [
       "$\\displaystyle \\left[\\begin{matrix}\\frac{1}{\\left(r^{c}_{0 x}{\\left(t \\right)} - r^{d}_{0 x}{\\left(t \\right)}\\right)^{2} + \\left(r^{c}_{0 y}{\\left(t \\right)} - r^{d}_{0 y}{\\left(t \\right)}\\right)^{2} + \\left(r^{c}_{0 z}{\\left(t \\right)} - r^{d}_{0 z}{\\left(t \\right)}\\right)^{2}}\\end{matrix}\\right]$"
      ],
      "text/plain": [
       "Matrix([[1/((r_0^c_x(t) - r_0^d_x(t))**2 + (r_0^c_y(t) - r_0^d_y(t))**2 + (r_0^c_z(t) - r_0^d_z(t))**2)]])"
      ]
     },
     "metadata": {},
     "output_type": "display_data"
    },
    {
     "name": "stdout",
     "output_type": "stream",
     "text": [
      "\u001b[0m\u001b[1mПроверка матрицы H:\u001b[0m\u001b[0m\n"
     ]
    },
    {
     "data": {
      "text/latex": [
       "$\\displaystyle \\left[\\begin{matrix}0 & 0 & 0 & 0 & 0 & 0\\end{matrix}\\right]$"
      ],
      "text/plain": [
       "Matrix([[0, 0, 0, 0, 0, 0]])"
      ]
     },
     "metadata": {},
     "output_type": "display_data"
    },
    {
     "name": "stdout",
     "output_type": "stream",
     "text": [
      "\u001b[0m\u001b[1mВектор состояния (изменённый):\u001b[0m\u001b[0m\n"
     ]
    },
    {
     "data": {
      "text/latex": [
       "$\\displaystyle \\left[\\begin{matrix}r^{d}_{0 x}{\\left(t \\right)}\\\\r^{d}_{0 z}{\\left(t \\right)}\\\\v^{d}_{0 x}{\\left(t \\right)}\\\\v^{d}_{0 z}{\\left(t \\right)}\\end{matrix}\\right]$"
      ],
      "text/plain": [
       "Matrix([\n",
       "[r_0^d_x(t)],\n",
       "[r_0^d_z(t)],\n",
       "[v_0^d_x(t)],\n",
       "[v_0^d_z(t)]])"
      ]
     },
     "metadata": {},
     "output_type": "display_data"
    },
    {
     "name": "stdout",
     "output_type": "stream",
     "text": [
      "\u001b[0m\u001b[1mДинамика: \n",
      "          dr = \u001b[0m\u001b[0m\n"
     ]
    },
    {
     "data": {
      "text/latex": [
       "$\\displaystyle \\left[\\begin{matrix}v^{d}_{0 x}{\\left(t \\right)}\\\\v^{d}_{0 y}{\\left(t \\right)}\\\\v^{d}_{0 z}{\\left(t \\right)}\\end{matrix}\\right]$"
      ],
      "text/plain": [
       "Matrix([\n",
       "[v_0^d_x(t)],\n",
       "[v_0^d_y(t)],\n",
       "[v_0^d_z(t)]])"
      ]
     },
     "metadata": {},
     "output_type": "display_data"
    },
    {
     "name": "stdout",
     "output_type": "stream",
     "text": [
      "\u001b[0m\u001b[1m          dv = \u001b[0m\u001b[0m\n"
     ]
    },
    {
     "data": {
      "text/latex": [
       "$\\displaystyle \\left[\\begin{matrix}- 2 w_{0} v^{d}_{0 z}{\\left(t \\right)}\\\\- w_{0}^{2} r^{d}_{0 y}{\\left(t \\right)}\\\\3 w_{0}^{2} r^{d}_{0 z}{\\left(t \\right)} + 2 w_{0} v^{d}_{0 x}{\\left(t \\right)}\\end{matrix}\\right]$"
      ],
      "text/plain": [
       "Matrix([\n",
       "[                     -2*w_0*v_0^d_z(t)],\n",
       "[                    -w_0**2*r_0^d_y(t)],\n",
       "[3*w_0**2*r_0^d_z(t) + 2*w_0*v_0^d_x(t)]])"
      ]
     },
     "metadata": {},
     "output_type": "display_data"
    },
    {
     "name": "stdout",
     "output_type": "stream",
     "text": [
      "\u001b[0m\u001b[1m          dq = \u001b[0m\u001b[0m\n"
     ]
    },
    {
     "data": {
      "text/latex": [
       "$\\displaystyle \\left[\\begin{matrix}- 0.5 q^{d}_{0 x}{\\left(t \\right)} ω^{d}_{0 x}{\\left(t \\right)} - 0.5 q^{d}_{0 y}{\\left(t \\right)} ω^{d}_{0 y}{\\left(t \\right)} - 0.5 q^{d}_{0 z}{\\left(t \\right)} ω^{d}_{0 z}{\\left(t \\right)}\\\\0.5 \\sqrt{- \\left(q^{d}_{0 x}\\right)^{2}{\\left(t \\right)} - \\left(q^{d}_{0 y}\\right)^{2}{\\left(t \\right)} - \\left(q^{d}_{0 z}\\right)^{2}{\\left(t \\right)} + 1} ω^{d}_{0 x}{\\left(t \\right)} - 0.5 q^{d}_{0 y}{\\left(t \\right)} ω^{d}_{0 z}{\\left(t \\right)} + 0.5 q^{d}_{0 z}{\\left(t \\right)} ω^{d}_{0 y}{\\left(t \\right)}\\\\0.5 \\sqrt{- \\left(q^{d}_{0 x}\\right)^{2}{\\left(t \\right)} - \\left(q^{d}_{0 y}\\right)^{2}{\\left(t \\right)} - \\left(q^{d}_{0 z}\\right)^{2}{\\left(t \\right)} + 1} ω^{d}_{0 y}{\\left(t \\right)} + 0.5 q^{d}_{0 x}{\\left(t \\right)} ω^{d}_{0 z}{\\left(t \\right)} - 0.5 q^{d}_{0 z}{\\left(t \\right)} ω^{d}_{0 x}{\\left(t \\right)}\\\\0.5 \\sqrt{- \\left(q^{d}_{0 x}\\right)^{2}{\\left(t \\right)} - \\left(q^{d}_{0 y}\\right)^{2}{\\left(t \\right)} - \\left(q^{d}_{0 z}\\right)^{2}{\\left(t \\right)} + 1} ω^{d}_{0 z}{\\left(t \\right)} - 0.5 q^{d}_{0 x}{\\left(t \\right)} ω^{d}_{0 y}{\\left(t \\right)} + 0.5 q^{d}_{0 y}{\\left(t \\right)} ω^{d}_{0 x}{\\left(t \\right)}\\end{matrix}\\right]$"
      ],
      "text/plain": [
       "Matrix([\n",
       "[                                             -0.5*q_0^d_x(t)*ω_0^d_x(t) - 0.5*q_0^d_y(t)*ω_0^d_y(t) - 0.5*q_0^d_z(t)*ω_0^d_z(t)],\n",
       "[0.5*sqrt(-q_0^d_x(t)**2 - q_0^d_y(t)**2 - q_0^d_z(t)**2 + 1)*ω_0^d_x(t) - 0.5*q_0^d_y(t)*ω_0^d_z(t) + 0.5*q_0^d_z(t)*ω_0^d_y(t)],\n",
       "[0.5*sqrt(-q_0^d_x(t)**2 - q_0^d_y(t)**2 - q_0^d_z(t)**2 + 1)*ω_0^d_y(t) + 0.5*q_0^d_x(t)*ω_0^d_z(t) - 0.5*q_0^d_z(t)*ω_0^d_x(t)],\n",
       "[0.5*sqrt(-q_0^d_x(t)**2 - q_0^d_y(t)**2 - q_0^d_z(t)**2 + 1)*ω_0^d_z(t) - 0.5*q_0^d_x(t)*ω_0^d_y(t) + 0.5*q_0^d_y(t)*ω_0^d_x(t)]])"
      ]
     },
     "metadata": {},
     "output_type": "display_data"
    },
    {
     "name": "stdout",
     "output_type": "stream",
     "text": [
      "\u001b[0m\u001b[1m          dω = \u001b[0m\u001b[0m\n",
      "\u001b[0m\u001b[1mКоличество кубсатов: 1\n",
      "Количество чипсатов: 1\n",
      "\u001b[0m\u001b[0m\n",
      "Неизвестные: n = 4 (на каждый чипсат по 4 параметров)\n",
      "Известные: l = 1\n",
      "∃ производные порядка k = 4.0 (Должна быть целой!)\n",
      "Критерий (055): происзводные порядка 14.0\n",
      "a: None\n",
      "a: None\n",
      "_расчёт матрицы H_: k=1/4, l=1/1\n",
      "a: None\n",
      "a: None\n",
      "_расчёт матрицы H_: k=2/4, l=1/1\n",
      "a: None\n",
      "a: None\n",
      "_расчёт матрицы H_: k=3/4, l=1/1\n",
      "a: None\n",
      "a: None\n",
      "_расчёт матрицы H_: k=4/4, l=1/1\n",
      "Размерность матрицы H: (4, 1)\n",
      "Размерность матрицы J: (4, 4)\n",
      "v = [1.27096596e-11 3.17740447e-12 2.57266722e-20 9.45472562e-24]\n",
      "σₘₙ/σₘₐₓ = 9.45472562060678e-24/1.270965956067551e-11 = 7.43900776843803e-13 | σ>10⁻⁵: 0/4 (статья 051)\n",
      "\n",
      "Ранг матрицы: [0, 0, 2, 3, 4, 4] (статья 055)\n",
      "Детерминант матрицы: -3.1341709751969656e-33\n",
      "Следующие параметры не должны быть нулевыми:\n",
      "\n",
      "Δ_0 = -3.37262056207856e-27\n",
      "\n",
      "\u001b[1mНе выполнено достаточное условие. Нулевой параметр: Δ_0 = -3.37262056207856e-27\u001b[0m\n"
     ]
    }
   ],
   "source": [
    "H, J, Jn, Δ, report = observe_system(n_c=1, \n",
    "                                     n_d=1, \n",
    "                                     is_d_qw=False, \n",
    "                                     is_drag=False, \n",
    "                                     is_only_xz=True, \n",
    "                                     gains={'cN': 0, 'cModel': 'isotropic', 'dN': 0, 'dModel': 'isotropic'},\n",
    "                                     hand_written_deriv=None, testprint=True, disp=True, Hcheck=True)"
   ]
  },
  {
   "cell_type": "code",
   "execution_count": 20,
   "id": "8fba5219-3a6a-49c8-972e-0f467174df53",
   "metadata": {
    "scrolled": true
   },
   "outputs": [
    {
     "name": "stdout",
     "output_type": "stream",
     "text": [
      "\u001b[0m\u001b[1mВектор состояния:\u001b[0m\u001b[0m\n"
     ]
    },
    {
     "data": {
      "text/latex": [
       "$\\displaystyle \\left[\\begin{matrix}r^{d}_{0 x}{\\left(t \\right)} & r^{d}_{0 y}{\\left(t \\right)} & r^{d}_{0 z}{\\left(t \\right)} & v^{d}_{0 x}{\\left(t \\right)} & v^{d}_{0 y}{\\left(t \\right)} & v^{d}_{0 z}{\\left(t \\right)}\\end{matrix}\\right]$"
      ],
      "text/plain": [
       "Matrix([[r_0^d_x(t), r_0^d_y(t), r_0^d_z(t), v_0^d_x(t), v_0^d_y(t), v_0^d_z(t)]])"
      ]
     },
     "metadata": {},
     "output_type": "display_data"
    },
    {
     "name": "stdout",
     "output_type": "stream",
     "text": [
      "\u001b[0m\u001b[1mВектор измерений:\u001b[0m\u001b[0m\n"
     ]
    },
    {
     "data": {
      "text/latex": [
       "$\\displaystyle \\left[\\begin{matrix}\\frac{1}{\\left(r^{c}_{0 x}{\\left(t \\right)} - r^{d}_{0 x}{\\left(t \\right)}\\right)^{2} + \\left(r^{c}_{0 y}{\\left(t \\right)} - r^{d}_{0 y}{\\left(t \\right)}\\right)^{2} + \\left(r^{c}_{0 z}{\\left(t \\right)} - r^{d}_{0 z}{\\left(t \\right)}\\right)^{2}}\\\\\\frac{1}{\\left(- r^{d}_{0 x}{\\left(t \\right)} + r^{c}_{1 x}{\\left(t \\right)}\\right)^{2} + \\left(- r^{d}_{0 y}{\\left(t \\right)} + r^{c}_{1 y}{\\left(t \\right)}\\right)^{2} + \\left(- r^{d}_{0 z}{\\left(t \\right)} + r^{c}_{1 z}{\\left(t \\right)}\\right)^{2}}\\end{matrix}\\right]$"
      ],
      "text/plain": [
       "Matrix([\n",
       "[   1/((r_0^c_x(t) - r_0^d_x(t))**2 + (r_0^c_y(t) - r_0^d_y(t))**2 + (r_0^c_z(t) - r_0^d_z(t))**2)],\n",
       "[1/((-r_0^d_x(t) + r_1^c_x(t))**2 + (-r_0^d_y(t) + r_1^c_y(t))**2 + (-r_0^d_z(t) + r_1^c_z(t))**2)]])"
      ]
     },
     "metadata": {},
     "output_type": "display_data"
    },
    {
     "name": "stdout",
     "output_type": "stream",
     "text": [
      "\u001b[0m\u001b[1mПроверка матрицы H:\u001b[0m\u001b[0m\n"
     ]
    },
    {
     "data": {
      "text/latex": [
       "$\\displaystyle \\left[\\begin{matrix}0 & 0 & 0 & 0 & 0 & 0\\\\0 & 0 & 0 & 0 & 0 & 0\\end{matrix}\\right]$"
      ],
      "text/plain": [
       "Matrix([\n",
       "[0, 0, 0, 0, 0, 0],\n",
       "[0, 0, 0, 0, 0, 0]])"
      ]
     },
     "metadata": {},
     "output_type": "display_data"
    },
    {
     "name": "stdout",
     "output_type": "stream",
     "text": [
      "\u001b[0m\u001b[1mДинамика: \n",
      "          dr = \u001b[0m\u001b[0m\n"
     ]
    },
    {
     "data": {
      "text/latex": [
       "$\\displaystyle \\left[\\begin{matrix}v^{d}_{0 x}{\\left(t \\right)}\\\\v^{d}_{0 y}{\\left(t \\right)}\\\\v^{d}_{0 z}{\\left(t \\right)}\\end{matrix}\\right]$"
      ],
      "text/plain": [
       "Matrix([\n",
       "[v_0^d_x(t)],\n",
       "[v_0^d_y(t)],\n",
       "[v_0^d_z(t)]])"
      ]
     },
     "metadata": {},
     "output_type": "display_data"
    },
    {
     "name": "stdout",
     "output_type": "stream",
     "text": [
      "\u001b[0m\u001b[1m          dv = \u001b[0m\u001b[0m\n"
     ]
    },
    {
     "data": {
      "text/latex": [
       "$\\displaystyle \\left[\\begin{matrix}- 2 w_{0} v^{d}_{0 z}{\\left(t \\right)}\\\\- w_{0}^{2} r^{d}_{0 y}{\\left(t \\right)}\\\\3 w_{0}^{2} r^{d}_{0 z}{\\left(t \\right)} + 2 w_{0} v^{d}_{0 x}{\\left(t \\right)}\\end{matrix}\\right]$"
      ],
      "text/plain": [
       "Matrix([\n",
       "[                     -2*w_0*v_0^d_z(t)],\n",
       "[                    -w_0**2*r_0^d_y(t)],\n",
       "[3*w_0**2*r_0^d_z(t) + 2*w_0*v_0^d_x(t)]])"
      ]
     },
     "metadata": {},
     "output_type": "display_data"
    },
    {
     "name": "stdout",
     "output_type": "stream",
     "text": [
      "\u001b[0m\u001b[1m          dq = \u001b[0m\u001b[0m\n"
     ]
    },
    {
     "data": {
      "text/latex": [
       "$\\displaystyle \\left[\\begin{matrix}- 0.5 q^{d}_{0 x}{\\left(t \\right)} ω^{d}_{0 x}{\\left(t \\right)} - 0.5 q^{d}_{0 y}{\\left(t \\right)} ω^{d}_{0 y}{\\left(t \\right)} - 0.5 q^{d}_{0 z}{\\left(t \\right)} ω^{d}_{0 z}{\\left(t \\right)}\\\\0.5 \\sqrt{- \\left(q^{d}_{0 x}\\right)^{2}{\\left(t \\right)} - \\left(q^{d}_{0 y}\\right)^{2}{\\left(t \\right)} - \\left(q^{d}_{0 z}\\right)^{2}{\\left(t \\right)} + 1} ω^{d}_{0 x}{\\left(t \\right)} - 0.5 q^{d}_{0 y}{\\left(t \\right)} ω^{d}_{0 z}{\\left(t \\right)} + 0.5 q^{d}_{0 z}{\\left(t \\right)} ω^{d}_{0 y}{\\left(t \\right)}\\\\0.5 \\sqrt{- \\left(q^{d}_{0 x}\\right)^{2}{\\left(t \\right)} - \\left(q^{d}_{0 y}\\right)^{2}{\\left(t \\right)} - \\left(q^{d}_{0 z}\\right)^{2}{\\left(t \\right)} + 1} ω^{d}_{0 y}{\\left(t \\right)} + 0.5 q^{d}_{0 x}{\\left(t \\right)} ω^{d}_{0 z}{\\left(t \\right)} - 0.5 q^{d}_{0 z}{\\left(t \\right)} ω^{d}_{0 x}{\\left(t \\right)}\\\\0.5 \\sqrt{- \\left(q^{d}_{0 x}\\right)^{2}{\\left(t \\right)} - \\left(q^{d}_{0 y}\\right)^{2}{\\left(t \\right)} - \\left(q^{d}_{0 z}\\right)^{2}{\\left(t \\right)} + 1} ω^{d}_{0 z}{\\left(t \\right)} - 0.5 q^{d}_{0 x}{\\left(t \\right)} ω^{d}_{0 y}{\\left(t \\right)} + 0.5 q^{d}_{0 y}{\\left(t \\right)} ω^{d}_{0 x}{\\left(t \\right)}\\end{matrix}\\right]$"
      ],
      "text/plain": [
       "Matrix([\n",
       "[                                             -0.5*q_0^d_x(t)*ω_0^d_x(t) - 0.5*q_0^d_y(t)*ω_0^d_y(t) - 0.5*q_0^d_z(t)*ω_0^d_z(t)],\n",
       "[0.5*sqrt(-q_0^d_x(t)**2 - q_0^d_y(t)**2 - q_0^d_z(t)**2 + 1)*ω_0^d_x(t) - 0.5*q_0^d_y(t)*ω_0^d_z(t) + 0.5*q_0^d_z(t)*ω_0^d_y(t)],\n",
       "[0.5*sqrt(-q_0^d_x(t)**2 - q_0^d_y(t)**2 - q_0^d_z(t)**2 + 1)*ω_0^d_y(t) + 0.5*q_0^d_x(t)*ω_0^d_z(t) - 0.5*q_0^d_z(t)*ω_0^d_x(t)],\n",
       "[0.5*sqrt(-q_0^d_x(t)**2 - q_0^d_y(t)**2 - q_0^d_z(t)**2 + 1)*ω_0^d_z(t) - 0.5*q_0^d_x(t)*ω_0^d_y(t) + 0.5*q_0^d_y(t)*ω_0^d_x(t)]])"
      ]
     },
     "metadata": {},
     "output_type": "display_data"
    },
    {
     "name": "stdout",
     "output_type": "stream",
     "text": [
      "\u001b[0m\u001b[1m          dω = \u001b[0m\u001b[0m\n",
      "\u001b[0m\u001b[1mКоличество кубсатов: 2\n",
      "Количество чипсатов: 1\n",
      "\u001b[0m\u001b[0m\n",
      "Неизвестные: n = 6 (на каждый чипсат по 6 параметров)\n",
      "Известные: l = 2\n",
      "∃ производные порядка k = 3.0 (Должна быть целой!)\n",
      "Критерий (055): происзводные порядка 13.5\n",
      "_расчёт матрицы H_: k=1/3, l=1/2\n",
      "_расчёт матрицы H_: k=1/3, l=2/2\n",
      "_расчёт матрицы H_: k=2/3, l=1/2\n",
      "_расчёт матрицы H_: k=2/3, l=2/2\n",
      "_расчёт матрицы H_: k=3/3, l=1/2\n",
      "_расчёт матрицы H_: k=3/3, l=2/2\n",
      "Размерность матрицы H: (6, 1)\n",
      "Размерность матрицы J: (6, 6)\n",
      "v = [2.39379046e-12 5.98446604e-13 1.20814341e-14 3.01849730e-15\n",
      " 1.54941368e-17 2.41932482e-24]\n",
      "σₘₙ/σₘₐₓ = 2.4193248219138535e-24/2.393790455763321e-12 = 1.0106669178536725e-12 | σ>10⁻⁵: 0/6 (статья 051)\n",
      "\n",
      "Ранг матрицы: [0, 0, 3, 5, 6, 6] (статья 055)\n",
      "Детерминант матрицы: -4.425292639295384e-47\n",
      "Следующие параметры не должны быть нулевыми:\n",
      "\n",
      "Δ_0 = 7.718848783651596e-41\n",
      "\n",
      "\u001b[1mНе выполнено достаточное условие. Нулевой параметр: Δ_0 = 7.718848783651596e-41\u001b[0m\n"
     ]
    }
   ],
   "source": [
    "H, J, Jn, Δ, report = observe_system(n_c=2, \n",
    "                                     n_d=1, \n",
    "                                     is_d_qw=False, \n",
    "                                     is_drag=False, \n",
    "                                     is_only_xz=False, \n",
    "                                     gains={'cN': 0, 'cModel': 'isotropic', 'dN': 0, 'dModel': 'isotropic'},\n",
    "                                     hand_written_deriv=None, testprint=True, disp=True, Hcheck=True)"
   ]
  },
  {
   "cell_type": "code",
   "execution_count": 21,
   "id": "2c8e3e2f-e913-49fb-9c16-e87d67a50e00",
   "metadata": {},
   "outputs": [
    {
     "name": "stdout",
     "output_type": "stream",
     "text": [
      "\u001b[0m\u001b[1mВектор состояния:\u001b[0m\u001b[0m\n"
     ]
    },
    {
     "data": {
      "text/latex": [
       "$\\displaystyle \\left[\\begin{matrix}r^{d}_{0 x}{\\left(t \\right)} & r^{d}_{0 y}{\\left(t \\right)} & r^{d}_{0 z}{\\left(t \\right)} & v^{d}_{0 x}{\\left(t \\right)} & v^{d}_{0 y}{\\left(t \\right)} & v^{d}_{0 z}{\\left(t \\right)}\\end{matrix}\\right]$"
      ],
      "text/plain": [
       "Matrix([[r_0^d_x(t), r_0^d_y(t), r_0^d_z(t), v_0^d_x(t), v_0^d_y(t), v_0^d_z(t)]])"
      ]
     },
     "metadata": {},
     "output_type": "display_data"
    },
    {
     "name": "stdout",
     "output_type": "stream",
     "text": [
      "\u001b[0m\u001b[1mВектор измерений:\u001b[0m\u001b[0m\n"
     ]
    },
    {
     "data": {
      "text/latex": [
       "$\\displaystyle \\left[\\begin{matrix}\\frac{1}{\\left(r^{c}_{0 x}{\\left(t \\right)} - r^{d}_{0 x}{\\left(t \\right)}\\right)^{2} + \\left(r^{c}_{0 y}{\\left(t \\right)} - r^{d}_{0 y}{\\left(t \\right)}\\right)^{2} + \\left(r^{c}_{0 z}{\\left(t \\right)} - r^{d}_{0 z}{\\left(t \\right)}\\right)^{2}}\\\\\\frac{1}{\\left(- r^{d}_{0 x}{\\left(t \\right)} + r^{c}_{1 x}{\\left(t \\right)}\\right)^{2} + \\left(- r^{d}_{0 y}{\\left(t \\right)} + r^{c}_{1 y}{\\left(t \\right)}\\right)^{2} + \\left(- r^{d}_{0 z}{\\left(t \\right)} + r^{c}_{1 z}{\\left(t \\right)}\\right)^{2}}\\end{matrix}\\right]$"
      ],
      "text/plain": [
       "Matrix([\n",
       "[   1/((r_0^c_x(t) - r_0^d_x(t))**2 + (r_0^c_y(t) - r_0^d_y(t))**2 + (r_0^c_z(t) - r_0^d_z(t))**2)],\n",
       "[1/((-r_0^d_x(t) + r_1^c_x(t))**2 + (-r_0^d_y(t) + r_1^c_y(t))**2 + (-r_0^d_z(t) + r_1^c_z(t))**2)]])"
      ]
     },
     "metadata": {},
     "output_type": "display_data"
    },
    {
     "name": "stdout",
     "output_type": "stream",
     "text": [
      "\u001b[0m\u001b[1mПроверка матрицы H:\u001b[0m\u001b[0m\n"
     ]
    },
    {
     "data": {
      "text/latex": [
       "$\\displaystyle \\left[\\begin{matrix}0 & 0 & 0 & 0 & 0 & 0\\\\0 & 0 & 0 & 0 & 0 & 0\\end{matrix}\\right]$"
      ],
      "text/plain": [
       "Matrix([\n",
       "[0, 0, 0, 0, 0, 0],\n",
       "[0, 0, 0, 0, 0, 0]])"
      ]
     },
     "metadata": {},
     "output_type": "display_data"
    },
    {
     "name": "stdout",
     "output_type": "stream",
     "text": [
      "\u001b[0m\u001b[1mВектор состояния (изменённый):\u001b[0m\u001b[0m\n"
     ]
    },
    {
     "data": {
      "text/latex": [
       "$\\displaystyle \\left[\\begin{matrix}r^{d}_{0 x}{\\left(t \\right)}\\\\r^{d}_{0 z}{\\left(t \\right)}\\\\v^{d}_{0 x}{\\left(t \\right)}\\\\v^{d}_{0 z}{\\left(t \\right)}\\end{matrix}\\right]$"
      ],
      "text/plain": [
       "Matrix([\n",
       "[r_0^d_x(t)],\n",
       "[r_0^d_z(t)],\n",
       "[v_0^d_x(t)],\n",
       "[v_0^d_z(t)]])"
      ]
     },
     "metadata": {},
     "output_type": "display_data"
    },
    {
     "name": "stdout",
     "output_type": "stream",
     "text": [
      "\u001b[0m\u001b[1mДинамика: \n",
      "          dr = \u001b[0m\u001b[0m\n"
     ]
    },
    {
     "data": {
      "text/latex": [
       "$\\displaystyle \\left[\\begin{matrix}v^{d}_{0 x}{\\left(t \\right)}\\\\v^{d}_{0 y}{\\left(t \\right)}\\\\v^{d}_{0 z}{\\left(t \\right)}\\end{matrix}\\right]$"
      ],
      "text/plain": [
       "Matrix([\n",
       "[v_0^d_x(t)],\n",
       "[v_0^d_y(t)],\n",
       "[v_0^d_z(t)]])"
      ]
     },
     "metadata": {},
     "output_type": "display_data"
    },
    {
     "name": "stdout",
     "output_type": "stream",
     "text": [
      "\u001b[0m\u001b[1m          dv = \u001b[0m\u001b[0m\n"
     ]
    },
    {
     "data": {
      "text/latex": [
       "$\\displaystyle \\left[\\begin{matrix}- 2 w_{0} v^{d}_{0 z}{\\left(t \\right)}\\\\- w_{0}^{2} r^{d}_{0 y}{\\left(t \\right)}\\\\3 w_{0}^{2} r^{d}_{0 z}{\\left(t \\right)} + 2 w_{0} v^{d}_{0 x}{\\left(t \\right)}\\end{matrix}\\right]$"
      ],
      "text/plain": [
       "Matrix([\n",
       "[                     -2*w_0*v_0^d_z(t)],\n",
       "[                    -w_0**2*r_0^d_y(t)],\n",
       "[3*w_0**2*r_0^d_z(t) + 2*w_0*v_0^d_x(t)]])"
      ]
     },
     "metadata": {},
     "output_type": "display_data"
    },
    {
     "name": "stdout",
     "output_type": "stream",
     "text": [
      "\u001b[0m\u001b[1m          dq = \u001b[0m\u001b[0m\n"
     ]
    },
    {
     "data": {
      "text/latex": [
       "$\\displaystyle \\left[\\begin{matrix}- 0.5 q^{d}_{0 x}{\\left(t \\right)} ω^{d}_{0 x}{\\left(t \\right)} - 0.5 q^{d}_{0 y}{\\left(t \\right)} ω^{d}_{0 y}{\\left(t \\right)} - 0.5 q^{d}_{0 z}{\\left(t \\right)} ω^{d}_{0 z}{\\left(t \\right)}\\\\0.5 \\sqrt{- \\left(q^{d}_{0 x}\\right)^{2}{\\left(t \\right)} - \\left(q^{d}_{0 y}\\right)^{2}{\\left(t \\right)} - \\left(q^{d}_{0 z}\\right)^{2}{\\left(t \\right)} + 1} ω^{d}_{0 x}{\\left(t \\right)} - 0.5 q^{d}_{0 y}{\\left(t \\right)} ω^{d}_{0 z}{\\left(t \\right)} + 0.5 q^{d}_{0 z}{\\left(t \\right)} ω^{d}_{0 y}{\\left(t \\right)}\\\\0.5 \\sqrt{- \\left(q^{d}_{0 x}\\right)^{2}{\\left(t \\right)} - \\left(q^{d}_{0 y}\\right)^{2}{\\left(t \\right)} - \\left(q^{d}_{0 z}\\right)^{2}{\\left(t \\right)} + 1} ω^{d}_{0 y}{\\left(t \\right)} + 0.5 q^{d}_{0 x}{\\left(t \\right)} ω^{d}_{0 z}{\\left(t \\right)} - 0.5 q^{d}_{0 z}{\\left(t \\right)} ω^{d}_{0 x}{\\left(t \\right)}\\\\0.5 \\sqrt{- \\left(q^{d}_{0 x}\\right)^{2}{\\left(t \\right)} - \\left(q^{d}_{0 y}\\right)^{2}{\\left(t \\right)} - \\left(q^{d}_{0 z}\\right)^{2}{\\left(t \\right)} + 1} ω^{d}_{0 z}{\\left(t \\right)} - 0.5 q^{d}_{0 x}{\\left(t \\right)} ω^{d}_{0 y}{\\left(t \\right)} + 0.5 q^{d}_{0 y}{\\left(t \\right)} ω^{d}_{0 x}{\\left(t \\right)}\\end{matrix}\\right]$"
      ],
      "text/plain": [
       "Matrix([\n",
       "[                                             -0.5*q_0^d_x(t)*ω_0^d_x(t) - 0.5*q_0^d_y(t)*ω_0^d_y(t) - 0.5*q_0^d_z(t)*ω_0^d_z(t)],\n",
       "[0.5*sqrt(-q_0^d_x(t)**2 - q_0^d_y(t)**2 - q_0^d_z(t)**2 + 1)*ω_0^d_x(t) - 0.5*q_0^d_y(t)*ω_0^d_z(t) + 0.5*q_0^d_z(t)*ω_0^d_y(t)],\n",
       "[0.5*sqrt(-q_0^d_x(t)**2 - q_0^d_y(t)**2 - q_0^d_z(t)**2 + 1)*ω_0^d_y(t) + 0.5*q_0^d_x(t)*ω_0^d_z(t) - 0.5*q_0^d_z(t)*ω_0^d_x(t)],\n",
       "[0.5*sqrt(-q_0^d_x(t)**2 - q_0^d_y(t)**2 - q_0^d_z(t)**2 + 1)*ω_0^d_z(t) - 0.5*q_0^d_x(t)*ω_0^d_y(t) + 0.5*q_0^d_y(t)*ω_0^d_x(t)]])"
      ]
     },
     "metadata": {},
     "output_type": "display_data"
    },
    {
     "name": "stdout",
     "output_type": "stream",
     "text": [
      "\u001b[0m\u001b[1m          dω = \u001b[0m\u001b[0m\n",
      "\u001b[0m\u001b[1mКоличество кубсатов: 2\n",
      "Количество чипсатов: 1\n",
      "\u001b[0m\u001b[0m\n",
      "Неизвестные: n = 4 (на каждый чипсат по 4 параметров)\n",
      "Известные: l = 2\n",
      "∃ производные порядка k = 2.0 (Должна быть целой!)\n",
      "Критерий (055): происзводные порядка 7.0\n",
      "_расчёт матрицы H_: k=1/2, l=1/2\n",
      "_расчёт матрицы H_: k=1/2, l=2/2\n",
      "_расчёт матрицы H_: k=2/2, l=1/2\n",
      "_расчёт матрицы H_: k=2/2, l=2/2\n",
      "Размерность матрицы H: (4, 1)\n",
      "Размерность матрицы J: (4, 4)\n",
      "v = [5.64505521e-12 1.41125534e-12 1.00240343e-14 2.50600588e-15]\n",
      "σₘₙ/σₘₐₓ = 2.5060058806704693e-15/5.645055205529411e-12 = 0.0004439293841122761 | σ>10⁻⁵: 0/4 (статья 051)\n",
      "\n",
      "Ранг матрицы: [0, 0, 3, 4, 4, 4] (статья 055)\n",
      "Детерминант матрицы: 1.4146506758657842e-26\n",
      "Следующие параметры не должны быть нулевыми:\n",
      "\n",
      "Δ_0 = -3.409860090481984e-20\n",
      "\n",
      "\u001b[1mНе выполнено достаточное условие. Нулевой параметр: Δ_0 = -3.409860090481984e-20\u001b[0m\n"
     ]
    }
   ],
   "source": [
    "H, J, Jn, Δ, report = observe_system(n_c=2, \n",
    "                                     n_d=1, \n",
    "                                     is_d_qw=False, \n",
    "                                     is_drag=False, \n",
    "                                     is_only_xz=True, \n",
    "                                     gains={'cN': 0, 'cModel': 'isotropic', 'dN': 0, 'dModel': 'isotropic'},\n",
    "                                     hand_written_deriv=None, testprint=True, disp=True, Hcheck=True)"
   ]
  },
  {
   "cell_type": "code",
   "execution_count": 22,
   "id": "971e184d-8cb2-490e-b6dd-f3069ba3ed20",
   "metadata": {},
   "outputs": [
    {
     "name": "stdout",
     "output_type": "stream",
     "text": [
      "\u001b[0m\u001b[1mВектор состояния:\u001b[0m\u001b[0m\n"
     ]
    },
    {
     "data": {
      "text/latex": [
       "$\\displaystyle \\left[\\begin{matrix}r^{d}_{0 x}{\\left(t \\right)} & r^{d}_{0 y}{\\left(t \\right)} & r^{d}_{0 z}{\\left(t \\right)} & v^{d}_{0 x}{\\left(t \\right)} & v^{d}_{0 y}{\\left(t \\right)} & v^{d}_{0 z}{\\left(t \\right)}\\end{matrix}\\right]$"
      ],
      "text/plain": [
       "Matrix([[r_0^d_x(t), r_0^d_y(t), r_0^d_z(t), v_0^d_x(t), v_0^d_y(t), v_0^d_z(t)]])"
      ]
     },
     "metadata": {},
     "output_type": "display_data"
    },
    {
     "name": "stdout",
     "output_type": "stream",
     "text": [
      "\u001b[0m\u001b[1mВектор измерений:\u001b[0m\u001b[0m\n"
     ]
    },
    {
     "data": {
      "text/latex": [
       "$\\displaystyle \\left[\\begin{matrix}\\frac{1}{\\left(r^{c}_{0 x}{\\left(t \\right)} - r^{d}_{0 x}{\\left(t \\right)}\\right)^{2} + \\left(r^{c}_{0 y}{\\left(t \\right)} - r^{d}_{0 y}{\\left(t \\right)}\\right)^{2} + \\left(r^{c}_{0 z}{\\left(t \\right)} - r^{d}_{0 z}{\\left(t \\right)}\\right)^{2}}\\\\\\frac{1}{\\left(- r^{d}_{0 x}{\\left(t \\right)} + r^{c}_{1 x}{\\left(t \\right)}\\right)^{2} + \\left(- r^{d}_{0 y}{\\left(t \\right)} + r^{c}_{1 y}{\\left(t \\right)}\\right)^{2} + \\left(- r^{d}_{0 z}{\\left(t \\right)} + r^{c}_{1 z}{\\left(t \\right)}\\right)^{2}}\\\\\\frac{1}{\\left(- r^{d}_{0 x}{\\left(t \\right)} + r^{c}_{2 x}{\\left(t \\right)}\\right)^{2} + \\left(- r^{d}_{0 y}{\\left(t \\right)} + r^{c}_{2 y}{\\left(t \\right)}\\right)^{2} + \\left(- r^{d}_{0 z}{\\left(t \\right)} + r^{c}_{2 z}{\\left(t \\right)}\\right)^{2}}\\end{matrix}\\right]$"
      ],
      "text/plain": [
       "Matrix([\n",
       "[   1/((r_0^c_x(t) - r_0^d_x(t))**2 + (r_0^c_y(t) - r_0^d_y(t))**2 + (r_0^c_z(t) - r_0^d_z(t))**2)],\n",
       "[1/((-r_0^d_x(t) + r_1^c_x(t))**2 + (-r_0^d_y(t) + r_1^c_y(t))**2 + (-r_0^d_z(t) + r_1^c_z(t))**2)],\n",
       "[1/((-r_0^d_x(t) + r_2^c_x(t))**2 + (-r_0^d_y(t) + r_2^c_y(t))**2 + (-r_0^d_z(t) + r_2^c_z(t))**2)]])"
      ]
     },
     "metadata": {},
     "output_type": "display_data"
    },
    {
     "name": "stdout",
     "output_type": "stream",
     "text": [
      "\u001b[0m\u001b[1mПроверка матрицы H:\u001b[0m\u001b[0m\n"
     ]
    },
    {
     "data": {
      "text/latex": [
       "$\\displaystyle \\left[\\begin{matrix}0 & 0 & 0 & 0 & 0 & 0\\\\0 & 0 & 0 & 0 & 0 & 0\\\\0 & 0 & 0 & 0 & 0 & 0\\end{matrix}\\right]$"
      ],
      "text/plain": [
       "Matrix([\n",
       "[0, 0, 0, 0, 0, 0],\n",
       "[0, 0, 0, 0, 0, 0],\n",
       "[0, 0, 0, 0, 0, 0]])"
      ]
     },
     "metadata": {},
     "output_type": "display_data"
    },
    {
     "name": "stdout",
     "output_type": "stream",
     "text": [
      "\u001b[0m\u001b[1mДинамика: \n",
      "          dr = \u001b[0m\u001b[0m\n"
     ]
    },
    {
     "data": {
      "text/latex": [
       "$\\displaystyle \\left[\\begin{matrix}v^{d}_{0 x}{\\left(t \\right)}\\\\v^{d}_{0 y}{\\left(t \\right)}\\\\v^{d}_{0 z}{\\left(t \\right)}\\end{matrix}\\right]$"
      ],
      "text/plain": [
       "Matrix([\n",
       "[v_0^d_x(t)],\n",
       "[v_0^d_y(t)],\n",
       "[v_0^d_z(t)]])"
      ]
     },
     "metadata": {},
     "output_type": "display_data"
    },
    {
     "name": "stdout",
     "output_type": "stream",
     "text": [
      "\u001b[0m\u001b[1m          dv = \u001b[0m\u001b[0m\n"
     ]
    },
    {
     "data": {
      "text/latex": [
       "$\\displaystyle \\left[\\begin{matrix}- 2 w_{0} v^{d}_{0 z}{\\left(t \\right)}\\\\- w_{0}^{2} r^{d}_{0 y}{\\left(t \\right)}\\\\3 w_{0}^{2} r^{d}_{0 z}{\\left(t \\right)} + 2 w_{0} v^{d}_{0 x}{\\left(t \\right)}\\end{matrix}\\right]$"
      ],
      "text/plain": [
       "Matrix([\n",
       "[                     -2*w_0*v_0^d_z(t)],\n",
       "[                    -w_0**2*r_0^d_y(t)],\n",
       "[3*w_0**2*r_0^d_z(t) + 2*w_0*v_0^d_x(t)]])"
      ]
     },
     "metadata": {},
     "output_type": "display_data"
    },
    {
     "name": "stdout",
     "output_type": "stream",
     "text": [
      "\u001b[0m\u001b[1m          dq = \u001b[0m\u001b[0m\n"
     ]
    },
    {
     "data": {
      "text/latex": [
       "$\\displaystyle \\left[\\begin{matrix}- 0.5 q^{d}_{0 x}{\\left(t \\right)} ω^{d}_{0 x}{\\left(t \\right)} - 0.5 q^{d}_{0 y}{\\left(t \\right)} ω^{d}_{0 y}{\\left(t \\right)} - 0.5 q^{d}_{0 z}{\\left(t \\right)} ω^{d}_{0 z}{\\left(t \\right)}\\\\0.5 \\sqrt{- \\left(q^{d}_{0 x}\\right)^{2}{\\left(t \\right)} - \\left(q^{d}_{0 y}\\right)^{2}{\\left(t \\right)} - \\left(q^{d}_{0 z}\\right)^{2}{\\left(t \\right)} + 1} ω^{d}_{0 x}{\\left(t \\right)} - 0.5 q^{d}_{0 y}{\\left(t \\right)} ω^{d}_{0 z}{\\left(t \\right)} + 0.5 q^{d}_{0 z}{\\left(t \\right)} ω^{d}_{0 y}{\\left(t \\right)}\\\\0.5 \\sqrt{- \\left(q^{d}_{0 x}\\right)^{2}{\\left(t \\right)} - \\left(q^{d}_{0 y}\\right)^{2}{\\left(t \\right)} - \\left(q^{d}_{0 z}\\right)^{2}{\\left(t \\right)} + 1} ω^{d}_{0 y}{\\left(t \\right)} + 0.5 q^{d}_{0 x}{\\left(t \\right)} ω^{d}_{0 z}{\\left(t \\right)} - 0.5 q^{d}_{0 z}{\\left(t \\right)} ω^{d}_{0 x}{\\left(t \\right)}\\\\0.5 \\sqrt{- \\left(q^{d}_{0 x}\\right)^{2}{\\left(t \\right)} - \\left(q^{d}_{0 y}\\right)^{2}{\\left(t \\right)} - \\left(q^{d}_{0 z}\\right)^{2}{\\left(t \\right)} + 1} ω^{d}_{0 z}{\\left(t \\right)} - 0.5 q^{d}_{0 x}{\\left(t \\right)} ω^{d}_{0 y}{\\left(t \\right)} + 0.5 q^{d}_{0 y}{\\left(t \\right)} ω^{d}_{0 x}{\\left(t \\right)}\\end{matrix}\\right]$"
      ],
      "text/plain": [
       "Matrix([\n",
       "[                                             -0.5*q_0^d_x(t)*ω_0^d_x(t) - 0.5*q_0^d_y(t)*ω_0^d_y(t) - 0.5*q_0^d_z(t)*ω_0^d_z(t)],\n",
       "[0.5*sqrt(-q_0^d_x(t)**2 - q_0^d_y(t)**2 - q_0^d_z(t)**2 + 1)*ω_0^d_x(t) - 0.5*q_0^d_y(t)*ω_0^d_z(t) + 0.5*q_0^d_z(t)*ω_0^d_y(t)],\n",
       "[0.5*sqrt(-q_0^d_x(t)**2 - q_0^d_y(t)**2 - q_0^d_z(t)**2 + 1)*ω_0^d_y(t) + 0.5*q_0^d_x(t)*ω_0^d_z(t) - 0.5*q_0^d_z(t)*ω_0^d_x(t)],\n",
       "[0.5*sqrt(-q_0^d_x(t)**2 - q_0^d_y(t)**2 - q_0^d_z(t)**2 + 1)*ω_0^d_z(t) - 0.5*q_0^d_x(t)*ω_0^d_y(t) + 0.5*q_0^d_y(t)*ω_0^d_x(t)]])"
      ]
     },
     "metadata": {},
     "output_type": "display_data"
    },
    {
     "name": "stdout",
     "output_type": "stream",
     "text": [
      "\u001b[0m\u001b[1m          dω = \u001b[0m\u001b[0m\n",
      "\u001b[0m\u001b[1mКоличество кубсатов: 3\n",
      "Количество чипсатов: 1\n",
      "\u001b[0m\u001b[0m\n",
      "Неизвестные: n = 6 (на каждый чипсат по 6 параметров)\n",
      "Известные: l = 3\n",
      "∃ производные порядка k = 2.0 (Должна быть целой!)\n",
      "Критерий (055): происзводные порядка 9.0\n",
      "_расчёт матрицы H_: k=1/2, l=1/3\n",
      "_расчёт матрицы H_: k=1/2, l=2/3\n",
      "_расчёт матрицы H_: k=1/2, l=3/3\n",
      "_расчёт матрицы H_: k=2/2, l=1/3\n",
      "_расчёт матрицы H_: k=2/2, l=2/3\n",
      "_расчёт матрицы H_: k=2/2, l=3/3\n",
      "Размерность матрицы H: (6, 1)\n",
      "Размерность матрицы J: (6, 6)\n",
      "v = [3.30602524e-11 1.34800053e-11 8.26502323e-12 3.36995622e-12\n",
      " 2.35065775e-14 5.86949778e-15]\n",
      "σₘₙ/σₘₐₓ = 5.869497775830564e-15/3.306025239349316e-11 = 0.00017753941216086373 | σ>10⁻⁵: 0/6 (статья 051)\n",
      "\n",
      "Ранг матрицы: [0, 0, 5, 6, 6, 6] (статья 055)\n",
      "Детерминант матрицы: 1.3086618856841873e-36\n",
      "Следующие параметры не должны быть нулевыми:\n",
      "\n",
      "Δ_0 = 1.401818648470408e-29\n",
      "\n",
      "\u001b[1mНе выполнено достаточное условие. Нулевой параметр: Δ_0 = 1.401818648470408e-29\u001b[0m\n"
     ]
    }
   ],
   "source": [
    "H, J, Jn, Δ, report = observe_system(n_c=3, \n",
    "                                     n_d=1, \n",
    "                                     is_d_qw=False, \n",
    "                                     is_drag=False, \n",
    "                                     is_only_xz=False, \n",
    "                                     gains={'cN': 0, 'cModel': 'isotropic', 'dN': 0, 'dModel': 'isotropic'},\n",
    "                                     hand_written_deriv=None, testprint=True, disp=True, Hcheck=True)"
   ]
  },
  {
   "cell_type": "code",
   "execution_count": 23,
   "id": "0a9b6d24-13b5-4a57-94e0-edd0fe74c59e",
   "metadata": {},
   "outputs": [
    {
     "name": "stdout",
     "output_type": "stream",
     "text": [
      "\u001b[0m\u001b[1mВектор состояния:\u001b[0m\u001b[0m\n"
     ]
    },
    {
     "data": {
      "text/latex": [
       "$\\displaystyle \\left[\\begin{matrix}r^{d}_{0 x}{\\left(t \\right)} & r^{d}_{0 y}{\\left(t \\right)} & r^{d}_{0 z}{\\left(t \\right)} & v^{d}_{0 x}{\\left(t \\right)} & v^{d}_{0 y}{\\left(t \\right)} & v^{d}_{0 z}{\\left(t \\right)}\\end{matrix}\\right]$"
      ],
      "text/plain": [
       "Matrix([[r_0^d_x(t), r_0^d_y(t), r_0^d_z(t), v_0^d_x(t), v_0^d_y(t), v_0^d_z(t)]])"
      ]
     },
     "metadata": {},
     "output_type": "display_data"
    },
    {
     "name": "stdout",
     "output_type": "stream",
     "text": [
      "\u001b[0m\u001b[1mВектор измерений:\u001b[0m\u001b[0m\n"
     ]
    },
    {
     "data": {
      "text/latex": [
       "$\\displaystyle \\left[\\begin{matrix}\\frac{1}{\\left(r^{c}_{0 x}{\\left(t \\right)} - r^{d}_{0 x}{\\left(t \\right)}\\right)^{2} + \\left(r^{c}_{0 y}{\\left(t \\right)} - r^{d}_{0 y}{\\left(t \\right)}\\right)^{2} + \\left(r^{c}_{0 z}{\\left(t \\right)} - r^{d}_{0 z}{\\left(t \\right)}\\right)^{2}}\\\\\\frac{1}{\\left(- r^{d}_{0 x}{\\left(t \\right)} + r^{c}_{1 x}{\\left(t \\right)}\\right)^{2} + \\left(- r^{d}_{0 y}{\\left(t \\right)} + r^{c}_{1 y}{\\left(t \\right)}\\right)^{2} + \\left(- r^{d}_{0 z}{\\left(t \\right)} + r^{c}_{1 z}{\\left(t \\right)}\\right)^{2}}\\\\\\frac{1}{\\left(- r^{d}_{0 x}{\\left(t \\right)} + r^{c}_{2 x}{\\left(t \\right)}\\right)^{2} + \\left(- r^{d}_{0 y}{\\left(t \\right)} + r^{c}_{2 y}{\\left(t \\right)}\\right)^{2} + \\left(- r^{d}_{0 z}{\\left(t \\right)} + r^{c}_{2 z}{\\left(t \\right)}\\right)^{2}}\\\\\\frac{1}{\\left(- r^{d}_{0 x}{\\left(t \\right)} + r^{c}_{3 x}{\\left(t \\right)}\\right)^{2} + \\left(- r^{d}_{0 y}{\\left(t \\right)} + r^{c}_{3 y}{\\left(t \\right)}\\right)^{2} + \\left(- r^{d}_{0 z}{\\left(t \\right)} + r^{c}_{3 z}{\\left(t \\right)}\\right)^{2}}\\\\\\frac{1}{\\left(- r^{d}_{0 x}{\\left(t \\right)} + r^{c}_{4 x}{\\left(t \\right)}\\right)^{2} + \\left(- r^{d}_{0 y}{\\left(t \\right)} + r^{c}_{4 y}{\\left(t \\right)}\\right)^{2} + \\left(- r^{d}_{0 z}{\\left(t \\right)} + r^{c}_{4 z}{\\left(t \\right)}\\right)^{2}}\\\\\\frac{1}{\\left(- r^{d}_{0 x}{\\left(t \\right)} + r^{c}_{5 x}{\\left(t \\right)}\\right)^{2} + \\left(- r^{d}_{0 y}{\\left(t \\right)} + r^{c}_{5 y}{\\left(t \\right)}\\right)^{2} + \\left(- r^{d}_{0 z}{\\left(t \\right)} + r^{c}_{5 z}{\\left(t \\right)}\\right)^{2}}\\end{matrix}\\right]$"
      ],
      "text/plain": [
       "Matrix([\n",
       "[   1/((r_0^c_x(t) - r_0^d_x(t))**2 + (r_0^c_y(t) - r_0^d_y(t))**2 + (r_0^c_z(t) - r_0^d_z(t))**2)],\n",
       "[1/((-r_0^d_x(t) + r_1^c_x(t))**2 + (-r_0^d_y(t) + r_1^c_y(t))**2 + (-r_0^d_z(t) + r_1^c_z(t))**2)],\n",
       "[1/((-r_0^d_x(t) + r_2^c_x(t))**2 + (-r_0^d_y(t) + r_2^c_y(t))**2 + (-r_0^d_z(t) + r_2^c_z(t))**2)],\n",
       "[1/((-r_0^d_x(t) + r_3^c_x(t))**2 + (-r_0^d_y(t) + r_3^c_y(t))**2 + (-r_0^d_z(t) + r_3^c_z(t))**2)],\n",
       "[1/((-r_0^d_x(t) + r_4^c_x(t))**2 + (-r_0^d_y(t) + r_4^c_y(t))**2 + (-r_0^d_z(t) + r_4^c_z(t))**2)],\n",
       "[1/((-r_0^d_x(t) + r_5^c_x(t))**2 + (-r_0^d_y(t) + r_5^c_y(t))**2 + (-r_0^d_z(t) + r_5^c_z(t))**2)]])"
      ]
     },
     "metadata": {},
     "output_type": "display_data"
    },
    {
     "name": "stdout",
     "output_type": "stream",
     "text": [
      "\u001b[0m\u001b[1mПроверка матрицы H:\u001b[0m\u001b[0m\n"
     ]
    },
    {
     "data": {
      "text/latex": [
       "$\\displaystyle \\left[\\begin{matrix}0 & 0 & 0 & 0 & 0 & 0\\\\0 & 0 & 0 & 0 & 0 & 0\\\\0 & 0 & 0 & 0 & 0 & 0\\\\0 & 0 & 0 & 0 & 0 & 0\\\\0 & 0 & 0 & 0 & 0 & 0\\\\0 & 0 & 0 & 0 & 0 & 0\\end{matrix}\\right]$"
      ],
      "text/plain": [
       "Matrix([\n",
       "[0, 0, 0, 0, 0, 0],\n",
       "[0, 0, 0, 0, 0, 0],\n",
       "[0, 0, 0, 0, 0, 0],\n",
       "[0, 0, 0, 0, 0, 0],\n",
       "[0, 0, 0, 0, 0, 0],\n",
       "[0, 0, 0, 0, 0, 0]])"
      ]
     },
     "metadata": {},
     "output_type": "display_data"
    },
    {
     "name": "stdout",
     "output_type": "stream",
     "text": [
      "\u001b[0m\u001b[1mДинамика: \n",
      "          dr = \u001b[0m\u001b[0m\n"
     ]
    },
    {
     "data": {
      "text/latex": [
       "$\\displaystyle \\left[\\begin{matrix}v^{d}_{0 x}{\\left(t \\right)}\\\\v^{d}_{0 y}{\\left(t \\right)}\\\\v^{d}_{0 z}{\\left(t \\right)}\\end{matrix}\\right]$"
      ],
      "text/plain": [
       "Matrix([\n",
       "[v_0^d_x(t)],\n",
       "[v_0^d_y(t)],\n",
       "[v_0^d_z(t)]])"
      ]
     },
     "metadata": {},
     "output_type": "display_data"
    },
    {
     "name": "stdout",
     "output_type": "stream",
     "text": [
      "\u001b[0m\u001b[1m          dv = \u001b[0m\u001b[0m\n"
     ]
    },
    {
     "data": {
      "text/latex": [
       "$\\displaystyle \\left[\\begin{matrix}- 2 w_{0} v^{d}_{0 z}{\\left(t \\right)}\\\\- w_{0}^{2} r^{d}_{0 y}{\\left(t \\right)}\\\\3 w_{0}^{2} r^{d}_{0 z}{\\left(t \\right)} + 2 w_{0} v^{d}_{0 x}{\\left(t \\right)}\\end{matrix}\\right]$"
      ],
      "text/plain": [
       "Matrix([\n",
       "[                     -2*w_0*v_0^d_z(t)],\n",
       "[                    -w_0**2*r_0^d_y(t)],\n",
       "[3*w_0**2*r_0^d_z(t) + 2*w_0*v_0^d_x(t)]])"
      ]
     },
     "metadata": {},
     "output_type": "display_data"
    },
    {
     "name": "stdout",
     "output_type": "stream",
     "text": [
      "\u001b[0m\u001b[1m          dq = \u001b[0m\u001b[0m\n"
     ]
    },
    {
     "data": {
      "text/latex": [
       "$\\displaystyle \\left[\\begin{matrix}- 0.5 q^{d}_{0 x}{\\left(t \\right)} ω^{d}_{0 x}{\\left(t \\right)} - 0.5 q^{d}_{0 y}{\\left(t \\right)} ω^{d}_{0 y}{\\left(t \\right)} - 0.5 q^{d}_{0 z}{\\left(t \\right)} ω^{d}_{0 z}{\\left(t \\right)}\\\\0.5 \\sqrt{- \\left(q^{d}_{0 x}\\right)^{2}{\\left(t \\right)} - \\left(q^{d}_{0 y}\\right)^{2}{\\left(t \\right)} - \\left(q^{d}_{0 z}\\right)^{2}{\\left(t \\right)} + 1} ω^{d}_{0 x}{\\left(t \\right)} - 0.5 q^{d}_{0 y}{\\left(t \\right)} ω^{d}_{0 z}{\\left(t \\right)} + 0.5 q^{d}_{0 z}{\\left(t \\right)} ω^{d}_{0 y}{\\left(t \\right)}\\\\0.5 \\sqrt{- \\left(q^{d}_{0 x}\\right)^{2}{\\left(t \\right)} - \\left(q^{d}_{0 y}\\right)^{2}{\\left(t \\right)} - \\left(q^{d}_{0 z}\\right)^{2}{\\left(t \\right)} + 1} ω^{d}_{0 y}{\\left(t \\right)} + 0.5 q^{d}_{0 x}{\\left(t \\right)} ω^{d}_{0 z}{\\left(t \\right)} - 0.5 q^{d}_{0 z}{\\left(t \\right)} ω^{d}_{0 x}{\\left(t \\right)}\\\\0.5 \\sqrt{- \\left(q^{d}_{0 x}\\right)^{2}{\\left(t \\right)} - \\left(q^{d}_{0 y}\\right)^{2}{\\left(t \\right)} - \\left(q^{d}_{0 z}\\right)^{2}{\\left(t \\right)} + 1} ω^{d}_{0 z}{\\left(t \\right)} - 0.5 q^{d}_{0 x}{\\left(t \\right)} ω^{d}_{0 y}{\\left(t \\right)} + 0.5 q^{d}_{0 y}{\\left(t \\right)} ω^{d}_{0 x}{\\left(t \\right)}\\end{matrix}\\right]$"
      ],
      "text/plain": [
       "Matrix([\n",
       "[                                             -0.5*q_0^d_x(t)*ω_0^d_x(t) - 0.5*q_0^d_y(t)*ω_0^d_y(t) - 0.5*q_0^d_z(t)*ω_0^d_z(t)],\n",
       "[0.5*sqrt(-q_0^d_x(t)**2 - q_0^d_y(t)**2 - q_0^d_z(t)**2 + 1)*ω_0^d_x(t) - 0.5*q_0^d_y(t)*ω_0^d_z(t) + 0.5*q_0^d_z(t)*ω_0^d_y(t)],\n",
       "[0.5*sqrt(-q_0^d_x(t)**2 - q_0^d_y(t)**2 - q_0^d_z(t)**2 + 1)*ω_0^d_y(t) + 0.5*q_0^d_x(t)*ω_0^d_z(t) - 0.5*q_0^d_z(t)*ω_0^d_x(t)],\n",
       "[0.5*sqrt(-q_0^d_x(t)**2 - q_0^d_y(t)**2 - q_0^d_z(t)**2 + 1)*ω_0^d_z(t) - 0.5*q_0^d_x(t)*ω_0^d_y(t) + 0.5*q_0^d_y(t)*ω_0^d_x(t)]])"
      ]
     },
     "metadata": {},
     "output_type": "display_data"
    },
    {
     "name": "stdout",
     "output_type": "stream",
     "text": [
      "\u001b[0m\u001b[1m          dω = \u001b[0m\u001b[0m\n",
      "\u001b[0m\u001b[1mКоличество кубсатов: 6\n",
      "Количество чипсатов: 1\n",
      "\u001b[0m\u001b[0m\n",
      "Неизвестные: n = 6 (на каждый чипсат по 6 параметров)\n",
      "Известные: l = 6\n",
      "∃ производные порядка k = 1.0 (Должна быть целой!)\n",
      "Критерий (055): происзводные порядка 4.5\n",
      "_расчёт матрицы H_: k=1/1, l=1/6\n",
      "_расчёт матрицы H_: k=1/1, l=2/6\n",
      "_расчёт матрицы H_: k=1/1, l=3/6\n",
      "_расчёт матрицы H_: k=1/1, l=4/6\n",
      "_расчёт матрицы H_: k=1/1, l=5/6\n",
      "_расчёт матрицы H_: k=1/1, l=6/6\n",
      "Размерность матрицы H: (6, 1)\n",
      "Размерность матрицы J: (6, 6)\n",
      "v = [7.67350704e-10 6.64408111e-13 5.59258664e-15 0.00000000e+00\n",
      " 0.00000000e+00 0.00000000e+00]\n",
      "σₘₙ/σₘₐₓ = 0.0/7.673507040489054e-10 = 0.0 | σ>10⁻⁵: 0/6 (статья 051)\n",
      "\n",
      "Ранг матрицы: [0, 1, 2, 3, 3, 3] (статья 055)\n",
      "Детерминант матрицы: 0.0\n",
      "Следующие параметры не должны быть нулевыми:\n",
      "\n",
      "Δ_0 = 0.0\n",
      "\n",
      "\u001b[1mНе выполнено достаточное условие. Нулевой параметр: Δ_0 = 0.0\u001b[0m\n"
     ]
    }
   ],
   "source": [
    "H, J, Jn, Δ, report = observe_system(n_c=6, \n",
    "                                     n_d=1, \n",
    "                                     is_d_qw=False, \n",
    "                                     is_drag=False, \n",
    "                                     is_only_xz=False, \n",
    "                                     gains={'cN': 0, 'cModel': 'isotropic', 'dN': 0, 'dModel': 'isotropic'},\n",
    "                                     hand_written_deriv=None, testprint=True, disp=True, Hcheck=True)"
   ]
  },
  {
   "cell_type": "markdown",
   "id": "ec908404-8a0a-4100-94f8-2314d33c689c",
   "metadata": {
    "jp-MarkdownHeadingCollapsed": true
   },
   "source": [
    "###### <u>Наблюдаемость системы</u> c аэродинамикой, без углового движения, антенны изотропные"
   ]
  },
  {
   "cell_type": "code",
   "execution_count": null,
   "id": "778190b3-c8e2-4dbc-b008-0d7079165ff3",
   "metadata": {},
   "outputs": [],
   "source": [
    "H, J, Jn, Δ, report = observe_system(n_c=2, \n",
    "                                     n_d=1, \n",
    "                                     is_d_qw=False, \n",
    "                                     is_drag=True, \n",
    "                                     is_only_xz=False, \n",
    "                                     gains={'cN': 0, 'cModel': 'isotropic', 'dN': 0, 'dModel': 'isotropic'},\n",
    "                                     hand_written_deriv=None, testprint=True, disp=True, Hcheck=True)"
   ]
  },
  {
   "cell_type": "code",
   "execution_count": null,
   "id": "7dae3198-160f-4f81-853a-84c864ba2b42",
   "metadata": {},
   "outputs": [],
   "source": [
    "H, J, Jn, Δ, report = observe_system(n_c=1, \n",
    "                                     n_d=1, \n",
    "                                     is_d_qw=False, \n",
    "                                     is_drag=True, \n",
    "                                     is_only_xz=True, \n",
    "                                     gains={'cN': 0, 'cModel': 'isotropic', 'dN': 0, 'dModel': 'isotropic'},\n",
    "                                     hand_written_deriv=None, testprint=True, disp=True, Hcheck=True)"
   ]
  },
  {
   "cell_type": "code",
   "execution_count": null,
   "id": "76d1b869-61b2-45f3-a63f-996896f2ffa6",
   "metadata": {},
   "outputs": [],
   "source": [
    "H, J, Jn, Δ, report = observe_system(n_c=2, \n",
    "                                     n_d=5, \n",
    "                                     is_d_qw=False, \n",
    "                                     is_drag=True, \n",
    "                                     is_only_xz=True, \n",
    "                                     gains={'cN': 0, 'cModel': 'isotropic', 'dN': 0, 'dModel': 'isotropic'},\n",
    "                                     hand_written_deriv=None, testprint=True, disp=True, Hcheck=True)"
   ]
  },
  {
   "cell_type": "markdown",
   "id": "9f0433b6-0f3a-40a7-972e-daee8b4befc9",
   "metadata": {
    "jp-MarkdownHeadingCollapsed": true
   },
   "source": [
    "###### <u>Наблюдаемость системы</u> без аэродинамики, без углового движения, 1 антенна - 1/4 монополь"
   ]
  },
  {
   "cell_type": "code",
   "execution_count": null,
   "id": "1cd96e07-9aec-4f71-bfec-b4ac258807f6",
   "metadata": {},
   "outputs": [],
   "source": [
    "H, J, Jn, Δ, report = observe_system(n_c=1, \n",
    "                                     n_d=5, \n",
    "                                     is_d_qw=False, \n",
    "                                     is_drag=False, \n",
    "                                     is_only_xz=False, \n",
    "                                     gains={'cN': 1, 'cModel': '1 antenna', 'dN': 1, 'dModel': '1 antenna'},\n",
    "                                     hand_written_deriv=None, testprint=True, disp=False, Hcheck=False)"
   ]
  },
  {
   "cell_type": "code",
   "execution_count": 16,
   "id": "3844e1ff-6eb3-4d70-8b41-d6357e9d5aab",
   "metadata": {
    "scrolled": true
   },
   "outputs": [
    {
     "name": "stdout",
     "output_type": "stream",
     "text": [
      "\u001b[0m\u001b[1mВектор состояния:\u001b[0m\u001b[0m\n"
     ]
    },
    {
     "data": {
      "text/latex": [
       "$\\displaystyle \\left[\\begin{array}{cccccccccccccccccccccccccccccccccccccccccccccccccccccccccccccccccc}r^{d}_{0 x}{\\left(t \\right)} & r^{d}_{0 y}{\\left(t \\right)} & r^{d}_{0 z}{\\left(t \\right)} & v^{d}_{0 x}{\\left(t \\right)} & v^{d}_{0 y}{\\left(t \\right)} & v^{d}_{0 z}{\\left(t \\right)} & r^{d}_{1 x}{\\left(t \\right)} & r^{d}_{1 y}{\\left(t \\right)} & r^{d}_{1 z}{\\left(t \\right)} & v^{d}_{1 x}{\\left(t \\right)} & v^{d}_{1 y}{\\left(t \\right)} & v^{d}_{1 z}{\\left(t \\right)} & r^{d}_{2 x}{\\left(t \\right)} & r^{d}_{2 y}{\\left(t \\right)} & r^{d}_{2 z}{\\left(t \\right)} & v^{d}_{2 x}{\\left(t \\right)} & v^{d}_{2 y}{\\left(t \\right)} & v^{d}_{2 z}{\\left(t \\right)} & r^{d}_{3 x}{\\left(t \\right)} & r^{d}_{3 y}{\\left(t \\right)} & r^{d}_{3 z}{\\left(t \\right)} & v^{d}_{3 x}{\\left(t \\right)} & v^{d}_{3 y}{\\left(t \\right)} & v^{d}_{3 z}{\\left(t \\right)} & r^{d}_{4 x}{\\left(t \\right)} & r^{d}_{4 y}{\\left(t \\right)} & r^{d}_{4 z}{\\left(t \\right)} & v^{d}_{4 x}{\\left(t \\right)} & v^{d}_{4 y}{\\left(t \\right)} & v^{d}_{4 z}{\\left(t \\right)} & r^{d}_{5 x}{\\left(t \\right)} & r^{d}_{5 y}{\\left(t \\right)} & r^{d}_{5 z}{\\left(t \\right)} & v^{d}_{5 x}{\\left(t \\right)} & v^{d}_{5 y}{\\left(t \\right)} & v^{d}_{5 z}{\\left(t \\right)} & r^{d}_{6 x}{\\left(t \\right)} & r^{d}_{6 y}{\\left(t \\right)} & r^{d}_{6 z}{\\left(t \\right)} & v^{d}_{6 x}{\\left(t \\right)} & v^{d}_{6 y}{\\left(t \\right)} & v^{d}_{6 z}{\\left(t \\right)} & r^{d}_{7 x}{\\left(t \\right)} & r^{d}_{7 y}{\\left(t \\right)} & r^{d}_{7 z}{\\left(t \\right)} & v^{d}_{7 x}{\\left(t \\right)} & v^{d}_{7 y}{\\left(t \\right)} & v^{d}_{7 z}{\\left(t \\right)} & r^{d}_{8 x}{\\left(t \\right)} & r^{d}_{8 y}{\\left(t \\right)} & r^{d}_{8 z}{\\left(t \\right)} & v^{d}_{8 x}{\\left(t \\right)} & v^{d}_{8 y}{\\left(t \\right)} & v^{d}_{8 z}{\\left(t \\right)} & r^{d}_{9 x}{\\left(t \\right)} & r^{d}_{9 y}{\\left(t \\right)} & r^{d}_{9 z}{\\left(t \\right)} & v^{d}_{9 x}{\\left(t \\right)} & v^{d}_{9 y}{\\left(t \\right)} & v^{d}_{9 z}{\\left(t \\right)} & r^{d}_{10 x}{\\left(t \\right)} & r^{d}_{10 y}{\\left(t \\right)} & r^{d}_{10 z}{\\left(t \\right)} & v^{d}_{10 x}{\\left(t \\right)} & v^{d}_{10 y}{\\left(t \\right)} & v^{d}_{10 z}{\\left(t \\right)}\\end{array}\\right]$"
      ],
      "text/plain": [
       "Matrix([[r_0^d_x(t), r_0^d_y(t), r_0^d_z(t), v_0^d_x(t), v_0^d_y(t), v_0^d_z(t), r_1^d_x(t), r_1^d_y(t), r_1^d_z(t), v_1^d_x(t), v_1^d_y(t), v_1^d_z(t), r_2^d_x(t), r_2^d_y(t), r_2^d_z(t), v_2^d_x(t), v_2^d_y(t), v_2^d_z(t), r_3^d_x(t), r_3^d_y(t), r_3^d_z(t), v_3^d_x(t), v_3^d_y(t), v_3^d_z(t), r_4^d_x(t), r_4^d_y(t), r_4^d_z(t), v_4^d_x(t), v_4^d_y(t), v_4^d_z(t), r_5^d_x(t), r_5^d_y(t), r_5^d_z(t), v_5^d_x(t), v_5^d_y(t), v_5^d_z(t), r_6^d_x(t), r_6^d_y(t), r_6^d_z(t), v_6^d_x(t), v_6^d_y(t), v_6^d_z(t), r_7^d_x(t), r_7^d_y(t), r_7^d_z(t), v_7^d_x(t), v_7^d_y(t), v_7^d_z(t), r_8^d_x(t), r_8^d_y(t), r_8^d_z(t), v_8^d_x(t), v_8^d_y(t), v_8^d_z(t), r_9^d_x(t), r_9^d_y(t), r_9^d_z(t), v_9^d_x(t), v_9^d_y(t), v_9^d_z(t), r_10^d_x(t), r_10^d_y(t), r_10^d_z(t), v_10^d_x(t), v_10^d_y(t), v_10^d_z(t)]])"
      ]
     },
     "metadata": {},
     "output_type": "display_data"
    },
    {
     "name": "stdout",
     "output_type": "stream",
     "text": [
      "\u001b[0m\u001b[1mКоличество кубсатов: 1\n",
      "Количество чипсатов: 11\n",
      "\u001b[0m\u001b[0m\n",
      "Неизвестные: n = 66 (на каждый чипсат по 6 параметров)\n",
      "Известные: l = 66\n",
      "∃ производные порядка k = 1.0 (Должна быть целой!)\n",
      "Критерий (055): происзводные порядка 34.5\n",
      "_расчёт матрицы H_: k=1/1, l=1/66\n",
      "_расчёт матрицы H_: k=1/1, l=2/66\n",
      "_расчёт матрицы H_: k=1/1, l=3/66\n",
      "_расчёт матрицы H_: k=1/1, l=4/66\n",
      "_расчёт матрицы H_: k=1/1, l=5/66\n",
      "_расчёт матрицы H_: k=1/1, l=6/66\n",
      "_расчёт матрицы H_: k=1/1, l=7/66\n",
      "_расчёт матрицы H_: k=1/1, l=8/66\n",
      "_расчёт матрицы H_: k=1/1, l=9/66\n",
      "_расчёт матрицы H_: k=1/1, l=10/66\n",
      "_расчёт матрицы H_: k=1/1, l=11/66\n",
      "_расчёт матрицы H_: k=1/1, l=12/66\n",
      "_расчёт матрицы H_: k=1/1, l=13/66\n",
      "_расчёт матрицы H_: k=1/1, l=14/66\n",
      "_расчёт матрицы H_: k=1/1, l=15/66\n",
      "_расчёт матрицы H_: k=1/1, l=16/66\n",
      "_расчёт матрицы H_: k=1/1, l=17/66\n",
      "_расчёт матрицы H_: k=1/1, l=18/66\n",
      "_расчёт матрицы H_: k=1/1, l=19/66\n",
      "_расчёт матрицы H_: k=1/1, l=20/66\n",
      "_расчёт матрицы H_: k=1/1, l=21/66\n",
      "_расчёт матрицы H_: k=1/1, l=22/66\n",
      "_расчёт матрицы H_: k=1/1, l=23/66\n",
      "_расчёт матрицы H_: k=1/1, l=24/66\n",
      "_расчёт матрицы H_: k=1/1, l=25/66\n",
      "_расчёт матрицы H_: k=1/1, l=26/66\n",
      "_расчёт матрицы H_: k=1/1, l=27/66\n",
      "_расчёт матрицы H_: k=1/1, l=28/66\n",
      "_расчёт матрицы H_: k=1/1, l=29/66\n",
      "_расчёт матрицы H_: k=1/1, l=30/66\n",
      "_расчёт матрицы H_: k=1/1, l=31/66\n",
      "_расчёт матрицы H_: k=1/1, l=32/66\n",
      "_расчёт матрицы H_: k=1/1, l=33/66\n",
      "_расчёт матрицы H_: k=1/1, l=34/66\n",
      "_расчёт матрицы H_: k=1/1, l=35/66\n",
      "_расчёт матрицы H_: k=1/1, l=36/66\n",
      "_расчёт матрицы H_: k=1/1, l=37/66\n",
      "_расчёт матрицы H_: k=1/1, l=38/66\n",
      "_расчёт матрицы H_: k=1/1, l=39/66\n",
      "_расчёт матрицы H_: k=1/1, l=40/66\n",
      "_расчёт матрицы H_: k=1/1, l=41/66\n",
      "_расчёт матрицы H_: k=1/1, l=42/66\n",
      "_расчёт матрицы H_: k=1/1, l=43/66\n",
      "_расчёт матрицы H_: k=1/1, l=44/66\n",
      "_расчёт матрицы H_: k=1/1, l=45/66\n",
      "_расчёт матрицы H_: k=1/1, l=46/66\n",
      "_расчёт матрицы H_: k=1/1, l=47/66\n",
      "_расчёт матрицы H_: k=1/1, l=48/66\n",
      "_расчёт матрицы H_: k=1/1, l=49/66\n",
      "_расчёт матрицы H_: k=1/1, l=50/66\n",
      "_расчёт матрицы H_: k=1/1, l=51/66\n",
      "_расчёт матрицы H_: k=1/1, l=52/66\n",
      "_расчёт матрицы H_: k=1/1, l=53/66\n",
      "_расчёт матрицы H_: k=1/1, l=54/66\n",
      "_расчёт матрицы H_: k=1/1, l=55/66\n",
      "_расчёт матрицы H_: k=1/1, l=56/66\n",
      "_расчёт матрицы H_: k=1/1, l=57/66\n",
      "_расчёт матрицы H_: k=1/1, l=58/66\n",
      "_расчёт матрицы H_: k=1/1, l=59/66\n",
      "_расчёт матрицы H_: k=1/1, l=60/66\n",
      "_расчёт матрицы H_: k=1/1, l=61/66\n",
      "_расчёт матрицы H_: k=1/1, l=62/66\n",
      "_расчёт матрицы H_: k=1/1, l=63/66\n",
      "_расчёт матрицы H_: k=1/1, l=64/66\n",
      "_расчёт матрицы H_: k=1/1, l=65/66\n",
      "_расчёт матрицы H_: k=1/1, l=66/66\n",
      "Размерность матрицы H: (66, 1)\n",
      "Размерность матрицы J: (66, 66)\n"
     ]
    },
    {
     "name": "stderr",
     "output_type": "stream",
     "text": [
      "\n",
      "KeyboardInterrupt\n",
      "\n"
     ]
    }
   ],
   "source": [
    "H, J, Jn, Δ, report = observe_system(n_c=1, \n",
    "                                     n_d=11, \n",
    "                                     is_d_qw=False, \n",
    "                                     is_drag=False, \n",
    "                                     is_only_xz=False, \n",
    "                                     gains={'cN': 1, 'cModel': '1 antenna', 'dN': 1, 'dModel': '1 antenna'},\n",
    "                                     hand_written_deriv=None, testprint=True, disp=False, Hcheck=False)"
   ]
  },
  {
   "cell_type": "code",
   "execution_count": 18,
   "id": "32176ad5-b577-4b4b-b8a9-12ab5279467c",
   "metadata": {},
   "outputs": [
    {
     "name": "stdout",
     "output_type": "stream",
     "text": [
      "\u001b[0m\u001b[1mВектор состояния:\u001b[0m\u001b[0m\n"
     ]
    },
    {
     "data": {
      "text/latex": [
       "$\\displaystyle \\left[\\begin{array}{cccccccccccccccccccccccccccccccccccccccccc}r^{d}_{0 x}{\\left(t \\right)} & r^{d}_{0 y}{\\left(t \\right)} & r^{d}_{0 z}{\\left(t \\right)} & v^{d}_{0 x}{\\left(t \\right)} & v^{d}_{0 y}{\\left(t \\right)} & v^{d}_{0 z}{\\left(t \\right)} & r^{d}_{1 x}{\\left(t \\right)} & r^{d}_{1 y}{\\left(t \\right)} & r^{d}_{1 z}{\\left(t \\right)} & v^{d}_{1 x}{\\left(t \\right)} & v^{d}_{1 y}{\\left(t \\right)} & v^{d}_{1 z}{\\left(t \\right)} & r^{d}_{2 x}{\\left(t \\right)} & r^{d}_{2 y}{\\left(t \\right)} & r^{d}_{2 z}{\\left(t \\right)} & v^{d}_{2 x}{\\left(t \\right)} & v^{d}_{2 y}{\\left(t \\right)} & v^{d}_{2 z}{\\left(t \\right)} & r^{d}_{3 x}{\\left(t \\right)} & r^{d}_{3 y}{\\left(t \\right)} & r^{d}_{3 z}{\\left(t \\right)} & v^{d}_{3 x}{\\left(t \\right)} & v^{d}_{3 y}{\\left(t \\right)} & v^{d}_{3 z}{\\left(t \\right)} & r^{d}_{4 x}{\\left(t \\right)} & r^{d}_{4 y}{\\left(t \\right)} & r^{d}_{4 z}{\\left(t \\right)} & v^{d}_{4 x}{\\left(t \\right)} & v^{d}_{4 y}{\\left(t \\right)} & v^{d}_{4 z}{\\left(t \\right)} & r^{d}_{5 x}{\\left(t \\right)} & r^{d}_{5 y}{\\left(t \\right)} & r^{d}_{5 z}{\\left(t \\right)} & v^{d}_{5 x}{\\left(t \\right)} & v^{d}_{5 y}{\\left(t \\right)} & v^{d}_{5 z}{\\left(t \\right)} & r^{d}_{6 x}{\\left(t \\right)} & r^{d}_{6 y}{\\left(t \\right)} & r^{d}_{6 z}{\\left(t \\right)} & v^{d}_{6 x}{\\left(t \\right)} & v^{d}_{6 y}{\\left(t \\right)} & v^{d}_{6 z}{\\left(t \\right)}\\end{array}\\right]$"
      ],
      "text/plain": [
       "Matrix([[r_0^d_x(t), r_0^d_y(t), r_0^d_z(t), v_0^d_x(t), v_0^d_y(t), v_0^d_z(t), r_1^d_x(t), r_1^d_y(t), r_1^d_z(t), v_1^d_x(t), v_1^d_y(t), v_1^d_z(t), r_2^d_x(t), r_2^d_y(t), r_2^d_z(t), v_2^d_x(t), v_2^d_y(t), v_2^d_z(t), r_3^d_x(t), r_3^d_y(t), r_3^d_z(t), v_3^d_x(t), v_3^d_y(t), v_3^d_z(t), r_4^d_x(t), r_4^d_y(t), r_4^d_z(t), v_4^d_x(t), v_4^d_y(t), v_4^d_z(t), r_5^d_x(t), r_5^d_y(t), r_5^d_z(t), v_5^d_x(t), v_5^d_y(t), v_5^d_z(t), r_6^d_x(t), r_6^d_y(t), r_6^d_z(t), v_6^d_x(t), v_6^d_y(t), v_6^d_z(t)]])"
      ]
     },
     "metadata": {},
     "output_type": "display_data"
    },
    {
     "name": "stdout",
     "output_type": "stream",
     "text": [
      "\u001b[0m\u001b[1mВектор состояния (изменённый):\u001b[0m\u001b[0m\n"
     ]
    },
    {
     "data": {
      "text/latex": [
       "$\\displaystyle \\left[\\begin{matrix}r^{d}_{0 x}{\\left(t \\right)} & r^{d}_{1 x}{\\left(t \\right)} & r^{d}_{2 x}{\\left(t \\right)} & r^{d}_{3 x}{\\left(t \\right)} & r^{d}_{4 x}{\\left(t \\right)} & r^{d}_{5 x}{\\left(t \\right)} & r^{d}_{6 x}{\\left(t \\right)}\\\\r^{d}_{0 z}{\\left(t \\right)} & r^{d}_{1 z}{\\left(t \\right)} & r^{d}_{2 z}{\\left(t \\right)} & r^{d}_{3 z}{\\left(t \\right)} & r^{d}_{4 z}{\\left(t \\right)} & r^{d}_{5 z}{\\left(t \\right)} & r^{d}_{6 z}{\\left(t \\right)}\\\\v^{d}_{0 x}{\\left(t \\right)} & v^{d}_{1 x}{\\left(t \\right)} & v^{d}_{2 x}{\\left(t \\right)} & v^{d}_{3 x}{\\left(t \\right)} & v^{d}_{4 x}{\\left(t \\right)} & v^{d}_{5 x}{\\left(t \\right)} & v^{d}_{6 x}{\\left(t \\right)}\\\\v^{d}_{0 z}{\\left(t \\right)} & v^{d}_{1 z}{\\left(t \\right)} & v^{d}_{2 z}{\\left(t \\right)} & v^{d}_{3 z}{\\left(t \\right)} & v^{d}_{4 z}{\\left(t \\right)} & v^{d}_{5 z}{\\left(t \\right)} & v^{d}_{6 z}{\\left(t \\right)}\\end{matrix}\\right]$"
      ],
      "text/plain": [
       "Matrix([\n",
       "[r_0^d_x(t), r_1^d_x(t), r_2^d_x(t), r_3^d_x(t), r_4^d_x(t), r_5^d_x(t), r_6^d_x(t)],\n",
       "[r_0^d_z(t), r_1^d_z(t), r_2^d_z(t), r_3^d_z(t), r_4^d_z(t), r_5^d_z(t), r_6^d_z(t)],\n",
       "[v_0^d_x(t), v_1^d_x(t), v_2^d_x(t), v_3^d_x(t), v_4^d_x(t), v_5^d_x(t), v_6^d_x(t)],\n",
       "[v_0^d_z(t), v_1^d_z(t), v_2^d_z(t), v_3^d_z(t), v_4^d_z(t), v_5^d_z(t), v_6^d_z(t)]])"
      ]
     },
     "metadata": {},
     "output_type": "display_data"
    },
    {
     "name": "stdout",
     "output_type": "stream",
     "text": [
      "\u001b[0m\u001b[1mКоличество кубсатов: 1\n",
      "Количество чипсатов: 7\n",
      "\u001b[0m\u001b[0m\n",
      "Неизвестные: n = 28 (на каждый чипсат по 4 параметров)\n",
      "Известные: l = 28\n",
      "∃ производные порядка k = 1.0 (Должна быть целой!)\n",
      "Критерий (055): происзводные порядка 15.5\n",
      "_расчёт матрицы H_: k=1/1, l=1/28\n",
      "_расчёт матрицы H_: k=1/1, l=2/28\n",
      "_расчёт матрицы H_: k=1/1, l=3/28\n",
      "_расчёт матрицы H_: k=1/1, l=4/28\n",
      "_расчёт матрицы H_: k=1/1, l=5/28\n",
      "_расчёт матрицы H_: k=1/1, l=6/28\n",
      "_расчёт матрицы H_: k=1/1, l=7/28\n",
      "_расчёт матрицы H_: k=1/1, l=8/28\n",
      "_расчёт матрицы H_: k=1/1, l=9/28\n",
      "_расчёт матрицы H_: k=1/1, l=10/28\n",
      "_расчёт матрицы H_: k=1/1, l=11/28\n",
      "_расчёт матрицы H_: k=1/1, l=12/28\n",
      "_расчёт матрицы H_: k=1/1, l=13/28\n",
      "_расчёт матрицы H_: k=1/1, l=14/28\n",
      "_расчёт матрицы H_: k=1/1, l=15/28\n",
      "_расчёт матрицы H_: k=1/1, l=16/28\n",
      "_расчёт матрицы H_: k=1/1, l=17/28\n",
      "_расчёт матрицы H_: k=1/1, l=18/28\n",
      "_расчёт матрицы H_: k=1/1, l=19/28\n",
      "_расчёт матрицы H_: k=1/1, l=20/28\n",
      "_расчёт матрицы H_: k=1/1, l=21/28\n",
      "_расчёт матрицы H_: k=1/1, l=22/28\n",
      "_расчёт матрицы H_: k=1/1, l=23/28\n",
      "_расчёт матрицы H_: k=1/1, l=24/28\n",
      "_расчёт матрицы H_: k=1/1, l=25/28\n",
      "_расчёт матрицы H_: k=1/1, l=26/28\n",
      "_расчёт матрицы H_: k=1/1, l=27/28\n",
      "_расчёт матрицы H_: k=1/1, l=28/28\n",
      "Размерность матрицы H: (28, 1)\n",
      "Размерность матрицы J: (28, 28)\n"
     ]
    },
    {
     "name": "stderr",
     "output_type": "stream",
     "text": [
      "Exception ignored in: <bound method IPythonKernel._clean_thread_parent_frames of <ipykernel.ipkernel.IPythonKernel object at 0x7f371e991bd0>>\n",
      "Traceback (most recent call last):\n",
      "  File \"/home/kodiak/.local/lib/python3.10/site-packages/ipykernel/ipkernel.py\", line 775, in _clean_thread_parent_frames\n",
      "    def _clean_thread_parent_frames(\n",
      "KeyboardInterrupt: \n"
     ]
    },
    {
     "ename": "KeyboardInterrupt",
     "evalue": "",
     "output_type": "error",
     "traceback": [
      "\u001b[0;31m---------------------------------------------------------------------------\u001b[0m",
      "\u001b[0;31mKeyboardInterrupt\u001b[0m                         Traceback (most recent call last)",
      "Cell \u001b[0;32mIn[18], line 1\u001b[0m\n\u001b[0;32m----> 1\u001b[0m H, J, Jn, Δ, report \u001b[38;5;241m=\u001b[39m \u001b[43mobserve_system\u001b[49m\u001b[43m(\u001b[49m\u001b[43mn_c\u001b[49m\u001b[38;5;241;43m=\u001b[39;49m\u001b[38;5;241;43m1\u001b[39;49m\u001b[43m,\u001b[49m\u001b[43m \u001b[49m\n\u001b[1;32m      2\u001b[0m \u001b[43m                                     \u001b[49m\u001b[43mn_d\u001b[49m\u001b[38;5;241;43m=\u001b[39;49m\u001b[38;5;241;43m7\u001b[39;49m\u001b[43m,\u001b[49m\u001b[43m \u001b[49m\n\u001b[1;32m      3\u001b[0m \u001b[43m                                     \u001b[49m\u001b[43mis_d_qw\u001b[49m\u001b[38;5;241;43m=\u001b[39;49m\u001b[38;5;28;43;01mFalse\u001b[39;49;00m\u001b[43m,\u001b[49m\u001b[43m \u001b[49m\n\u001b[1;32m      4\u001b[0m \u001b[43m                                     \u001b[49m\u001b[43mis_drag\u001b[49m\u001b[38;5;241;43m=\u001b[39;49m\u001b[38;5;28;43;01mFalse\u001b[39;49;00m\u001b[43m,\u001b[49m\u001b[43m \u001b[49m\n\u001b[1;32m      5\u001b[0m \u001b[43m                                     \u001b[49m\u001b[43mis_only_xz\u001b[49m\u001b[38;5;241;43m=\u001b[39;49m\u001b[38;5;28;43;01mTrue\u001b[39;49;00m\u001b[43m,\u001b[49m\u001b[43m \u001b[49m\n\u001b[1;32m      6\u001b[0m \u001b[43m                                     \u001b[49m\u001b[43mgains\u001b[49m\u001b[38;5;241;43m=\u001b[39;49m\u001b[43m{\u001b[49m\u001b[38;5;124;43m'\u001b[39;49m\u001b[38;5;124;43mcN\u001b[39;49m\u001b[38;5;124;43m'\u001b[39;49m\u001b[43m:\u001b[49m\u001b[43m \u001b[49m\u001b[38;5;241;43m1\u001b[39;49m\u001b[43m,\u001b[49m\u001b[43m \u001b[49m\u001b[38;5;124;43m'\u001b[39;49m\u001b[38;5;124;43mcModel\u001b[39;49m\u001b[38;5;124;43m'\u001b[39;49m\u001b[43m:\u001b[49m\u001b[43m \u001b[49m\u001b[38;5;124;43m'\u001b[39;49m\u001b[38;5;124;43m1 antenna\u001b[39;49m\u001b[38;5;124;43m'\u001b[39;49m\u001b[43m,\u001b[49m\u001b[43m \u001b[49m\u001b[38;5;124;43m'\u001b[39;49m\u001b[38;5;124;43mdN\u001b[39;49m\u001b[38;5;124;43m'\u001b[39;49m\u001b[43m:\u001b[49m\u001b[43m \u001b[49m\u001b[38;5;241;43m1\u001b[39;49m\u001b[43m,\u001b[49m\u001b[43m \u001b[49m\u001b[38;5;124;43m'\u001b[39;49m\u001b[38;5;124;43mdModel\u001b[39;49m\u001b[38;5;124;43m'\u001b[39;49m\u001b[43m:\u001b[49m\u001b[43m \u001b[49m\u001b[38;5;124;43m'\u001b[39;49m\u001b[38;5;124;43m1 antenna\u001b[39;49m\u001b[38;5;124;43m'\u001b[39;49m\u001b[43m}\u001b[49m\u001b[43m,\u001b[49m\n\u001b[1;32m      7\u001b[0m \u001b[43m                                     \u001b[49m\u001b[43mhand_written_deriv\u001b[49m\u001b[38;5;241;43m=\u001b[39;49m\u001b[38;5;28;43;01mNone\u001b[39;49;00m\u001b[43m,\u001b[49m\u001b[43m \u001b[49m\u001b[43mtestprint\u001b[49m\u001b[38;5;241;43m=\u001b[39;49m\u001b[38;5;28;43;01mTrue\u001b[39;49;00m\u001b[43m,\u001b[49m\u001b[43m \u001b[49m\u001b[43mdisp\u001b[49m\u001b[38;5;241;43m=\u001b[39;49m\u001b[38;5;28;43;01mFalse\u001b[39;49;00m\u001b[43m,\u001b[49m\u001b[43m \u001b[49m\u001b[43mHcheck\u001b[49m\u001b[38;5;241;43m=\u001b[39;49m\u001b[38;5;28;43;01mFalse\u001b[39;49;00m\u001b[43m)\u001b[49m\n",
      "Cell \u001b[0;32mIn[12], line 216\u001b[0m, in \u001b[0;36mobserve_system\u001b[0;34m(n_c, n_d, is_d_qw, gains, is_drag, is_only_xz, testprint, hand_written_deriv, disp, Hcheck)\u001b[0m\n\u001b[1;32m    213\u001b[0m     display(dq_d[\u001b[38;5;241m0\u001b[39m])\n\u001b[1;32m    214\u001b[0m     kf\u001b[38;5;241m.\u001b[39mmy_print(\u001b[38;5;124mf\u001b[39m\u001b[38;5;124m\"\u001b[39m\u001b[38;5;132;01m{\u001b[39;00m\u001b[38;5;124m'\u001b[39m\u001b[38;5;124m \u001b[39m\u001b[38;5;124m'\u001b[39m\u001b[38;5;241m*\u001b[39m\u001b[38;5;241m10\u001b[39m\u001b[38;5;132;01m}\u001b[39;00m\u001b[38;5;124mdω = \u001b[39m\u001b[38;5;124m\"\u001b[39m, bold\u001b[38;5;241m=\u001b[39m\u001b[38;5;28;01mTrue\u001b[39;00m)\n\u001b[0;32m--> 216\u001b[0m \u001b[38;5;28;01mreturn\u001b[39;00m \u001b[43mShauyingObservabilitySufficientCondition\u001b[49m\u001b[43m(\u001b[49m\u001b[43mo\u001b[49m\u001b[38;5;241;43m=\u001b[39;49m\u001b[43mo\u001b[49m\u001b[43m,\u001b[49m\u001b[43m \u001b[49m\u001b[43mtestprint\u001b[49m\u001b[38;5;241;43m=\u001b[39;49m\u001b[38;5;28;43;01mTrue\u001b[39;49;00m\u001b[43m,\u001b[49m\u001b[43m \u001b[49m\u001b[43mn_c\u001b[49m\u001b[38;5;241;43m=\u001b[39;49m\u001b[43mn_c\u001b[49m\u001b[43m,\u001b[49m\u001b[43m \u001b[49m\u001b[43mn_d\u001b[49m\u001b[38;5;241;43m=\u001b[39;49m\u001b[43mn_d\u001b[49m\u001b[43m,\u001b[49m\u001b[43m \u001b[49m\u001b[43mX\u001b[49m\u001b[38;5;241;43m=\u001b[39;49m\u001b[43mx\u001b[49m\u001b[43m,\u001b[49m\u001b[43m \u001b[49m\u001b[43mY\u001b[49m\u001b[38;5;241;43m=\u001b[39;49m\u001b[43my\u001b[49m\u001b[43m,\u001b[49m\u001b[43m \u001b[49m\u001b[43mhand_written_deriv\u001b[49m\u001b[38;5;241;43m=\u001b[39;49m\u001b[43mhand_written_deriv\u001b[49m\u001b[43m,\u001b[49m\u001b[43m \u001b[49m\u001b[43mis_only_xz\u001b[49m\u001b[38;5;241;43m=\u001b[39;49m\u001b[43mis_only_xz\u001b[49m\u001b[43m)\u001b[49m\n",
      "Cell \u001b[0;32mIn[12], line 103\u001b[0m, in \u001b[0;36mShauyingObservabilitySufficientCondition\u001b[0;34m(o, n_d, n_c, X, Y, testprint, hand_written_deriv, is_only_xz)\u001b[0m\n\u001b[1;32m    100\u001b[0m report \u001b[38;5;241m=\u001b[39m print_and_record(report, \u001b[38;5;124mf\u001b[39m\u001b[38;5;124m\"\u001b[39m\u001b[38;5;124mРазмерность матрицы J: \u001b[39m\u001b[38;5;132;01m{\u001b[39;00mshape(J)\u001b[38;5;132;01m}\u001b[39;00m\u001b[38;5;124m\"\u001b[39m)\n\u001b[1;32m    102\u001b[0m \u001b[38;5;66;03m# Подстановка конкретных значений\u001b[39;00m\n\u001b[0;32m--> 103\u001b[0m J_numb \u001b[38;5;241m=\u001b[39m \u001b[43mSubRandParams\u001b[49m\u001b[43m(\u001b[49m\u001b[43mJ\u001b[49m\u001b[38;5;241;43m=\u001b[39;49m\u001b[43mJ\u001b[49m\u001b[43m,\u001b[49m\u001b[43m \u001b[49m\u001b[43mn_c\u001b[49m\u001b[38;5;241;43m=\u001b[39;49m\u001b[43mn_c\u001b[49m\u001b[43m,\u001b[49m\u001b[43m \u001b[49m\u001b[43mn_d\u001b[49m\u001b[38;5;241;43m=\u001b[39;49m\u001b[43mn_d\u001b[49m\u001b[43m,\u001b[49m\u001b[43m \u001b[49m\u001b[43mn_x\u001b[49m\u001b[38;5;241;43m=\u001b[39;49m\u001b[38;5;28;43mlen\u001b[39;49m\u001b[43m(\u001b[49m\u001b[43mX\u001b[49m\u001b[43m)\u001b[49m\u001b[43m,\u001b[49m\u001b[43m \u001b[49m\u001b[43mn_y\u001b[49m\u001b[38;5;241;43m=\u001b[39;49m\u001b[43mk\u001b[49m\u001b[38;5;241;43m*\u001b[39;49m\u001b[43ml\u001b[49m\u001b[43m,\u001b[49m\u001b[43m \u001b[49m\u001b[43mtestprint\u001b[49m\u001b[38;5;241;43m=\u001b[39;49m\u001b[43mtestprint\u001b[49m\u001b[43m)\u001b[49m\n\u001b[1;32m    104\u001b[0m _, v, _ \u001b[38;5;241m=\u001b[39m np\u001b[38;5;241m.\u001b[39mlinalg\u001b[38;5;241m.\u001b[39msvd(J_numb\u001b[38;5;241m.\u001b[39mT \u001b[38;5;241m@\u001b[39m J_numb)\n\u001b[1;32m    105\u001b[0m report \u001b[38;5;241m=\u001b[39m print_and_record(report, \u001b[38;5;124mf\u001b[39m\u001b[38;5;124m\"\u001b[39m\u001b[38;5;124mv = \u001b[39m\u001b[38;5;132;01m{\u001b[39;00mv\u001b[38;5;132;01m}\u001b[39;00m\u001b[38;5;124m\"\u001b[39m)\n",
      "Cell \u001b[0;32mIn[12], line 53\u001b[0m, in \u001b[0;36mSubRandParams\u001b[0;34m(J, n_d, n_c, n_x, n_y, testprint)\u001b[0m\n\u001b[1;32m     50\u001b[0m         rand_params\u001b[38;5;241m.\u001b[39mextend([(r_c[i][j], s_r()), (v_c[i][j], s_v()), (ω_c[i][j], s_w()), (q_c[i][j\u001b[38;5;241m+\u001b[39m\u001b[38;5;241m1\u001b[39m], q[j\u001b[38;5;241m+\u001b[39m\u001b[38;5;241m1\u001b[39m] \u001b[38;5;241m/\u001b[39m np\u001b[38;5;241m.\u001b[39mlinalg\u001b[38;5;241m.\u001b[39mnorm(q))])\n\u001b[1;32m     52\u001b[0m \u001b[38;5;66;03m# Якобиан матрицы наблюдаемости: J[измерение (H), состояние (X)] \u001b[39;00m\n\u001b[0;32m---> 53\u001b[0m J_numb \u001b[38;5;241m=\u001b[39m np\u001b[38;5;241m.\u001b[39marray([[\u001b[38;5;28mfloat\u001b[39m(J[i, j]\u001b[38;5;241m.\u001b[39msubs(rand_params)\u001b[38;5;241m.\u001b[39msubs(t,\u001b[38;5;241m0\u001b[39m)) \u001b[38;5;28;01mfor\u001b[39;00m j \u001b[38;5;129;01min\u001b[39;00m \u001b[38;5;28mrange\u001b[39m(n_x)] \u001b[38;5;28;01mfor\u001b[39;00m i \u001b[38;5;129;01min\u001b[39;00m \u001b[38;5;28mrange\u001b[39m(n_y)])\n\u001b[1;32m     54\u001b[0m \u001b[38;5;28;01mreturn\u001b[39;00m J_numb\n",
      "Cell \u001b[0;32mIn[12], line 53\u001b[0m, in \u001b[0;36m<listcomp>\u001b[0;34m(.0)\u001b[0m\n\u001b[1;32m     50\u001b[0m         rand_params\u001b[38;5;241m.\u001b[39mextend([(r_c[i][j], s_r()), (v_c[i][j], s_v()), (ω_c[i][j], s_w()), (q_c[i][j\u001b[38;5;241m+\u001b[39m\u001b[38;5;241m1\u001b[39m], q[j\u001b[38;5;241m+\u001b[39m\u001b[38;5;241m1\u001b[39m] \u001b[38;5;241m/\u001b[39m np\u001b[38;5;241m.\u001b[39mlinalg\u001b[38;5;241m.\u001b[39mnorm(q))])\n\u001b[1;32m     52\u001b[0m \u001b[38;5;66;03m# Якобиан матрицы наблюдаемости: J[измерение (H), состояние (X)] \u001b[39;00m\n\u001b[0;32m---> 53\u001b[0m J_numb \u001b[38;5;241m=\u001b[39m np\u001b[38;5;241m.\u001b[39marray([[\u001b[38;5;28mfloat\u001b[39m(J[i, j]\u001b[38;5;241m.\u001b[39msubs(rand_params)\u001b[38;5;241m.\u001b[39msubs(t,\u001b[38;5;241m0\u001b[39m)) \u001b[38;5;28;01mfor\u001b[39;00m j \u001b[38;5;129;01min\u001b[39;00m \u001b[38;5;28mrange\u001b[39m(n_x)] \u001b[38;5;28;01mfor\u001b[39;00m i \u001b[38;5;129;01min\u001b[39;00m \u001b[38;5;28mrange\u001b[39m(n_y)])\n\u001b[1;32m     54\u001b[0m \u001b[38;5;28;01mreturn\u001b[39;00m J_numb\n",
      "Cell \u001b[0;32mIn[12], line 53\u001b[0m, in \u001b[0;36m<listcomp>\u001b[0;34m(.0)\u001b[0m\n\u001b[1;32m     50\u001b[0m         rand_params\u001b[38;5;241m.\u001b[39mextend([(r_c[i][j], s_r()), (v_c[i][j], s_v()), (ω_c[i][j], s_w()), (q_c[i][j\u001b[38;5;241m+\u001b[39m\u001b[38;5;241m1\u001b[39m], q[j\u001b[38;5;241m+\u001b[39m\u001b[38;5;241m1\u001b[39m] \u001b[38;5;241m/\u001b[39m np\u001b[38;5;241m.\u001b[39mlinalg\u001b[38;5;241m.\u001b[39mnorm(q))])\n\u001b[1;32m     52\u001b[0m \u001b[38;5;66;03m# Якобиан матрицы наблюдаемости: J[измерение (H), состояние (X)] \u001b[39;00m\n\u001b[0;32m---> 53\u001b[0m J_numb \u001b[38;5;241m=\u001b[39m np\u001b[38;5;241m.\u001b[39marray([[\u001b[38;5;28mfloat\u001b[39m(\u001b[43mJ\u001b[49m\u001b[43m[\u001b[49m\u001b[43mi\u001b[49m\u001b[43m,\u001b[49m\u001b[43m \u001b[49m\u001b[43mj\u001b[49m\u001b[43m]\u001b[49m\u001b[38;5;241;43m.\u001b[39;49m\u001b[43msubs\u001b[49m\u001b[43m(\u001b[49m\u001b[43mrand_params\u001b[49m\u001b[43m)\u001b[49m\u001b[38;5;241m.\u001b[39msubs(t,\u001b[38;5;241m0\u001b[39m)) \u001b[38;5;28;01mfor\u001b[39;00m j \u001b[38;5;129;01min\u001b[39;00m \u001b[38;5;28mrange\u001b[39m(n_x)] \u001b[38;5;28;01mfor\u001b[39;00m i \u001b[38;5;129;01min\u001b[39;00m \u001b[38;5;28mrange\u001b[39m(n_y)])\n\u001b[1;32m     54\u001b[0m \u001b[38;5;28;01mreturn\u001b[39;00m J_numb\n",
      "File \u001b[0;32m~/.local/lib/python3.10/site-packages/sympy/core/basic.py:1123\u001b[0m, in \u001b[0;36mBasic.subs\u001b[0;34m(self, *args, **kwargs)\u001b[0m\n\u001b[1;32m   1121\u001b[0m rv \u001b[38;5;241m=\u001b[39m \u001b[38;5;28mself\u001b[39m\n\u001b[1;32m   1122\u001b[0m \u001b[38;5;28;01mfor\u001b[39;00m old, new \u001b[38;5;129;01min\u001b[39;00m sequence:\n\u001b[0;32m-> 1123\u001b[0m     rv \u001b[38;5;241m=\u001b[39m \u001b[43mrv\u001b[49m\u001b[38;5;241;43m.\u001b[39;49m\u001b[43m_subs\u001b[49m\u001b[43m(\u001b[49m\u001b[43mold\u001b[49m\u001b[43m,\u001b[49m\u001b[43m \u001b[49m\u001b[43mnew\u001b[49m\u001b[43m,\u001b[49m\u001b[43m \u001b[49m\u001b[38;5;241;43m*\u001b[39;49m\u001b[38;5;241;43m*\u001b[39;49m\u001b[43mkwargs\u001b[49m\u001b[43m)\u001b[49m\n\u001b[1;32m   1124\u001b[0m     \u001b[38;5;28;01mif\u001b[39;00m \u001b[38;5;129;01mnot\u001b[39;00m \u001b[38;5;28misinstance\u001b[39m(rv, Basic):\n\u001b[1;32m   1125\u001b[0m         \u001b[38;5;28;01mbreak\u001b[39;00m\n",
      "File \u001b[0;32m~/.local/lib/python3.10/site-packages/sympy/core/cache.py:72\u001b[0m, in \u001b[0;36m__cacheit.<locals>.func_wrapper.<locals>.wrapper\u001b[0;34m(*args, **kwargs)\u001b[0m\n\u001b[1;32m     69\u001b[0m \u001b[38;5;129m@wraps\u001b[39m(func)\n\u001b[1;32m     70\u001b[0m \u001b[38;5;28;01mdef\u001b[39;00m \u001b[38;5;21mwrapper\u001b[39m(\u001b[38;5;241m*\u001b[39margs, \u001b[38;5;241m*\u001b[39m\u001b[38;5;241m*\u001b[39mkwargs):\n\u001b[1;32m     71\u001b[0m     \u001b[38;5;28;01mtry\u001b[39;00m:\n\u001b[0;32m---> 72\u001b[0m         retval \u001b[38;5;241m=\u001b[39m \u001b[43mcfunc\u001b[49m\u001b[43m(\u001b[49m\u001b[38;5;241;43m*\u001b[39;49m\u001b[43margs\u001b[49m\u001b[43m,\u001b[49m\u001b[43m \u001b[49m\u001b[38;5;241;43m*\u001b[39;49m\u001b[38;5;241;43m*\u001b[39;49m\u001b[43mkwargs\u001b[49m\u001b[43m)\u001b[49m\n\u001b[1;32m     73\u001b[0m     \u001b[38;5;28;01mexcept\u001b[39;00m \u001b[38;5;167;01mTypeError\u001b[39;00m \u001b[38;5;28;01mas\u001b[39;00m e:\n\u001b[1;32m     74\u001b[0m         \u001b[38;5;28;01mif\u001b[39;00m \u001b[38;5;129;01mnot\u001b[39;00m e\u001b[38;5;241m.\u001b[39margs \u001b[38;5;129;01mor\u001b[39;00m \u001b[38;5;129;01mnot\u001b[39;00m e\u001b[38;5;241m.\u001b[39margs[\u001b[38;5;241m0\u001b[39m]\u001b[38;5;241m.\u001b[39mstartswith(\u001b[38;5;124m'\u001b[39m\u001b[38;5;124munhashable type:\u001b[39m\u001b[38;5;124m'\u001b[39m):\n",
      "File \u001b[0;32m~/.local/lib/python3.10/site-packages/sympy/core/basic.py:1237\u001b[0m, in \u001b[0;36mBasic._subs\u001b[0;34m(self, old, new, **hints)\u001b[0m\n\u001b[1;32m   1235\u001b[0m rv \u001b[38;5;241m=\u001b[39m \u001b[38;5;28mself\u001b[39m\u001b[38;5;241m.\u001b[39m_eval_subs(old, new)\n\u001b[1;32m   1236\u001b[0m \u001b[38;5;28;01mif\u001b[39;00m rv \u001b[38;5;129;01mis\u001b[39;00m \u001b[38;5;28;01mNone\u001b[39;00m:\n\u001b[0;32m-> 1237\u001b[0m     rv \u001b[38;5;241m=\u001b[39m \u001b[43mfallback\u001b[49m\u001b[43m(\u001b[49m\u001b[38;5;28;43mself\u001b[39;49m\u001b[43m,\u001b[49m\u001b[43m \u001b[49m\u001b[43mold\u001b[49m\u001b[43m,\u001b[49m\u001b[43m \u001b[49m\u001b[43mnew\u001b[49m\u001b[43m)\u001b[49m\n\u001b[1;32m   1238\u001b[0m \u001b[38;5;28;01mreturn\u001b[39;00m rv\n",
      "File \u001b[0;32m~/.local/lib/python3.10/site-packages/sympy/core/basic.py:1209\u001b[0m, in \u001b[0;36mBasic._subs.<locals>.fallback\u001b[0;34m(self, old, new)\u001b[0m\n\u001b[1;32m   1207\u001b[0m \u001b[38;5;28;01mif\u001b[39;00m \u001b[38;5;129;01mnot\u001b[39;00m \u001b[38;5;28mhasattr\u001b[39m(arg, \u001b[38;5;124m'\u001b[39m\u001b[38;5;124m_eval_subs\u001b[39m\u001b[38;5;124m'\u001b[39m):\n\u001b[1;32m   1208\u001b[0m     \u001b[38;5;28;01mcontinue\u001b[39;00m\n\u001b[0;32m-> 1209\u001b[0m arg \u001b[38;5;241m=\u001b[39m \u001b[43marg\u001b[49m\u001b[38;5;241;43m.\u001b[39;49m\u001b[43m_subs\u001b[49m\u001b[43m(\u001b[49m\u001b[43mold\u001b[49m\u001b[43m,\u001b[49m\u001b[43m \u001b[49m\u001b[43mnew\u001b[49m\u001b[43m,\u001b[49m\u001b[43m \u001b[49m\u001b[38;5;241;43m*\u001b[39;49m\u001b[38;5;241;43m*\u001b[39;49m\u001b[43mhints\u001b[49m\u001b[43m)\u001b[49m\n\u001b[1;32m   1210\u001b[0m \u001b[38;5;28;01mif\u001b[39;00m \u001b[38;5;129;01mnot\u001b[39;00m _aresame(arg, args[i]):\n\u001b[1;32m   1211\u001b[0m     hit \u001b[38;5;241m=\u001b[39m \u001b[38;5;28;01mTrue\u001b[39;00m\n",
      "File \u001b[0;32m~/.local/lib/python3.10/site-packages/sympy/core/cache.py:72\u001b[0m, in \u001b[0;36m__cacheit.<locals>.func_wrapper.<locals>.wrapper\u001b[0;34m(*args, **kwargs)\u001b[0m\n\u001b[1;32m     69\u001b[0m \u001b[38;5;129m@wraps\u001b[39m(func)\n\u001b[1;32m     70\u001b[0m \u001b[38;5;28;01mdef\u001b[39;00m \u001b[38;5;21mwrapper\u001b[39m(\u001b[38;5;241m*\u001b[39margs, \u001b[38;5;241m*\u001b[39m\u001b[38;5;241m*\u001b[39mkwargs):\n\u001b[1;32m     71\u001b[0m     \u001b[38;5;28;01mtry\u001b[39;00m:\n\u001b[0;32m---> 72\u001b[0m         retval \u001b[38;5;241m=\u001b[39m \u001b[43mcfunc\u001b[49m\u001b[43m(\u001b[49m\u001b[38;5;241;43m*\u001b[39;49m\u001b[43margs\u001b[49m\u001b[43m,\u001b[49m\u001b[43m \u001b[49m\u001b[38;5;241;43m*\u001b[39;49m\u001b[38;5;241;43m*\u001b[39;49m\u001b[43mkwargs\u001b[49m\u001b[43m)\u001b[49m\n\u001b[1;32m     73\u001b[0m     \u001b[38;5;28;01mexcept\u001b[39;00m \u001b[38;5;167;01mTypeError\u001b[39;00m \u001b[38;5;28;01mas\u001b[39;00m e:\n\u001b[1;32m     74\u001b[0m         \u001b[38;5;28;01mif\u001b[39;00m \u001b[38;5;129;01mnot\u001b[39;00m e\u001b[38;5;241m.\u001b[39margs \u001b[38;5;129;01mor\u001b[39;00m \u001b[38;5;129;01mnot\u001b[39;00m e\u001b[38;5;241m.\u001b[39margs[\u001b[38;5;241m0\u001b[39m]\u001b[38;5;241m.\u001b[39mstartswith(\u001b[38;5;124m'\u001b[39m\u001b[38;5;124munhashable type:\u001b[39m\u001b[38;5;124m'\u001b[39m):\n",
      "File \u001b[0;32m~/.local/lib/python3.10/site-packages/sympy/core/basic.py:1237\u001b[0m, in \u001b[0;36mBasic._subs\u001b[0;34m(self, old, new, **hints)\u001b[0m\n\u001b[1;32m   1235\u001b[0m rv \u001b[38;5;241m=\u001b[39m \u001b[38;5;28mself\u001b[39m\u001b[38;5;241m.\u001b[39m_eval_subs(old, new)\n\u001b[1;32m   1236\u001b[0m \u001b[38;5;28;01mif\u001b[39;00m rv \u001b[38;5;129;01mis\u001b[39;00m \u001b[38;5;28;01mNone\u001b[39;00m:\n\u001b[0;32m-> 1237\u001b[0m     rv \u001b[38;5;241m=\u001b[39m \u001b[43mfallback\u001b[49m\u001b[43m(\u001b[49m\u001b[38;5;28;43mself\u001b[39;49m\u001b[43m,\u001b[49m\u001b[43m \u001b[49m\u001b[43mold\u001b[49m\u001b[43m,\u001b[49m\u001b[43m \u001b[49m\u001b[43mnew\u001b[49m\u001b[43m)\u001b[49m\n\u001b[1;32m   1238\u001b[0m \u001b[38;5;28;01mreturn\u001b[39;00m rv\n",
      "File \u001b[0;32m~/.local/lib/python3.10/site-packages/sympy/core/basic.py:1209\u001b[0m, in \u001b[0;36mBasic._subs.<locals>.fallback\u001b[0;34m(self, old, new)\u001b[0m\n\u001b[1;32m   1207\u001b[0m \u001b[38;5;28;01mif\u001b[39;00m \u001b[38;5;129;01mnot\u001b[39;00m \u001b[38;5;28mhasattr\u001b[39m(arg, \u001b[38;5;124m'\u001b[39m\u001b[38;5;124m_eval_subs\u001b[39m\u001b[38;5;124m'\u001b[39m):\n\u001b[1;32m   1208\u001b[0m     \u001b[38;5;28;01mcontinue\u001b[39;00m\n\u001b[0;32m-> 1209\u001b[0m arg \u001b[38;5;241m=\u001b[39m \u001b[43marg\u001b[49m\u001b[38;5;241;43m.\u001b[39;49m\u001b[43m_subs\u001b[49m\u001b[43m(\u001b[49m\u001b[43mold\u001b[49m\u001b[43m,\u001b[49m\u001b[43m \u001b[49m\u001b[43mnew\u001b[49m\u001b[43m,\u001b[49m\u001b[43m \u001b[49m\u001b[38;5;241;43m*\u001b[39;49m\u001b[38;5;241;43m*\u001b[39;49m\u001b[43mhints\u001b[49m\u001b[43m)\u001b[49m\n\u001b[1;32m   1210\u001b[0m \u001b[38;5;28;01mif\u001b[39;00m \u001b[38;5;129;01mnot\u001b[39;00m _aresame(arg, args[i]):\n\u001b[1;32m   1211\u001b[0m     hit \u001b[38;5;241m=\u001b[39m \u001b[38;5;28;01mTrue\u001b[39;00m\n",
      "File \u001b[0;32m~/.local/lib/python3.10/site-packages/sympy/core/cache.py:72\u001b[0m, in \u001b[0;36m__cacheit.<locals>.func_wrapper.<locals>.wrapper\u001b[0;34m(*args, **kwargs)\u001b[0m\n\u001b[1;32m     69\u001b[0m \u001b[38;5;129m@wraps\u001b[39m(func)\n\u001b[1;32m     70\u001b[0m \u001b[38;5;28;01mdef\u001b[39;00m \u001b[38;5;21mwrapper\u001b[39m(\u001b[38;5;241m*\u001b[39margs, \u001b[38;5;241m*\u001b[39m\u001b[38;5;241m*\u001b[39mkwargs):\n\u001b[1;32m     71\u001b[0m     \u001b[38;5;28;01mtry\u001b[39;00m:\n\u001b[0;32m---> 72\u001b[0m         retval \u001b[38;5;241m=\u001b[39m \u001b[43mcfunc\u001b[49m\u001b[43m(\u001b[49m\u001b[38;5;241;43m*\u001b[39;49m\u001b[43margs\u001b[49m\u001b[43m,\u001b[49m\u001b[43m \u001b[49m\u001b[38;5;241;43m*\u001b[39;49m\u001b[38;5;241;43m*\u001b[39;49m\u001b[43mkwargs\u001b[49m\u001b[43m)\u001b[49m\n\u001b[1;32m     73\u001b[0m     \u001b[38;5;28;01mexcept\u001b[39;00m \u001b[38;5;167;01mTypeError\u001b[39;00m \u001b[38;5;28;01mas\u001b[39;00m e:\n\u001b[1;32m     74\u001b[0m         \u001b[38;5;28;01mif\u001b[39;00m \u001b[38;5;129;01mnot\u001b[39;00m e\u001b[38;5;241m.\u001b[39margs \u001b[38;5;129;01mor\u001b[39;00m \u001b[38;5;129;01mnot\u001b[39;00m e\u001b[38;5;241m.\u001b[39margs[\u001b[38;5;241m0\u001b[39m]\u001b[38;5;241m.\u001b[39mstartswith(\u001b[38;5;124m'\u001b[39m\u001b[38;5;124munhashable type:\u001b[39m\u001b[38;5;124m'\u001b[39m):\n",
      "File \u001b[0;32m~/.local/lib/python3.10/site-packages/sympy/core/basic.py:1237\u001b[0m, in \u001b[0;36mBasic._subs\u001b[0;34m(self, old, new, **hints)\u001b[0m\n\u001b[1;32m   1235\u001b[0m rv \u001b[38;5;241m=\u001b[39m \u001b[38;5;28mself\u001b[39m\u001b[38;5;241m.\u001b[39m_eval_subs(old, new)\n\u001b[1;32m   1236\u001b[0m \u001b[38;5;28;01mif\u001b[39;00m rv \u001b[38;5;129;01mis\u001b[39;00m \u001b[38;5;28;01mNone\u001b[39;00m:\n\u001b[0;32m-> 1237\u001b[0m     rv \u001b[38;5;241m=\u001b[39m \u001b[43mfallback\u001b[49m\u001b[43m(\u001b[49m\u001b[38;5;28;43mself\u001b[39;49m\u001b[43m,\u001b[49m\u001b[43m \u001b[49m\u001b[43mold\u001b[49m\u001b[43m,\u001b[49m\u001b[43m \u001b[49m\u001b[43mnew\u001b[49m\u001b[43m)\u001b[49m\n\u001b[1;32m   1238\u001b[0m \u001b[38;5;28;01mreturn\u001b[39;00m rv\n",
      "File \u001b[0;32m~/.local/lib/python3.10/site-packages/sympy/core/basic.py:1210\u001b[0m, in \u001b[0;36mBasic._subs.<locals>.fallback\u001b[0;34m(self, old, new)\u001b[0m\n\u001b[1;32m   1208\u001b[0m     \u001b[38;5;28;01mcontinue\u001b[39;00m\n\u001b[1;32m   1209\u001b[0m arg \u001b[38;5;241m=\u001b[39m arg\u001b[38;5;241m.\u001b[39m_subs(old, new, \u001b[38;5;241m*\u001b[39m\u001b[38;5;241m*\u001b[39mhints)\n\u001b[0;32m-> 1210\u001b[0m \u001b[38;5;28;01mif\u001b[39;00m \u001b[38;5;129;01mnot\u001b[39;00m \u001b[43m_aresame\u001b[49m\u001b[43m(\u001b[49m\u001b[43marg\u001b[49m\u001b[43m,\u001b[49m\u001b[43m \u001b[49m\u001b[43margs\u001b[49m\u001b[43m[\u001b[49m\u001b[43mi\u001b[49m\u001b[43m]\u001b[49m\u001b[43m)\u001b[49m:\n\u001b[1;32m   1211\u001b[0m     hit \u001b[38;5;241m=\u001b[39m \u001b[38;5;28;01mTrue\u001b[39;00m\n\u001b[1;32m   1212\u001b[0m     args[i] \u001b[38;5;241m=\u001b[39m arg\n",
      "File \u001b[0;32m~/.local/lib/python3.10/site-packages/sympy/core/basic.py:2194\u001b[0m, in \u001b[0;36mBasic.is_same\u001b[0;34m(a, b, approx)\u001b[0m\n\u001b[1;32m   2192\u001b[0m \u001b[38;5;28;01mfrom\u001b[39;00m \u001b[38;5;21;01m.\u001b[39;00m\u001b[38;5;21;01mtraversal\u001b[39;00m \u001b[38;5;28;01mimport\u001b[39;00m postorder_traversal \u001b[38;5;28;01mas\u001b[39;00m pot\n\u001b[1;32m   2193\u001b[0m \u001b[38;5;28;01mfor\u001b[39;00m t \u001b[38;5;129;01min\u001b[39;00m zip_longest(pot(a), pot(b)):\n\u001b[0;32m-> 2194\u001b[0m     \u001b[38;5;28;01mif\u001b[39;00m \u001b[38;5;28;43;01mNone\u001b[39;49;00m\u001b[43m \u001b[49m\u001b[38;5;129;43;01min\u001b[39;49;00m\u001b[43m \u001b[49m\u001b[43mt\u001b[49m:\n\u001b[1;32m   2195\u001b[0m         \u001b[38;5;28;01mreturn\u001b[39;00m \u001b[38;5;28;01mFalse\u001b[39;00m\n\u001b[1;32m   2196\u001b[0m     a, b \u001b[38;5;241m=\u001b[39m t\n",
      "File \u001b[0;32m~/.local/lib/python3.10/site-packages/sympy/core/numbers.py:1934\u001b[0m, in \u001b[0;36mInteger.__eq__\u001b[0;34m(self, other)\u001b[0m\n\u001b[1;32m   1931\u001b[0m         \u001b[38;5;28;01mreturn\u001b[39;00m Rational\u001b[38;5;241m.\u001b[39m\u001b[38;5;21m__rmod__\u001b[39m(\u001b[38;5;28mself\u001b[39m, other)\n\u001b[1;32m   1932\u001b[0m     \u001b[38;5;28;01mreturn\u001b[39;00m Rational\u001b[38;5;241m.\u001b[39m\u001b[38;5;21m__rmod__\u001b[39m(\u001b[38;5;28mself\u001b[39m, other)\n\u001b[0;32m-> 1934\u001b[0m \u001b[38;5;28;01mdef\u001b[39;00m \u001b[38;5;21m__eq__\u001b[39m(\u001b[38;5;28mself\u001b[39m, other):\n\u001b[1;32m   1935\u001b[0m     \u001b[38;5;28;01mif\u001b[39;00m \u001b[38;5;28misinstance\u001b[39m(other, \u001b[38;5;28mint\u001b[39m):\n\u001b[1;32m   1936\u001b[0m         \u001b[38;5;28;01mreturn\u001b[39;00m (\u001b[38;5;28mself\u001b[39m\u001b[38;5;241m.\u001b[39mp \u001b[38;5;241m==\u001b[39m other)\n",
      "\u001b[0;31mKeyboardInterrupt\u001b[0m: "
     ]
    }
   ],
   "source": [
    "H, J, Jn, Δ, report = observe_system(n_c=1, \n",
    "                                     n_d=7, \n",
    "                                     is_d_qw=False, \n",
    "                                     is_drag=False, \n",
    "                                     is_only_xz=True, \n",
    "                                     gains={'cN': 1, 'cModel': '1 antenna', 'dN': 1, 'dModel': '1 antenna'},\n",
    "                                     hand_written_deriv=None, testprint=True, disp=False, Hcheck=False)"
   ]
  },
  {
   "cell_type": "code",
   "execution_count": null,
   "id": "ab23f73b-4680-42f4-9b91-9ba8bc24120c",
   "metadata": {},
   "outputs": [],
   "source": [
    "H, J, Jn, Δ, report = observe_system(n_c=3, \n",
    "                                     n_d=1, \n",
    "                                     is_d_qw=False, \n",
    "                                     is_drag=False, \n",
    "                                     is_only_xz=False, \n",
    "                                     gains={'cN': 1, 'cModel': '1 antenna', 'dN': 1, 'dModel': '1 antenna'},\n",
    "                                     hand_written_deriv=None, testprint=True, disp=False, Hcheck=False)"
   ]
  },
  {
   "cell_type": "code",
   "execution_count": null,
   "id": "7277729c-6d54-4730-a982-4c59398c0c10",
   "metadata": {},
   "outputs": [],
   "source": [
    "H, J, Jn, Δ, report = observe_system(n_c=2, \n",
    "                                     n_d=1, \n",
    "                                     is_d_qw=False, \n",
    "                                     is_drag=False, \n",
    "                                     is_only_xz=True, \n",
    "                                     gains={'cN': 1, 'cModel': '1 antenna', 'dN': 1, 'dModel': '1 antenna'},\n",
    "                                     hand_written_deriv=None, testprint=True, disp=False, Hcheck=False)"
   ]
  },
  {
   "cell_type": "markdown",
   "id": "73685b5f-f35a-459f-8173-3996ddb5bf2d",
   "metadata": {
    "jp-MarkdownHeadingCollapsed": true
   },
   "source": [
    "###### <u>Наблюдаемость системы</u> без аэродинамики, без углового движения, 2 антенны - 1/4 монополь"
   ]
  },
  {
   "cell_type": "code",
   "execution_count": 9,
   "id": "0cb5a6b4-c5db-4349-9a9c-c55758b05163",
   "metadata": {},
   "outputs": [
    {
     "name": "stdout",
     "output_type": "stream",
     "text": [
      "\u001b[0m\u001b[1mВектор состояния:\u001b[0m\u001b[0m\n"
     ]
    },
    {
     "data": {
      "text/latex": [
       "$\\displaystyle \\left[\\begin{matrix}r^{d}_{0 x}{\\left(t \\right)} & r^{d}_{0 y}{\\left(t \\right)} & r^{d}_{0 z}{\\left(t \\right)} & v^{d}_{0 x}{\\left(t \\right)} & v^{d}_{0 y}{\\left(t \\right)} & v^{d}_{0 z}{\\left(t \\right)}\\end{matrix}\\right]$"
      ],
      "text/plain": [
       "Matrix([[r_0^d_x(t), r_0^d_y(t), r_0^d_z(t), v_0^d_x(t), v_0^d_y(t), v_0^d_z(t)]])"
      ]
     },
     "metadata": {},
     "output_type": "display_data"
    },
    {
     "name": "stdout",
     "output_type": "stream",
     "text": [
      "\u001b[0m\u001b[1mВектор состояния (изменённый):\u001b[0m\u001b[0m\n"
     ]
    },
    {
     "data": {
      "text/latex": [
       "$\\displaystyle \\left[\\begin{matrix}r^{d}_{0 x}{\\left(t \\right)}\\\\r^{d}_{0 z}{\\left(t \\right)}\\\\v^{d}_{0 x}{\\left(t \\right)}\\\\v^{d}_{0 z}{\\left(t \\right)}\\end{matrix}\\right]$"
      ],
      "text/plain": [
       "Matrix([\n",
       "[r_0^d_x(t)],\n",
       "[r_0^d_z(t)],\n",
       "[v_0^d_x(t)],\n",
       "[v_0^d_z(t)]])"
      ]
     },
     "metadata": {},
     "output_type": "display_data"
    },
    {
     "name": "stdout",
     "output_type": "stream",
     "text": [
      "\u001b[0m\u001b[1mКоличество кубсатов: 1\n",
      "Количество чипсатов: 1\n",
      "\u001b[0m\u001b[0m\n",
      "Неизвестные: n = 4 (на каждый чипсат по 4 параметров)\n",
      "Известные: l = 4\n",
      "∃ производные порядка k = 1.0 (Должна быть целой!)\n",
      "Критерий (055): происзводные порядка 3.5\n"
     ]
    },
    {
     "name": "stderr",
     "output_type": "stream",
     "text": [
      "\n",
      "KeyboardInterrupt\n",
      "\n"
     ]
    }
   ],
   "source": [
    "H, J, Jn, Δ, report = observe_system(n_c=1, \n",
    "                                     n_d=1, \n",
    "                                     is_d_qw=False, \n",
    "                                     is_drag=False, \n",
    "                                     is_only_xz=True, \n",
    "                                     gains={'cN': 2, 'cModel': '2 antennas', 'dN': 2, 'dModel': '2 antennas'},\n",
    "                                     hand_written_deriv=None, testprint=True, disp=False, Hcheck=False)"
   ]
  },
  {
   "cell_type": "code",
   "execution_count": 10,
   "id": "8eea3f1b-442e-420e-8786-b7bc49381282",
   "metadata": {},
   "outputs": [
    {
     "name": "stdout",
     "output_type": "stream",
     "text": [
      "\u001b[0m\u001b[1mВектор состояния:\u001b[0m\u001b[0m\n"
     ]
    },
    {
     "data": {
      "text/latex": [
       "$\\displaystyle \\left[\\begin{array}{cccccccccccc}r^{d}_{0 x}{\\left(t \\right)} & r^{d}_{0 y}{\\left(t \\right)} & r^{d}_{0 z}{\\left(t \\right)} & v^{d}_{0 x}{\\left(t \\right)} & v^{d}_{0 y}{\\left(t \\right)} & v^{d}_{0 z}{\\left(t \\right)} & r^{d}_{1 x}{\\left(t \\right)} & r^{d}_{1 y}{\\left(t \\right)} & r^{d}_{1 z}{\\left(t \\right)} & v^{d}_{1 x}{\\left(t \\right)} & v^{d}_{1 y}{\\left(t \\right)} & v^{d}_{1 z}{\\left(t \\right)}\\end{array}\\right]$"
      ],
      "text/plain": [
       "Matrix([[r_0^d_x(t), r_0^d_y(t), r_0^d_z(t), v_0^d_x(t), v_0^d_y(t), v_0^d_z(t), r_1^d_x(t), r_1^d_y(t), r_1^d_z(t), v_1^d_x(t), v_1^d_y(t), v_1^d_z(t)]])"
      ]
     },
     "metadata": {},
     "output_type": "display_data"
    },
    {
     "name": "stdout",
     "output_type": "stream",
     "text": [
      "\u001b[0m\u001b[1mКоличество кубсатов: 1\n",
      "Количество чипсатов: 2\n",
      "\u001b[0m\u001b[0m\n",
      "Неизвестные: n = 12 (на каждый чипсат по 6 параметров)\n",
      "Известные: l = 12\n",
      "∃ производные порядка k = 1.0 (Должна быть целой!)\n",
      "Критерий (055): происзводные порядка 7.5\n"
     ]
    },
    {
     "ename": "KeyboardInterrupt",
     "evalue": "",
     "output_type": "error",
     "traceback": [
      "\u001b[0;31m---------------------------------------------------------------------------\u001b[0m",
      "\u001b[0;31mKeyboardInterrupt\u001b[0m                         Traceback (most recent call last)",
      "File \u001b[0;32m~/.local/lib/python3.10/site-packages/sympy/core/cache.py:72\u001b[0m, in \u001b[0;36m__cacheit.<locals>.func_wrapper.<locals>.wrapper\u001b[0;34m(*args, **kwargs)\u001b[0m\n\u001b[1;32m     71\u001b[0m \u001b[38;5;28;01mtry\u001b[39;00m:\n\u001b[0;32m---> 72\u001b[0m     retval \u001b[38;5;241m=\u001b[39m \u001b[43mcfunc\u001b[49m\u001b[43m(\u001b[49m\u001b[38;5;241;43m*\u001b[39;49m\u001b[43margs\u001b[49m\u001b[43m,\u001b[49m\u001b[43m \u001b[49m\u001b[38;5;241;43m*\u001b[39;49m\u001b[38;5;241;43m*\u001b[39;49m\u001b[43mkwargs\u001b[49m\u001b[43m)\u001b[49m\n\u001b[1;32m     73\u001b[0m \u001b[38;5;28;01mexcept\u001b[39;00m \u001b[38;5;167;01mTypeError\u001b[39;00m \u001b[38;5;28;01mas\u001b[39;00m e:\n",
      "File \u001b[0;32m~/.local/lib/python3.10/site-packages/sympy/core/expr.py:3673\u001b[0m, in \u001b[0;36mExpr.expand\u001b[0;34m(self, deep, modulus, power_base, power_exp, mul, log, multinomial, basic, **hints)\u001b[0m\n\u001b[1;32m   3672\u001b[0m         hint \u001b[38;5;241m=\u001b[39m \u001b[38;5;124m'\u001b[39m\u001b[38;5;124m_eval_expand_\u001b[39m\u001b[38;5;124m'\u001b[39m \u001b[38;5;241m+\u001b[39m hint\n\u001b[0;32m-> 3673\u001b[0m         expr, hit \u001b[38;5;241m=\u001b[39m \u001b[43mExpr\u001b[49m\u001b[38;5;241;43m.\u001b[39;49m\u001b[43m_expand_hint\u001b[49m\u001b[43m(\u001b[49m\u001b[43mexpr\u001b[49m\u001b[43m,\u001b[49m\u001b[43m \u001b[49m\u001b[43mhint\u001b[49m\u001b[43m,\u001b[49m\u001b[43m \u001b[49m\u001b[43mdeep\u001b[49m\u001b[38;5;241;43m=\u001b[39;49m\u001b[43mdeep\u001b[49m\u001b[43m,\u001b[49m\u001b[43m \u001b[49m\u001b[38;5;241;43m*\u001b[39;49m\u001b[38;5;241;43m*\u001b[39;49m\u001b[43mhints\u001b[49m\u001b[43m)\u001b[49m\n\u001b[1;32m   3675\u001b[0m \u001b[38;5;28;01mwhile\u001b[39;00m \u001b[38;5;28;01mTrue\u001b[39;00m:\n",
      "File \u001b[0;32m~/.local/lib/python3.10/site-packages/sympy/core/expr.py:3604\u001b[0m, in \u001b[0;36mExpr._expand_hint\u001b[0;34m(expr, hint, deep, **hints)\u001b[0m\n\u001b[1;32m   3603\u001b[0m \u001b[38;5;28;01mfor\u001b[39;00m arg \u001b[38;5;129;01min\u001b[39;00m expr\u001b[38;5;241m.\u001b[39margs:\n\u001b[0;32m-> 3604\u001b[0m     arg, arghit \u001b[38;5;241m=\u001b[39m \u001b[43mExpr\u001b[49m\u001b[38;5;241;43m.\u001b[39;49m\u001b[43m_expand_hint\u001b[49m\u001b[43m(\u001b[49m\u001b[43marg\u001b[49m\u001b[43m,\u001b[49m\u001b[43m \u001b[49m\u001b[43mhint\u001b[49m\u001b[43m,\u001b[49m\u001b[43m \u001b[49m\u001b[38;5;241;43m*\u001b[39;49m\u001b[38;5;241;43m*\u001b[39;49m\u001b[43mhints\u001b[49m\u001b[43m)\u001b[49m\n\u001b[1;32m   3605\u001b[0m     hit \u001b[38;5;241m|\u001b[39m\u001b[38;5;241m=\u001b[39m arghit\n",
      "File \u001b[0;32m~/.local/lib/python3.10/site-packages/sympy/core/expr.py:3604\u001b[0m, in \u001b[0;36mExpr._expand_hint\u001b[0;34m(expr, hint, deep, **hints)\u001b[0m\n\u001b[1;32m   3603\u001b[0m \u001b[38;5;28;01mfor\u001b[39;00m arg \u001b[38;5;129;01min\u001b[39;00m expr\u001b[38;5;241m.\u001b[39margs:\n\u001b[0;32m-> 3604\u001b[0m     arg, arghit \u001b[38;5;241m=\u001b[39m \u001b[43mExpr\u001b[49m\u001b[38;5;241;43m.\u001b[39;49m\u001b[43m_expand_hint\u001b[49m\u001b[43m(\u001b[49m\u001b[43marg\u001b[49m\u001b[43m,\u001b[49m\u001b[43m \u001b[49m\u001b[43mhint\u001b[49m\u001b[43m,\u001b[49m\u001b[43m \u001b[49m\u001b[38;5;241;43m*\u001b[39;49m\u001b[38;5;241;43m*\u001b[39;49m\u001b[43mhints\u001b[49m\u001b[43m)\u001b[49m\n\u001b[1;32m   3605\u001b[0m     hit \u001b[38;5;241m|\u001b[39m\u001b[38;5;241m=\u001b[39m arghit\n",
      "File \u001b[0;32m~/.local/lib/python3.10/site-packages/sympy/core/expr.py:3612\u001b[0m, in \u001b[0;36mExpr._expand_hint\u001b[0;34m(expr, hint, deep, **hints)\u001b[0m\n\u001b[1;32m   3611\u001b[0m \u001b[38;5;28;01mif\u001b[39;00m \u001b[38;5;28mhasattr\u001b[39m(expr, hint):\n\u001b[0;32m-> 3612\u001b[0m     newexpr \u001b[38;5;241m=\u001b[39m \u001b[38;5;28;43mgetattr\u001b[39;49m\u001b[43m(\u001b[49m\u001b[43mexpr\u001b[49m\u001b[43m,\u001b[49m\u001b[43m \u001b[49m\u001b[43mhint\u001b[49m\u001b[43m)\u001b[49m\u001b[43m(\u001b[49m\u001b[38;5;241;43m*\u001b[39;49m\u001b[38;5;241;43m*\u001b[39;49m\u001b[43mhints\u001b[49m\u001b[43m)\u001b[49m\n\u001b[1;32m   3613\u001b[0m     \u001b[38;5;28;01mif\u001b[39;00m newexpr \u001b[38;5;241m!=\u001b[39m expr:\n",
      "File \u001b[0;32m~/.local/lib/python3.10/site-packages/sympy/core/mul.py:948\u001b[0m, in \u001b[0;36mMul._eval_expand_mul\u001b[0;34m(self, **hints)\u001b[0m\n\u001b[1;32m    947\u001b[0m deep \u001b[38;5;241m=\u001b[39m hints\u001b[38;5;241m.\u001b[39mget(\u001b[38;5;124m\"\u001b[39m\u001b[38;5;124mdeep\u001b[39m\u001b[38;5;124m\"\u001b[39m, \u001b[38;5;28;01mFalse\u001b[39;00m)\n\u001b[0;32m--> 948\u001b[0m terms \u001b[38;5;241m=\u001b[39m \u001b[38;5;28;43mself\u001b[39;49m\u001b[38;5;241;43m.\u001b[39;49m\u001b[43mfunc\u001b[49m\u001b[38;5;241;43m.\u001b[39;49m\u001b[43m_expandsums\u001b[49m\u001b[43m(\u001b[49m\u001b[43msums\u001b[49m\u001b[43m)\u001b[49m\n\u001b[1;32m    949\u001b[0m args \u001b[38;5;241m=\u001b[39m []\n",
      "File \u001b[0;32m~/.local/lib/python3.10/site-packages/sympy/core/mul.py:912\u001b[0m, in \u001b[0;36mMul._expandsums\u001b[0;34m(sums)\u001b[0m\n\u001b[1;32m    910\u001b[0m right \u001b[38;5;241m=\u001b[39m Mul\u001b[38;5;241m.\u001b[39m_expandsums(sums[L\u001b[38;5;241m/\u001b[39m\u001b[38;5;241m/\u001b[39m\u001b[38;5;241m2\u001b[39m:])\n\u001b[0;32m--> 912\u001b[0m terms \u001b[38;5;241m=\u001b[39m [Mul(a, b) \u001b[38;5;28;01mfor\u001b[39;00m a \u001b[38;5;129;01min\u001b[39;00m left \u001b[38;5;28;01mfor\u001b[39;00m b \u001b[38;5;129;01min\u001b[39;00m right]\n\u001b[1;32m    913\u001b[0m added \u001b[38;5;241m=\u001b[39m Add(\u001b[38;5;241m*\u001b[39mterms)\n",
      "File \u001b[0;32m~/.local/lib/python3.10/site-packages/sympy/core/mul.py:912\u001b[0m, in \u001b[0;36m<listcomp>\u001b[0;34m(.0)\u001b[0m\n\u001b[1;32m    910\u001b[0m right \u001b[38;5;241m=\u001b[39m Mul\u001b[38;5;241m.\u001b[39m_expandsums(sums[L\u001b[38;5;241m/\u001b[39m\u001b[38;5;241m/\u001b[39m\u001b[38;5;241m2\u001b[39m:])\n\u001b[0;32m--> 912\u001b[0m terms \u001b[38;5;241m=\u001b[39m [\u001b[43mMul\u001b[49m\u001b[43m(\u001b[49m\u001b[43ma\u001b[49m\u001b[43m,\u001b[49m\u001b[43m \u001b[49m\u001b[43mb\u001b[49m\u001b[43m)\u001b[49m \u001b[38;5;28;01mfor\u001b[39;00m a \u001b[38;5;129;01min\u001b[39;00m left \u001b[38;5;28;01mfor\u001b[39;00m b \u001b[38;5;129;01min\u001b[39;00m right]\n\u001b[1;32m    913\u001b[0m added \u001b[38;5;241m=\u001b[39m Add(\u001b[38;5;241m*\u001b[39mterms)\n",
      "File \u001b[0;32m~/.local/lib/python3.10/site-packages/sympy/core/cache.py:72\u001b[0m, in \u001b[0;36m__cacheit.<locals>.func_wrapper.<locals>.wrapper\u001b[0;34m(*args, **kwargs)\u001b[0m\n\u001b[1;32m     71\u001b[0m \u001b[38;5;28;01mtry\u001b[39;00m:\n\u001b[0;32m---> 72\u001b[0m     retval \u001b[38;5;241m=\u001b[39m \u001b[43mcfunc\u001b[49m\u001b[43m(\u001b[49m\u001b[38;5;241;43m*\u001b[39;49m\u001b[43margs\u001b[49m\u001b[43m,\u001b[49m\u001b[43m \u001b[49m\u001b[38;5;241;43m*\u001b[39;49m\u001b[38;5;241;43m*\u001b[39;49m\u001b[43mkwargs\u001b[49m\u001b[43m)\u001b[49m\n\u001b[1;32m     73\u001b[0m \u001b[38;5;28;01mexcept\u001b[39;00m \u001b[38;5;167;01mTypeError\u001b[39;00m \u001b[38;5;28;01mas\u001b[39;00m e:\n",
      "File \u001b[0;32m~/.local/lib/python3.10/site-packages/sympy/core/operations.py:98\u001b[0m, in \u001b[0;36mAssocOp.__new__\u001b[0;34m(cls, evaluate, _sympify, *args)\u001b[0m\n\u001b[1;32m     96\u001b[0m     \u001b[38;5;28;01mreturn\u001b[39;00m args[\u001b[38;5;241m0\u001b[39m]\n\u001b[0;32m---> 98\u001b[0m c_part, nc_part, order_symbols \u001b[38;5;241m=\u001b[39m \u001b[38;5;28;43mcls\u001b[39;49m\u001b[38;5;241;43m.\u001b[39;49m\u001b[43mflatten\u001b[49m\u001b[43m(\u001b[49m\u001b[43margs\u001b[49m\u001b[43m)\u001b[49m\n\u001b[1;32m     99\u001b[0m is_commutative \u001b[38;5;241m=\u001b[39m \u001b[38;5;129;01mnot\u001b[39;00m nc_part\n",
      "File \u001b[0;32m~/.local/lib/python3.10/site-packages/sympy/core/mul.py:480\u001b[0m, in \u001b[0;36mMul.flatten\u001b[0;34m(cls, seq)\u001b[0m\n\u001b[1;32m    479\u001b[0m \u001b[38;5;66;03m# in c_powers\u001b[39;00m\n\u001b[0;32m--> 480\u001b[0m c_powers \u001b[38;5;241m=\u001b[39m \u001b[43m_gather\u001b[49m\u001b[43m(\u001b[49m\u001b[43mc_powers\u001b[49m\u001b[43m)\u001b[49m\n\u001b[1;32m    482\u001b[0m \u001b[38;5;66;03m# and in num_exp\u001b[39;00m\n",
      "File \u001b[0;32m~/.local/lib/python3.10/site-packages/sympy/core/mul.py:476\u001b[0m, in \u001b[0;36mMul.flatten.<locals>._gather\u001b[0;34m(c_powers)\u001b[0m\n\u001b[1;32m    475\u001b[0m \u001b[38;5;28;01mfor\u001b[39;00m b, e \u001b[38;5;129;01min\u001b[39;00m common_b\u001b[38;5;241m.\u001b[39mitems():\n\u001b[0;32m--> 476\u001b[0m     new_c_powers\u001b[38;5;241m.\u001b[39mextend([(b, c\u001b[38;5;241m*\u001b[39mt) \u001b[38;5;28;01mfor\u001b[39;00m t, c \u001b[38;5;129;01min\u001b[39;00m \u001b[43me\u001b[49m\u001b[38;5;241;43m.\u001b[39;49m\u001b[43mitems\u001b[49m\u001b[43m(\u001b[49m\u001b[43m)\u001b[49m])\n\u001b[1;32m    477\u001b[0m \u001b[38;5;28;01mreturn\u001b[39;00m new_c_powers\n",
      "\u001b[0;31mKeyboardInterrupt\u001b[0m: ",
      "\nDuring handling of the above exception, another exception occurred:\n",
      "\u001b[0;31mKeyboardInterrupt\u001b[0m                         Traceback (most recent call last)",
      "Cell \u001b[0;32mIn[10], line 1\u001b[0m\n\u001b[0;32m----> 1\u001b[0m H, J, Jn, Δ, report \u001b[38;5;241m=\u001b[39m \u001b[43mobserve_system\u001b[49m\u001b[43m(\u001b[49m\u001b[43mn_c\u001b[49m\u001b[38;5;241;43m=\u001b[39;49m\u001b[38;5;241;43m1\u001b[39;49m\u001b[43m,\u001b[49m\u001b[43m \u001b[49m\n\u001b[1;32m      2\u001b[0m \u001b[43m                                     \u001b[49m\u001b[43mn_d\u001b[49m\u001b[38;5;241;43m=\u001b[39;49m\u001b[38;5;241;43m2\u001b[39;49m\u001b[43m,\u001b[49m\u001b[43m \u001b[49m\n\u001b[1;32m      3\u001b[0m \u001b[43m                                     \u001b[49m\u001b[43mis_d_qw\u001b[49m\u001b[38;5;241;43m=\u001b[39;49m\u001b[38;5;28;43;01mFalse\u001b[39;49;00m\u001b[43m,\u001b[49m\u001b[43m \u001b[49m\n\u001b[1;32m      4\u001b[0m \u001b[43m                                     \u001b[49m\u001b[43mis_drag\u001b[49m\u001b[38;5;241;43m=\u001b[39;49m\u001b[38;5;28;43;01mFalse\u001b[39;49;00m\u001b[43m,\u001b[49m\u001b[43m \u001b[49m\n\u001b[1;32m      5\u001b[0m \u001b[43m                                     \u001b[49m\u001b[43mis_only_xz\u001b[49m\u001b[38;5;241;43m=\u001b[39;49m\u001b[38;5;28;43;01mFalse\u001b[39;49;00m\u001b[43m,\u001b[49m\u001b[43m \u001b[49m\n\u001b[1;32m      6\u001b[0m \u001b[43m                                     \u001b[49m\u001b[43mgains\u001b[49m\u001b[38;5;241;43m=\u001b[39;49m\u001b[43m{\u001b[49m\u001b[38;5;124;43m'\u001b[39;49m\u001b[38;5;124;43mcN\u001b[39;49m\u001b[38;5;124;43m'\u001b[39;49m\u001b[43m:\u001b[49m\u001b[43m \u001b[49m\u001b[38;5;241;43m2\u001b[39;49m\u001b[43m,\u001b[49m\u001b[43m \u001b[49m\u001b[38;5;124;43m'\u001b[39;49m\u001b[38;5;124;43mcModel\u001b[39;49m\u001b[38;5;124;43m'\u001b[39;49m\u001b[43m:\u001b[49m\u001b[43m \u001b[49m\u001b[38;5;124;43m'\u001b[39;49m\u001b[38;5;124;43m2 antennas\u001b[39;49m\u001b[38;5;124;43m'\u001b[39;49m\u001b[43m,\u001b[49m\u001b[43m \u001b[49m\u001b[38;5;124;43m'\u001b[39;49m\u001b[38;5;124;43mdN\u001b[39;49m\u001b[38;5;124;43m'\u001b[39;49m\u001b[43m:\u001b[49m\u001b[43m \u001b[49m\u001b[38;5;241;43m2\u001b[39;49m\u001b[43m,\u001b[49m\u001b[43m \u001b[49m\u001b[38;5;124;43m'\u001b[39;49m\u001b[38;5;124;43mdModel\u001b[39;49m\u001b[38;5;124;43m'\u001b[39;49m\u001b[43m:\u001b[49m\u001b[43m \u001b[49m\u001b[38;5;124;43m'\u001b[39;49m\u001b[38;5;124;43m2 antennas\u001b[39;49m\u001b[38;5;124;43m'\u001b[39;49m\u001b[43m}\u001b[49m\u001b[43m,\u001b[49m\n\u001b[1;32m      7\u001b[0m \u001b[43m                                     \u001b[49m\u001b[43mhand_written_deriv\u001b[49m\u001b[38;5;241;43m=\u001b[39;49m\u001b[38;5;28;43;01mNone\u001b[39;49;00m\u001b[43m,\u001b[49m\u001b[43m \u001b[49m\u001b[43mtestprint\u001b[49m\u001b[38;5;241;43m=\u001b[39;49m\u001b[38;5;28;43;01mTrue\u001b[39;49;00m\u001b[43m,\u001b[49m\u001b[43m \u001b[49m\u001b[43mdisp\u001b[49m\u001b[38;5;241;43m=\u001b[39;49m\u001b[38;5;28;43;01mFalse\u001b[39;49;00m\u001b[43m,\u001b[49m\u001b[43m \u001b[49m\u001b[43mHcheck\u001b[49m\u001b[38;5;241;43m=\u001b[39;49m\u001b[38;5;28;43;01mFalse\u001b[39;49;00m\u001b[43m)\u001b[49m\n",
      "Cell \u001b[0;32mIn[6], line 216\u001b[0m, in \u001b[0;36mobserve_system\u001b[0;34m(n_c, n_d, is_d_qw, gains, is_drag, is_only_xz, testprint, hand_written_deriv, disp, Hcheck)\u001b[0m\n\u001b[1;32m    213\u001b[0m     display(dq_d[\u001b[38;5;241m0\u001b[39m])\n\u001b[1;32m    214\u001b[0m     kf\u001b[38;5;241m.\u001b[39mmy_print(\u001b[38;5;124mf\u001b[39m\u001b[38;5;124m\"\u001b[39m\u001b[38;5;132;01m{\u001b[39;00m\u001b[38;5;124m'\u001b[39m\u001b[38;5;124m \u001b[39m\u001b[38;5;124m'\u001b[39m\u001b[38;5;241m*\u001b[39m\u001b[38;5;241m10\u001b[39m\u001b[38;5;132;01m}\u001b[39;00m\u001b[38;5;124mdω = \u001b[39m\u001b[38;5;124m\"\u001b[39m, bold\u001b[38;5;241m=\u001b[39m\u001b[38;5;28;01mTrue\u001b[39;00m)\n\u001b[0;32m--> 216\u001b[0m \u001b[38;5;28;01mreturn\u001b[39;00m \u001b[43mShauyingObservabilitySufficientCondition\u001b[49m\u001b[43m(\u001b[49m\u001b[43mo\u001b[49m\u001b[38;5;241;43m=\u001b[39;49m\u001b[43mo\u001b[49m\u001b[43m,\u001b[49m\u001b[43m \u001b[49m\u001b[43mtestprint\u001b[49m\u001b[38;5;241;43m=\u001b[39;49m\u001b[38;5;28;43;01mTrue\u001b[39;49;00m\u001b[43m,\u001b[49m\u001b[43m \u001b[49m\u001b[43mn_c\u001b[49m\u001b[38;5;241;43m=\u001b[39;49m\u001b[43mn_c\u001b[49m\u001b[43m,\u001b[49m\u001b[43m \u001b[49m\u001b[43mn_d\u001b[49m\u001b[38;5;241;43m=\u001b[39;49m\u001b[43mn_d\u001b[49m\u001b[43m,\u001b[49m\u001b[43m \u001b[49m\u001b[43mX\u001b[49m\u001b[38;5;241;43m=\u001b[39;49m\u001b[43mx\u001b[49m\u001b[43m,\u001b[49m\u001b[43m \u001b[49m\u001b[43mY\u001b[49m\u001b[38;5;241;43m=\u001b[39;49m\u001b[43my\u001b[49m\u001b[43m,\u001b[49m\u001b[43m \u001b[49m\u001b[43mhand_written_deriv\u001b[49m\u001b[38;5;241;43m=\u001b[39;49m\u001b[43mhand_written_deriv\u001b[49m\u001b[43m,\u001b[49m\u001b[43m \u001b[49m\u001b[43mis_only_xz\u001b[49m\u001b[38;5;241;43m=\u001b[39;49m\u001b[43mis_only_xz\u001b[49m\u001b[43m)\u001b[49m\n",
      "Cell \u001b[0;32mIn[6], line 86\u001b[0m, in \u001b[0;36mShauyingObservabilitySufficientCondition\u001b[0;34m(o, n_d, n_c, X, Y, testprint, hand_written_deriv, is_only_xz)\u001b[0m\n\u001b[1;32m     84\u001b[0m \u001b[38;5;28;01mfor\u001b[39;00m kk \u001b[38;5;129;01min\u001b[39;00m \u001b[38;5;28mrange\u001b[39m(k):\n\u001b[1;32m     85\u001b[0m     dhdx \u001b[38;5;241m=\u001b[39m Matrix([[H[kk \u001b[38;5;241m-\u001b[39m \u001b[38;5;241m1\u001b[39m, ll]\u001b[38;5;241m.\u001b[39mdiff(X[j]) \u001b[38;5;28;01mfor\u001b[39;00m j \u001b[38;5;129;01min\u001b[39;00m \u001b[38;5;28mrange\u001b[39m(\u001b[38;5;28mlen\u001b[39m(X))] \u001b[38;5;28;01mfor\u001b[39;00m ll \u001b[38;5;129;01min\u001b[39;00m \u001b[38;5;28mrange\u001b[39m(l)])\n\u001b[0;32m---> 86\u001b[0m     \u001b[43mdhdx\u001b[49m\u001b[38;5;241;43m.\u001b[39;49m\u001b[43msimplify\u001b[49m\u001b[43m(\u001b[49m\u001b[43m)\u001b[49m\n\u001b[1;32m     87\u001b[0m     dhdx_f \u001b[38;5;241m=\u001b[39m dhdx \u001b[38;5;241m@\u001b[39m f\n\u001b[1;32m     88\u001b[0m     dhdx_f\u001b[38;5;241m.\u001b[39msimplify()\n",
      "File \u001b[0;32m~/.local/lib/python3.10/site-packages/sympy/matrices/dense.py:128\u001b[0m, in \u001b[0;36mMutableDenseMatrix.simplify\u001b[0;34m(self, **kwargs)\u001b[0m\n\u001b[1;32m    126\u001b[0m \u001b[38;5;28;01mfrom\u001b[39;00m \u001b[38;5;21;01msympy\u001b[39;00m\u001b[38;5;21;01m.\u001b[39;00m\u001b[38;5;21;01msimplify\u001b[39;00m\u001b[38;5;21;01m.\u001b[39;00m\u001b[38;5;21;01msimplify\u001b[39;00m \u001b[38;5;28;01mimport\u001b[39;00m simplify \u001b[38;5;28;01mas\u001b[39;00m _simplify\n\u001b[1;32m    127\u001b[0m \u001b[38;5;28;01mfor\u001b[39;00m (i, j), element \u001b[38;5;129;01min\u001b[39;00m \u001b[38;5;28mself\u001b[39m\u001b[38;5;241m.\u001b[39mtodok()\u001b[38;5;241m.\u001b[39mitems():\n\u001b[0;32m--> 128\u001b[0m     \u001b[38;5;28mself\u001b[39m[i, j] \u001b[38;5;241m=\u001b[39m \u001b[43m_simplify\u001b[49m\u001b[43m(\u001b[49m\u001b[43melement\u001b[49m\u001b[43m,\u001b[49m\u001b[43m \u001b[49m\u001b[38;5;241;43m*\u001b[39;49m\u001b[38;5;241;43m*\u001b[39;49m\u001b[43mkwargs\u001b[49m\u001b[43m)\u001b[49m\n",
      "File \u001b[0;32m~/.local/lib/python3.10/site-packages/sympy/simplify/simplify.py:644\u001b[0m, in \u001b[0;36msimplify\u001b[0;34m(expr, ratio, measure, rational, inverse, doit, **kwargs)\u001b[0m\n\u001b[1;32m    642\u001b[0m expr \u001b[38;5;241m=\u001b[39m _bottom_up(expr, \u001b[38;5;28;01mlambda\u001b[39;00m w: \u001b[38;5;28mgetattr\u001b[39m(w, \u001b[38;5;124m'\u001b[39m\u001b[38;5;124mnormal\u001b[39m\u001b[38;5;124m'\u001b[39m, \u001b[38;5;28;01mlambda\u001b[39;00m: w)())\n\u001b[1;32m    643\u001b[0m expr \u001b[38;5;241m=\u001b[39m Mul(\u001b[38;5;241m*\u001b[39mpowsimp(expr)\u001b[38;5;241m.\u001b[39mas_content_primitive())\n\u001b[0;32m--> 644\u001b[0m _e \u001b[38;5;241m=\u001b[39m \u001b[43mcancel\u001b[49m\u001b[43m(\u001b[49m\u001b[43mexpr\u001b[49m\u001b[43m)\u001b[49m\n\u001b[1;32m    645\u001b[0m expr1 \u001b[38;5;241m=\u001b[39m shorter(_e, _mexpand(_e)\u001b[38;5;241m.\u001b[39mcancel())  \u001b[38;5;66;03m# issue 6829\u001b[39;00m\n\u001b[1;32m    646\u001b[0m expr2 \u001b[38;5;241m=\u001b[39m shorter(together(expr, deep\u001b[38;5;241m=\u001b[39m\u001b[38;5;28;01mTrue\u001b[39;00m), together(expr1, deep\u001b[38;5;241m=\u001b[39m\u001b[38;5;28;01mTrue\u001b[39;00m))\n",
      "File \u001b[0;32m~/.local/lib/python3.10/site-packages/sympy/polys/polytools.py:7182\u001b[0m, in \u001b[0;36mcancel\u001b[0;34m(f, _signsimp, *gens, **args)\u001b[0m\n\u001b[1;32m   7180\u001b[0m \u001b[38;5;28;01mif\u001b[39;00m f\u001b[38;5;241m.\u001b[39mhas(Piecewise):\n\u001b[1;32m   7181\u001b[0m     \u001b[38;5;28;01mraise\u001b[39;00m PolynomialError()\n\u001b[0;32m-> 7182\u001b[0m R, (F, G) \u001b[38;5;241m=\u001b[39m \u001b[43msring\u001b[49m\u001b[43m(\u001b[49m\u001b[43m(\u001b[49m\u001b[43mp\u001b[49m\u001b[43m,\u001b[49m\u001b[43m \u001b[49m\u001b[43mq\u001b[49m\u001b[43m)\u001b[49m\u001b[43m,\u001b[49m\u001b[43m \u001b[49m\u001b[38;5;241;43m*\u001b[39;49m\u001b[43mgens\u001b[49m\u001b[43m,\u001b[49m\u001b[43m \u001b[49m\u001b[38;5;241;43m*\u001b[39;49m\u001b[38;5;241;43m*\u001b[39;49m\u001b[43margs\u001b[49m\u001b[43m)\u001b[49m\n\u001b[1;32m   7183\u001b[0m \u001b[38;5;28;01mif\u001b[39;00m \u001b[38;5;129;01mnot\u001b[39;00m R\u001b[38;5;241m.\u001b[39mngens:\n\u001b[1;32m   7184\u001b[0m     \u001b[38;5;28;01mif\u001b[39;00m \u001b[38;5;129;01mnot\u001b[39;00m \u001b[38;5;28misinstance\u001b[39m(f, (\u001b[38;5;28mtuple\u001b[39m, Tuple)):\n",
      "File \u001b[0;32m~/.local/lib/python3.10/site-packages/sympy/polys/rings.py:163\u001b[0m, in \u001b[0;36msring\u001b[0;34m(exprs, *symbols, **options)\u001b[0m\n\u001b[1;32m    160\u001b[0m opt \u001b[38;5;241m=\u001b[39m build_options(symbols, options)\n\u001b[1;32m    162\u001b[0m \u001b[38;5;66;03m# TODO: rewrite this so that it doesn't use expand() (see poly()).\u001b[39;00m\n\u001b[0;32m--> 163\u001b[0m reps, opt \u001b[38;5;241m=\u001b[39m \u001b[43m_parallel_dict_from_expr\u001b[49m\u001b[43m(\u001b[49m\u001b[43mexprs\u001b[49m\u001b[43m,\u001b[49m\u001b[43m \u001b[49m\u001b[43mopt\u001b[49m\u001b[43m)\u001b[49m\n\u001b[1;32m    165\u001b[0m \u001b[38;5;28;01mif\u001b[39;00m opt\u001b[38;5;241m.\u001b[39mdomain \u001b[38;5;129;01mis\u001b[39;00m \u001b[38;5;28;01mNone\u001b[39;00m:\n\u001b[1;32m    166\u001b[0m     coeffs \u001b[38;5;241m=\u001b[39m \u001b[38;5;28msum\u001b[39m([ \u001b[38;5;28mlist\u001b[39m(rep\u001b[38;5;241m.\u001b[39mvalues()) \u001b[38;5;28;01mfor\u001b[39;00m rep \u001b[38;5;129;01min\u001b[39;00m reps ], [])\n",
      "File \u001b[0;32m~/.local/lib/python3.10/site-packages/sympy/polys/polyutils.py:344\u001b[0m, in \u001b[0;36m_parallel_dict_from_expr\u001b[0;34m(exprs, opt)\u001b[0m\n\u001b[1;32m    342\u001b[0m \u001b[38;5;250m\u001b[39m\u001b[38;5;124;03m\"\"\"Transform expressions into a multinomial form. \"\"\"\u001b[39;00m\n\u001b[1;32m    343\u001b[0m \u001b[38;5;28;01mif\u001b[39;00m opt\u001b[38;5;241m.\u001b[39mexpand \u001b[38;5;129;01mis\u001b[39;00m \u001b[38;5;129;01mnot\u001b[39;00m \u001b[38;5;28;01mFalse\u001b[39;00m:\n\u001b[0;32m--> 344\u001b[0m     exprs \u001b[38;5;241m=\u001b[39m [ expr\u001b[38;5;241m.\u001b[39mexpand() \u001b[38;5;28;01mfor\u001b[39;00m expr \u001b[38;5;129;01min\u001b[39;00m exprs ]\n\u001b[1;32m    346\u001b[0m \u001b[38;5;28;01mif\u001b[39;00m \u001b[38;5;28many\u001b[39m(expr\u001b[38;5;241m.\u001b[39mis_commutative \u001b[38;5;129;01mis\u001b[39;00m \u001b[38;5;28;01mFalse\u001b[39;00m \u001b[38;5;28;01mfor\u001b[39;00m expr \u001b[38;5;129;01min\u001b[39;00m exprs):\n\u001b[1;32m    347\u001b[0m     \u001b[38;5;28;01mraise\u001b[39;00m PolynomialError(\u001b[38;5;124m'\u001b[39m\u001b[38;5;124mnon-commutative expressions are not supported\u001b[39m\u001b[38;5;124m'\u001b[39m)\n",
      "File \u001b[0;32m~/.local/lib/python3.10/site-packages/sympy/polys/polyutils.py:344\u001b[0m, in \u001b[0;36m<listcomp>\u001b[0;34m(.0)\u001b[0m\n\u001b[1;32m    342\u001b[0m \u001b[38;5;250m\u001b[39m\u001b[38;5;124;03m\"\"\"Transform expressions into a multinomial form. \"\"\"\u001b[39;00m\n\u001b[1;32m    343\u001b[0m \u001b[38;5;28;01mif\u001b[39;00m opt\u001b[38;5;241m.\u001b[39mexpand \u001b[38;5;129;01mis\u001b[39;00m \u001b[38;5;129;01mnot\u001b[39;00m \u001b[38;5;28;01mFalse\u001b[39;00m:\n\u001b[0;32m--> 344\u001b[0m     exprs \u001b[38;5;241m=\u001b[39m [ \u001b[43mexpr\u001b[49m\u001b[38;5;241;43m.\u001b[39;49m\u001b[43mexpand\u001b[49m\u001b[43m(\u001b[49m\u001b[43m)\u001b[49m \u001b[38;5;28;01mfor\u001b[39;00m expr \u001b[38;5;129;01min\u001b[39;00m exprs ]\n\u001b[1;32m    346\u001b[0m \u001b[38;5;28;01mif\u001b[39;00m \u001b[38;5;28many\u001b[39m(expr\u001b[38;5;241m.\u001b[39mis_commutative \u001b[38;5;129;01mis\u001b[39;00m \u001b[38;5;28;01mFalse\u001b[39;00m \u001b[38;5;28;01mfor\u001b[39;00m expr \u001b[38;5;129;01min\u001b[39;00m exprs):\n\u001b[1;32m    347\u001b[0m     \u001b[38;5;28;01mraise\u001b[39;00m PolynomialError(\u001b[38;5;124m'\u001b[39m\u001b[38;5;124mnon-commutative expressions are not supported\u001b[39m\u001b[38;5;124m'\u001b[39m)\n",
      "File \u001b[0;32m~/.local/lib/python3.10/site-packages/sympy/core/cache.py:72\u001b[0m, in \u001b[0;36m__cacheit.<locals>.func_wrapper.<locals>.wrapper\u001b[0;34m(*args, **kwargs)\u001b[0m\n\u001b[1;32m     69\u001b[0m \u001b[38;5;129m@wraps\u001b[39m(func)\n\u001b[1;32m     70\u001b[0m \u001b[38;5;28;01mdef\u001b[39;00m \u001b[38;5;21mwrapper\u001b[39m(\u001b[38;5;241m*\u001b[39margs, \u001b[38;5;241m*\u001b[39m\u001b[38;5;241m*\u001b[39mkwargs):\n\u001b[1;32m     71\u001b[0m     \u001b[38;5;28;01mtry\u001b[39;00m:\n\u001b[0;32m---> 72\u001b[0m         retval \u001b[38;5;241m=\u001b[39m \u001b[43mcfunc\u001b[49m\u001b[43m(\u001b[49m\u001b[38;5;241;43m*\u001b[39;49m\u001b[43margs\u001b[49m\u001b[43m,\u001b[49m\u001b[43m \u001b[49m\u001b[38;5;241;43m*\u001b[39;49m\u001b[38;5;241;43m*\u001b[39;49m\u001b[43mkwargs\u001b[49m\u001b[43m)\u001b[49m\n\u001b[1;32m     73\u001b[0m     \u001b[38;5;28;01mexcept\u001b[39;00m \u001b[38;5;167;01mTypeError\u001b[39;00m \u001b[38;5;28;01mas\u001b[39;00m e:\n\u001b[1;32m     74\u001b[0m         \u001b[38;5;28;01mif\u001b[39;00m \u001b[38;5;129;01mnot\u001b[39;00m e\u001b[38;5;241m.\u001b[39margs \u001b[38;5;129;01mor\u001b[39;00m \u001b[38;5;129;01mnot\u001b[39;00m e\u001b[38;5;241m.\u001b[39margs[\u001b[38;5;241m0\u001b[39m]\u001b[38;5;241m.\u001b[39mstartswith(\u001b[38;5;124m'\u001b[39m\u001b[38;5;124munhashable type:\u001b[39m\u001b[38;5;124m'\u001b[39m):\n",
      "\u001b[0;31mKeyboardInterrupt\u001b[0m: "
     ]
    }
   ],
   "source": [
    "H, J, Jn, Δ, report = observe_system(n_c=1, \n",
    "                                     n_d=2, \n",
    "                                     is_d_qw=False, \n",
    "                                     is_drag=False, \n",
    "                                     is_only_xz=False, \n",
    "                                     gains={'cN': 2, 'cModel': '2 antennas', 'dN': 2, 'dModel': '2 antennas'},\n",
    "                                     hand_written_deriv=None, testprint=True, disp=False, Hcheck=False)"
   ]
  },
  {
   "cell_type": "code",
   "execution_count": null,
   "id": "96e2099f-6627-4065-ae14-a197978eff1a",
   "metadata": {},
   "outputs": [],
   "source": [
    "H, J, Jn, Δ, report = observe_system(n_c=2, \n",
    "                                     n_d=1, \n",
    "                                     is_d_qw=False, \n",
    "                                     is_drag=False, \n",
    "                                     is_only_xz=True, \n",
    "                                     gains={'cN': 2, 'cModel': '2 antennas', 'dN': 2, 'dModel': '2 antennas'},\n",
    "                                     hand_written_deriv=2, testprint=True, disp=False, Hcheck=False)"
   ]
  },
  {
   "cell_type": "code",
   "execution_count": null,
   "id": "c2217dd3-feda-43b3-8c3e-e730f0bfe10f",
   "metadata": {},
   "outputs": [],
   "source": [
    "H, J, Jn, Δ, report = observe_system(n_c=1, \n",
    "                                     n_d=1, \n",
    "                                     is_d_qw=False, \n",
    "                                     is_drag=False, \n",
    "                                     is_only_xz=True, \n",
    "                                     gains={'cN': 2, 'cModel': '2 antennas', 'dN': 2, 'dModel': '2 antennas'},\n",
    "                                     hand_written_deriv=3, testprint=True, disp=False, Hcheck=False)"
   ]
  },
  {
   "cell_type": "markdown",
   "id": "be542708-fe07-4f3e-8500-1a402fd60cae",
   "metadata": {},
   "source": [
    "###### <u>Наблюдаемость системы</u> без аэродинамики, с угловым движением, антенны - (2) 1/4 монополь И (1) изотропный"
   ]
  },
  {
   "cell_type": "code",
   "execution_count": 21,
   "id": "6f9af39c-433b-4503-8215-f4951f1fc99e",
   "metadata": {},
   "outputs": [
    {
     "name": "stdout",
     "output_type": "stream",
     "text": [
      "\u001b[0m\u001b[1mВектор состояния:\u001b[0m\u001b[0m\n"
     ]
    },
    {
     "data": {
      "text/latex": [
       "$\\displaystyle \\left[\\begin{array}{cccccccccccc}r^{d}_{0 x}{\\left(t \\right)} & r^{d}_{0 y}{\\left(t \\right)} & r^{d}_{0 z}{\\left(t \\right)} & q^{d}_{0 x}{\\left(t \\right)} & q^{d}_{0 y}{\\left(t \\right)} & q^{d}_{0 z}{\\left(t \\right)} & v^{d}_{0 x}{\\left(t \\right)} & v^{d}_{0 y}{\\left(t \\right)} & v^{d}_{0 z}{\\left(t \\right)} & ω^{d}_{0 x}{\\left(t \\right)} & ω^{d}_{0 y}{\\left(t \\right)} & ω^{d}_{0 z}{\\left(t \\right)}\\end{array}\\right]$"
      ],
      "text/plain": [
       "Matrix([[r_0^d_x(t), r_0^d_y(t), r_0^d_z(t), q_0^d_x(t), q_0^d_y(t), q_0^d_z(t), v_0^d_x(t), v_0^d_y(t), v_0^d_z(t), ω_0^d_x(t), ω_0^d_y(t), ω_0^d_z(t)]])"
      ]
     },
     "metadata": {},
     "output_type": "display_data"
    },
    {
     "name": "stdout",
     "output_type": "stream",
     "text": [
      "\u001b[0m\u001b[1mКоличество кубсатов: 1\n",
      "Количество чипсатов: 1\n",
      "\u001b[0m\u001b[0m\n",
      "Неизвестные: n = 12 (на каждый чипсат по 12 параметров)\n",
      "Известные: l = 1\n",
      "∃ производные порядка k = 12.0 (Должна быть целой!)\n",
      "Критерий (055): происзводные порядка 90.0\n"
     ]
    },
    {
     "data": {
      "text/latex": [
       "$\\displaystyle \\left[\\begin{matrix}v^{d}_{0 x}{\\left(t \\right)}\\\\v^{d}_{0 y}{\\left(t \\right)}\\\\v^{d}_{0 z}{\\left(t \\right)}\\\\- 2 w_{0} v^{d}_{0 z}{\\left(t \\right)}\\\\- w_{0}^{2} r^{d}_{0 y}{\\left(t \\right)}\\\\3 w_{0}^{2} r^{d}_{0 z}{\\left(t \\right)} + 2 w_{0} v^{d}_{0 x}{\\left(t \\right)}\\\\0.5 \\sqrt{- \\left(q^{d}_{0 x}\\right)^{2}{\\left(t \\right)} - \\left(q^{d}_{0 y}\\right)^{2}{\\left(t \\right)} - \\left(q^{d}_{0 z}\\right)^{2}{\\left(t \\right)} + 1} ω^{d}_{0 x}{\\left(t \\right)} - 0.5 q^{d}_{0 y}{\\left(t \\right)} ω^{d}_{0 z}{\\left(t \\right)} + 0.5 q^{d}_{0 z}{\\left(t \\right)} ω^{d}_{0 y}{\\left(t \\right)}\\\\0.5 \\sqrt{- \\left(q^{d}_{0 x}\\right)^{2}{\\left(t \\right)} - \\left(q^{d}_{0 y}\\right)^{2}{\\left(t \\right)} - \\left(q^{d}_{0 z}\\right)^{2}{\\left(t \\right)} + 1} ω^{d}_{0 y}{\\left(t \\right)} + 0.5 q^{d}_{0 x}{\\left(t \\right)} ω^{d}_{0 z}{\\left(t \\right)} - 0.5 q^{d}_{0 z}{\\left(t \\right)} ω^{d}_{0 x}{\\left(t \\right)}\\\\0.5 \\sqrt{- \\left(q^{d}_{0 x}\\right)^{2}{\\left(t \\right)} - \\left(q^{d}_{0 y}\\right)^{2}{\\left(t \\right)} - \\left(q^{d}_{0 z}\\right)^{2}{\\left(t \\right)} + 1} ω^{d}_{0 z}{\\left(t \\right)} - 0.5 q^{d}_{0 x}{\\left(t \\right)} ω^{d}_{0 y}{\\left(t \\right)} + 0.5 q^{d}_{0 y}{\\left(t \\right)} ω^{d}_{0 x}{\\left(t \\right)}\\\\\\frac{J^{d}_{y} ω^{d}_{0 y}{\\left(t \\right)} ω^{d}_{0 z}{\\left(t \\right)} - J^{d}_{z} ω^{d}_{0 y}{\\left(t \\right)} ω^{d}_{0 z}{\\left(t \\right)}}{J^{d}_{x}}\\\\\\frac{- J^{d}_{x} ω^{d}_{0 x}{\\left(t \\right)} ω^{d}_{0 z}{\\left(t \\right)} + J^{d}_{z} ω^{d}_{0 x}{\\left(t \\right)} ω^{d}_{0 z}{\\left(t \\right)}}{J^{d}_{y}}\\\\\\frac{J^{d}_{x} ω^{d}_{0 x}{\\left(t \\right)} ω^{d}_{0 y}{\\left(t \\right)} - J^{d}_{y} ω^{d}_{0 x}{\\left(t \\right)} ω^{d}_{0 y}{\\left(t \\right)}}{J^{d}_{z}}\\end{matrix}\\right]$"
      ],
      "text/plain": [
       "Matrix([\n",
       "[                                                                                                                     v_0^d_x(t)],\n",
       "[                                                                                                                     v_0^d_y(t)],\n",
       "[                                                                                                                     v_0^d_z(t)],\n",
       "[                                                                                                              -2*w_0*v_0^d_z(t)],\n",
       "[                                                                                                             -w_0**2*r_0^d_y(t)],\n",
       "[                                                                                         3*w_0**2*r_0^d_z(t) + 2*w_0*v_0^d_x(t)],\n",
       "[0.5*sqrt(-q_0^d_x(t)**2 - q_0^d_y(t)**2 - q_0^d_z(t)**2 + 1)*ω_0^d_x(t) - 0.5*q_0^d_y(t)*ω_0^d_z(t) + 0.5*q_0^d_z(t)*ω_0^d_y(t)],\n",
       "[0.5*sqrt(-q_0^d_x(t)**2 - q_0^d_y(t)**2 - q_0^d_z(t)**2 + 1)*ω_0^d_y(t) + 0.5*q_0^d_x(t)*ω_0^d_z(t) - 0.5*q_0^d_z(t)*ω_0^d_x(t)],\n",
       "[0.5*sqrt(-q_0^d_x(t)**2 - q_0^d_y(t)**2 - q_0^d_z(t)**2 + 1)*ω_0^d_z(t) - 0.5*q_0^d_x(t)*ω_0^d_y(t) + 0.5*q_0^d_y(t)*ω_0^d_x(t)],\n",
       "[                                                              (J^d_y*ω_0^d_y(t)*ω_0^d_z(t) - J^d_z*ω_0^d_y(t)*ω_0^d_z(t))/J^d_x],\n",
       "[                                                             (-J^d_x*ω_0^d_x(t)*ω_0^d_z(t) + J^d_z*ω_0^d_x(t)*ω_0^d_z(t))/J^d_y],\n",
       "[                                                              (J^d_x*ω_0^d_x(t)*ω_0^d_y(t) - J^d_y*ω_0^d_x(t)*ω_0^d_y(t))/J^d_z]])"
      ]
     },
     "metadata": {},
     "output_type": "display_data"
    },
    {
     "name": "stdout",
     "output_type": "stream",
     "text": [
      "__расчёт матрицы H_: k=1/12, l=1/1\n"
     ]
    },
    {
     "name": "stderr",
     "output_type": "stream",
     "text": [
      "\n",
      "KeyboardInterrupt\n",
      "\n"
     ]
    }
   ],
   "source": [
    "H, J, Jn, Δ, report = observe_system(n_c=1, \n",
    "                                     n_d=1, \n",
    "                                     is_d_qw=True, \n",
    "                                     is_drag=False, \n",
    "                                     is_only_xz=False, \n",
    "                                     gains={'cN': 1, 'cModel': '1 antenna', 'dN': 0, 'dModel': 'isotropic'},\n",
    "                                     hand_written_deriv=None, testprint=True, disp=False, Hcheck=False)"
   ]
  },
  {
   "cell_type": "code",
   "execution_count": null,
   "id": "77ddbe1a-aecf-4587-9c89-fccdfc9e9ebb",
   "metadata": {},
   "outputs": [],
   "source": [
    "H, J, Jn, Δ, report = observe_system(n_c=1, \n",
    "                                     n_d=3, \n",
    "                                     is_d_qw=True, \n",
    "                                     is_drag=False, \n",
    "                                     is_only_xz=True, \n",
    "                                     gains={'cN': 1, 'cModel': '1 antenna', 'dN': 0, 'dModel': 'isotropic'},\n",
    "                                     hand_written_deriv=None, testprint=True, disp=False, Hcheck=True)"
   ]
  },
  {
   "cell_type": "markdown",
   "id": "fe89d4e6-7cdf-47e9-8548-5c4571936e5f",
   "metadata": {
    "jp-MarkdownHeadingCollapsed": true
   },
   "source": [
    "###### <u>Проверка матрицы H на основе:</u> без аэродинамики, с угловым движением, антенны - 1/4 монополь"
   ]
  },
  {
   "cell_type": "code",
   "execution_count": 6,
   "id": "db653a0d-c8be-4312-9dbd-3d189cb69e93",
   "metadata": {},
   "outputs": [
    {
     "name": "stdout",
     "output_type": "stream",
     "text": [
      "\u001b[0m\u001b[1mВектор состояния:\u001b[0m\u001b[0m\n"
     ]
    },
    {
     "data": {
      "text/latex": [
       "$\\displaystyle \\left[\\begin{array}{cccccccccccc}r^{d}_{0 x}{\\left(t \\right)} & r^{d}_{0 y}{\\left(t \\right)} & r^{d}_{0 z}{\\left(t \\right)} & q^{d}_{0 x}{\\left(t \\right)} & q^{d}_{0 y}{\\left(t \\right)} & q^{d}_{0 z}{\\left(t \\right)} & v^{d}_{0 x}{\\left(t \\right)} & v^{d}_{0 y}{\\left(t \\right)} & v^{d}_{0 z}{\\left(t \\right)} & v^{d}_{0 x}{\\left(t \\right)} & v^{d}_{0 y}{\\left(t \\right)} & v^{d}_{0 z}{\\left(t \\right)}\\end{array}\\right]$"
      ],
      "text/plain": [
       "Matrix([[r_0^d_x(t), r_0^d_y(t), r_0^d_z(t), q_0^d_x(t), q_0^d_y(t), q_0^d_z(t), v_0^d_x(t), v_0^d_y(t), v_0^d_z(t), v_0^d_x(t), v_0^d_y(t), v_0^d_z(t)]])"
      ]
     },
     "metadata": {},
     "output_type": "display_data"
    }
   ],
   "source": [
    "n_c=1\n",
    "n_d=1\n",
    "is_d_qw=True\n",
    "gains={'cN': 0, 'cModel': 'isotropic', 'dN': 1, 'dModel': '1 antenna'}\n",
    "is_drag=False\n",
    "is_only_xz=False\n",
    "testprint=False\n",
    "hand_written_deriv=None\n",
    "disp=False\n",
    "r_d, v_d, q_d, ω_d = get_state_vector(func=kf.get_func, obj='d', n=n_d)\n",
    "r_c, v_c, q_c, ω_c = get_state_vector(func=kf.get_func, obj='c', n=n_c)\n",
    "\n",
    "o.c.n = n_c\n",
    "o.f.n = n_d\n",
    "o.f.r_orf, o.f.v_orf, o.f.q, o.f.w_brf = r_d, v_d, q_d, ω_d\n",
    "o.c.r_orf, o.c.v_orf, o.c.q, o.c.w_brf = r_c, v_c, q_c, ω_c\n",
    "\n",
    "x = []\n",
    "for i in range(n_d):\n",
    "    x.extend(r_d[i])\n",
    "    if is_d_qw:\n",
    "        x.extend(q_d[i][1:4])\n",
    "    x.extend(v_d[i])\n",
    "    if is_d_qw:\n",
    "        x.extend(v_d[i])\n",
    "x = Matrix(x)\n",
    "\n",
    "kf.my_print(f\"Вектор состояния:\", bold=True)\n",
    "display(x.T)\n",
    "\n",
    "o.v.GAIN_MODEL_C_N = gains['cN']\n",
    "o.v.GAIN_MODEL_F_N = gains['dN']\n",
    "o.v.init_choice_params()\n",
    "o.c.gain_mode = o.v.GAIN_MODEL_C = gains['cModel']\n",
    "o.f.gain_mode = o.v.GAIN_MODEL_F = gains['dModel']\n",
    "o.v.NAVIGATION_ANGLES = is_d_qw\n",
    "o.v.DYNAMIC_MODEL['aero drag'] = is_drag\n",
    "o.v.MULTI_ANTENNA_TAKE = True\n",
    "o.v.MULTI_ANTENNA_SEND = True\n",
    "\n",
    "y, notes = kf.measure_antennas_power(c=o.c, f=o.f, v=o.v, p=o.p, j=int(len(x) // n_d), estimated_params=x, t=t)\n",
    "if disp:\n",
    "    kf.my_print(f\"Вектор измерений:\", bold=True)\n",
    "    display(y)\n",
    "    display(dω_d[0])\n",
    "\n",
    "# >>>>>>>>>>>>>>>>> Проверка матрицы H <<<<<<<<<<<<<<<<<\n",
    "H_1 = kf.h_matrix(t=t, v=o.v, f=o.f, c=o.c, r_f=r_d, r_c=r_c, \n",
    "                  q_f=[Matrix(q_d[i][1:4]) for i in range(o.f.n)], q_c=[Matrix(q_c[i][1:4]) for i in range(o.c.n)])\n",
    "H_2 = zeros(*H_1.shape)\n",
    "for ix, xx in enumerate(x):\n",
    "    for iy, yy in enumerate(y):\n",
    "        H_2[iy, ix] = yy.diff(xx)\n",
    "tmp = H_1 - H_2"
   ]
  },
  {
   "cell_type": "markdown",
   "id": "4ff8cc4b-732f-4de7-85ed-6e7a4cc70715",
   "metadata": {
    "jp-MarkdownHeadingCollapsed": true
   },
   "source": [
    "###### <u>Наблюдаемость системы</u> без аэродинамики, с угловым движением, 1 антенна - 1/4 монополь"
   ]
  },
  {
   "cell_type": "code",
   "execution_count": 5,
   "id": "d7066f21-fd98-4077-bd9c-fde8c6d3bb61",
   "metadata": {},
   "outputs": [
    {
     "name": "stdout",
     "output_type": "stream",
     "text": [
      "\u001b[0m\u001b[1mВектор состояния:\u001b[0m\u001b[0m\n"
     ]
    },
    {
     "data": {
      "text/latex": [
       "$\\displaystyle \\left[\\begin{array}{cccccccccccc}r^{d}_{0 x}{\\left(t \\right)} & r^{d}_{0 y}{\\left(t \\right)} & r^{d}_{0 z}{\\left(t \\right)} & q^{d}_{0 x}{\\left(t \\right)} & q^{d}_{0 y}{\\left(t \\right)} & q^{d}_{0 z}{\\left(t \\right)} & v^{d}_{0 x}{\\left(t \\right)} & v^{d}_{0 y}{\\left(t \\right)} & v^{d}_{0 z}{\\left(t \\right)} & ω^{d}_{0 x}{\\left(t \\right)} & ω^{d}_{0 y}{\\left(t \\right)} & ω^{d}_{0 z}{\\left(t \\right)}\\end{array}\\right]$"
      ],
      "text/plain": [
       "Matrix([[r_0^d_x(t), r_0^d_y(t), r_0^d_z(t), q_0^d_x(t), q_0^d_y(t), q_0^d_z(t), v_0^d_x(t), v_0^d_y(t), v_0^d_z(t), ω_0^d_x(t), ω_0^d_y(t), ω_0^d_z(t)]])"
      ]
     },
     "metadata": {},
     "output_type": "display_data"
    },
    {
     "name": "stdout",
     "output_type": "stream",
     "text": [
      "\u001b[0m\u001b[1mКоличество кубсатов: 1\n",
      "Количество чипсатов: 1\n",
      "\u001b[0m\u001b[0m\n",
      "Неизвестные: n = 12 (на каждый чипсат по 12 параметров)\n",
      "Известные: l = 1\n",
      "∃ производные порядка k = 12.0 (Должна быть целой!)\n",
      "Критерий (055): происзводные порядка 90.0\n",
      "__расчёт матрицы H_: k=1/12, l=1/1\n"
     ]
    },
    {
     "name": "stderr",
     "output_type": "stream",
     "text": [
      "\n",
      "KeyboardInterrupt\n",
      "\n"
     ]
    }
   ],
   "source": [
    "H, J, Jn, Δ, report = observe_system(n_c=1, \n",
    "                                     n_d=1, \n",
    "                                     is_d_qw=True, \n",
    "                                     is_drag=False, \n",
    "                                     is_only_xz=False, \n",
    "                                     gains={'cN': 1, 'cModel': '1 antenna', 'dN': 1, 'dModel': '1 antenna'},\n",
    "                                     hand_written_deriv=None, testprint=True, disp=False, Hcheck=False)"
   ]
  },
  {
   "cell_type": "code",
   "execution_count": null,
   "id": "66f2c258-63a2-47f5-9496-1c8deb3a44f5",
   "metadata": {},
   "outputs": [],
   "source": [
    "H, J, Jn, Δ, report = observe_system(n_c=3, \n",
    "                                     n_d=1, \n",
    "                                     is_d_qw=True, \n",
    "                                     is_drag=False, \n",
    "                                     is_only_xz=False, \n",
    "                                     gains={'cN': 1, 'cModel': '1 antenna', 'dN': 1, 'dModel': '1 antenna'},\n",
    "                                     hand_written_deriv=None, testprint=True, disp=False, Hcheck=False)"
   ]
  },
  {
   "cell_type": "code",
   "execution_count": null,
   "id": "e86b28f3-9bb3-4d96-9689-2fa8ae98094e",
   "metadata": {},
   "outputs": [],
   "source": [
    "H, J, Jn, Δ, report = observe_system(n_c=1, \n",
    "                                     n_d=2, \n",
    "                                     is_d_qw=True, \n",
    "                                     is_drag=False, \n",
    "                                     is_only_xz=False, \n",
    "                                     gains={'cN': 1, 'cModel': '1 antenna', 'dN': 1, 'dModel': '1 antenna'},\n",
    "                                     hand_written_deriv=None, testprint=True, disp=False, Hcheck=False)"
   ]
  },
  {
   "cell_type": "code",
   "execution_count": null,
   "id": "215e985c-b82d-4798-8634-8b5a2876ad10",
   "metadata": {},
   "outputs": [],
   "source": [
    "H, J, Jn, Δ, report = observe_system(n_c=1, \n",
    "                                     n_d=1, \n",
    "                                     is_d_qw=True, \n",
    "                                     is_drag=False, \n",
    "                                     is_only_xz=True, \n",
    "                                     gains={'cN': 1, 'cModel': '1 antenna', 'dN': 1, 'dModel': '1 antenna'},\n",
    "                                     hand_written_deriv=None, testprint=True, disp=False, Hcheck=False)"
   ]
  },
  {
   "cell_type": "markdown",
   "id": "1ad5a114-b0c3-476c-84f9-f3438a674fe2",
   "metadata": {
    "jp-MarkdownHeadingCollapsed": true
   },
   "source": [
    "###### <u>Наблюдаемость системы</u> с аэродинамикой, с угловым движением, 2 антенны - 1/4 монополь"
   ]
  },
  {
   "cell_type": "code",
   "execution_count": null,
   "id": "2847255e-be92-4fba-b020-fac1fb312934",
   "metadata": {},
   "outputs": [
    {
     "name": "stdout",
     "output_type": "stream",
     "text": [
      "\u001b[0m\u001b[1mВектор состояния:\u001b[0m\u001b[0m\n"
     ]
    },
    {
     "data": {
      "text/latex": [
       "$\\displaystyle \\left[\\begin{array}{cccccccccccc}r^{d}_{0 x}{\\left(t \\right)} & r^{d}_{0 y}{\\left(t \\right)} & r^{d}_{0 z}{\\left(t \\right)} & q^{d}_{0 x}{\\left(t \\right)} & q^{d}_{0 y}{\\left(t \\right)} & q^{d}_{0 z}{\\left(t \\right)} & v^{d}_{0 x}{\\left(t \\right)} & v^{d}_{0 y}{\\left(t \\right)} & v^{d}_{0 z}{\\left(t \\right)} & ω^{d}_{0 x}{\\left(t \\right)} & ω^{d}_{0 y}{\\left(t \\right)} & ω^{d}_{0 z}{\\left(t \\right)}\\end{array}\\right]$"
      ],
      "text/plain": [
       "Matrix([[r_0^d_x(t), r_0^d_y(t), r_0^d_z(t), q_0^d_x(t), q_0^d_y(t), q_0^d_z(t), v_0^d_x(t), v_0^d_y(t), v_0^d_z(t), ω_0^d_x(t), ω_0^d_y(t), ω_0^d_z(t)]])"
      ]
     },
     "metadata": {},
     "output_type": "display_data"
    },
    {
     "name": "stdout",
     "output_type": "stream",
     "text": [
      "\u001b[0m\u001b[1mВектор состояния (изменённый):\u001b[0m\u001b[0m\n"
     ]
    },
    {
     "data": {
      "text/latex": [
       "$\\displaystyle \\left[\\begin{matrix}r^{d}_{0 x}{\\left(t \\right)}\\\\r^{d}_{0 z}{\\left(t \\right)}\\\\v^{d}_{0 x}{\\left(t \\right)}\\\\v^{d}_{0 z}{\\left(t \\right)}\\end{matrix}\\right]$"
      ],
      "text/plain": [
       "Matrix([\n",
       "[r_0^d_x(t)],\n",
       "[r_0^d_z(t)],\n",
       "[v_0^d_x(t)],\n",
       "[v_0^d_z(t)]])"
      ]
     },
     "metadata": {},
     "output_type": "display_data"
    },
    {
     "name": "stdout",
     "output_type": "stream",
     "text": [
      "\u001b[0m\u001b[1mКоличество кубсатов: 1\n",
      "Количество чипсатов: 1\n",
      "\u001b[0m\u001b[0m\n",
      "Неизвестные: n = 4 (на каждый чипсат по 4 параметров)\n",
      "Известные: l = 4\n",
      "∃ производные порядка k = 1.0 (Должна быть целой!)\n",
      "Критерий (055): происзводные порядка 3.5\n"
     ]
    }
   ],
   "source": [
    "H, J, Jn, Δ, report = observe_system(n_c=1, \n",
    "                                     n_d=1, \n",
    "                                     is_d_qw=True, \n",
    "                                     is_drag=True, \n",
    "                                     is_only_xz=True, \n",
    "                                     gains={'cN': 2, 'cModel': '2 antennas', 'dN': 2, 'dModel': '2 antennas'},\n",
    "                                     hand_written_deriv=None, testprint=True, disp=False, Hcheck=False)"
   ]
  },
  {
   "cell_type": "code",
   "execution_count": 13,
   "id": "11fdce1f-4599-4452-adc8-d642bb22af64",
   "metadata": {},
   "outputs": [
    {
     "name": "stdout",
     "output_type": "stream",
     "text": [
      "\u001b[0m\u001b[1mВектор состояния:\u001b[0m\u001b[0m\n"
     ]
    },
    {
     "data": {
      "text/latex": [
       "$\\displaystyle \\left[\\begin{array}{cccccccccccc}r^{d}_{0 x}{\\left(t \\right)} & r^{d}_{0 y}{\\left(t \\right)} & r^{d}_{0 z}{\\left(t \\right)} & q^{d}_{0 x}{\\left(t \\right)} & q^{d}_{0 y}{\\left(t \\right)} & q^{d}_{0 z}{\\left(t \\right)} & v^{d}_{0 x}{\\left(t \\right)} & v^{d}_{0 y}{\\left(t \\right)} & v^{d}_{0 z}{\\left(t \\right)} & v^{d}_{0 x}{\\left(t \\right)} & v^{d}_{0 y}{\\left(t \\right)} & v^{d}_{0 z}{\\left(t \\right)}\\end{array}\\right]$"
      ],
      "text/plain": [
       "Matrix([[r_0^d_x(t), r_0^d_y(t), r_0^d_z(t), q_0^d_x(t), q_0^d_y(t), q_0^d_z(t), v_0^d_x(t), v_0^d_y(t), v_0^d_z(t), v_0^d_x(t), v_0^d_y(t), v_0^d_z(t)]])"
      ]
     },
     "metadata": {},
     "output_type": "display_data"
    },
    {
     "name": "stdout",
     "output_type": "stream",
     "text": [
      "\u001b[0m\u001b[1mКоличество кубсатов: 3\n",
      "Количество чипсатов: 1\n",
      "\u001b[0m\u001b[0m\n",
      "Неизвестные: n = 12 (на каждый чипсат по 12 параметров)\n",
      "Известные: l = 12\n",
      "∃ производные порядка k = 1.0 (Должна быть целой!)\n",
      "Критерий (055): происзводные порядка 7.5\n",
      "_расчёт матрицы H_: k=1/1, l=1/12\n",
      "_расчёт матрицы H_: k=1/1, l=2/12\n",
      "_расчёт матрицы H_: k=1/1, l=3/12\n",
      "_расчёт матрицы H_: k=1/1, l=4/12\n",
      "_расчёт матрицы H_: k=1/1, l=5/12\n",
      "_расчёт матрицы H_: k=1/1, l=6/12\n",
      "_расчёт матрицы H_: k=1/1, l=7/12\n",
      "_расчёт матрицы H_: k=1/1, l=8/12\n",
      "_расчёт матрицы H_: k=1/1, l=9/12\n",
      "_расчёт матрицы H_: k=1/1, l=10/12\n",
      "_расчёт матрицы H_: k=1/1, l=11/12\n",
      "_расчёт матрицы H_: k=1/1, l=12/12\n",
      "Размерность матрицы H: (12, 1)\n",
      "Размерность матрицы J: (12, 12)\n"
     ]
    },
    {
     "name": "stderr",
     "output_type": "stream",
     "text": [
      "\n",
      "KeyboardInterrupt\n",
      "\n"
     ]
    }
   ],
   "source": [
    "H, J, Jn, Δ, report = observe_system(n_c=3, \n",
    "                                     n_d=1, \n",
    "                                     is_d_qw=True, \n",
    "                                     is_drag=True, \n",
    "                                     is_only_xz=False, \n",
    "                                     gains={'cN': 2, 'cModel': '2 antennas', 'dN': 2, 'dModel': '2 antennas'},\n",
    "                                     hand_written_deriv=None, testprint=True, disp=False, Hcheck=False)"
   ]
  },
  {
   "cell_type": "markdown",
   "id": "db5ee48a-8995-4378-985b-b20950275f06",
   "metadata": {},
   "source": [
    "###### <u>Наблюдаемость системы</u> с аэродинамикой, с угловым движением, 3 антенны - 1/4 монополь"
   ]
  },
  {
   "cell_type": "code",
   "execution_count": null,
   "id": "54eba658-8720-49e5-936c-a04584cac5a1",
   "metadata": {},
   "outputs": [],
   "source": [
    "H, J, Jn, Δ, report = observe_system(n_c=1, \n",
    "                                     n_d=3, \n",
    "                                     is_d_qw=True, \n",
    "                                     is_drag=True, \n",
    "                                     is_only_xz=False, \n",
    "                                     gains={'cN': 3, 'cModel': '3 antennas', 'dN': 3, 'dModel': '3 antenna'},\n",
    "                                     hand_written_deriv=None, testprint=True, disp=False, Hcheck=False)"
   ]
  },
  {
   "cell_type": "markdown",
   "id": "6fc12860-db4a-4a49-a76b-b1f08a6cab1a",
   "metadata": {
    "jp-MarkdownHeadingCollapsed": true
   },
   "source": [
    "##### **<u>Согласно статье</u> 067 (Butcher E.A.) On Kalman Filtering and Observability in Nonlinear Sequential Relative Orbit Estimation**"
   ]
  },
  {
   "cell_type": "code",
   "execution_count": 4,
   "id": "1fc8901d-d175-4230-99e8-a0603b180f7f",
   "metadata": {},
   "outputs": [
    {
     "name": "stdout",
     "output_type": "stream",
     "text": [
      "\u001b[31mПараметры не могут быть загружены! Нет файла: kiamformation/data/config_choose.csv\u001b[0m\n",
      "\u001b[32mМатрицы Ф:(6, 6), Q:(3, 3), P:(6, 6), D:(6, 3)\u001b[0m\n",
      "Высота орбиты: 400 км\n",
      "Период орбиты: 1.54 часов\n",
      "Плотность атмосферы: 6.404751331738951e-12 кг/м³\n",
      "\u001b[32mМатрицы Ф:(12, 12), Q:(6, 6), P:(12, 12), D:(12, 6)\u001b[0m\n",
      "\u001b[0m\u001b[1mМатрица перехода:\u001b[0m\u001b[0m\n"
     ]
    },
    {
     "data": {
      "text/latex": [
       "$\\displaystyle \\left[\\begin{array}{cccccccccccc}1.0 & 0 & 0 & 0 & 0 & 0 & dt & 0 & 0 & 0 & 0 & 0\\\\0 & 1.0 & 0 & 0 & 0 & 0 & 0 & dt & 0 & 0 & 0 & 0\\\\0 & 0 & 1.0 & 0 & 0 & 0 & 0 & 0 & dt & 0 & 0 & 0\\\\0 & 0 & 0 & 1.0 & 0 & 0 & 0 & 0 & 0 & 0.5 dt & 0 & 0\\\\0 & 0 & 0 & 0 & 1.0 & 0 & 0 & 0 & 0 & 0 & 0.5 dt & 0\\\\0 & 0 & 0 & 0 & 0 & 1.0 & 0 & 0 & 0 & 0 & 0 & 0.5 dt\\\\0 & 0 & 0 & 0 & 0 & 0 & 1.0 & 0 & - 2 dt ω_{0} & 0 & 0 & 0\\\\0 & - dt ω_{0}^{2} & 0 & 0 & 0 & 0 & 0 & 1.0 & 0 & 0 & 0 & 0\\\\0 & 0 & 3 dt ω_{0}^{2} & 0 & 0 & 0 & 2 dt ω_{0} & 0 & 1.0 & 0 & 0 & 0\\\\0 & 0 & 0 & 0 & 0 & 0 & 0 & 0 & 0 & 1.0 & \\frac{dt \\left(J_{1} ω^{d}_{0 z} - J_{2} ω^{d}_{0 z}\\right)}{J_{0}} & \\frac{dt \\left(J_{1} ω^{d}_{0 y} - J_{2} ω^{d}_{0 y}\\right)}{J_{0}}\\\\0 & 0 & 0 & 0 & 0 & 0 & 0 & 0 & 0 & \\frac{dt \\left(- J_{0} ω^{d}_{0 z} + J_{2} ω^{d}_{0 z}\\right)}{J_{1}} & 1.0 & \\frac{dt \\left(- J_{0} ω^{d}_{0 x} + J_{2} ω^{d}_{0 x}\\right)}{J_{1}}\\\\0 & 0 & 0 & 0 & 0 & 0 & 0 & 0 & 0 & \\frac{dt \\left(J_{0} ω^{d}_{0 y} - J_{1} ω^{d}_{0 y}\\right)}{J_{2}} & \\frac{dt \\left(J_{0} ω^{d}_{0 x} - J_{1} ω^{d}_{0 x}\\right)}{J_{2}} & 1.0\\end{array}\\right]$"
      ],
      "text/plain": [
       "Matrix([\n",
       "[1.0,          0,           0,   0,   0,   0,       dt,   0,         0,                                   0,                                  0,                                   0],\n",
       "[  0,        1.0,           0,   0,   0,   0,        0,  dt,         0,                                   0,                                  0,                                   0],\n",
       "[  0,          0,         1.0,   0,   0,   0,        0,   0,        dt,                                   0,                                  0,                                   0],\n",
       "[  0,          0,           0, 1.0,   0,   0,        0,   0,         0,                              0.5*dt,                                  0,                                   0],\n",
       "[  0,          0,           0,   0, 1.0,   0,        0,   0,         0,                                   0,                             0.5*dt,                                   0],\n",
       "[  0,          0,           0,   0,   0, 1.0,        0,   0,         0,                                   0,                                  0,                              0.5*dt],\n",
       "[  0,          0,           0,   0,   0,   0,      1.0,   0, -2*dt*ω_0,                                   0,                                  0,                                   0],\n",
       "[  0, -dt*ω_0**2,           0,   0,   0,   0,        0, 1.0,         0,                                   0,                                  0,                                   0],\n",
       "[  0,          0, 3*dt*ω_0**2,   0,   0,   0, 2*dt*ω_0,   0,       1.0,                                   0,                                  0,                                   0],\n",
       "[  0,          0,           0,   0,   0,   0,        0,   0,         0,                                 1.0, dt*(J_1*ω_0^d_z - J_2*ω_0^d_z)/J_0,  dt*(J_1*ω_0^d_y - J_2*ω_0^d_y)/J_0],\n",
       "[  0,          0,           0,   0,   0,   0,        0,   0,         0, dt*(-J_0*ω_0^d_z + J_2*ω_0^d_z)/J_1,                                1.0, dt*(-J_0*ω_0^d_x + J_2*ω_0^d_x)/J_1],\n",
       "[  0,          0,           0,   0,   0,   0,        0,   0,         0,  dt*(J_0*ω_0^d_y - J_1*ω_0^d_y)/J_2, dt*(J_0*ω_0^d_x - J_1*ω_0^d_x)/J_2,                                 1.0]])"
      ]
     },
     "metadata": {},
     "output_type": "display_data"
    }
   ],
   "source": [
    "from common_func import *\n",
    "\n",
    "n_c, n_d = 1, 1\n",
    "angles = True\n",
    "\n",
    "o, num_params, t, w_0, μ, ρ, r_orb, v_orb = init_symbol_params()\n",
    "o.v.SHAMANISM[\"ClohessyWiltshireC1=0\"] = False\n",
    "o.f.n = n_d\n",
    "o.c.n = n_c\n",
    "o.c.gain_mode = o.v.GAIN_MODEL_C = '2 antennas'\n",
    "o.f.gain_mode = o.v.GAIN_MODEL_F = 'isotropic'\n",
    "o.v.N_ANTENNA_C = 2\n",
    "o.v.N_ANTENNA_F = 1\n",
    "o.v.NAVIGATION_ANGLES = True\n",
    "o.v.MULTI_ANTENNA_SEND = True\n",
    "o.v.MULTI_ANTENNA_TAKE = True\n",
    "\n",
    "o.init_classes()\n",
    "\n",
    "o.f.r_orf, o.f.v_orf, o.f.q, o.f.w_irf = get_state_vector(func=kf.get_vars, obj='d', n=n_d)\n",
    "o.c.r_orf, o.c.v_orf, o.c.q, o.c.w_irf = get_state_vector(func=kf.get_vars, obj='c', n=n_c)\n",
    "o.f.J = diag(*kf.get_vars(\"J\", n=3))\n",
    "o.v.dT_nav = var(\"dt\")\n",
    "\n",
    "F = Matrix(o.p.k.get_Phi(w0=w_0, w=o.f.w_irf))\n",
    "kf.my_print(f\"Матрица перехода:\", bold=True)\n",
    "display(F)"
   ]
  },
  {
   "cell_type": "markdown",
   "id": "c9c5d8d4-7869-489d-aebb-29c6177e1dc0",
   "metadata": {},
   "source": [
    "**Господи! Как тут получить матрицу через N итераций, ещё и умноженной на H!**"
   ]
  },
  {
   "cell_type": "code",
   "execution_count": null,
   "id": "7c12c190-7ad0-4ffb-972e-9436fad9f9ca",
   "metadata": {},
   "outputs": [],
   "source": []
  },
  {
   "cell_type": "markdown",
   "id": "18cb6d9d-1722-430e-9e6c-cc7f8567cd7d",
   "metadata": {
    "jp-MarkdownHeadingCollapsed": true
   },
   "source": [
    "##### **<u>Влияние закрутки КА на наблюдаемость</u>**"
   ]
  },
  {
   "cell_type": "markdown",
   "id": "07228efe-c502-48b5-a333-3a51e5bcacd8",
   "metadata": {},
   "source": [
    "###### <u>Инициализация</u>"
   ]
  },
  {
   "cell_type": "code",
   "execution_count": 1,
   "id": "37b74099-c084-4c57-a088-995f992584ad",
   "metadata": {},
   "outputs": [
    {
     "name": "stdout",
     "output_type": "stream",
     "text": [
      "\u001b[32mИнициализация проекта kiam-formation\u001b[0m\n",
      "\u001b[31mПараметры не могут быть загружены! Нет файла: kiamformation/data/config_choose.csv\u001b[0m\n",
      "\u001b[32mМатрицы Ф:(6, 6), Q:(3, 3), P:(6, 6), D:(6, 3)\u001b[0m\n",
      "Высота орбиты: 400 км\n",
      "Период орбиты: 1.54 часов\n",
      "Плотность атмосферы: 6.404751331738951e-12 кг/м³\n"
     ]
    }
   ],
   "source": [
    "from common_func import *\n",
    "\n",
    "n_c, n_d = 1, 1\n",
    "angles = True\n",
    "\n",
    "o, num_params, t, w_0, μ, ρ, r_orb, v_orb = init_symbol_params()\n",
    "o.f.n = n_d\n",
    "o.c.n = n_c\n",
    "o.f.r_orf, o.f.v_orf, o.f.q, o.f.w_irf = get_state_vector(func=kf.get_vars, obj='d', n=n_d)\n",
    "o.c.r_orf, o.c.v_orf, o.c.q, o.c.w_irf = get_state_vector(func=kf.get_vars, obj='c', n=n_c)\n",
    "o.c.gain_mode = o.v.GAIN_MODEL_C = '2 antennas'\n",
    "o.f.gain_mode = o.v.GAIN_MODEL_F = 'isotropic'\n",
    "o.v.N_ANTENNA_C = 2\n",
    "o.v.N_ANTENNA_F = 1\n",
    "o.v.NAVIGATION_ANGLES = True\n",
    "o.v.MULTI_ANTENNA_SEND = True\n",
    "o.v.MULTI_ANTENNA_TAKE = True"
   ]
  },
  {
   "cell_type": "code",
   "execution_count": 2,
   "id": "db938137-e04b-4c6d-8697-39aef82ae430",
   "metadata": {},
   "outputs": [
    {
     "data": {
      "text/plain": [
       "['cf 0 0 0 0 2 1', 'cf 0 0 1 0 2 1']"
      ]
     },
     "execution_count": 2,
     "metadata": {},
     "output_type": "execute_result"
    }
   ],
   "source": [
    "kf.measure_antennas_power(c=o.c, f=o.f, v=o.v, noise=0, produce=True, p=o.p, estimated_params=[])\n",
    "o.v.MEASURES_VECTOR_NOTES\n",
    "# o.v.MEASURES_VECTOR"
   ]
  },
  {
   "cell_type": "markdown",
   "id": "911aae62-151e-46e5-8d18-0d244df30bda",
   "metadata": {
    "jp-MarkdownHeadingCollapsed": true
   },
   "source": [
    "###### <u>Исследование частных случаев</u> (без учёта динамики)"
   ]
  },
  {
   "cell_type": "code",
   "execution_count": 3,
   "id": "f8598581-5d20-466d-b010-5650c0e03d25",
   "metadata": {},
   "outputs": [
    {
     "data": {
      "text/latex": [
       "$\\displaystyle \\left[\\begin{matrix}\\frac{1.0 \\sqrt{\\left(r^{d}_{0 x}\\right)^{2} + \\left(r^{d}_{0 z}\\right)^{2}} \\left(1.0 \\left(r^{d}_{0 x}\\right)^{2} + 1.0 \\left(r^{d}_{0 z}\\right)^{2}\\right)^{\\frac{3}{4}}}{\\left|{r^{d}_{0 x}}\\right|^{\\frac{3}{2}}}\\\\\\frac{1.0 \\sqrt{\\left(r^{d}_{0 x}\\right)^{2} + \\left(r^{d}_{0 z}\\right)^{2}} \\left(1.0 \\left(r^{d}_{0 x}\\right)^{2} + 1.0 \\left(r^{d}_{0 z}\\right)^{2}\\right)^{\\frac{3}{4}}}{\\left|{r^{d}_{0 z}}\\right|^{\\frac{3}{2}}}\\end{matrix}\\right]$"
      ],
      "text/plain": [
       "Matrix([\n",
       "[1.0*sqrt(r_0^d_x**2 + r_0^d_z**2)*(1.0*r_0^d_x**2 + 1.0*r_0^d_z**2)**(3/4)/Abs(r_0^d_x)**(3/2)],\n",
       "[1.0*sqrt(r_0^d_x**2 + r_0^d_z**2)*(1.0*r_0^d_x**2 + 1.0*r_0^d_z**2)**(3/4)/Abs(r_0^d_z)**(3/2)]])"
      ]
     },
     "execution_count": 3,
     "metadata": {},
     "output_type": "execute_result"
    }
   ],
   "source": [
    "params_to_sub = []\n",
    "\n",
    "# Движения в плоскости орбиты\n",
    "params_to_sub += [(o.f.r_orf[0][1], 0), (o.c.r_orf[0][1], 0),\n",
    "                  (o.f.v_orf[0][1], 0), (o.c.v_orf[0][1], 0),]\n",
    "\n",
    "# Ориентация в плоскости орбиты\n",
    "# params_to_sub += [(o.f.q[0][1], 0), (o.c.q[0][1], 0),\n",
    "#                   (o.f.q[0][2], 0), (o.c.q[0][2], 0),]\n",
    "\n",
    "# Кубсат неподвижен в ОСК\n",
    "params_to_sub += [(o.c.r_orf[0][0], 0), (o.c.r_orf[0][1], 0), (o.c.r_orf[0][2], 0), \n",
    "                  (o.c.q[0][1], 0), (o.c.q[0][2], 0), (o.c.q[0][3], 0), ]\n",
    "\n",
    "y = o.v.MEASURES_VECTOR.subs(params_to_sub)\n",
    "y"
   ]
  },
  {
   "cell_type": "code",
   "execution_count": 21,
   "id": "f432aa4d-ca84-42eb-be6a-62a2f468d2ee",
   "metadata": {},
   "outputs": [
    {
     "name": "stdout",
     "output_type": "stream",
     "text": [
      "\u001b[0m\u001b[1mИзмерения:\u001b[0m\u001b[0m\n"
     ]
    },
    {
     "data": {
      "text/latex": [
       "$\\displaystyle \\frac{1.0 \\sqrt{\\left(r^{d}_{0 x}\\right)^{2} + \\left(r^{d}_{0 z}\\right)^{2}} \\left(1.0 \\left(r^{d}_{0 x}\\right)^{2} + 1.0 \\left(r^{d}_{0 z}\\right)^{2}\\right)^{\\frac{3}{4}}}{\\left|{r^{d}_{0 x}}\\right|^{\\frac{3}{2}}}$"
      ],
      "text/plain": [
       "1.0*sqrt(r_0^d_x**2 + r_0^d_z**2)*(1.0*r_0^d_x**2 + 1.0*r_0^d_z**2)**(3/4)/Abs(r_0^d_x)**(3/2)"
      ]
     },
     "metadata": {},
     "output_type": "display_data"
    },
    {
     "data": {
      "text/latex": [
       "$\\displaystyle \\frac{1.0 \\sqrt{\\left(r^{d}_{0 x}\\right)^{2} + \\left(r^{d}_{0 z}\\right)^{2}} \\left(1.0 \\left(r^{d}_{0 x}\\right)^{2} + 1.0 \\left(r^{d}_{0 z}\\right)^{2}\\right)^{\\frac{3}{4}}}{\\left|{r^{d}_{0 z}}\\right|^{\\frac{3}{2}}}$"
      ],
      "text/plain": [
       "1.0*sqrt(r_0^d_x**2 + r_0^d_z**2)*(1.0*r_0^d_x**2 + 1.0*r_0^d_z**2)**(3/4)/Abs(r_0^d_z)**(3/2)"
      ]
     },
     "metadata": {},
     "output_type": "display_data"
    },
    {
     "name": "stdout",
     "output_type": "stream",
     "text": [
      "\u001b[0m\u001b[1mЧё то 1:\u001b[0m\u001b[0m\n"
     ]
    },
    {
     "data": {
      "text/latex": [
       "$\\displaystyle \\frac{0.999999999999999 \\left(\\left|{\\left(r^{d}_{0 x}\\right)^{\\frac{3}{2}}}\\right|^{4} + \\left|{\\left(r^{d}_{0 z}\\right)^{\\frac{3}{2}}}\\right|^{4}\\right)}{\\left(\\left(r^{d}_{0 x}\\right)^{2} + \\left(r^{d}_{0 z}\\right)^{2}\\right)^{5}}$"
      ],
      "text/plain": [
       "0.999999999999999*(Abs(r_0^d_x**(3/2))**4 + Abs(r_0^d_z**(3/2))**4)/(r_0^d_x**2 + r_0^d_z**2)**5"
      ]
     },
     "metadata": {},
     "output_type": "display_data"
    },
    {
     "name": "stdout",
     "output_type": "stream",
     "text": [
      "\u001b[0m\u001b[1mЧё то 2:\u001b[0m\u001b[0m\n"
     ]
    },
    {
     "data": {
      "text/latex": [
       "$\\displaystyle \\frac{1.0 \\left(r^{d}_{0 z}\\right)^{6}}{\\left(r^{d}_{0 x}\\right)^{6}}$"
      ],
      "text/plain": [
       "1.0*r_0^d_z**6/r_0^d_x**6"
      ]
     },
     "metadata": {},
     "output_type": "display_data"
    },
    {
     "name": "stdout",
     "output_type": "stream",
     "text": [
      "\u001b[0m\u001b[1mЧё то 3:\u001b[0m\u001b[0m\n"
     ]
    },
    {
     "data": {
      "text/latex": [
       "$\\displaystyle \\frac{1.0 \\left(\\left(r^{d}_{0 x}\\right)^{2} + \\left(r^{d}_{0 z}\\right)^{2}\\right)^{\\frac{5}{4}} \\left|{\\left(r^{d}_{0 x}\\right)^{\\frac{3}{2}}}\\right|}{\\left|{\\left(r^{d}_{0 x}\\right)^{\\frac{3}{2}}}\\right|^{2} + \\left|{\\left(r^{d}_{0 z}\\right)^{\\frac{3}{2}}}\\right|^{2}}$"
      ],
      "text/plain": [
       "1.0*(r_0^d_x**2 + r_0^d_z**2)**(5/4)*Abs(r_0^d_x**(3/2))/(Abs(r_0^d_x**(3/2))**2 + Abs(r_0^d_z**(3/2))**2)"
      ]
     },
     "metadata": {},
     "output_type": "display_data"
    }
   ],
   "source": [
    "y1 = y[0].simplify()\n",
    "y2 = y[1].simplify()\n",
    "\n",
    "kf.my_print(f\"Измерения:\", bold=True)\n",
    "display(y[0])\n",
    "display(y[1])\n",
    "\n",
    "kf.my_print(f\"Чё то 1:\", bold=True)\n",
    "tmp = (1/y1**4 + 1/y2**4).simplify()\n",
    "display(tmp)\n",
    "\n",
    "kf.my_print(f\"Чё то 2:\", bold=True)\n",
    "tmp = ((y1 / y2)**4).simplify()\n",
    "display(tmp)\n",
    "\n",
    "kf.my_print(f\"Чё то 3:\", bold=True)\n",
    "t1 = 1/y1\n",
    "t2 = 1/y2\n",
    "tmp = (t1 / (t1**2 + t2**2)).simplify()\n",
    "display(tmp)"
   ]
  },
  {
   "cell_type": "markdown",
   "id": "de912c32-aea9-4356-bc30-98feea789eb7",
   "metadata": {},
   "source": [
    "*Та не получается ниче без динамики*"
   ]
  },
  {
   "cell_type": "markdown",
   "id": "2fe8b597-4bb0-4ed6-b631-32cb86aac45d",
   "metadata": {},
   "source": [
    "###### <u>Исследование частных случаев</u> (с учётом динамики)"
   ]
  },
  {
   "cell_type": "code",
   "execution_count": 3,
   "id": "d330d967-9826-45b5-95cf-d3792ed951a8",
   "metadata": {},
   "outputs": [
    {
     "data": {
      "text/latex": [
       "$\\displaystyle \\left[\\begin{matrix}\\frac{1.0 \\sqrt{\\left(4 r^{d}_{0 z} + \\frac{2 v^{d}_{0 x}}{ω_{0}} + \\frac{v^{d}_{0 z} \\sin{\\left(t ω_{0} \\right)}}{ω_{0}} + \\left(- 3 r^{d}_{0 z} - \\frac{2 v^{d}_{0 x}}{ω_{0}}\\right) \\cos{\\left(t ω_{0} \\right)}\\right)^{2} + \\left(r^{d}_{0 x} + t ω_{0} \\left(- 24 r^{d}_{0 z} - \\frac{15 v^{d}_{0 x}}{ω_{0}} - \\frac{6 v^{d}_{0 z} \\sin{\\left(t ω_{0} \\right)}}{ω_{0}} - 6 \\left(- 3 r^{d}_{0 z} - \\frac{2 v^{d}_{0 x}}{ω_{0}}\\right) \\cos{\\left(t ω_{0} \\right)}\\right) + \\frac{2 v^{d}_{0 z} \\cos{\\left(t ω_{0} \\right)}}{ω_{0}} - \\frac{2 v^{d}_{0 z}}{ω_{0}} - \\left(- 24 r^{d}_{0 z} - \\frac{16 v^{d}_{0 x}}{ω_{0}} - \\frac{6 v^{d}_{0 z} \\sin{\\left(t ω_{0} \\right)}}{ω_{0}} - 6 \\left(- 3 r^{d}_{0 z} - \\frac{2 v^{d}_{0 x}}{ω_{0}}\\right) \\cos{\\left(t ω_{0} \\right)}\\right) \\sin{\\left(t ω_{0} \\right)}\\right)^{2}} \\left(1.0 \\left(4 r^{d}_{0 z} + \\frac{2 v^{d}_{0 x}}{ω_{0}} + \\frac{v^{d}_{0 z} \\sin{\\left(t ω_{0} \\right)}}{ω_{0}} + \\left(- 3 r^{d}_{0 z} - \\frac{2 v^{d}_{0 x}}{ω_{0}}\\right) \\cos{\\left(t ω_{0} \\right)}\\right)^{2} + 1.0 \\left(r^{d}_{0 x} + t ω_{0} \\left(- 24 r^{d}_{0 z} - \\frac{15 v^{d}_{0 x}}{ω_{0}} - \\frac{6 v^{d}_{0 z} \\sin{\\left(t ω_{0} \\right)}}{ω_{0}} - 6 \\left(- 3 r^{d}_{0 z} - \\frac{2 v^{d}_{0 x}}{ω_{0}}\\right) \\cos{\\left(t ω_{0} \\right)}\\right) + \\frac{2 v^{d}_{0 z} \\cos{\\left(t ω_{0} \\right)}}{ω_{0}} - \\frac{2 v^{d}_{0 z}}{ω_{0}} - \\left(- 24 r^{d}_{0 z} - \\frac{16 v^{d}_{0 x}}{ω_{0}} - \\frac{6 v^{d}_{0 z} \\sin{\\left(t ω_{0} \\right)}}{ω_{0}} - 6 \\left(- 3 r^{d}_{0 z} - \\frac{2 v^{d}_{0 x}}{ω_{0}}\\right) \\cos{\\left(t ω_{0} \\right)}\\right) \\sin{\\left(t ω_{0} \\right)}\\right)^{2}\\right)^{\\frac{3}{4}}}{\\left|{r^{d}_{0 x} + t ω_{0} \\left(- 24 r^{d}_{0 z} - \\frac{15 v^{d}_{0 x}}{ω_{0}} - \\frac{6 v^{d}_{0 z} \\sin{\\left(t ω_{0} \\right)}}{ω_{0}} - 6 \\left(- 3 r^{d}_{0 z} - \\frac{2 v^{d}_{0 x}}{ω_{0}}\\right) \\cos{\\left(t ω_{0} \\right)}\\right) + \\frac{2 v^{d}_{0 z} \\cos{\\left(t ω_{0} \\right)}}{ω_{0}} - \\frac{2 v^{d}_{0 z}}{ω_{0}} - \\left(- 24 r^{d}_{0 z} - \\frac{16 v^{d}_{0 x}}{ω_{0}} - \\frac{6 v^{d}_{0 z} \\sin{\\left(t ω_{0} \\right)}}{ω_{0}} - 6 \\left(- 3 r^{d}_{0 z} - \\frac{2 v^{d}_{0 x}}{ω_{0}}\\right) \\cos{\\left(t ω_{0} \\right)}\\right) \\sin{\\left(t ω_{0} \\right)}}\\right|^{\\frac{3}{2}}}\\\\\\frac{1.0 \\sqrt{\\left(4 r^{d}_{0 z} + \\frac{2 v^{d}_{0 x}}{ω_{0}} + \\frac{v^{d}_{0 z} \\sin{\\left(t ω_{0} \\right)}}{ω_{0}} + \\left(- 3 r^{d}_{0 z} - \\frac{2 v^{d}_{0 x}}{ω_{0}}\\right) \\cos{\\left(t ω_{0} \\right)}\\right)^{2} + \\left(r^{d}_{0 x} + t ω_{0} \\left(- 24 r^{d}_{0 z} - \\frac{15 v^{d}_{0 x}}{ω_{0}} - \\frac{6 v^{d}_{0 z} \\sin{\\left(t ω_{0} \\right)}}{ω_{0}} - 6 \\left(- 3 r^{d}_{0 z} - \\frac{2 v^{d}_{0 x}}{ω_{0}}\\right) \\cos{\\left(t ω_{0} \\right)}\\right) + \\frac{2 v^{d}_{0 z} \\cos{\\left(t ω_{0} \\right)}}{ω_{0}} - \\frac{2 v^{d}_{0 z}}{ω_{0}} - \\left(- 24 r^{d}_{0 z} - \\frac{16 v^{d}_{0 x}}{ω_{0}} - \\frac{6 v^{d}_{0 z} \\sin{\\left(t ω_{0} \\right)}}{ω_{0}} - 6 \\left(- 3 r^{d}_{0 z} - \\frac{2 v^{d}_{0 x}}{ω_{0}}\\right) \\cos{\\left(t ω_{0} \\right)}\\right) \\sin{\\left(t ω_{0} \\right)}\\right)^{2}} \\left(1.0 \\left(4 r^{d}_{0 z} + \\frac{2 v^{d}_{0 x}}{ω_{0}} + \\frac{v^{d}_{0 z} \\sin{\\left(t ω_{0} \\right)}}{ω_{0}} + \\left(- 3 r^{d}_{0 z} - \\frac{2 v^{d}_{0 x}}{ω_{0}}\\right) \\cos{\\left(t ω_{0} \\right)}\\right)^{2} + 1.0 \\left(r^{d}_{0 x} + t ω_{0} \\left(- 24 r^{d}_{0 z} - \\frac{15 v^{d}_{0 x}}{ω_{0}} - \\frac{6 v^{d}_{0 z} \\sin{\\left(t ω_{0} \\right)}}{ω_{0}} - 6 \\left(- 3 r^{d}_{0 z} - \\frac{2 v^{d}_{0 x}}{ω_{0}}\\right) \\cos{\\left(t ω_{0} \\right)}\\right) + \\frac{2 v^{d}_{0 z} \\cos{\\left(t ω_{0} \\right)}}{ω_{0}} - \\frac{2 v^{d}_{0 z}}{ω_{0}} - \\left(- 24 r^{d}_{0 z} - \\frac{16 v^{d}_{0 x}}{ω_{0}} - \\frac{6 v^{d}_{0 z} \\sin{\\left(t ω_{0} \\right)}}{ω_{0}} - 6 \\left(- 3 r^{d}_{0 z} - \\frac{2 v^{d}_{0 x}}{ω_{0}}\\right) \\cos{\\left(t ω_{0} \\right)}\\right) \\sin{\\left(t ω_{0} \\right)}\\right)^{2}\\right)^{\\frac{3}{4}}}{\\left|{4 r^{d}_{0 z} + \\frac{2 v^{d}_{0 x}}{ω_{0}} + \\frac{v^{d}_{0 z} \\sin{\\left(t ω_{0} \\right)}}{ω_{0}} + \\left(- 3 r^{d}_{0 z} - \\frac{2 v^{d}_{0 x}}{ω_{0}}\\right) \\cos{\\left(t ω_{0} \\right)}}\\right|^{\\frac{3}{2}}}\\end{matrix}\\right]$"
      ],
      "text/plain": [
       "Matrix([\n",
       "[1.0*sqrt((4*r_0^d_z + 2*v_0^d_x/ω_0 + v_0^d_z*sin(t*ω_0)/ω_0 + (-3*r_0^d_z - 2*v_0^d_x/ω_0)*cos(t*ω_0))**2 + (r_0^d_x + t*ω_0*(-24*r_0^d_z - 15*v_0^d_x/ω_0 - 6*v_0^d_z*sin(t*ω_0)/ω_0 - 6*(-3*r_0^d_z - 2*v_0^d_x/ω_0)*cos(t*ω_0)) + 2*v_0^d_z*cos(t*ω_0)/ω_0 - 2*v_0^d_z/ω_0 - (-24*r_0^d_z - 16*v_0^d_x/ω_0 - 6*v_0^d_z*sin(t*ω_0)/ω_0 - 6*(-3*r_0^d_z - 2*v_0^d_x/ω_0)*cos(t*ω_0))*sin(t*ω_0))**2)*(1.0*(4*r_0^d_z + 2*v_0^d_x/ω_0 + v_0^d_z*sin(t*ω_0)/ω_0 + (-3*r_0^d_z - 2*v_0^d_x/ω_0)*cos(t*ω_0))**2 + 1.0*(r_0^d_x + t*ω_0*(-24*r_0^d_z - 15*v_0^d_x/ω_0 - 6*v_0^d_z*sin(t*ω_0)/ω_0 - 6*(-3*r_0^d_z - 2*v_0^d_x/ω_0)*cos(t*ω_0)) + 2*v_0^d_z*cos(t*ω_0)/ω_0 - 2*v_0^d_z/ω_0 - (-24*r_0^d_z - 16*v_0^d_x/ω_0 - 6*v_0^d_z*sin(t*ω_0)/ω_0 - 6*(-3*r_0^d_z - 2*v_0^d_x/ω_0)*cos(t*ω_0))*sin(t*ω_0))**2)**(3/4)/Abs(r_0^d_x + t*ω_0*(-24*r_0^d_z - 15*v_0^d_x/ω_0 - 6*v_0^d_z*sin(t*ω_0)/ω_0 - 6*(-3*r_0^d_z - 2*v_0^d_x/ω_0)*cos(t*ω_0)) + 2*v_0^d_z*cos(t*ω_0)/ω_0 - 2*v_0^d_z/ω_0 - (-24*r_0^d_z - 16*v_0^d_x/ω_0 - 6*v_0^d_z*sin(t*ω_0)/ω_0 - 6*(-3*r_0^d_z - 2*v_0^d_x/ω_0)*cos(t*ω_0))*sin(t*ω_0))**(3/2)],\n",
       "[                                                                                                                                                                                       1.0*sqrt((4*r_0^d_z + 2*v_0^d_x/ω_0 + v_0^d_z*sin(t*ω_0)/ω_0 + (-3*r_0^d_z - 2*v_0^d_x/ω_0)*cos(t*ω_0))**2 + (r_0^d_x + t*ω_0*(-24*r_0^d_z - 15*v_0^d_x/ω_0 - 6*v_0^d_z*sin(t*ω_0)/ω_0 - 6*(-3*r_0^d_z - 2*v_0^d_x/ω_0)*cos(t*ω_0)) + 2*v_0^d_z*cos(t*ω_0)/ω_0 - 2*v_0^d_z/ω_0 - (-24*r_0^d_z - 16*v_0^d_x/ω_0 - 6*v_0^d_z*sin(t*ω_0)/ω_0 - 6*(-3*r_0^d_z - 2*v_0^d_x/ω_0)*cos(t*ω_0))*sin(t*ω_0))**2)*(1.0*(4*r_0^d_z + 2*v_0^d_x/ω_0 + v_0^d_z*sin(t*ω_0)/ω_0 + (-3*r_0^d_z - 2*v_0^d_x/ω_0)*cos(t*ω_0))**2 + 1.0*(r_0^d_x + t*ω_0*(-24*r_0^d_z - 15*v_0^d_x/ω_0 - 6*v_0^d_z*sin(t*ω_0)/ω_0 - 6*(-3*r_0^d_z - 2*v_0^d_x/ω_0)*cos(t*ω_0)) + 2*v_0^d_z*cos(t*ω_0)/ω_0 - 2*v_0^d_z/ω_0 - (-24*r_0^d_z - 16*v_0^d_x/ω_0 - 6*v_0^d_z*sin(t*ω_0)/ω_0 - 6*(-3*r_0^d_z - 2*v_0^d_x/ω_0)*cos(t*ω_0))*sin(t*ω_0))**2)**(3/4)/Abs(4*r_0^d_z + 2*v_0^d_x/ω_0 + v_0^d_z*sin(t*ω_0)/ω_0 + (-3*r_0^d_z - 2*v_0^d_x/ω_0)*cos(t*ω_0))**(3/2)]])"
      ]
     },
     "execution_count": 3,
     "metadata": {},
     "output_type": "execute_result"
    }
   ],
   "source": [
    "params_to_sub = []\n",
    "\n",
    "# Движения в плоскости орбиты\n",
    "params_to_sub += [(o.f.r_orf[0][1], 0), (o.c.r_orf[0][1], 0),\n",
    "                  (o.f.v_orf[0][1], 0), (o.c.v_orf[0][1], 0),]\n",
    "\n",
    "# Ориентация в плоскости орбиты\n",
    "# params_to_sub += [(o.f.q[0][1], 0), (o.c.q[0][1], 0),\n",
    "#                   (o.f.q[0][2], 0), (o.c.q[0][2], 0),]\n",
    "\n",
    "# Кубсат неподвижен в ОСК\n",
    "params_to_sub += [(o.c.r_orf[0][0], 0), (o.c.r_orf[0][1], 0), (o.c.r_orf[0][2], 0), \n",
    "                  (o.c.q[0][1], 0), (o.c.q[0][2], 0), (o.c.q[0][3], 0), ]\n",
    "\n",
    "# Динамика\n",
    "c_f = kf.get_c_hkw(o.f.r_orf[0], o.f.v_orf[0], w_0)\n",
    "r_f = kf.r_hkw(c_f, w_0, t)\n",
    "params_to_sub += [(o.f.r_orf[0][0], r_f[0]), (o.f.r_orf[0][1], r_f[1]), (o.f.r_orf[0][2], r_f[2])]\n",
    "\n",
    "y = o.v.MEASURES_VECTOR.subs(params_to_sub)\n",
    "y"
   ]
  },
  {
   "cell_type": "markdown",
   "id": "0a0b3ece-49f8-4ef4-b4f1-f81c86a2913f",
   "metadata": {},
   "source": [
    "**Симметрия относительно уравнений движения**"
   ]
  },
  {
   "cell_type": "code",
   "execution_count": 50,
   "id": "d800fe04-9503-4054-926f-3f903671d090",
   "metadata": {},
   "outputs": [
    {
     "name": "stdout",
     "output_type": "stream",
     "text": [
      "\u001b[0m\u001b[1mРавные знаменатели:\u001b[0m\u001b[0m\n"
     ]
    },
    {
     "data": {
      "text/latex": [
       "$\\displaystyle 0$"
      ],
      "text/plain": [
       "0"
      ]
     },
     "metadata": {},
     "output_type": "display_data"
    },
    {
     "name": "stdout",
     "output_type": "stream",
     "text": [
      "\u001b[0m\u001b[1mСумма числителей:\u001b[0m\u001b[0m\n"
     ]
    },
    {
     "data": {
      "text/latex": [
       "$\\displaystyle 1.0 \\left|{\\frac{4 r^{d}_{0 z} ω_{0} + 2 v^{d}_{0 x} + v^{d}_{0 z} \\sin{\\left(t ω_{0} \\right)} - \\left(3 r^{d}_{0 z} ω_{0} + 2 v^{d}_{0 x}\\right) \\cos{\\left(t ω_{0} \\right)}}{ω_{0}}}\\right|^{3} + 1.0 \\left|{\\frac{2 v^{d}_{0 z} \\cos{\\left(t ω_{0} \\right)} - 2 v^{d}_{0 z} + ω_{0} \\left(r^{d}_{0 x} - 3 t \\left(8 r^{d}_{0 z} ω_{0} + 5 v^{d}_{0 x} + 2 v^{d}_{0 z} \\sin{\\left(t ω_{0} \\right)} - \\left(6 r^{d}_{0 z} ω_{0} + 4 v^{d}_{0 x}\\right) \\cos{\\left(t ω_{0} \\right)}\\right)\\right) + 2 \\left(12 r^{d}_{0 z} ω_{0} + 8 v^{d}_{0 x} + 3 v^{d}_{0 z} \\sin{\\left(t ω_{0} \\right)} - \\left(9 r^{d}_{0 z} ω_{0} + 6 v^{d}_{0 x}\\right) \\cos{\\left(t ω_{0} \\right)}\\right) \\sin{\\left(t ω_{0} \\right)}}{ω_{0}}}\\right|^{3}$"
      ],
      "text/plain": [
       "1.0*Abs((4*r_0^d_z*ω_0 + 2*v_0^d_x + v_0^d_z*sin(t*ω_0) - (3*r_0^d_z*ω_0 + 2*v_0^d_x)*cos(t*ω_0))/ω_0)**3 + 1.0*Abs((2*v_0^d_z*cos(t*ω_0) - 2*v_0^d_z + ω_0*(r_0^d_x - 3*t*(8*r_0^d_z*ω_0 + 5*v_0^d_x + 2*v_0^d_z*sin(t*ω_0) - (6*r_0^d_z*ω_0 + 4*v_0^d_x)*cos(t*ω_0))) + 2*(12*r_0^d_z*ω_0 + 8*v_0^d_x + 3*v_0^d_z*sin(t*ω_0) - (9*r_0^d_z*ω_0 + 6*v_0^d_x)*cos(t*ω_0))*sin(t*ω_0))/ω_0)**3"
      ]
     },
     "metadata": {},
     "output_type": "display_data"
    }
   ],
   "source": [
    "t1_n, t1_d = fraction(t1**2)  # Разделение на числитель и знаменатель\n",
    "t2_n, t2_d = fraction(t2**2)\n",
    "\n",
    "kf.my_print(f\"Равные знаменатели:\", bold=True)\n",
    "display((t1_d - t2_d).simplify())\n",
    "\n",
    "kf.my_print(f\"Сумма числителей:\", bold=True)\n",
    "tmp_01 = ((t1_n + t2_n) ).simplify()\n",
    "display(tmp_01)"
   ]
  }
 ],
 "metadata": {
  "kernelspec": {
   "display_name": "Python 3 (ipykernel)",
   "language": "python",
   "name": "python3"
  },
  "language_info": {
   "codemirror_mode": {
    "name": "ipython",
    "version": 3
   },
   "file_extension": ".py",
   "mimetype": "text/x-python",
   "name": "python",
   "nbconvert_exporter": "python",
   "pygments_lexer": "ipython3",
   "version": "3.10.12"
  }
 },
 "nbformat": 4,
 "nbformat_minor": 5
}
