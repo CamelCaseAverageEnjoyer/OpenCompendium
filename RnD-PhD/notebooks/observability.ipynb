{
 "cells": [
  {
   "cell_type": "markdown",
   "id": "af80236e-9cce-4c88-b3ca-68225373eda8",
   "metadata": {},
   "source": [
    "![](../../PythonCompendium/storage/banners/28_observability.png)"
   ]
  },
  {
   "cell_type": "markdown",
   "id": "665ee46a-fa0a-4ea7-aaa0-5a3b5d93c5b1",
   "metadata": {
    "jp-MarkdownHeadingCollapsed": true
   },
   "source": [
    "##### **<u>Свои догадки</u>**"
   ]
  },
  {
   "cell_type": "markdown",
   "id": "e4093b8b-3307-4e8a-b529-c5fa22a1ba61",
   "metadata": {
    "jp-MarkdownHeadingCollapsed": true
   },
   "source": [
    "###### <u>Попытка вывода симметрии у решения</u> - Частные случаи"
   ]
  },
  {
   "cell_type": "code",
   "execution_count": 11,
   "id": "0aabb974-60cb-4e7e-81d3-3a2fa14b1a2a",
   "metadata": {},
   "outputs": [],
   "source": [
    "from sympy import *\n",
    "import sympy\n",
    "from cosmetic import *\n",
    "\n",
    "def add_extraname(s, extraname):\n",
    "    return \" \".join([i+extraname for i in s.split()])\n",
    "\n",
    "def get_x_y_z(case: dict, extraname: str = \"\", planar: bool = False, test_xz: bool = False):\n",
    "    x0, y0, z0, vx0, vy0, vz0 = var(add_extraname(s=\"x_0 y_0 z_0 v^x_0 v^y_0 v^z_0\", extraname=extraname))\n",
    "    X0, Y0, Z0, VX0, VY0, VZ0 = var(add_extraname(s=\"X_0 Y_0 Z_0 V^X_0 V^Y_0 V^Z_0\", extraname=extraname))\n",
    "    c, rho, m, M, s, S, v_orb = var(add_extraname(s=\"C rho m M s S v_{orb}\", extraname=extraname))\n",
    "    t, w0 = var(\"t w_0\")\n",
    "\n",
    "    r, R = 3*[None], 3*[None]\n",
    "    \n",
    "    if case['C1 = 0']:\n",
    "        vx0 = - 2 * z0 * w0\n",
    "        VX0 = - 2 * Z0 * w0\n",
    "    if not case['CubeSat motion']:\n",
    "        X0, Y0, Z0, VX0, VY0, VZ0 = [0]*6\n",
    "    if planar:\n",
    "        y0, Y0, vy0, VY0 = [0]*4\n",
    "\n",
    "    for _x0, _y0, _z0, _vx0, _vy0, _vz0, _r, _m, _s in zip((x0, X0), (y0, Y0), (z0, Z0), (vx0, VX0), (vy0, VY0), (vz0, VZ0), \n",
    "                                                           (r, R), (m, M), (s, S)):\n",
    "        C_1 = 2 * _z0 + _vx0 / w0\n",
    "        C_2 = _vz0 / w0\n",
    "        C_3 = -3 * _z0 - 2 * _vx0 / w0\n",
    "        C_4 = _x0 - 2 * _vz0 / w0\n",
    "        C_5 = _vy0 / w0\n",
    "        C_6 = _y0\n",
    "        \n",
    "        tmp = (-t**2 / 2 * c * rho / _m * _s * v_orb**2) if case['Aero'] else 0\n",
    "        \n",
    "        _r[0] = C_4 - 3*C_1*w0*t + 2*C_2*cos(w0*t) -2*C_3*sin(w0*t) + tmp\n",
    "        _r[1] = C_5*sin(w0*t) + C_6*cos(w0*t)\n",
    "        _r[2] = 2*C_1 + C_2*sin(w0*t) + C_3*cos(w0*t)\n",
    "    \n",
    "    return {'w0': w0, 't': t,\n",
    "            'x0': x0, 'y0': y0, 'z0': z0, 'vx0': vx0, 'vy0': vy0, 'vz0': vz0,\n",
    "            'x': r[0], 'y': r[1], 'z': r[2], \n",
    "            'X': R[0], 'Y': R[1], 'Z': R[2]}\n",
    "\n",
    "def get_measurements(case: dict, params: dict):\n",
    "    if case['antenna type'] == 'isotropic':\n",
    "        measurements = [(params['X'] - params['x'])**2 + \n",
    "                        (params['Y'] - params['y'])**2 + \n",
    "                        (params['Z'] - params['z'])**2]\n",
    "\n",
    "    return measurements\n",
    "\n",
    "def get_discrepancy_invert_param(measurements, params: dict, variables: list) -> list:\n",
    "    global counter\n",
    "    subses = []\n",
    "    for v in variables:\n",
    "        subses.append((params[v], -params[v]))\n",
    "\n",
    "    anw = []\n",
    "    for i, m in zip(range(len(measurements)), measurements):\n",
    "        tmp = (m - m.subs(subses)).simplify()\n",
    "        anw.append(tmp)\n",
    "        if isinstance(tmp, sympy.core.numbers.Zero):\n",
    "            print(f\"По параметрам\\033[1m\", *variables, f\"\\033[0mу измерения №{i+1} есть зеркальная симметрия\")\n",
    "            counter *= 2\n",
    "    return anw\n",
    "\n",
    "def print_symmetry_problem_result():\n",
    "    global counter\n",
    "    if counter == 1:\n",
    "        my_print(f\"Решение единственное: {counter}!\", bold=True, color=\"g\")\n",
    "    else:\n",
    "        my_print(f\"Симметричных решений: {counter}\", bold=True, color=\"b\")\n",
    "\n",
    "\n",
    "def calculate_symmetry(motion_case, measurement_case, v_list):\n",
    "    global counter\n",
    "    counter = 1\n",
    "    params = get_x_y_z(case=motion_case)\n",
    "    measurements = get_measurements(case=measurement_case, params=params)\n",
    "    for variables in v_list:\n",
    "        _ = get_discrepancy_invert_param(measurements=measurements, variables=variables, params=params)\n",
    "    print_symmetry_problem_result()"
   ]
  },
  {
   "cell_type": "markdown",
   "id": "fe29321b-0fe9-4605-831e-9b279bf76712",
   "metadata": {
    "jp-MarkdownHeadingCollapsed": true
   },
   "source": [
    "###### 0. Поиск решения"
   ]
  },
  {
   "cell_type": "markdown",
   "id": "c15bd12a-621c-4cec-8dd6-6405b93f060d",
   "metadata": {},
   "source": [
    ">> Уравнения:\n",
    "$$\\ddot{x} = -2 \\omega_0 \\upsilon_z,$$\n",
    "$$\\ddot{y} = -\\omega_0^2 y,$$\n",
    "$$\\ddot{z} = 2 \\omega_0 \\upsilon_x + 3 \\omega_0^2 z.$$\n",
    "\n",
    "> Движение по $y$ отделимо <br>\n",
    "> Возможна симметрия по одновременному изменению положений и скоростей по $x, z$ <br>"
   ]
  },
  {
   "cell_type": "code",
   "execution_count": 13,
   "id": "a87df3f7-edef-46d8-b9ad-7388c974b586",
   "metadata": {},
   "outputs": [
    {
     "data": {
      "text/latex": [
       "$\\displaystyle \\left(- \\frac{v^{y}_{0} \\sin{\\left(t w_{0} \\right)}}{w_{0}} - y_{0} \\cos{\\left(t w_{0} \\right)}\\right)^{2} + \\left(- \\frac{2 v^{x}_{0}}{w_{0}} - \\frac{v^{z}_{0} \\sin{\\left(t w_{0} \\right)}}{w_{0}} - 4 z_{0} - \\left(- \\frac{2 v^{x}_{0}}{w_{0}} - 3 z_{0}\\right) \\cos{\\left(t w_{0} \\right)}\\right)^{2} + \\left(t w_{0} \\left(\\frac{3 v^{x}_{0}}{w_{0}} + 6 z_{0}\\right) - \\frac{2 v^{z}_{0} \\cos{\\left(t w_{0} \\right)}}{w_{0}} + \\frac{2 v^{z}_{0}}{w_{0}} - x_{0} + \\left(- \\frac{4 v^{x}_{0}}{w_{0}} - 6 z_{0}\\right) \\sin{\\left(t w_{0} \\right)}\\right)^{2}$"
      ],
      "text/plain": [
       "(-v^y_0*sin(t*w_0)/w_0 - y_0*cos(t*w_0))**2 + (-2*v^x_0/w_0 - v^z_0*sin(t*w_0)/w_0 - 4*z_0 - (-2*v^x_0/w_0 - 3*z_0)*cos(t*w_0))**2 + (t*w_0*(3*v^x_0/w_0 + 6*z_0) - 2*v^z_0*cos(t*w_0)/w_0 + 2*v^z_0/w_0 - x_0 + (-4*v^x_0/w_0 - 6*z_0)*sin(t*w_0))**2"
      ]
     },
     "execution_count": 13,
     "metadata": {},
     "output_type": "execute_result"
    }
   ],
   "source": [
    "# Инициализация\n",
    "motion_case = {'C1 = 0': False, \n",
    "               'Aero': False,\n",
    "               'CubeSat motion': False}\n",
    "\n",
    "measurement_case = {'antenna type': 'isotropic'}\n",
    "\n",
    "params = get_x_y_z(case=motion_case)\n",
    "measurements = get_measurements(case=measurement_case, params=params)\n",
    "\n",
    "# params_wrong = get_x_y_z(case=motion_case, planar=False, extraname=\"^w\")\n",
    "# measurements_wrong = get_measurements(case=measurement_case, params=params_wrong)\n",
    "measurements[0]"
   ]
  },
  {
   "cell_type": "code",
   "execution_count": 16,
   "id": "982dba7d-a329-4ccd-9794-8d5a21c2e2e8",
   "metadata": {},
   "outputs": [],
   "source": [
    "grad_vec = {}\n",
    "for v in [\"x0\", \"y0\", \"z0\", \"vx0\", \"vy0\", \"vz0\"]:\n",
    "    grad_vec[v] = measurements[0].diff(params[v])"
   ]
  },
  {
   "cell_type": "code",
   "execution_count": null,
   "id": "78fc292c-47bc-49cc-83d1-ee6a56754830",
   "metadata": {},
   "outputs": [],
   "source": []
  },
  {
   "cell_type": "markdown",
   "id": "5f611411-35f9-4d8a-a93a-6fc3a04367a0",
   "metadata": {
    "jp-MarkdownHeadingCollapsed": true
   },
   "source": [
    "###### 1. <u>ХКУ, 1к-1ч, изотропные антенны, без определение углового движения</u>"
   ]
  },
  {
   "cell_type": "markdown",
   "id": "4f21e04c-9c21-4dcb-8c4b-a2eb83269654",
   "metadata": {},
   "source": [
    "> Уравнения ХКУ имеют 4 симметричных решения <br>\n",
    "> Антенны изотропные, но углы не ищутся -> симметрия не уменьшается <br>\n",
    "> Итого: 4 симметричных решения"
   ]
  },
  {
   "cell_type": "code",
   "execution_count": 117,
   "id": "f28e1be0-483b-4ccc-8ad2-764ba6782de9",
   "metadata": {},
   "outputs": [
    {
     "name": "stdout",
     "output_type": "stream",
     "text": [
      "По параметрам\u001b[1m y0 vy0 \u001b[0mу измерения №1 есть зеркальная симметрия\n",
      "По параметрам\u001b[1m x0 z0 vx0 vz0 \u001b[0mу измерения №1 есть зеркальная симметрия\n",
      "\u001b[34m\u001b[1mСимметричных решений: 4\u001b[0m\u001b[0m\n"
     ]
    }
   ],
   "source": [
    "# Инициализация\n",
    "motion_case = {'C1 = 0': False, \n",
    "               'Aero': False,\n",
    "               'CubeSat motion': False}\n",
    "\n",
    "measurement_case = {'antenna type': 'isotropic'}\n",
    "\n",
    "v_list = [['x0'], ['vx0'], ['y0'], ['vy0'], ['z0'], ['vz0'],\n",
    "          ['x0', 'vx0'], ['y0', 'vy0'], ['z0', 'vz0'],\n",
    "          ['x0', 'z0'],\n",
    "          ['x0', 'z0', 'vz0'],\n",
    "          ['x0', 'z0', 'vx0', 'vz0']]\n",
    "\n",
    "calculate_symmetry(motion_case=motion_case, measurement_case=measurement_case, v_list=v_list)"
   ]
  },
  {
   "cell_type": "code",
   "execution_count": 118,
   "id": "0cfcebd5-8ca1-40e6-82a1-3266e4f88d52",
   "metadata": {},
   "outputs": [
    {
     "name": "stdout",
     "output_type": "stream",
     "text": [
      "\u001b[32m\u001b[1mРешение единственное: 1!\u001b[0m\u001b[0m\n"
     ]
    }
   ],
   "source": [
    "# Инициализация\n",
    "motion_case = {'C1 = 0': False, \n",
    "               'Aero': False,\n",
    "               'CubeSat motion': True}\n",
    "\n",
    "measurement_case = {'antenna type': 'isotropic'}\n",
    "\n",
    "v_list = [['x0'], ['vx0'], ['y0'], ['vy0'], ['z0'], ['vz0'],\n",
    "          ['x0', 'vx0'], ['y0', 'vy0'], ['z0', 'vz0'],\n",
    "          ['x0', 'z0'],\n",
    "          ['x0', 'z0', 'vz0'],\n",
    "          ['x0', 'z0', 'vx0', 'vz0']]\n",
    "\n",
    "calculate_symmetry(motion_case=motion_case, measurement_case=measurement_case, v_list=v_list)"
   ]
  },
  {
   "cell_type": "code",
   "execution_count": 119,
   "id": "0a53181c-1b86-4a24-8789-2a4859b3ad16",
   "metadata": {},
   "outputs": [
    {
     "name": "stdout",
     "output_type": "stream",
     "text": [
      "По параметрам\u001b[1m vx0 \u001b[0mу измерения №1 есть зеркальная симметрия\n",
      "По параметрам\u001b[1m y0 vy0 \u001b[0mу измерения №1 есть зеркальная симметрия\n",
      "По параметрам\u001b[1m x0 z0 vz0 \u001b[0mу измерения №1 есть зеркальная симметрия\n",
      "\u001b[34m\u001b[1mСимметричных решений: 8\u001b[0m\u001b[0m\n"
     ]
    }
   ],
   "source": [
    "# Инициализация\n",
    "motion_case = {'C1 = 0': True, \n",
    "               'Aero': False,\n",
    "               'CubeSat motion': False}\n",
    "\n",
    "measurement_case = {'antenna type': 'isotropic'}\n",
    "\n",
    "v_list = [['x0'], ['vx0'], ['y0'], ['vy0'], ['z0'], ['vz0'],\n",
    "          ['x0', 'vx0'], ['y0', 'vy0'], ['z0', 'vz0'],\n",
    "          ['x0', 'z0'],\n",
    "          ['x0', 'z0', 'vz0']]\n",
    "\n",
    "calculate_symmetry(motion_case=motion_case, measurement_case=measurement_case, v_list=v_list)"
   ]
  },
  {
   "cell_type": "code",
   "execution_count": 120,
   "id": "8fb30c8e-8d94-428a-a615-b93573a6243c",
   "metadata": {},
   "outputs": [
    {
     "name": "stdout",
     "output_type": "stream",
     "text": [
      "По параметрам\u001b[1m vx0 \u001b[0mу измерения №1 есть зеркальная симметрия\n",
      "\u001b[34m\u001b[1mСимметричных решений: 2\u001b[0m\u001b[0m\n"
     ]
    }
   ],
   "source": [
    "# Инициализация\n",
    "motion_case = {'C1 = 0': True, \n",
    "               'Aero': False,\n",
    "               'CubeSat motion': True}\n",
    "\n",
    "measurement_case = {'antenna type': 'isotropic'}\n",
    "\n",
    "v_list = [['x0'], ['vx0'], ['y0'], ['vy0'], ['z0'], ['vz0'],\n",
    "          ['x0', 'vx0'], ['y0', 'vy0'], ['z0', 'vz0'],\n",
    "          ['x0', 'z0'],\n",
    "          ['x0', 'z0', 'vz0']]\n",
    "\n",
    "calculate_symmetry(motion_case=motion_case, measurement_case=measurement_case, v_list=v_list)"
   ]
  },
  {
   "cell_type": "markdown",
   "id": "5b456168-c526-4f77-9475-88814557b905",
   "metadata": {
    "jp-MarkdownHeadingCollapsed": true
   },
   "source": [
    "###### 2. <u>ХКУ + аэро, 1к-1ч, изотропные антенны, без определение углового движения</u>"
   ]
  },
  {
   "cell_type": "markdown",
   "id": "87531b27-acd2-42b5-bd25-16f53d21e391",
   "metadata": {},
   "source": [
    "> Уравнения ХКУ имеют 4 симметричных решения <br>\n",
    "> Антенны изотропные, но углы не ищутся -> симметрия не уменьшается <br> \n",
    "> Итого: 4 симметричных решения"
   ]
  },
  {
   "cell_type": "code",
   "execution_count": 121,
   "id": "8ae5caad-a1a1-414c-aae3-eb8a8fe02505",
   "metadata": {},
   "outputs": [
    {
     "name": "stdout",
     "output_type": "stream",
     "text": [
      "По параметрам\u001b[1m y0 vy0 \u001b[0mу измерения №1 есть зеркальная симметрия\n",
      "\u001b[34m\u001b[1mСимметричных решений: 2\u001b[0m\u001b[0m\n"
     ]
    }
   ],
   "source": [
    "# Инициализация\n",
    "motion_case = {'C1 = 0': False, \n",
    "               'Aero': True,\n",
    "               'CubeSat motion': False}\n",
    "\n",
    "measurement_case = {'antenna type': 'isotropic'}\n",
    "\n",
    "v_list = [['x0'], ['vx0'], ['y0'], ['vy0'], ['z0'], ['vz0'],\n",
    "          ['x0', 'vx0'], ['y0', 'vy0'], ['z0', 'vz0'],\n",
    "          ['x0', 'z0'],\n",
    "          ['x0', 'z0', 'vz0'],\n",
    "          ['x0', 'z0', 'vx0', 'vz0']]\n",
    "\n",
    "calculate_symmetry(motion_case=motion_case, measurement_case=measurement_case, v_list=v_list)"
   ]
  },
  {
   "cell_type": "code",
   "execution_count": 122,
   "id": "9e0247d8-473e-43a5-8a67-6d4d46e16b50",
   "metadata": {},
   "outputs": [
    {
     "name": "stderr",
     "output_type": "stream",
     "text": [
      "\n",
      "KeyboardInterrupt\n",
      "\n"
     ]
    }
   ],
   "source": [
    "# Инициализация\n",
    "motion_case = {'C1 = 0': False, \n",
    "               'Aero': True,\n",
    "               'CubeSat motion': True}\n",
    "\n",
    "measurement_case = {'antenna type': 'isotropic'}\n",
    "\n",
    "v_list = [['x0'], ['vx0'], ['y0'], ['vy0'], ['z0'], ['vz0'],\n",
    "          ['x0', 'vx0'], ['y0', 'vy0'], ['z0', 'vz0'],\n",
    "          ['x0', 'z0'],\n",
    "          ['x0', 'z0', 'vz0'],\n",
    "          ['x0', 'z0', 'vx0', 'vz0']]\n",
    "\n",
    "calculate_symmetry(motion_case=motion_case, measurement_case=measurement_case, v_list=v_list)"
   ]
  },
  {
   "cell_type": "code",
   "execution_count": 105,
   "id": "ab88e116-a199-47bf-96ad-7d852652b391",
   "metadata": {},
   "outputs": [
    {
     "name": "stdout",
     "output_type": "stream",
     "text": [
      "По параметрам vx0 у измерения №1 есть симметрия\n",
      "По параметрам y0 vy0 у измерения №1 есть симметрия\n",
      "\u001b[34m\u001b[1mСимметричных решений: 4\u001b[0m\u001b[0m\n"
     ]
    }
   ],
   "source": [
    "# Инициализация\n",
    "motion_case = {'C1 = 0': True, \n",
    "               'Aero': True,\n",
    "               'CubeSat motion': False}\n",
    "\n",
    "measurement_case = {'antenna type': 'isotropic'}\n",
    "\n",
    "v_list = [['x0'], ['vx0'], ['y0'], ['vy0'], ['z0'], ['vz0'],\n",
    "          ['x0', 'vx0'], ['y0', 'vy0'], ['z0', 'vz0'],\n",
    "          ['x0', 'z0'],\n",
    "          ['x0', 'z0', 'vz0']]\n",
    "\n",
    "calculate_symmetry(motion_case=motion_case, measurement_case=measurement_case, v_list=v_list)"
   ]
  },
  {
   "cell_type": "code",
   "execution_count": 106,
   "id": "348fa9ba-135c-4bd5-a5db-4f096c06a60a",
   "metadata": {},
   "outputs": [
    {
     "name": "stdout",
     "output_type": "stream",
     "text": [
      "По параметрам vx0 у измерения №1 есть симметрия\n",
      "\u001b[34m\u001b[1mСимметричных решений: 2\u001b[0m\u001b[0m\n"
     ]
    }
   ],
   "source": [
    "# Инициализация\n",
    "motion_case = {'C1 = 0': True, \n",
    "               'Aero': True,\n",
    "               'CubeSat motion': True}\n",
    "\n",
    "measurement_case = {'antenna type': 'isotropic'}\n",
    "\n",
    "v_list = [['x0'], ['vx0'], ['y0'], ['vy0'], ['z0'], ['vz0'],\n",
    "          ['x0', 'vx0'], ['y0', 'vy0'], ['z0', 'vz0'],\n",
    "          ['x0', 'z0'],\n",
    "          ['x0', 'z0', 'vz0']]\n",
    "\n",
    "calculate_symmetry(motion_case=motion_case, measurement_case=measurement_case, v_list=v_list)"
   ]
  },
  {
   "cell_type": "markdown",
   "id": "d6cf3800-4fec-40c1-a19f-4eb41530d889",
   "metadata": {
    "jp-MarkdownHeadingCollapsed": true
   },
   "source": [
    "###### <u>Минимальное кол-во материнских аппаратов для наблюдаемости</u>"
   ]
  },
  {
   "cell_type": "code",
   "execution_count": 9,
   "id": "03c7bbe2-1e64-439f-aa7b-f13bdc6f2c0b",
   "metadata": {},
   "outputs": [
    {
     "name": "stdout",
     "output_type": "stream",
     "text": [
      "Не нашлось такого количества! Измени параметры\n",
      "Минимальное кол-во материнских аппаратов для наблюдаемости: \u001b[1m-1\u001b[0m\n"
     ]
    }
   ],
   "source": [
    "def get_min_chief_amount(fn: int, motion: str, antenna_config: dict) -> int:\n",
    "    \"\"\"\n",
    "    :param fn: кол-во дочерних КА (НЕ УЧИТЫВАЕТСЯ)\n",
    "    :param motion: По каким координатам ОСК движение КА\n",
    "    :param antenna_config: типы антенн материнских и дочерних КА\n",
    "    :return: Кол-во материнских КА для наблюдаемости на НОО (околокруговые)\n",
    "    \"\"\"\n",
    "    for cn in range(1, 10):\n",
    "        n_symmetry_solution = [1, 1, 1]\n",
    "        ############################\n",
    "        # Увеличение симметричных решений\n",
    "        if antenna_config['c-type'] == \"изотропные\":\n",
    "            for i in range(3):\n",
    "                n_symmetry_solution[i] *= 2\n",
    "        if antenna_config['d-type'] == \"изотропные\":\n",
    "            for i in range(3):\n",
    "                n_symmetry_solution[i] *= 2\n",
    "        \n",
    "        # Уменьшение симметричных решений\n",
    "        if not antenna_config['c-multy-send'] and not antenna_config['d-multy-take']:\n",
    "            if cn == 4:\n",
    "                for i in range(3):\n",
    "                    n_symmetry_solution[i] /= 2\n",
    "        ############################\n",
    "        if sum(n_symmetry_solution) == 3:\n",
    "            return cn\n",
    "    print(\"Не нашлось такого количества! Измени параметры\")\n",
    "    return -1\n",
    "    \n",
    "cn = get_min_chief_amount(fn=1, motion=\"xyz\", \n",
    "                          antenna_config={'c-type': [\"изотропные\"][0], \n",
    "                                          'd-type': [\"изотропные\"][0],\n",
    "                                          'c-multy-send': False,\n",
    "                                          'c-multy-take': False,\n",
    "                                          'd-multy-send': False,\n",
    "                                          'd-multy-take': False,})\n",
    "print(f\"Минимальное кол-во материнских аппаратов для наблюдаемости: \\033[1m{cn}\\033[0m\")"
   ]
  },
  {
   "cell_type": "markdown",
   "id": "2be79dd1-7edb-45ed-8076-167a6875c7a8",
   "metadata": {
    "jp-MarkdownHeadingCollapsed": true
   },
   "source": [
    "##### **<u>RSSI to range-based</u>**"
   ]
  },
  {
   "cell_type": "code",
   "execution_count": 1,
   "id": "2d5cf55b-7094-4bfc-8552-f56d7d6d242c",
   "metadata": {},
   "outputs": [
    {
     "name": "stdout",
     "output_type": "stream",
     "text": [
      "\u001b[32mИнициализация проекта kiam-formation\u001b[0m\n"
     ]
    }
   ],
   "source": [
    "from common_func import *"
   ]
  },
  {
   "cell_type": "code",
   "execution_count": 2,
   "id": "86b55974-523d-4dc5-8a26-3fb4284883d6",
   "metadata": {},
   "outputs": [],
   "source": [
    "r = Matrix(var('r_x r_y r_z'))\n",
    "xr, yr, zr = var('x_r y_r z_r')\n",
    "dx, dy, dz = var('δx δy δz')\n",
    "q = kf.vec2quat(Matrix(var('q_x q_y q_z')))"
   ]
  },
  {
   "cell_type": "markdown",
   "id": "c6b14790-174d-44e7-bebb-7022a5cfb1b0",
   "metadata": {
    "jp-MarkdownHeadingCollapsed": true
   },
   "source": [
    "###### **ВЫКЛАДКИ ДЛЯ ПОЛУВОЛНОВОЙ АНТЕННЫ** (я легко и непринуждённо забил на то, что от $r$ тоже идёт $\\delta x$"
   ]
  },
  {
   "cell_type": "code",
   "execution_count": null,
   "id": "7ce1b364-5797-473b-a44c-08ac80adfa80",
   "metadata": {},
   "outputs": [],
   "source": [
    "series(x, r[0], r[0] + dx, n=6)"
   ]
  },
  {
   "cell_type": "code",
   "execution_count": 7,
   "id": "70c1c7f0-2f9c-444a-acfc-b474808f9450",
   "metadata": {},
   "outputs": [
    {
     "name": "stdout",
     "output_type": "stream",
     "text": [
      "Усиление G вдоль оси x:\n"
     ]
    },
    {
     "data": {
      "text/latex": [
       "$\\displaystyle \\frac{1.0 \\cos{\\left(\\frac{\\pi r_{x}}{2 \\sqrt{d^{2}}} \\right)}}{\\sqrt{\\frac{r_{y}^{2} + r_{z}^{2}}{d^{2}}}}$"
      ],
      "text/plain": [
       "1.0*cos(pi*r_x/(2*sqrt(d**2)))/sqrt((r_y**2 + r_z**2)/d**2)"
      ]
     },
     "metadata": {},
     "output_type": "display_data"
    },
    {
     "name": "stdout",
     "output_type": "stream",
     "text": [
      "Усиление G вдоль оси y:\n"
     ]
    },
    {
     "data": {
      "text/latex": [
       "$\\displaystyle \\frac{1.0 \\cos{\\left(\\frac{\\pi r_{y}}{2 \\sqrt{d^{2}}} \\right)}}{\\sqrt{\\frac{r_{x}^{2} + r_{z}^{2}}{d^{2}}}}$"
      ],
      "text/plain": [
       "1.0*cos(pi*r_y/(2*sqrt(d**2)))/sqrt((r_x**2 + r_z**2)/d**2)"
      ]
     },
     "metadata": {},
     "output_type": "display_data"
    },
    {
     "name": "stdout",
     "output_type": "stream",
     "text": [
      "Усиление G вдоль оси z:\n"
     ]
    },
    {
     "data": {
      "text/latex": [
       "$\\displaystyle \\frac{1.0 \\cos{\\left(\\frac{\\pi r_{z}}{2 \\sqrt{d^{2}}} \\right)}}{\\sqrt{\\frac{r_{x}^{2} + r_{y}^{2}}{d^{2}}}}$"
      ],
      "text/plain": [
       "1.0*cos(pi*r_z/(2*sqrt(d**2)))/sqrt((r_x**2 + r_y**2)/d**2)"
      ]
     },
     "metadata": {},
     "output_type": "display_data"
    }
   ],
   "source": [
    "d = var('d')\n",
    "x = eval(str(kf.local_dipole(None, r, 'x')).replace('r_x**2 + r_y**2 + r_z**2', 'd**2')).simplify()\n",
    "y = eval(str(kf.local_dipole(None, r, 'y')).replace('r_x**2 + r_y**2 + r_z**2', 'd**2')).simplify()\n",
    "z = eval(str(kf.local_dipole(None, r, 'z')).replace('r_x**2 + r_y**2 + r_z**2', 'd**2')).simplify()\n",
    "print('Усиление G вдоль оси x:')\n",
    "display(x)\n",
    "print('Усиление G вдоль оси y:')\n",
    "display(y)\n",
    "print('Усиление G вдоль оси z:')\n",
    "display(z)"
   ]
  },
  {
   "cell_type": "markdown",
   "id": "67ffbce5-ef3f-45c8-8d72-e1f754738b33",
   "metadata": {},
   "source": [
    "$$Y_x(x) = \\frac{\\cos\\left( \\frac{\\pi x}{2 r} \\right)}{\\sqrt{1 - \\frac{x^2}{r^2}}}$$\n",
    "\n",
    "$$Y_x(x + \\delta x) = \\frac{\\cos\\left( \\frac{\\pi x  + \\pi \\delta x}{2 r} \\right)}{\\sqrt{1 - \\frac{x^2}{r^2}  + \\frac{2x\\delta x}{r^2}}}$$"
   ]
  },
  {
   "cell_type": "markdown",
   "id": "e0cf7196-a31c-460d-8e63-cd93b2571add",
   "metadata": {},
   "source": [
    "Воспользовавшись разложением\n",
    "\n",
    "$$\\frac{1}{\\sqrt{1 - \\frac{x^2}{r^2}  + \\frac{2x\\delta x}{r^2}}} = \\frac{1}{\\sqrt{a  + b \\delta x}} = \\frac{1}{\\sqrt{a}\\sqrt{1  + \\frac{b}{a} \\delta x}}  \\approx \\frac{1}{\\sqrt{a}} \\left( 1 - \\frac{b\\delta x}{2 a} \\right) $$"
   ]
  },
  {
   "cell_type": "code",
   "execution_count": null,
   "id": "eec520b4-8e6f-4299-a095-c3c57fc89c85",
   "metadata": {},
   "outputs": [],
   "source": []
  },
  {
   "cell_type": "markdown",
   "id": "ff56a1d7-9a27-4465-8c4b-a5e99dd6fb89",
   "metadata": {},
   "source": [
    "А если мы ещё вспомним про\n",
    "$$\\cos\\left( \\frac{\\pi x}{2 r} + \\frac{\\pi \\delta x}{2 r} \\right) = \\cos{\\left( \\frac{\\pi x}{2 r} \\right)}\\cos{\\left( \\frac{\\pi \\delta x}{2 r} \\right)} - \\sin{\\left( \\frac{\\pi x}{2 r} \\right)}\\sin{\\left( \\frac{\\pi \\delta x}{2 r} \\right)} \\approx$$\n",
    "\n",
    "$$\\approx  \\cos{\\left( \\frac{\\pi x}{2 r} \\right)} - \\sin{\\left( \\frac{\\pi x}{2 r} \\right)}\\frac{\\pi \\delta x}{2 r} $$"
   ]
  },
  {
   "cell_type": "markdown",
   "id": "40520cb4-0f3c-43dd-8e96-caa87fac8e86",
   "metadata": {},
   "source": [
    "В конце получим вот такую штуку\n",
    "$$Y_x(x + \\delta x) = \\frac{\\cos{\\left( \\frac{\\pi x}{2 r} \\right)} - \\sin{\\left( \\frac{\\pi x}{2 r} \\right)}\\frac{\\pi \\delta x}{2 r}}{\\sqrt{1 - \\frac{x^2}{r^2}}}   -  \\frac{\\cos{\\left( \\frac{\\pi x}{2 r} \\right)} - \\sin{\\left( \\frac{\\pi x}{2 r} \\right)}\\frac{\\pi \\delta x}{2 r}}{\\sqrt{1 - \\frac{x^2}{r^2}}} \\frac{x\\delta x}{r\\sqrt{r^2 - x^2}}$$\n",
    "\n",
    "Это значит, что при приращении $\\delta x$, мы имеем приращение скалярного измерения \n",
    "$$Y_x(x + \\delta x) - Y_x(x) = \\frac{- \\sin{\\left( \\frac{\\pi x}{2 r} \\right)}\\frac{\\pi \\delta x}{2 r}}{\\sqrt{1 - \\frac{x^2}{r^2}}}   -  \\frac{\\cos{\\left( \\frac{\\pi x}{2 r} \\right)} - \\sin{\\left( \\frac{\\pi x}{2 r} \\right)}\\frac{\\pi \\delta x}{2 r}}{\\sqrt{1 - \\frac{x^2}{r^2}}} \\frac{x\\delta x}{r\\sqrt{r^2 - x^2}}$$\n",
    "\n",
    "А если мы оставим только линейные члены по $\\delta x$, выйдет\n",
    "$$Y_x(x + \\delta x) - Y_x(x) = \\frac{- \\sin{\\left( \\frac{\\pi x}{2 r} \\right)}\\frac{\\pi \\delta x}{2 r}}{\\sqrt{1 - \\frac{x^2}{r^2}}}   -  \\frac{\\cos{\\left( \\frac{\\pi x}{2 r} \\right)} }{\\sqrt{1 - \\frac{x^2}{r^2}}} \\frac{x\\delta x}{r\\sqrt{r^2 - x^2}}$$"
   ]
  },
  {
   "cell_type": "markdown",
   "id": "9ef7c230-a594-4937-99c5-d014296c720b",
   "metadata": {},
   "source": [
    "$$Y_x(x + \\delta x) - Y_x(x) = -\\frac{\\delta x}{\\sqrt{1 - \\frac{x^2}{r^2}}}  \\left( \\sin{\\left( \\frac{\\pi x}{2 r} \\right)}\\frac{\\pi}{2 r} + \\cos{\\left( \\frac{\\pi x}{2 r} \\right)}  \\frac{x}{r\\sqrt{r^2 - x^2}}   \\right)$$"
   ]
  },
  {
   "cell_type": "markdown",
   "id": "d12881da-c787-4fc6-93ba-d2f54f6979b7",
   "metadata": {},
   "source": [
    "А дальше что? А дальше кот прошёлся по клавиатуре и у меня всё блин удалилось. Короче там в итоге $Y_x(x + \\delta x) - Y_x(x) = 0$ только при $x=0$"
   ]
  },
  {
   "cell_type": "markdown",
   "id": "c20a8ee6-dbd3-4791-80f1-23777776392f",
   "metadata": {},
   "source": [
    "###### **ВЫКЛАДКИ ДЛЯ КОРОТКОГО ДИПОЛЯ**"
   ]
  },
  {
   "cell_type": "markdown",
   "id": "c22931cf-484e-444e-82c3-5ac6b8c61b12",
   "metadata": {},
   "source": [
    "КА-1 в ССК-1 принимает сигнал от КА-2. В ССК-1:\n",
    "- КА-1 в начале координат, $q=[1,0,0,0]$\n",
    "- КА-2 в $r,q$ <br>\n",
    "Если у каждого КА по 3 антенны, то в итоге 9 измерений"
   ]
  },
  {
   "cell_type": "code",
   "execution_count": 3,
   "id": "b7c4a5ef-01ed-4230-9171-735f0ccb001a",
   "metadata": {},
   "outputs": [
    {
     "name": "stdout",
     "output_type": "stream",
     "text": [
      "\u001b[0m\u001b[1mУсиления для КА-1\u001b[0m\u001b[0m\n",
      "Усиление G вдоль оси x:\n"
     ]
    },
    {
     "data": {
      "text/latex": [
       "$\\displaystyle 1.0 \\sqrt{\\frac{r_{y}^{2} + r_{z}^{2}}{r_{x}^{2} + r_{y}^{2} + r_{z}^{2}}}$"
      ],
      "text/plain": [
       "1.0*sqrt((r_y**2 + r_z**2)/(r_x**2 + r_y**2 + r_z**2))"
      ]
     },
     "metadata": {},
     "output_type": "display_data"
    },
    {
     "name": "stdout",
     "output_type": "stream",
     "text": [
      "Усиление G вдоль оси y:\n"
     ]
    },
    {
     "data": {
      "text/latex": [
       "$\\displaystyle 1.0 \\sqrt{\\frac{r_{x}^{2} + r_{z}^{2}}{r_{x}^{2} + r_{y}^{2} + r_{z}^{2}}}$"
      ],
      "text/plain": [
       "1.0*sqrt((r_x**2 + r_z**2)/(r_x**2 + r_y**2 + r_z**2))"
      ]
     },
     "metadata": {},
     "output_type": "display_data"
    },
    {
     "name": "stdout",
     "output_type": "stream",
     "text": [
      "Усиление G вдоль оси z:\n"
     ]
    },
    {
     "data": {
      "text/latex": [
       "$\\displaystyle 1.0 \\sqrt{\\frac{r_{x}^{2} + r_{y}^{2}}{r_{x}^{2} + r_{y}^{2} + r_{z}^{2}}}$"
      ],
      "text/plain": [
       "1.0*sqrt((r_x**2 + r_y**2)/(r_x**2 + r_y**2 + r_z**2))"
      ]
     },
     "metadata": {},
     "output_type": "display_data"
    },
    {
     "name": "stdout",
     "output_type": "stream",
     "text": [
      "\u001b[0m\u001b[1m\n",
      "Усиления для КА-2\u001b[0m\u001b[0m\n",
      "Усиление G вдоль оси x:\n"
     ]
    },
    {
     "data": {
      "text/latex": [
       "$\\displaystyle 1.0 \\sqrt{\\frac{\\left(2 r_{x} \\left(q_{x} q_{y} - q_{z} \\sqrt{- q_{x}^{2} - q_{y}^{2} - q_{z}^{2} + 1}\\right) - r_{y} \\left(2 q_{x}^{2} + 2 q_{z}^{2} - 1\\right) + 2 r_{z} \\left(q_{x} \\sqrt{- q_{x}^{2} - q_{y}^{2} - q_{z}^{2} + 1} + q_{y} q_{z}\\right)\\right)^{2} + \\left(- 2 r_{x} \\left(q_{x} q_{z} + q_{y} \\sqrt{- q_{x}^{2} - q_{y}^{2} - q_{z}^{2} + 1}\\right) + 2 r_{y} \\left(q_{x} \\sqrt{- q_{x}^{2} - q_{y}^{2} - q_{z}^{2} + 1} - q_{y} q_{z}\\right) + r_{z} \\left(2 q_{x}^{2} + 2 q_{y}^{2} - 1\\right)\\right)^{2}}{\\left(2 r_{x} \\left(q_{x} q_{y} - q_{z} \\sqrt{- q_{x}^{2} - q_{y}^{2} - q_{z}^{2} + 1}\\right) - r_{y} \\left(2 q_{x}^{2} + 2 q_{z}^{2} - 1\\right) + 2 r_{z} \\left(q_{x} \\sqrt{- q_{x}^{2} - q_{y}^{2} - q_{z}^{2} + 1} + q_{y} q_{z}\\right)\\right)^{2} + \\left(- 2 r_{x} \\left(q_{x} q_{z} + q_{y} \\sqrt{- q_{x}^{2} - q_{y}^{2} - q_{z}^{2} + 1}\\right) + 2 r_{y} \\left(q_{x} \\sqrt{- q_{x}^{2} - q_{y}^{2} - q_{z}^{2} + 1} - q_{y} q_{z}\\right) + r_{z} \\left(2 q_{x}^{2} + 2 q_{y}^{2} - 1\\right)\\right)^{2} + \\left(- r_{x} \\left(2 q_{y}^{2} + 2 q_{z}^{2} - 1\\right) + 2 r_{y} \\left(q_{x} q_{y} + q_{z} \\sqrt{- q_{x}^{2} - q_{y}^{2} - q_{z}^{2} + 1}\\right) + 2 r_{z} \\left(q_{x} q_{z} - q_{y} \\sqrt{- q_{x}^{2} - q_{y}^{2} - q_{z}^{2} + 1}\\right)\\right)^{2}}}$"
      ],
      "text/plain": [
       "1.0*sqrt(((2*r_x*(q_x*q_y - q_z*sqrt(-q_x**2 - q_y**2 - q_z**2 + 1)) - r_y*(2*q_x**2 + 2*q_z**2 - 1) + 2*r_z*(q_x*sqrt(-q_x**2 - q_y**2 - q_z**2 + 1) + q_y*q_z))**2 + (-2*r_x*(q_x*q_z + q_y*sqrt(-q_x**2 - q_y**2 - q_z**2 + 1)) + 2*r_y*(q_x*sqrt(-q_x**2 - q_y**2 - q_z**2 + 1) - q_y*q_z) + r_z*(2*q_x**2 + 2*q_y**2 - 1))**2)/((2*r_x*(q_x*q_y - q_z*sqrt(-q_x**2 - q_y**2 - q_z**2 + 1)) - r_y*(2*q_x**2 + 2*q_z**2 - 1) + 2*r_z*(q_x*sqrt(-q_x**2 - q_y**2 - q_z**2 + 1) + q_y*q_z))**2 + (-2*r_x*(q_x*q_z + q_y*sqrt(-q_x**2 - q_y**2 - q_z**2 + 1)) + 2*r_y*(q_x*sqrt(-q_x**2 - q_y**2 - q_z**2 + 1) - q_y*q_z) + r_z*(2*q_x**2 + 2*q_y**2 - 1))**2 + (-r_x*(2*q_y**2 + 2*q_z**2 - 1) + 2*r_y*(q_x*q_y + q_z*sqrt(-q_x**2 - q_y**2 - q_z**2 + 1)) + 2*r_z*(q_x*q_z - q_y*sqrt(-q_x**2 - q_y**2 - q_z**2 + 1)))**2))"
      ]
     },
     "metadata": {},
     "output_type": "display_data"
    },
    {
     "name": "stdout",
     "output_type": "stream",
     "text": [
      "Усиление G вдоль оси y:\n"
     ]
    },
    {
     "data": {
      "text/latex": [
       "$\\displaystyle 1.0 \\sqrt{\\frac{\\left(- 2 r_{x} \\left(q_{x} q_{z} + q_{y} \\sqrt{- q_{x}^{2} - q_{y}^{2} - q_{z}^{2} + 1}\\right) + 2 r_{y} \\left(q_{x} \\sqrt{- q_{x}^{2} - q_{y}^{2} - q_{z}^{2} + 1} - q_{y} q_{z}\\right) + r_{z} \\left(2 q_{x}^{2} + 2 q_{y}^{2} - 1\\right)\\right)^{2} + \\left(- r_{x} \\left(2 q_{y}^{2} + 2 q_{z}^{2} - 1\\right) + 2 r_{y} \\left(q_{x} q_{y} + q_{z} \\sqrt{- q_{x}^{2} - q_{y}^{2} - q_{z}^{2} + 1}\\right) + 2 r_{z} \\left(q_{x} q_{z} - q_{y} \\sqrt{- q_{x}^{2} - q_{y}^{2} - q_{z}^{2} + 1}\\right)\\right)^{2}}{\\left(2 r_{x} \\left(q_{x} q_{y} - q_{z} \\sqrt{- q_{x}^{2} - q_{y}^{2} - q_{z}^{2} + 1}\\right) - r_{y} \\left(2 q_{x}^{2} + 2 q_{z}^{2} - 1\\right) + 2 r_{z} \\left(q_{x} \\sqrt{- q_{x}^{2} - q_{y}^{2} - q_{z}^{2} + 1} + q_{y} q_{z}\\right)\\right)^{2} + \\left(- 2 r_{x} \\left(q_{x} q_{z} + q_{y} \\sqrt{- q_{x}^{2} - q_{y}^{2} - q_{z}^{2} + 1}\\right) + 2 r_{y} \\left(q_{x} \\sqrt{- q_{x}^{2} - q_{y}^{2} - q_{z}^{2} + 1} - q_{y} q_{z}\\right) + r_{z} \\left(2 q_{x}^{2} + 2 q_{y}^{2} - 1\\right)\\right)^{2} + \\left(- r_{x} \\left(2 q_{y}^{2} + 2 q_{z}^{2} - 1\\right) + 2 r_{y} \\left(q_{x} q_{y} + q_{z} \\sqrt{- q_{x}^{2} - q_{y}^{2} - q_{z}^{2} + 1}\\right) + 2 r_{z} \\left(q_{x} q_{z} - q_{y} \\sqrt{- q_{x}^{2} - q_{y}^{2} - q_{z}^{2} + 1}\\right)\\right)^{2}}}$"
      ],
      "text/plain": [
       "1.0*sqrt(((-2*r_x*(q_x*q_z + q_y*sqrt(-q_x**2 - q_y**2 - q_z**2 + 1)) + 2*r_y*(q_x*sqrt(-q_x**2 - q_y**2 - q_z**2 + 1) - q_y*q_z) + r_z*(2*q_x**2 + 2*q_y**2 - 1))**2 + (-r_x*(2*q_y**2 + 2*q_z**2 - 1) + 2*r_y*(q_x*q_y + q_z*sqrt(-q_x**2 - q_y**2 - q_z**2 + 1)) + 2*r_z*(q_x*q_z - q_y*sqrt(-q_x**2 - q_y**2 - q_z**2 + 1)))**2)/((2*r_x*(q_x*q_y - q_z*sqrt(-q_x**2 - q_y**2 - q_z**2 + 1)) - r_y*(2*q_x**2 + 2*q_z**2 - 1) + 2*r_z*(q_x*sqrt(-q_x**2 - q_y**2 - q_z**2 + 1) + q_y*q_z))**2 + (-2*r_x*(q_x*q_z + q_y*sqrt(-q_x**2 - q_y**2 - q_z**2 + 1)) + 2*r_y*(q_x*sqrt(-q_x**2 - q_y**2 - q_z**2 + 1) - q_y*q_z) + r_z*(2*q_x**2 + 2*q_y**2 - 1))**2 + (-r_x*(2*q_y**2 + 2*q_z**2 - 1) + 2*r_y*(q_x*q_y + q_z*sqrt(-q_x**2 - q_y**2 - q_z**2 + 1)) + 2*r_z*(q_x*q_z - q_y*sqrt(-q_x**2 - q_y**2 - q_z**2 + 1)))**2))"
      ]
     },
     "metadata": {},
     "output_type": "display_data"
    },
    {
     "name": "stdout",
     "output_type": "stream",
     "text": [
      "Усиление G вдоль оси z:\n"
     ]
    },
    {
     "data": {
      "text/latex": [
       "$\\displaystyle 1.0 \\sqrt{\\frac{\\left(2 r_{x} \\left(q_{x} q_{y} - q_{z} \\sqrt{- q_{x}^{2} - q_{y}^{2} - q_{z}^{2} + 1}\\right) - r_{y} \\left(2 q_{x}^{2} + 2 q_{z}^{2} - 1\\right) + 2 r_{z} \\left(q_{x} \\sqrt{- q_{x}^{2} - q_{y}^{2} - q_{z}^{2} + 1} + q_{y} q_{z}\\right)\\right)^{2} + \\left(- r_{x} \\left(2 q_{y}^{2} + 2 q_{z}^{2} - 1\\right) + 2 r_{y} \\left(q_{x} q_{y} + q_{z} \\sqrt{- q_{x}^{2} - q_{y}^{2} - q_{z}^{2} + 1}\\right) + 2 r_{z} \\left(q_{x} q_{z} - q_{y} \\sqrt{- q_{x}^{2} - q_{y}^{2} - q_{z}^{2} + 1}\\right)\\right)^{2}}{\\left(2 r_{x} \\left(q_{x} q_{y} - q_{z} \\sqrt{- q_{x}^{2} - q_{y}^{2} - q_{z}^{2} + 1}\\right) - r_{y} \\left(2 q_{x}^{2} + 2 q_{z}^{2} - 1\\right) + 2 r_{z} \\left(q_{x} \\sqrt{- q_{x}^{2} - q_{y}^{2} - q_{z}^{2} + 1} + q_{y} q_{z}\\right)\\right)^{2} + \\left(- 2 r_{x} \\left(q_{x} q_{z} + q_{y} \\sqrt{- q_{x}^{2} - q_{y}^{2} - q_{z}^{2} + 1}\\right) + 2 r_{y} \\left(q_{x} \\sqrt{- q_{x}^{2} - q_{y}^{2} - q_{z}^{2} + 1} - q_{y} q_{z}\\right) + r_{z} \\left(2 q_{x}^{2} + 2 q_{y}^{2} - 1\\right)\\right)^{2} + \\left(- r_{x} \\left(2 q_{y}^{2} + 2 q_{z}^{2} - 1\\right) + 2 r_{y} \\left(q_{x} q_{y} + q_{z} \\sqrt{- q_{x}^{2} - q_{y}^{2} - q_{z}^{2} + 1}\\right) + 2 r_{z} \\left(q_{x} q_{z} - q_{y} \\sqrt{- q_{x}^{2} - q_{y}^{2} - q_{z}^{2} + 1}\\right)\\right)^{2}}}$"
      ],
      "text/plain": [
       "1.0*sqrt(((2*r_x*(q_x*q_y - q_z*sqrt(-q_x**2 - q_y**2 - q_z**2 + 1)) - r_y*(2*q_x**2 + 2*q_z**2 - 1) + 2*r_z*(q_x*sqrt(-q_x**2 - q_y**2 - q_z**2 + 1) + q_y*q_z))**2 + (-r_x*(2*q_y**2 + 2*q_z**2 - 1) + 2*r_y*(q_x*q_y + q_z*sqrt(-q_x**2 - q_y**2 - q_z**2 + 1)) + 2*r_z*(q_x*q_z - q_y*sqrt(-q_x**2 - q_y**2 - q_z**2 + 1)))**2)/((2*r_x*(q_x*q_y - q_z*sqrt(-q_x**2 - q_y**2 - q_z**2 + 1)) - r_y*(2*q_x**2 + 2*q_z**2 - 1) + 2*r_z*(q_x*sqrt(-q_x**2 - q_y**2 - q_z**2 + 1) + q_y*q_z))**2 + (-2*r_x*(q_x*q_z + q_y*sqrt(-q_x**2 - q_y**2 - q_z**2 + 1)) + 2*r_y*(q_x*sqrt(-q_x**2 - q_y**2 - q_z**2 + 1) - q_y*q_z) + r_z*(2*q_x**2 + 2*q_y**2 - 1))**2 + (-r_x*(2*q_y**2 + 2*q_z**2 - 1) + 2*r_y*(q_x*q_y + q_z*sqrt(-q_x**2 - q_y**2 - q_z**2 + 1)) + 2*r_z*(q_x*q_z - q_y*sqrt(-q_x**2 - q_y**2 - q_z**2 + 1)))**2))"
      ]
     },
     "metadata": {},
     "output_type": "display_data"
    }
   ],
   "source": [
    "x1 = kf.local_dipole(None, r, 'x', model='short dipole').simplify()\n",
    "y1 = kf.local_dipole(None, r, 'y', model='short dipole').simplify()\n",
    "z1 = kf.local_dipole(None, r, 'z', model='short dipole').simplify()\n",
    "x2 = kf.local_dipole(None, -kf.quart2dcm(q) @ r, 'x', model='short dipole').simplify()\n",
    "y2 = kf.local_dipole(None, -kf.quart2dcm(q) @ r, 'y', model='short dipole').simplify()\n",
    "z2 = kf.local_dipole(None, -kf.quart2dcm(q) @ r, 'z', model='short dipole').simplify()\n",
    "kf.my_print('Усиления для КА-1', bold=True)\n",
    "print('Усиление G вдоль оси x:')\n",
    "display(x1)\n",
    "print('Усиление G вдоль оси y:')\n",
    "display(y1)\n",
    "print('Усиление G вдоль оси z:')\n",
    "display(z1)\n",
    "kf.my_print('\\nУсиления для КА-2', bold=True)\n",
    "print('Усиление G вдоль оси x:')\n",
    "display(x2)\n",
    "print('Усиление G вдоль оси y:')\n",
    "display(y2)\n",
    "print('Усиление G вдоль оси z:')\n",
    "display(z2)"
   ]
  },
  {
   "cell_type": "code",
   "execution_count": null,
   "id": "00363b0e-6e47-4a83-b962-f3ba65ac31df",
   "metadata": {},
   "outputs": [],
   "source": [
    "h = kf.get_vars('h', 9)\n",
    "n = sqrt(r[0]**2 + r[1]**2 + r[2]**2)\n",
    "eqs = [Eq(h[0], n / sqrt(x1*x2)), Eq(h[1], n / sqrt(x1*y2)), Eq(h[2], n / sqrt(x1*z2)),\n",
    "       Eq(h[3], n / sqrt(y1*x2)), Eq(h[4], n / sqrt(y1*y2)), Eq(h[5], n / sqrt(y1*z2)),\n",
    "       Eq(h[6], n / sqrt(z1*x2)), Eq(h[7], n / sqrt(z1*y2)), Eq(h[8], n / sqrt(z1*z2))]\n",
    "anw = solve(eqs, r)"
   ]
  },
  {
   "cell_type": "markdown",
   "id": "61f7a6cd-787d-4cf2-b7d6-52cff73a4cc2",
   "metadata": {},
   "source": [
    "**Не считается**\n",
    "\n",
    "Теперь допустим, что КА-2 имеет 1 изотропнуб антенну"
   ]
  },
  {
   "cell_type": "code",
   "execution_count": 5,
   "id": "239d0f21-a77c-484f-bb08-e926f33679d6",
   "metadata": {},
   "outputs": [
    {
     "name": "stdout",
     "output_type": "stream",
     "text": [
      "\u001b[0m\u001b[1mG2=1, так что имеем готовые измерения:\u001b[0m\u001b[0m\n",
      "h1:\n"
     ]
    },
    {
     "data": {
      "text/latex": [
       "$\\displaystyle \\frac{1.0 \\sqrt{r_{x}^{2} + r_{y}^{2} + r_{z}^{2}}}{\\sqrt[4]{\\frac{r_{y}^{2} + r_{z}^{2}}{r_{x}^{2} + r_{y}^{2} + r_{z}^{2}}}}$"
      ],
      "text/plain": [
       "1.0*sqrt(r_x**2 + r_y**2 + r_z**2)/((r_y**2 + r_z**2)/(r_x**2 + r_y**2 + r_z**2))**(1/4)"
      ]
     },
     "metadata": {},
     "output_type": "display_data"
    },
    {
     "name": "stdout",
     "output_type": "stream",
     "text": [
      "h2:\n"
     ]
    },
    {
     "data": {
      "text/latex": [
       "$\\displaystyle \\frac{1.0 \\sqrt{r_{x}^{2} + r_{y}^{2} + r_{z}^{2}}}{\\sqrt[4]{\\frac{r_{x}^{2} + r_{z}^{2}}{r_{x}^{2} + r_{y}^{2} + r_{z}^{2}}}}$"
      ],
      "text/plain": [
       "1.0*sqrt(r_x**2 + r_y**2 + r_z**2)/((r_x**2 + r_z**2)/(r_x**2 + r_y**2 + r_z**2))**(1/4)"
      ]
     },
     "metadata": {},
     "output_type": "display_data"
    },
    {
     "name": "stdout",
     "output_type": "stream",
     "text": [
      "h3:\n"
     ]
    },
    {
     "data": {
      "text/latex": [
       "$\\displaystyle \\frac{1.0 \\sqrt{r_{x}^{2} + r_{y}^{2} + r_{z}^{2}}}{\\sqrt[4]{\\frac{r_{x}^{2} + r_{y}^{2}}{r_{x}^{2} + r_{y}^{2} + r_{z}^{2}}}}$"
      ],
      "text/plain": [
       "1.0*sqrt(r_x**2 + r_y**2 + r_z**2)/((r_x**2 + r_y**2)/(r_x**2 + r_y**2 + r_z**2))**(1/4)"
      ]
     },
     "metadata": {},
     "output_type": "display_data"
    }
   ],
   "source": [
    "kf.my_print('G2=1, так что имеем готовые измерения:', bold=True)\n",
    "h1 = (sqrt(r[0]**2 + r[1]**2 + r[2]**2) / sqrt(x1)).simplify()\n",
    "h2 = (sqrt(r[0]**2 + r[1]**2 + r[2]**2) / sqrt(y1)).simplify()\n",
    "h3 = (sqrt(r[0]**2 + r[1]**2 + r[2]**2) / sqrt(z1)).simplify()\n",
    "print('h1:')\n",
    "display(h1)\n",
    "print('h2:')\n",
    "display(h2)\n",
    "print('h3:')\n",
    "display(h3)"
   ]
  },
  {
   "cell_type": "code",
   "execution_count": 42,
   "id": "8798bb96-01eb-4cb7-8a31-c4cc652599a0",
   "metadata": {},
   "outputs": [
    {
     "name": "stdout",
     "output_type": "stream",
     "text": [
      "Укороченная запись: h1 = \n"
     ]
    },
    {
     "data": {
      "text/latex": [
       "$\\displaystyle \\sqrt[4]{\\frac{\\left(r_{x}^{2} + r_{y}^{2} + r_{z}^{2}\\right)^{3}}{r_{y}^{2} + r_{z}^{2}}}$"
      ],
      "text/plain": [
       "((r_x**2 + r_y**2 + r_z**2)**3/(r_y**2 + r_z**2))**(1/4)"
      ]
     },
     "metadata": {},
     "output_type": "display_data"
    },
    {
     "name": "stdout",
     "output_type": "stream",
     "text": [
      "Проверка: 0.0\n"
     ]
    }
   ],
   "source": [
    "tmp = (sqrt(sqrt(r.dot(r)**3 / (r[1]**2 + r[2]**2))))\n",
    "print(f\"Укороченная запись: h1 = \")\n",
    "display(tmp)\n",
    "print(f\"Проверка: {float((h1 - tmp).subs([(r[0], 1), (r[1], 2), (r[2], 3)]))}\")"
   ]
  },
  {
   "cell_type": "code",
   "execution_count": 35,
   "id": "47364316-8139-4da9-9f41-f58fb5d5f6b0",
   "metadata": {},
   "outputs": [
    {
     "data": {
      "text/plain": [
       "-2.417245056926546e-16"
      ]
     },
     "execution_count": 35,
     "metadata": {},
     "output_type": "execute_result"
    }
   ],
   "source": []
  },
  {
   "cell_type": "code",
   "execution_count": 57,
   "id": "f8c85e9a-6ce0-4250-8eb1-b7bdc5633cce",
   "metadata": {},
   "outputs": [
    {
     "data": {
      "text/latex": [
       "$\\displaystyle \\frac{1.0 \\left(r_{y}^{2} + r_{z}^{2}\\right)}{\\left(r_{x}^{2} + r_{y}^{2} + r_{z}^{2}\\right)^{3}}$"
      ],
      "text/plain": [
       "1.0*(r_y**2 + r_z**2)/(r_x**2 + r_y**2 + r_z**2)**3"
      ]
     },
     "execution_count": 57,
     "metadata": {},
     "output_type": "execute_result"
    }
   ],
   "source": [
    "1/h1**4"
   ]
  },
  {
   "cell_type": "code",
   "execution_count": 58,
   "id": "256c692d-29fd-4294-b30b-2da0f2f5dc52",
   "metadata": {},
   "outputs": [
    {
     "data": {
      "text/latex": [
       "$\\displaystyle \\frac{1.0 \\left(r_{x}^{2} + r_{z}^{2}\\right)}{\\left(r_{x}^{2} + r_{y}^{2} + r_{z}^{2}\\right)^{3}}$"
      ],
      "text/plain": [
       "1.0*(r_x**2 + r_z**2)/(r_x**2 + r_y**2 + r_z**2)**3"
      ]
     },
     "execution_count": 58,
     "metadata": {},
     "output_type": "execute_result"
    }
   ],
   "source": [
    "1/h2**4"
   ]
  },
  {
   "cell_type": "code",
   "execution_count": 59,
   "id": "9a74d6d4-6d28-4187-846e-6c5f2453d13f",
   "metadata": {},
   "outputs": [
    {
     "data": {
      "text/latex": [
       "$\\displaystyle \\frac{1.0 \\left(r_{x}^{2} + r_{y}^{2}\\right)}{\\left(r_{x}^{2} + r_{y}^{2} + r_{z}^{2}\\right)^{3}}$"
      ],
      "text/plain": [
       "1.0*(r_x**2 + r_y**2)/(r_x**2 + r_y**2 + r_z**2)**3"
      ]
     },
     "execution_count": 59,
     "metadata": {},
     "output_type": "execute_result"
    }
   ],
   "source": [
    "1/h3**4"
   ]
  },
  {
   "cell_type": "code",
   "execution_count": 43,
   "id": "b682519b-8944-4547-8c26-38d23c701412",
   "metadata": {},
   "outputs": [
    {
     "data": {
      "text/latex": [
       "$\\displaystyle 1.0 \\left(r_{x}^{2} + r_{y}^{2} + r_{z}^{2}\\right)^{2}$"
      ],
      "text/plain": [
       "1.0*(r_x**2 + r_y**2 + r_z**2)**2"
      ]
     },
     "execution_count": 43,
     "metadata": {},
     "output_type": "execute_result"
    }
   ],
   "source": [
    "(2/(1/h1**4 + 1/h2**4 + 1/h3**4)).simplify()"
   ]
  },
  {
   "cell_type": "code",
   "execution_count": null,
   "id": "9b1fb921-448f-4230-b681-e65a2d4dd2d8",
   "metadata": {},
   "outputs": [],
   "source": []
  },
  {
   "cell_type": "code",
   "execution_count": null,
   "id": "cad437d7-3ea6-4cb9-b568-a663b0f82ab3",
   "metadata": {},
   "outputs": [],
   "source": []
  },
  {
   "cell_type": "code",
   "execution_count": null,
   "id": "d7193db7-eef8-43d0-965a-b82ce53349a4",
   "metadata": {},
   "outputs": [],
   "source": []
  },
  {
   "cell_type": "code",
   "execution_count": null,
   "id": "b561a7c4-9733-495c-8a1f-111c5e9cd2a1",
   "metadata": {},
   "outputs": [],
   "source": []
  },
  {
   "cell_type": "markdown",
   "id": "775f200a-e5e7-4c85-977e-7e960aa5dd9a",
   "metadata": {},
   "source": [
    "$$Y_x(x,y,z) = \\sqrt{1 - \\frac{x^2}{x^2+y^2+z^2}}$$\n",
    "\n",
    "$$Y_x(x + \\delta x,y + \\delta y,z + \\delta z) = \\sqrt{1 - \\frac{x^2 + 2x\\delta x}{x^2 +y^2 +z^2+ 2x\\delta x+ 2y\\delta y + 2z\\delta z}} = \\sqrt{1 - \\frac{x^2 + 2x\\delta x}{x^2 +y^2 +z^2}\\frac{1}{1 + \\frac{2x\\delta x+ 2y\\delta y + 2z\\delta z}{x^2 +y^2 +z^2}}}$$\n",
    "\n",
    "$$Y_x(x + \\delta x,y + \\delta y,z + \\delta z) \\approx \n",
    "\\sqrt{1 - \\frac{x^2 + 2x\\delta x}{x^2 +y^2 +z^2}\\left(1 - \\frac{2x\\delta x+ 2y\\delta y + 2z\\delta z}{x^2 +y^2 +z^2} \\right)} =  \n",
    "\\sqrt{1 - \\frac{x^2 + 2x\\delta x}{x^2 +y^2 +z^2} + \\frac{x^2 + 2x\\delta x}{x^2 +y^2 +z^2} \\frac{2x\\delta x+ 2y\\delta y + 2z\\delta z}{x^2 +y^2 +z^2}}$$"
   ]
  },
  {
   "cell_type": "code",
   "execution_count": null,
   "id": "c3e3dd39-f3c2-4329-8ac8-298dd41b3e56",
   "metadata": {},
   "outputs": [],
   "source": []
  },
  {
   "cell_type": "code",
   "execution_count": null,
   "id": "a3257eb7-720d-4ea4-b020-986c81f184d8",
   "metadata": {},
   "outputs": [],
   "source": []
  },
  {
   "cell_type": "code",
   "execution_count": null,
   "id": "a53b4acc-d92d-4a81-854a-f02fe612a2f0",
   "metadata": {},
   "outputs": [],
   "source": []
  },
  {
   "cell_type": "markdown",
   "id": "021e460c-65ab-40d1-9be6-19bde3b9a013",
   "metadata": {
    "jp-MarkdownHeadingCollapsed": true
   },
   "source": [
    "###### Ненужные выкладки (удалить)"
   ]
  },
  {
   "cell_type": "code",
   "execution_count": 24,
   "id": "451b1448-c1cb-4995-bc37-a0a633bfc531",
   "metadata": {},
   "outputs": [
    {
     "data": {
      "text/latex": [
       "$\\displaystyle \\frac{1.0 \\cos{\\left(\\frac{\\pi r_{x}}{2 \\sqrt{d^{2}}} + \\frac{\\pi δx}{2 \\sqrt{d^{2}}} \\right)}}{\\sqrt{\\frac{r_{y}^{2}}{d^{2}} + \\frac{2 r_{y} δy}{d^{2}} + \\frac{r_{z}^{2}}{d^{2}} + \\frac{2 r_{z} δz}{d^{2}} + \\frac{δy^{2}}{d^{2}} + \\frac{δz^{2}}{d^{2}}}} - \\frac{1.0 \\cos{\\left(\\frac{\\pi r_{x}}{2 \\sqrt{d^{2}}} \\right)}}{\\sqrt{\\frac{r_{y}^{2}}{d^{2}} + \\frac{r_{z}^{2}}{d^{2}}}}$"
      ],
      "text/plain": [
       "1.0*cos(pi*r_x/(2*sqrt(d**2)) + pi*δx/(2*sqrt(d**2)))/sqrt(r_y**2/d**2 + 2*r_y*δy/d**2 + r_z**2/d**2 + 2*r_z*δz/d**2 + δy**2/d**2 + δz**2/d**2) - 1.0*cos(pi*r_x/(2*sqrt(d**2)))/sqrt(r_y**2/d**2 + r_z**2/d**2)"
      ]
     },
     "execution_count": 24,
     "metadata": {},
     "output_type": "execute_result"
    }
   ],
   "source": [
    "tmp = (x.subs(d_subs) - x).expand()\n",
    "tmp"
   ]
  },
  {
   "cell_type": "code",
   "execution_count": 10,
   "id": "69cd85ed-618f-40ee-9662-31259a9806bd",
   "metadata": {},
   "outputs": [
    {
     "data": {
      "text/plain": [
       "[]"
      ]
     },
     "execution_count": 10,
     "metadata": {},
     "output_type": "execute_result"
    }
   ],
   "source": [
    "d_subs = [(r[0], r[0] + dx), (r[1], r[1] + dy), (r[2], r[2] + dz)]\n",
    "anw = sp.solve([sp.Eq(x.subs(d_subs),x), sp.Eq(y.subs(d_subs),y), sp.Eq(z.subs(d_subs),z)], [dx, dy, dz])\n",
    "anw"
   ]
  },
  {
   "cell_type": "code",
   "execution_count": 37,
   "id": "8a6a5322-7358-4d5f-8e5e-45ffd4ff6a3c",
   "metadata": {},
   "outputs": [
    {
     "ename": "NotImplementedError",
     "evalue": "could not solve -x_r*sqrt((r_y**2 + r_z**2)/(r_x**2 + r_y**2 + r_z**2)) + cos(pi*r_x/(2*sqrt(r_x**2 + r_y**2 + r_z**2)))",
     "output_type": "error",
     "traceback": [
      "\u001b[0;31m---------------------------------------------------------------------------\u001b[0m",
      "\u001b[0;31mNotImplementedError\u001b[0m                       Traceback (most recent call last)",
      "Cell \u001b[0;32mIn[37], line 2\u001b[0m\n\u001b[1;32m      1\u001b[0m eqs \u001b[38;5;241m=\u001b[39m [sp\u001b[38;5;241m.\u001b[39mEq(xr, x), sp\u001b[38;5;241m.\u001b[39mEq(yr, y), sp\u001b[38;5;241m.\u001b[39mEq(zr, z), sp\u001b[38;5;241m.\u001b[39mEq(d\u001b[38;5;241m*\u001b[39m\u001b[38;5;241m*\u001b[39m\u001b[38;5;241m2\u001b[39m, r\u001b[38;5;241m.\u001b[39mdot(r))]\n\u001b[0;32m----> 2\u001b[0m anw \u001b[38;5;241m=\u001b[39m \u001b[43msp\u001b[49m\u001b[38;5;241;43m.\u001b[39;49m\u001b[43msolve\u001b[49m\u001b[43m(\u001b[49m\u001b[43meqs\u001b[49m\u001b[43m,\u001b[49m\u001b[43m \u001b[49m\u001b[43m[\u001b[49m\u001b[43md\u001b[49m\u001b[43m,\u001b[49m\u001b[43m \u001b[49m\u001b[43mr\u001b[49m\u001b[43m[\u001b[49m\u001b[38;5;241;43m0\u001b[39;49m\u001b[43m]\u001b[49m\u001b[43m,\u001b[49m\u001b[43m \u001b[49m\u001b[43mr\u001b[49m\u001b[43m[\u001b[49m\u001b[38;5;241;43m1\u001b[39;49m\u001b[43m]\u001b[49m\u001b[43m,\u001b[49m\u001b[43m \u001b[49m\u001b[43mr\u001b[49m\u001b[43m[\u001b[49m\u001b[38;5;241;43m2\u001b[39;49m\u001b[43m]\u001b[49m\u001b[43m]\u001b[49m\u001b[43m)\u001b[49m\n\u001b[1;32m      3\u001b[0m anw\n",
      "File \u001b[0;32m~/.local/lib/python3.10/site-packages/sympy/solvers/solvers.py:1172\u001b[0m, in \u001b[0;36msolve\u001b[0;34m(f, *symbols, **flags)\u001b[0m\n\u001b[1;32m   1170\u001b[0m         solution \u001b[38;5;241m=\u001b[39m _solve(f[\u001b[38;5;241m0\u001b[39m], \u001b[38;5;241m*\u001b[39msymbols, \u001b[38;5;241m*\u001b[39m\u001b[38;5;241m*\u001b[39mflags)\n\u001b[1;32m   1171\u001b[0m \u001b[38;5;28;01melse\u001b[39;00m:\n\u001b[0;32m-> 1172\u001b[0m     linear, solution \u001b[38;5;241m=\u001b[39m \u001b[43m_solve_system\u001b[49m\u001b[43m(\u001b[49m\u001b[43mf\u001b[49m\u001b[43m,\u001b[49m\u001b[43m \u001b[49m\u001b[43msymbols\u001b[49m\u001b[43m,\u001b[49m\u001b[43m \u001b[49m\u001b[38;5;241;43m*\u001b[39;49m\u001b[38;5;241;43m*\u001b[39;49m\u001b[43mflags\u001b[49m\u001b[43m)\u001b[49m\n\u001b[1;32m   1173\u001b[0m \u001b[38;5;28;01massert\u001b[39;00m \u001b[38;5;28mtype\u001b[39m(solution) \u001b[38;5;129;01mis\u001b[39;00m \u001b[38;5;28mlist\u001b[39m\n\u001b[1;32m   1174\u001b[0m \u001b[38;5;28;01massert\u001b[39;00m \u001b[38;5;129;01mnot\u001b[39;00m solution \u001b[38;5;129;01mor\u001b[39;00m \u001b[38;5;28mtype\u001b[39m(solution[\u001b[38;5;241m0\u001b[39m]) \u001b[38;5;129;01mis\u001b[39;00m \u001b[38;5;28mdict\u001b[39m, solution\n",
      "File \u001b[0;32m~/.local/lib/python3.10/site-packages/sympy/solvers/solvers.py:1998\u001b[0m, in \u001b[0;36m_solve_system\u001b[0;34m(exprs, symbols, **flags)\u001b[0m\n\u001b[1;32m   1996\u001b[0m         got_s\u001b[38;5;241m.\u001b[39madd(s)\n\u001b[1;32m   1997\u001b[0m     \u001b[38;5;28;01mif\u001b[39;00m \u001b[38;5;129;01mnot\u001b[39;00m hit:\n\u001b[0;32m-> 1998\u001b[0m         \u001b[38;5;28;01mraise\u001b[39;00m \u001b[38;5;167;01mNotImplementedError\u001b[39;00m(\u001b[38;5;124m'\u001b[39m\u001b[38;5;124mcould not solve \u001b[39m\u001b[38;5;132;01m%s\u001b[39;00m\u001b[38;5;124m'\u001b[39m \u001b[38;5;241m%\u001b[39m eq2)\n\u001b[1;32m   1999\u001b[0m \u001b[38;5;28;01melse\u001b[39;00m:\n\u001b[1;32m   2000\u001b[0m     result \u001b[38;5;241m=\u001b[39m newresult\n",
      "\u001b[0;31mNotImplementedError\u001b[0m: could not solve -x_r*sqrt((r_y**2 + r_z**2)/(r_x**2 + r_y**2 + r_z**2)) + cos(pi*r_x/(2*sqrt(r_x**2 + r_y**2 + r_z**2)))"
     ]
    }
   ],
   "source": [
    "eqs = [sp.Eq(xr, x), sp.Eq(yr, y), sp.Eq(zr, z), sp.Eq(d**2, r.dot(r))]\n",
    "anw = sp.solve(eqs, [d, r[0], r[1], r[2]])\n",
    "anw"
   ]
  },
  {
   "cell_type": "markdown",
   "id": "fa32b67b-5e46-4431-a6f7-f11c50f0199d",
   "metadata": {},
   "source": [
    "##### **<u>Согласно статье</u> 038 (Shauying R.K.) Observability of Nonlinear Systems**"
   ]
  },
  {
   "cell_type": "markdown",
   "id": "e23f1582-78ea-4667-96f7-a845736c1c4d",
   "metadata": {},
   "source": [
    "<span style=\"color:#2b817d\">Примечание:</span>     $km \\geq n$\n",
    "\n",
    "<span style=\"color:#0ab49a\">Согласно статье</span> <span style=\"color:#A254FC\">055 (Yujiro Inowe) On the Observability of Autonomous Nonlinear Systems</span> <span style=\"color:#0ab49a\">надо просто проверить ранг во всём $R^n$!</span>    $rg\\frac{\\partial \\boldsymbol{H}_d}{\\partial \\boldsymbol{x}} (\\boldsymbol{x}) = n \\hskip20px \\forall x \\in R^n,$\n",
    "$$d = n \\frac{n +3}{2}.$$\n",
    "\n",
    "<span style=\"color:#0ab49a\">Согласно статье</span> <span style=\"color:#A254FC\">051 (Andrew J. Whalen) Observability and Controllability of Nonlinear Networks The Role of Symmetry</span> <span style=\"color:#0ab49a\">надо проверить</span> $\\delta(x) = \\frac{|\\sigma_{min}[O^T O]|}{|\\sigma_{max}[O^T O]|}.$"
   ]
  },
  {
   "cell_type": "markdown",
   "id": "da7fe0ed-5aa5-49e7-b661-5bfde30733a2",
   "metadata": {},
   "source": [
    "###### <u>Инициализация</u>"
   ]
  },
  {
   "cell_type": "code",
   "execution_count": 1,
   "id": "c5b0fe04-c03e-4378-a7c0-0dc446d20e16",
   "metadata": {},
   "outputs": [
    {
     "name": "stdout",
     "output_type": "stream",
     "text": [
      "\u001b[32mИнициализация проекта kiam-formation\u001b[0m\n",
      "\u001b[31mПараметры не могут быть загружены! Нет файла: kiamformation/data/config_choose.csv\u001b[0m\n",
      "\u001b[32mМатрицы Ф:(6, 6), Q:(3, 3), P:(6, 6), D:(6, 3)\u001b[0m\n",
      "Высота орбиты: 400 км\n",
      "Период орбиты: 1.54 часов\n",
      "Плотность атмосферы: 6.404751331738951e-12 кг/м³\n"
     ]
    }
   ],
   "source": [
    "from common_func import *\n",
    "\n",
    "o, num_params, t, ω, μ, ρ, r_orb, v_orb = init_symbol_params()"
   ]
  },
  {
   "cell_type": "markdown",
   "id": "1aa845cf-a151-446f-b3eb-e134e5ffd0c6",
   "metadata": {
    "jp-MarkdownHeadingCollapsed": true
   },
   "source": [
    "###### <u>Алгоритм</u> (старое)"
   ]
  },
  {
   "cell_type": "code",
   "execution_count": 19,
   "id": "5db930ac-026a-4eb8-895c-8c7a3a20ad20",
   "metadata": {},
   "outputs": [],
   "source": [
    "def my_diff(expr, power: int = 1, n_c=1, n_d=1):\n",
    "    \"\"\"\n",
    "    :param expr: Выражение, от которого надо взять производную по времени t\n",
    "    :param power: Степень производной\n",
    "    \"\"\"    \n",
    "    global r_d, v_d, q_d, ω_d, r_c, v_c, q_c, ω_c\n",
    "    global dr_d, dv_d, dq_d, dω_d, dr_c, dv_c, dq_c, dω_c\n",
    "    if power == 0:\n",
    "        return expr\n",
    "    if power == 1:\n",
    "        anw = expr\n",
    "    else:\n",
    "        anw = my_diff(expr, power - 1)\n",
    "    subses = []\n",
    "    for j in range(3):\n",
    "        for i in range(n_d):\n",
    "            subses += [(Derivative(r_d[i][j], t), dr_d[i][j])]\n",
    "            subses += [(Derivative(v_d[i][j], t), dv_d[i][j])]\n",
    "            subses += [(Derivative(q_d[i][j+1], t), dq_d[i][j+1])]\n",
    "            subses += [(Derivative(ω_d[i][j], t), dω_d[i][j])]\n",
    "        for i in range(n_c):\n",
    "            subses += [(Derivative(r_c[i][j], t), dr_c[i][j])]\n",
    "            subses += [(Derivative(v_c[i][j], t), dv_c[i][j])]\n",
    "            subses += [(Derivative(q_c[i][j+1], t), dq_c[i][j+1])]\n",
    "            subses += [(Derivative(ω_c[i][j], t), dω_c[i][j])]\n",
    "    anw = anw.diff(t).subs(subses)\n",
    "    anw.simplify()\n",
    "    return anw\n",
    "\n",
    "def SubRandParams(J, n_d: int, n_c: int, n_x: int, n_y: int, testprint: bool = False):\n",
    "    \"\"\"Берёт матрицу J размером n_x на n_y, подставляет случайные значения\"\"\"\n",
    "    global r_d, v_d, q_d, ω_d, r_c, v_c, q_c, ω_c\n",
    "    # Генерация случайных параметров движения\n",
    "    s_r = lambda: np.random.uniform(-100, 100)\n",
    "    s_v = lambda: np.random.uniform(-10, 10)\n",
    "    s_w = lambda: np.random.uniform(-1e-4, 1e-4)\n",
    "    s_q = lambda: np.random.uniform(-0.5, 0.5)\n",
    "    rand_params = [(ω, num_params['ω0']), (pi, np.pi), (ρ, num_params['ρ']), (v_orb, num_params['v0']), \n",
    "                   (o.f.c_resist, num_params['Cd']), (o.c.c_resist, num_params['Cc']), \n",
    "                   (o.f.mass, num_params['md']), (o.c.mass, num_params['mc']),\n",
    "                   (o.f.size[0], num_params['sd'][0]), (o.f.size[1], num_params['sd'][1]),\n",
    "                   (o.c.size[0], num_params['sc'][0]), (o.c.size[1], num_params['sc'][1]),\n",
    "                   (o.f.J[0, 0], num_params['Jd'][0, 0]), (o.f.J[1, 1], num_params['Jd'][1, 1]), (o.f.J[2, 2], num_params['Jd'][2, 2]),\n",
    "                  ] \n",
    "    for j in range(3):\n",
    "        for i in range(n_d):\n",
    "            rand_params.extend([(r_d[i][j], s_r()), (v_d[i][j], s_v()), (ω_d[i][j], s_w()), (q_d[i][j+1], s_q())])\n",
    "        for i in range(n_c):\n",
    "            rand_params.extend([(r_c[i][j], s_r()), (v_c[i][j], s_v()), (ω_c[i][j], s_w()), (q_c[i][j+1], s_q())])\n",
    "\n",
    "    # Якобиан матрицы наблюдаемости: J[измерение (H), состояние (X)] \n",
    "    J_numb = np.array([[0. for _ in range(n_x)] for _ in range(n_y)])\n",
    "    for i in range(n_y):\n",
    "        if testprint:\n",
    "            print(f\"    J_numb: расчёт строки : {i+1} / {n_y}\")\n",
    "        for j in range(n_x):\n",
    "            J_numb[i][j] = float(J[i, j].subs(rand_params))\n",
    "    return J_numb\n",
    "\n",
    "def ShauyingObservabilitySufficientCondition(n_d: int, n_c: int, X: list, Y: list, testprint: bool = False, hand_written_deriv: int = None):\n",
    "    \"\"\"Проверка достаточного условия наблюдаемости системы. Проверка равномерного отношения миноров матрицы наблюдаемости.\n",
    "    :param n_d: Количество чипсатов\n",
    "    :param X: Список неизвестных параметров, которые необходимо найти\n",
    "    :param Y: Список известных параметров (измерений системы в t₀=0)\n",
    "    :param my_diff: Функция взятия производной по времени\n",
    "    :param testprint: Флаг вывода экстра-информации\"\"\"\n",
    "    global r_d, v_d, q_d, ω_d, r_c, v_c, q_c, ω_c\n",
    "    def print_and_record(report: str, lcl_txt: str):\n",
    "        print(lcl_txt)\n",
    "        return report + lcl_txt + \"\\n\"\n",
    "    report = kf.my_print(f\"Количество кубсатов: {n_c}\\nКоличество чипсатов: {n_d}\\n\", if_return=True, bold=True)\n",
    "\n",
    "    # Количество одномоментных измерений\n",
    "    l = len(Y)\n",
    "    # Требуемое количество существующих производных функции измерения\n",
    "    k = int(len(X) // len(Y)) if hand_written_deriv is None else hand_written_deriv\n",
    "    d = len(X) * (len(X) + 3) / 2  / len(Y)\n",
    "    txt = f\"\" if hand_written_deriv is None else f\"\\033[1mВнимание! Рассчитывается не отношение миноров, а ранг расширенного Якобиана\\033[0m\\n\"\n",
    "    report = print_and_record(report, txt + f\"Неизвестные: n = {len(X)} (на каждый чипсат по {int(len(X) // n_d)} параметров)\\nИзвестные: l = {l}\\n∃ производные порядка k = {len(X) / len(Y)} (Должна быть целой!)\\nКритерий (055): происзводные порядка {d}\")\n",
    "    \n",
    "    # Матрица наблюдаемости системы\n",
    "    H = Matrix([[Y[0] for ll in range(l)] for kk in range(k)])\n",
    "    H_one_line = []\n",
    "    for kk in range(k):\n",
    "        for ll in range(l):\n",
    "            tmp = Y[ll] if kk == 0 else my_diff(H[kk - 1, ll], n_c=n_c, n_d=n_d)\n",
    "            if testprint:\n",
    "                print(f\"_расчёт матрицы H_: k={(kk+1)}/{k}, l={(ll+1)}/{l}\")\n",
    "            H[kk, ll] = tmp\n",
    "            H_one_line += [tmp]\n",
    "    H = Matrix(H_one_line)\n",
    "    report = print_and_record(report, f\"Размерность матрицы H: {shape(H)}\")\n",
    "\n",
    "    # Якобиан матрицы наблюдаемости: J[измерение (H), состояние (X)]\n",
    "    J = Matrix([[H[i].diff(X[j]) for j in range(len(X))] for i in range(k * l)])\n",
    "    report = print_and_record(report, f\"Размерность матрицы J: {shape(J)}\")\n",
    "\n",
    "    # Подстановка конкретных значений\n",
    "    J_numb = SubRandParams(J=J, n_c=n_c, n_d=n_d, n_x=len(X), n_y=k*l, testprint=testprint)\n",
    "    _, v, _ = np.linalg.svd(J_numb.T @ J_numb)\n",
    "    report = print_and_record(report, f\"v = {v}\")\n",
    "    report = print_and_record(report, f\"σₘₙ/σₘₐₓ = {np.min(v)}/{np.max(v)} = {np.min(v) / np.max(v)} | σ>10⁻⁵: {np.sum(v>1e-5)}/{len(v)} (статья 051)\")\n",
    "\n",
    "    # Достаточное условие\n",
    "    txt = f\"\\nРанг матрицы: {[np.linalg.matrix_rank(J_numb, tol=tol) for tol in [1e-3, 1e-5, 1e-7, 1e-10, 1e-12, 1e-15]]} (статья 055)\\n\"\n",
    "    txt += f\"Детерминант матрицы: {np.linalg.det(J_numb)}\\n\" if J_numb.shape[0] == J_numb.shape[1] else \"\"\n",
    "    if hand_written_deriv is None:\n",
    "        report = print_and_record(report, txt + f\"Следующие параметры не должны быть нулевыми:\\n\")\n",
    "        d, Δ, flag, i_min = ([], [], True, -1)\n",
    "        for i in range(len(X)):\n",
    "            tmp = kf.matrix_minor(J_numb, i, i)\n",
    "            d += [tmp if i == 0 else tmp / Δ[-1]]\n",
    "            Δ += [tmp]\n",
    "            report = print_and_record(report, f\"Δ_{i} = {Δ[-1]}\" if i == 0 else f\"Δ_{i} / Δ_{i-1} = {Δ[-1]}\")\n",
    "        \n",
    "            # Чек наблюдаемости\n",
    "            if flag:\n",
    "                if abs(d[-1]) < 1e-6:\n",
    "                    i_min = i\n",
    "                    flag = False\n",
    "            if not flag:\n",
    "                break\n",
    "    \n",
    "        # Вывод\n",
    "        if flag:\n",
    "            txt = f\"\\n\\033[1mВыполнено достаточное условие! Система наблюдаема\\033[0m\"\n",
    "        else:\n",
    "            in_txt = f\"Δ_{i_min}\" if i_min == 0 else f\"Δ_{i_min} / Δ_{i_min-1}\"\n",
    "            txt = f\"\\n\\033[1mНе выполнено достаточное условие. Нулевой параметр: {in_txt} = {d[i_min]}\\033[0m\"\n",
    "        report = print_and_record(report, txt)\n",
    "        return H, J, J_numb, Δ, report\n",
    "    report = print_and_record(report, txt)\n",
    "    return H, J, J_numb, report\n",
    "\n",
    "def observe_system(n_c, n_d, is_c_move, is_d_qw, is_angles, is_drag, is_only_xz, testprint, hand_written_deriv):\n",
    "    global r_d, v_d, q_d, ω_d, r_c, v_c, q_c, ω_c\n",
    "    global dr_d, dv_d, dq_d, dω_d, dr_c, dv_c, dq_c, dω_c\n",
    "    r_d, v_d, q_d, ω_d = get_state_vector(func=kf.get_func, obj='d', n=n_d)\n",
    "    r_c, v_c, q_c, ω_c = get_state_vector(func=kf.get_func, obj='c', n=n_c)\n",
    "    # U_d, S_d, A_d, r0_d = kf.get_matrices(v=o.v, t=t, q=q_d)\n",
    "    # U_c, S_c, A_c, r0_c = kf.get_matrices(v=o.v, t=t, q=q_c)\n",
    "\n",
    "    o.c.n = n_c\n",
    "    o.f.n = n_d\n",
    "\n",
    "    if is_c_move:\n",
    "        o.c.r_orf, o.c.v_orf, o.c.q, o.c.w_irf = r_c, v_c, q_c, ω_c\n",
    "    else:\n",
    "        o.c.r_orf, o.c.v_orf, o.c.q, o.c.w_irf = ([zeros(3, 1) for _ in range(n_c)], \n",
    "                                                  [zeros(3, 1) for _ in range(n_c)], \n",
    "                                                  [Matrix([1, 0, 0, 0]) for _ in range(n_c)], \n",
    "                                                  [Matrix([0, 0, ω]) for _ in range(n_c)])\n",
    "\n",
    "    x = []\n",
    "    for i in range(n_d):\n",
    "        x.extend(r_d[i])\n",
    "        if is_d_qw:\n",
    "            x.append(q[i][1:4])\n",
    "        x.extend(v_d[i])\n",
    "        if is_d_qw:\n",
    "            x.extend(v_d[i])\n",
    "    x = Matrix(x)\n",
    "    \n",
    "    kf.my_print(f\"Вектор состояния:\", bold=True)\n",
    "    display(x.T)\n",
    "    \n",
    "    o.v.GAIN_MODEL_C_N, o.v.GAIN_MODEL_F_N = (0, 0)\n",
    "    o.v.init_choice_params()\n",
    "    o.v.NAVIGATION_ANGLES = is_angles\n",
    "    o.v.DYNAMIC_MODEL['aero drag'] = is_drag\n",
    "\n",
    "    if is_angles:\n",
    "        o.v.GAIN_MODEL_C_N = 2\n",
    "        o.v.GAIN_MODEL_F_N = 2\n",
    "        o.v.init_choice_params()\n",
    "        o.c.gain_mode = o.v.GAIN_MODEL_C\n",
    "        o.f.gain_mode = o.v.GAIN_MODEL_F\n",
    "        o.v.MULTI_ANTENNA_TAKE = True\n",
    "        o.v.MULTI_ANTENNA_SEND = True\n",
    "    \n",
    "    y, notes = kf.measure_antennas_power(c=o.c, f=o.f, v=o.v, p=o.p, j=int(len(x) // n_d), estimated_params=x, t=t)\n",
    "    kf.my_print(f\"Вектор измерений:\", bold=True)\n",
    "    display(y)\n",
    "    \n",
    "    y = Matrix([y[::2]])\n",
    "    kf.my_print(f\"Вектор измерений (изменённый):\", bold=True)\n",
    "    display(y)\n",
    "\n",
    "    if is_only_xz:\n",
    "        tmp = []\n",
    "        for i in range(n_d):\n",
    "            tmp.append([r_d[i][0], r_d[i][2], v_d[i][0], v_d[i][2]])\n",
    "        x = Matrix(tmp)\n",
    "        kf.my_print(f\"Вектор состояния (изменённый):\", bold=True)\n",
    "        display(x.T)\n",
    "    \n",
    "    dr_d, dv_d, dq_d, dω_d = ([0 for _ in range(n_d)] for _ in range(4))\n",
    "    dr_c, dv_c, dq_c, dω_c = ([0 for _ in range(n_c)] for _ in range(4))\n",
    "    for i in range(n_d):\n",
    "        dr_d[i], dv_d[i] = kf.translate_rhs(vrs=o.v, obj=o.f, i=0, rv=(r_d[i], v_d[i]), w=ω, mu=μ, rho=ρ)\n",
    "        dq_d[i], dω_d[i] = kf.attitude_rhs(v=o.v, obj=o.f, t=t, i=0, qw=(q_d[i], ω_d[i]))\n",
    "    for i in range(n_c):\n",
    "        dr_c[i], dv_c[i] = kf.translate_rhs(vrs=o.v, obj=o.c, i=0, rv=(r_c[i], v_c[i]), w=ω, mu=μ, rho=ρ)\n",
    "        dq_c[i], dω_c[i] = kf.attitude_rhs(v=o.v, obj=o.c, t=t, i=0, qw=(q_c[i], ω_c[i]))\n",
    "    \n",
    "    return ShauyingObservabilitySufficientCondition(testprint=True, n_c=n_c, n_d=n_d, X=x, Y=y, hand_written_deriv=hand_written_deriv)"
   ]
  },
  {
   "cell_type": "markdown",
   "id": "5f5a87fb-8dc9-4946-a868-4c553fc0a530",
   "metadata": {},
   "source": [
    "###### <u>Алгоритм</u> (новое)"
   ]
  },
  {
   "cell_type": "code",
   "execution_count": null,
   "id": "1b025a8e-47ed-4a1d-9b89-52abe43d47c9",
   "metadata": {},
   "outputs": [],
   "source": []
  },
  {
   "cell_type": "code",
   "execution_count": null,
   "id": "8fbf0938-4b0a-4d35-b459-63a950a43f23",
   "metadata": {},
   "outputs": [],
   "source": [
    "def my_diff(expr, power: int = 1, n_c=1, n_d=1):\n",
    "    \"\"\"\n",
    "    :param expr: Выражение, от которого надо взять производную по времени t\n",
    "    :param power: Степень производной\n",
    "    \"\"\"    \n",
    "    global r_d, v_d, q_d, ω_d, r_c, v_c, q_c, ω_c\n",
    "    global dr_d, dv_d, dq_d, dω_d, dr_c, dv_c, dq_c, dω_c\n",
    "    if power == 0:\n",
    "        return expr\n",
    "    if power == 1:\n",
    "        anw = expr\n",
    "    else:\n",
    "        anw = my_diff(expr, power - 1)\n",
    "    subses = []\n",
    "    for j in range(3):\n",
    "        for i in range(n_d):\n",
    "            subses += [(Derivative(r_d[i][j], t), dr_d[i][j])]\n",
    "            subses += [(Derivative(v_d[i][j], t), dv_d[i][j])]\n",
    "            subses += [(Derivative(q_d[i][j+1], t), dq_d[i][j+1])]\n",
    "            subses += [(Derivative(ω_d[i][j], t), dω_d[i][j])]\n",
    "        for i in range(n_c):\n",
    "            subses += [(Derivative(r_c[i][j], t), dr_c[i][j])]\n",
    "            subses += [(Derivative(v_c[i][j], t), dv_c[i][j])]\n",
    "            subses += [(Derivative(q_c[i][j+1], t), dq_c[i][j+1])]\n",
    "            subses += [(Derivative(ω_c[i][j], t), dω_c[i][j])]\n",
    "    anw = anw.diff(t).subs(subses)\n",
    "    anw.simplify()\n",
    "    return anw\n",
    "\n",
    "def SubRandParams(J, n_d: int, n_c: int, n_x: int, n_y: int, testprint: bool = False):\n",
    "    \"\"\"Берёт матрицу J размером n_x на n_y, подставляет случайные значения\"\"\"\n",
    "    global r_d, v_d, q_d, ω_d, r_c, v_c, q_c, ω_c\n",
    "    # Генерация случайных параметров движения\n",
    "    s_r = lambda: np.random.uniform(-100, 100)\n",
    "    s_v = lambda: np.random.uniform(-10, 10)\n",
    "    s_w = lambda: np.random.uniform(-1e-4, 1e-4)\n",
    "    s_q = lambda: np.random.uniform(-0.5, 0.5)\n",
    "    rand_params = [(ω, num_params['ω0']), (pi, np.pi), (ρ, num_params['ρ']), (v_orb, num_params['v0']), \n",
    "                   (o.f.c_resist, num_params['Cd']), (o.c.c_resist, num_params['Cc']), \n",
    "                   (o.f.mass, num_params['md']), (o.c.mass, num_params['mc']),\n",
    "                   (o.f.size[0], num_params['sd'][0]), (o.f.size[1], num_params['sd'][1]),\n",
    "                   (o.c.size[0], num_params['sc'][0]), (o.c.size[1], num_params['sc'][1]),\n",
    "                   (o.f.J[0, 0], num_params['Jd'][0, 0]), (o.f.J[1, 1], num_params['Jd'][1, 1]), (o.f.J[2, 2], num_params['Jd'][2, 2]),\n",
    "                  ] \n",
    "    for j in range(3):\n",
    "        for i in range(n_d):\n",
    "            rand_params.extend([(r_d[i][j], s_r()), (v_d[i][j], s_v()), (ω_d[i][j], s_w()), (q_d[i][j+1], s_q())])\n",
    "        for i in range(n_c):\n",
    "            rand_params.extend([(r_c[i][j], s_r()), (v_c[i][j], s_v()), (ω_c[i][j], s_w()), (q_c[i][j+1], s_q())])\n",
    "\n",
    "    # Якобиан матрицы наблюдаемости: J[измерение (H), состояние (X)] \n",
    "    J_numb = np.array([[0. for _ in range(n_x)] for _ in range(n_y)])\n",
    "    for i in range(n_y):\n",
    "        if testprint:\n",
    "            print(f\"    J_numb: расчёт строки : {i+1} / {n_y}\")\n",
    "        for j in range(n_x):\n",
    "            J_numb[i][j] = float(J[i, j].subs(rand_params))\n",
    "    return J_numb\n",
    "\n",
    "def ShauyingObservabilitySufficientCondition(n_d: int, n_c: int, X: list, Y: list, testprint: bool = False, hand_written_deriv: int = None):\n",
    "    \"\"\"Проверка достаточного условия наблюдаемости системы. Проверка равномерного отношения миноров матрицы наблюдаемости.\n",
    "    :param n_d: Количество чипсатов\n",
    "    :param X: Список неизвестных параметров, которые необходимо найти\n",
    "    :param Y: Список известных параметров (измерений системы в t₀=0)\n",
    "    :param my_diff: Функция взятия производной по времени\n",
    "    :param testprint: Флаг вывода экстра-информации\"\"\"\n",
    "    global r_d, v_d, q_d, ω_d, r_c, v_c, q_c, ω_c\n",
    "    def print_and_record(report: str, lcl_txt: str):\n",
    "        print(lcl_txt)\n",
    "        return report + lcl_txt + \"\\n\"\n",
    "    report = kf.my_print(f\"Количество кубсатов: {n_c}\\nКоличество чипсатов: {n_d}\\n\", if_return=True, bold=True)\n",
    "\n",
    "    # Количество одномоментных измерений\n",
    "    l = len(Y)\n",
    "    # Требуемое количество существующих производных функции измерения\n",
    "    k = int(len(X) // len(Y)) if hand_written_deriv is None else hand_written_deriv\n",
    "    d = len(X) * (len(X) + 3) / 2  / len(Y)\n",
    "    txt = f\"\" if hand_written_deriv is None else f\"\\033[1mВнимание! Рассчитывается не отношение миноров, а ранг расширенного Якобиана\\033[0m\\n\"\n",
    "    report = print_and_record(report, txt + f\"Неизвестные: n = {len(X)} (на каждый чипсат по {int(len(X) // n_d)} параметров)\\nИзвестные: l = {l}\\n∃ производные порядка k = {len(X) / len(Y)} (Должна быть целой!)\\nКритерий (055): происзводные порядка {d}\")\n",
    "    \n",
    "    # Матрица наблюдаемости системы\n",
    "    H = Matrix([[Y[0] for ll in range(l)] for kk in range(k)])\n",
    "    H_one_line = []\n",
    "    for kk in range(k):\n",
    "        for ll in range(l):\n",
    "            tmp = Y[ll] if kk == 0 else my_diff(H[kk - 1, ll], n_c=n_c, n_d=n_d)\n",
    "            if testprint:\n",
    "                print(f\"_расчёт матрицы H_: k={(kk+1)}/{k}, l={(ll+1)}/{l}\")\n",
    "            H[kk, ll] = tmp\n",
    "            H_one_line += [tmp]\n",
    "    H = Matrix(H_one_line)\n",
    "    report = print_and_record(report, f\"Размерность матрицы H: {shape(H)}\")\n",
    "\n",
    "    # Якобиан матрицы наблюдаемости: J[измерение (H), состояние (X)]\n",
    "    J = Matrix([[H[i].diff(X[j]) for j in range(len(X))] for i in range(k * l)])\n",
    "    report = print_and_record(report, f\"Размерность матрицы J: {shape(J)}\")\n",
    "\n",
    "    # Подстановка конкретных значений\n",
    "    J_numb = SubRandParams(J=J, n_c=n_c, n_d=n_d, n_x=len(X), n_y=k*l, testprint=testprint)\n",
    "    _, v, _ = np.linalg.svd(J_numb.T @ J_numb)\n",
    "    report = print_and_record(report, f\"v = {v}\")\n",
    "    report = print_and_record(report, f\"σₘₙ/σₘₐₓ = {np.min(v)}/{np.max(v)} = {np.min(v) / np.max(v)} | σ>10⁻⁵: {np.sum(v>1e-5)}/{len(v)} (статья 051)\")\n",
    "\n",
    "    # Достаточное условие\n",
    "    txt = f\"\\nРанг матрицы: {[np.linalg.matrix_rank(J_numb, tol=tol) for tol in [1e-3, 1e-5, 1e-7, 1e-10, 1e-12, 1e-15]]} (статья 055)\\n\"\n",
    "    txt += f\"Детерминант матрицы: {np.linalg.det(J_numb)}\\n\" if J_numb.shape[0] == J_numb.shape[1] else \"\"\n",
    "    if hand_written_deriv is None:\n",
    "        report = print_and_record(report, txt + f\"Следующие параметры не должны быть нулевыми:\\n\")\n",
    "        d, Δ, flag, i_min = ([], [], True, -1)\n",
    "        for i in range(len(X)):\n",
    "            tmp = kf.matrix_minor(J_numb, i, i)\n",
    "            d += [tmp if i == 0 else tmp / Δ[-1]]\n",
    "            Δ += [tmp]\n",
    "            report = print_and_record(report, f\"Δ_{i} = {Δ[-1]}\" if i == 0 else f\"Δ_{i} / Δ_{i-1} = {Δ[-1]}\")\n",
    "        \n",
    "            # Чек наблюдаемости\n",
    "            if flag:\n",
    "                if abs(d[-1]) < 1e-6:\n",
    "                    i_min = i\n",
    "                    flag = False\n",
    "            if not flag:\n",
    "                break\n",
    "    \n",
    "        # Вывод\n",
    "        if flag:\n",
    "            txt = f\"\\n\\033[1mВыполнено достаточное условие! Система наблюдаема\\033[0m\"\n",
    "        else:\n",
    "            in_txt = f\"Δ_{i_min}\" if i_min == 0 else f\"Δ_{i_min} / Δ_{i_min-1}\"\n",
    "            txt = f\"\\n\\033[1mНе выполнено достаточное условие. Нулевой параметр: {in_txt} = {d[i_min]}\\033[0m\"\n",
    "        report = print_and_record(report, txt)\n",
    "        return H, J, J_numb, Δ, report\n",
    "    report = print_and_record(report, txt)\n",
    "    return H, J, J_numb, report\n",
    "\n",
    "def observe_system(n_c, n_d, is_c_move, is_d_qw, is_angles, is_drag, is_only_xz, testprint, hand_written_deriv):\n",
    "    global r_d, v_d, q_d, ω_d, r_c, v_c, q_c, ω_c\n",
    "    global dr_d, dv_d, dq_d, dω_d, dr_c, dv_c, dq_c, dω_c\n",
    "    r_d, v_d, q_d, ω_d = get_state_vector(func=kf.get_func, obj='d', n=n_d)\n",
    "    r_c, v_c, q_c, ω_c = get_state_vector(func=kf.get_func, obj='c', n=n_c)\n",
    "    # U_d, S_d, A_d, r0_d = kf.get_matrices(v=o.v, t=t, q=q_d)\n",
    "    # U_c, S_c, A_c, r0_c = kf.get_matrices(v=o.v, t=t, q=q_c)\n",
    "\n",
    "    o.c.n = n_c\n",
    "    o.f.n = n_d\n",
    "\n",
    "    if is_c_move:\n",
    "        o.c.r_orf, o.c.v_orf, o.c.q, o.c.w_irf = r_c, v_c, q_c, ω_c\n",
    "    else:\n",
    "        o.c.r_orf, o.c.v_orf, o.c.q, o.c.w_irf = ([zeros(3, 1) for _ in range(n_c)], \n",
    "                                                  [zeros(3, 1) for _ in range(n_c)], \n",
    "                                                  [Matrix([1, 0, 0, 0]) for _ in range(n_c)], \n",
    "                                                  [Matrix([0, 0, ω]) for _ in range(n_c)])\n",
    "\n",
    "    x = []\n",
    "    for i in range(n_d):\n",
    "        x.extend(r_d[i])\n",
    "        if is_d_qw:\n",
    "            x.append(q[i][1:4])\n",
    "        x.extend(v_d[i])\n",
    "        if is_d_qw:\n",
    "            x.extend(v_d[i])\n",
    "    x = Matrix(x)\n",
    "    \n",
    "    kf.my_print(f\"Вектор состояния:\", bold=True)\n",
    "    display(x.T)\n",
    "    \n",
    "    o.v.GAIN_MODEL_C_N, o.v.GAIN_MODEL_F_N = (0, 0)\n",
    "    o.v.init_choice_params()\n",
    "    o.v.NAVIGATION_ANGLES = is_angles\n",
    "    o.v.DYNAMIC_MODEL['aero drag'] = is_drag\n",
    "\n",
    "    if is_angles:\n",
    "        o.v.GAIN_MODEL_C_N = 2\n",
    "        o.v.GAIN_MODEL_F_N = 2\n",
    "        o.v.init_choice_params()\n",
    "        o.c.gain_mode = o.v.GAIN_MODEL_C\n",
    "        o.f.gain_mode = o.v.GAIN_MODEL_F\n",
    "        o.v.MULTI_ANTENNA_TAKE = True\n",
    "        o.v.MULTI_ANTENNA_SEND = True\n",
    "    \n",
    "    y, notes = kf.measure_antennas_power(c=o.c, f=o.f, v=o.v, p=o.p, j=int(len(x) // n_d), estimated_params=x, t=t)\n",
    "    kf.my_print(f\"Вектор измерений:\", bold=True)\n",
    "    display(y)\n",
    "    \n",
    "    y = Matrix([y[::2]])\n",
    "    kf.my_print(f\"Вектор измерений (изменённый):\", bold=True)\n",
    "    display(y)\n",
    "\n",
    "    if is_only_xz:\n",
    "        tmp = []\n",
    "        for i in range(n_d):\n",
    "            tmp.append([r_d[i][0], r_d[i][2], v_d[i][0], v_d[i][2]])\n",
    "        x = Matrix(tmp)\n",
    "        kf.my_print(f\"Вектор состояния (изменённый):\", bold=True)\n",
    "        display(x.T)\n",
    "    \n",
    "    dr_d, dv_d, dq_d, dω_d = ([0 for _ in range(n_d)] for _ in range(4))\n",
    "    dr_c, dv_c, dq_c, dω_c = ([0 for _ in range(n_c)] for _ in range(4))\n",
    "    for i in range(n_d):\n",
    "        dr_d[i], dv_d[i] = kf.translate_rhs(vrs=o.v, obj=o.f, i=0, rv=(r_d[i], v_d[i]), w=ω, mu=μ, rho=ρ)\n",
    "        dq_d[i], dω_d[i] = kf.attitude_rhs(v=o.v, obj=o.f, t=t, i=0, qw=(q_d[i], ω_d[i]))\n",
    "    for i in range(n_c):\n",
    "        dr_c[i], dv_c[i] = kf.translate_rhs(vrs=o.v, obj=o.c, i=0, rv=(r_c[i], v_c[i]), w=ω, mu=μ, rho=ρ)\n",
    "        dq_c[i], dω_c[i] = kf.attitude_rhs(v=o.v, obj=o.c, t=t, i=0, qw=(q_c[i], ω_c[i]))\n",
    "    \n",
    "    return ShauyingObservabilitySufficientCondition(testprint=True, n_c=n_c, n_d=n_d, X=x, Y=y, hand_written_deriv=hand_written_deriv)"
   ]
  },
  {
   "cell_type": "markdown",
   "id": "10757555-65e9-468d-a03b-616e48dda241",
   "metadata": {
    "jp-MarkdownHeadingCollapsed": true
   },
   "source": [
    "###### <u>Наблюдаемость системы</u> без аэродинамики и углового движения, антенны изотропные"
   ]
  },
  {
   "cell_type": "code",
   "execution_count": 3,
   "id": "5a5ba4c9-75a3-461d-947c-0aef6020558b",
   "metadata": {},
   "outputs": [
    {
     "name": "stdout",
     "output_type": "stream",
     "text": [
      "\u001b[0m\u001b[1mВектор состояния:\u001b[0m\u001b[0m\n"
     ]
    },
    {
     "data": {
      "text/latex": [
       "$\\displaystyle \\left[\\begin{matrix}r^{d}_{0 x}{\\left(t \\right)} & r^{d}_{0 y}{\\left(t \\right)} & r^{d}_{0 z}{\\left(t \\right)} & v^{d}_{0 x}{\\left(t \\right)} & v^{d}_{0 y}{\\left(t \\right)} & v^{d}_{0 z}{\\left(t \\right)}\\end{matrix}\\right]$"
      ],
      "text/plain": [
       "Matrix([[r_0^d_x(t), r_0^d_y(t), r_0^d_z(t), v_0^d_x(t), v_0^d_y(t), v_0^d_z(t)]])"
      ]
     },
     "metadata": {},
     "output_type": "display_data"
    },
    {
     "name": "stdout",
     "output_type": "stream",
     "text": [
      "\u001b[0m\u001b[1mВектор измерений:\u001b[0m\u001b[0m\n"
     ]
    },
    {
     "data": {
      "text/latex": [
       "$\\displaystyle \\left[\\begin{matrix}\\sqrt{\\left(r^{d}_{0 x}\\right)^{2}{\\left(t \\right)} + \\left(r^{d}_{0 y}\\right)^{2}{\\left(t \\right)} + \\left(r^{d}_{0 z}\\right)^{2}{\\left(t \\right)}}\\\\\\sqrt{\\left(r^{d}_{0 x}\\right)^{2}{\\left(t \\right)} + \\left(r^{d}_{0 y}\\right)^{2}{\\left(t \\right)} + \\left(r^{d}_{0 z}\\right)^{2}{\\left(t \\right)}}\\end{matrix}\\right]$"
      ],
      "text/plain": [
       "Matrix([\n",
       "[sqrt(r_0^d_x(t)**2 + r_0^d_y(t)**2 + r_0^d_z(t)**2)],\n",
       "[sqrt(r_0^d_x(t)**2 + r_0^d_y(t)**2 + r_0^d_z(t)**2)]])"
      ]
     },
     "metadata": {},
     "output_type": "display_data"
    },
    {
     "name": "stdout",
     "output_type": "stream",
     "text": [
      "\u001b[0m\u001b[1mВектор измерений (изменённый):\u001b[0m\u001b[0m\n"
     ]
    },
    {
     "data": {
      "text/latex": [
       "$\\displaystyle \\left[\\begin{matrix}\\sqrt{\\left(r^{d}_{0 x}\\right)^{2}{\\left(t \\right)} + \\left(r^{d}_{0 y}\\right)^{2}{\\left(t \\right)} + \\left(r^{d}_{0 z}\\right)^{2}{\\left(t \\right)}}\\end{matrix}\\right]$"
      ],
      "text/plain": [
       "Matrix([[sqrt(r_0^d_x(t)**2 + r_0^d_y(t)**2 + r_0^d_z(t)**2)]])"
      ]
     },
     "metadata": {},
     "output_type": "display_data"
    },
    {
     "name": "stdout",
     "output_type": "stream",
     "text": [
      "\u001b[0m\u001b[1mКоличество кубсатов: 1\n",
      "Количество чипсатов: 1\n",
      "\u001b[0m\u001b[0m\n",
      "Неизвестные: n = 6 (на каждый чипсат по 6 параметров)\n",
      "Известные: l = 1\n",
      "∃ производные порядка k = 6.0 (Должна быть целой!)\n",
      "Критерий (055): происзводные порядка 27.0\n",
      "_расчёт матрицы H_: k=1/6, l=1/1\n",
      "_расчёт матрицы H_: k=2/6, l=1/1\n",
      "_расчёт матрицы H_: k=3/6, l=1/1\n",
      "_расчёт матрицы H_: k=4/6, l=1/1\n",
      "_расчёт матрицы H_: k=5/6, l=1/1\n",
      "_расчёт матрицы H_: k=6/6, l=1/1\n",
      "Размерность матрицы H: (6, 1)\n",
      "Размерность матрицы J: (6, 6)\n",
      "    J_numb: расчёт строки : 1 / 6\n",
      "    J_numb: расчёт строки : 2 / 6\n",
      "    J_numb: расчёт строки : 3 / 6\n",
      "    J_numb: расчёт строки : 4 / 6\n",
      "    J_numb: расчёт строки : 5 / 6\n",
      "    J_numb: расчёт строки : 6 / 6\n",
      "v = [1.00478867e+00 1.00002212e+00 1.81522976e-02 1.98856791e-11\n",
      " 2.37559019e-17 5.40095800e-18]\n",
      "σₘₙ/σₘₐₓ = 5.4009579984034685e-18/1.0047886737969498 = 5.3752178336107594e-18 | σ>10⁻⁵: 3/6 (статья 051)\n",
      "\n",
      "Ранг матрицы: [3, 3, 4, 6, 6, 6] (статья 055)\n",
      "Детерминант матрицы: 7.741822811904543e-25\n",
      "Следующие параметры не должны быть нулевыми:\n",
      "\n",
      "Δ_0 = 1.2188168911958793e-19\n",
      "\n",
      "\u001b[1mНе выполнено достаточное условие. Нулевой параметр: Δ_0 = 1.2188168911958793e-19\u001b[0m\n"
     ]
    }
   ],
   "source": [
    "H_1_1, J_1_1, J_numb_1_1, Δ_1_1, report_1_1 = observe_system(n_c=1, \n",
    "                                                             n_d=1, \n",
    "                                                             is_c_move=False, \n",
    "                                                             is_d_qw=False, \n",
    "                                                             is_angles=False, \n",
    "                                                             is_drag=False, \n",
    "                                                             is_only_xz=False, \n",
    "                                                             testprint=True,\n",
    "                                                             hand_written_deriv=None)"
   ]
  },
  {
   "cell_type": "code",
   "execution_count": 8,
   "id": "8fba5219-3a6a-49c8-972e-0f467174df53",
   "metadata": {},
   "outputs": [
    {
     "name": "stdout",
     "output_type": "stream",
     "text": [
      "\u001b[0m\u001b[1mВектор состояния:\u001b[0m\u001b[0m\n"
     ]
    },
    {
     "data": {
      "text/latex": [
       "$\\displaystyle \\left[\\begin{matrix}r^{d}_{0 x}{\\left(t \\right)} & r^{d}_{0 y}{\\left(t \\right)} & r^{d}_{0 z}{\\left(t \\right)} & v^{d}_{0 x}{\\left(t \\right)} & v^{d}_{0 y}{\\left(t \\right)} & v^{d}_{0 z}{\\left(t \\right)}\\end{matrix}\\right]$"
      ],
      "text/plain": [
       "Matrix([[r_0^d_x(t), r_0^d_y(t), r_0^d_z(t), v_0^d_x(t), v_0^d_y(t), v_0^d_z(t)]])"
      ]
     },
     "metadata": {},
     "output_type": "display_data"
    },
    {
     "name": "stdout",
     "output_type": "stream",
     "text": [
      "\u001b[0m\u001b[1mВектор измерений:\u001b[0m\u001b[0m\n"
     ]
    },
    {
     "data": {
      "text/latex": [
       "$\\displaystyle \\left[\\begin{matrix}\\sqrt{\\left(- r^{c}_{0 x}{\\left(t \\right)} + r^{d}_{0 x}{\\left(t \\right)}\\right)^{2} + \\left(- r^{c}_{0 y}{\\left(t \\right)} + r^{d}_{0 y}{\\left(t \\right)}\\right)^{2} + \\left(- r^{c}_{0 z}{\\left(t \\right)} + r^{d}_{0 z}{\\left(t \\right)}\\right)^{2}}\\\\\\sqrt{\\left(- r^{c}_{0 x}{\\left(t \\right)} + r^{d}_{0 x}{\\left(t \\right)}\\right)^{2} + \\left(- r^{c}_{0 y}{\\left(t \\right)} + r^{d}_{0 y}{\\left(t \\right)}\\right)^{2} + \\left(- r^{c}_{0 z}{\\left(t \\right)} + r^{d}_{0 z}{\\left(t \\right)}\\right)^{2}}\\\\\\sqrt{\\left(r^{d}_{0 x}{\\left(t \\right)} - r^{c}_{1 x}{\\left(t \\right)}\\right)^{2} + \\left(r^{d}_{0 y}{\\left(t \\right)} - r^{c}_{1 y}{\\left(t \\right)}\\right)^{2} + \\left(r^{d}_{0 z}{\\left(t \\right)} - r^{c}_{1 z}{\\left(t \\right)}\\right)^{2}}\\\\\\sqrt{\\left(r^{d}_{0 x}{\\left(t \\right)} - r^{c}_{1 x}{\\left(t \\right)}\\right)^{2} + \\left(r^{d}_{0 y}{\\left(t \\right)} - r^{c}_{1 y}{\\left(t \\right)}\\right)^{2} + \\left(r^{d}_{0 z}{\\left(t \\right)} - r^{c}_{1 z}{\\left(t \\right)}\\right)^{2}}\\end{matrix}\\right]$"
      ],
      "text/plain": [
       "Matrix([\n",
       "[sqrt((-r_0^c_x(t) + r_0^d_x(t))**2 + (-r_0^c_y(t) + r_0^d_y(t))**2 + (-r_0^c_z(t) + r_0^d_z(t))**2)],\n",
       "[sqrt((-r_0^c_x(t) + r_0^d_x(t))**2 + (-r_0^c_y(t) + r_0^d_y(t))**2 + (-r_0^c_z(t) + r_0^d_z(t))**2)],\n",
       "[   sqrt((r_0^d_x(t) - r_1^c_x(t))**2 + (r_0^d_y(t) - r_1^c_y(t))**2 + (r_0^d_z(t) - r_1^c_z(t))**2)],\n",
       "[   sqrt((r_0^d_x(t) - r_1^c_x(t))**2 + (r_0^d_y(t) - r_1^c_y(t))**2 + (r_0^d_z(t) - r_1^c_z(t))**2)]])"
      ]
     },
     "metadata": {},
     "output_type": "display_data"
    },
    {
     "name": "stdout",
     "output_type": "stream",
     "text": [
      "\u001b[0m\u001b[1mВектор измерений (изменённый):\u001b[0m\u001b[0m\n"
     ]
    },
    {
     "data": {
      "text/latex": [
       "$\\displaystyle \\left[\\begin{matrix}\\sqrt{\\left(- r^{c}_{0 x}{\\left(t \\right)} + r^{d}_{0 x}{\\left(t \\right)}\\right)^{2} + \\left(- r^{c}_{0 y}{\\left(t \\right)} + r^{d}_{0 y}{\\left(t \\right)}\\right)^{2} + \\left(- r^{c}_{0 z}{\\left(t \\right)} + r^{d}_{0 z}{\\left(t \\right)}\\right)^{2}} & \\sqrt{\\left(r^{d}_{0 x}{\\left(t \\right)} - r^{c}_{1 x}{\\left(t \\right)}\\right)^{2} + \\left(r^{d}_{0 y}{\\left(t \\right)} - r^{c}_{1 y}{\\left(t \\right)}\\right)^{2} + \\left(r^{d}_{0 z}{\\left(t \\right)} - r^{c}_{1 z}{\\left(t \\right)}\\right)^{2}}\\end{matrix}\\right]$"
      ],
      "text/plain": [
       "Matrix([[sqrt((-r_0^c_x(t) + r_0^d_x(t))**2 + (-r_0^c_y(t) + r_0^d_y(t))**2 + (-r_0^c_z(t) + r_0^d_z(t))**2), sqrt((r_0^d_x(t) - r_1^c_x(t))**2 + (r_0^d_y(t) - r_1^c_y(t))**2 + (r_0^d_z(t) - r_1^c_z(t))**2)]])"
      ]
     },
     "metadata": {},
     "output_type": "display_data"
    },
    {
     "name": "stdout",
     "output_type": "stream",
     "text": [
      "\u001b[0m\u001b[1mКоличество кубсатов: 2\n",
      "Количество чипсатов: 1\n",
      "\u001b[0m\u001b[0m\n",
      "Неизвестные: n = 6 (на каждый чипсат по 6 параметров)\n",
      "Известные: l = 2\n",
      "∃ производные порядка k = 3.0 (Должна быть целой!)\n",
      "Критерий (055): происзводные порядка 13.5\n",
      "_расчёт матрицы H_: k=1/3, l=1/2\n",
      "_расчёт матрицы H_: k=1/3, l=2/2\n",
      "_расчёт матрицы H_: k=2/3, l=1/2\n",
      "_расчёт матрицы H_: k=2/3, l=2/2\n",
      "_расчёт матрицы H_: k=3/3, l=1/2\n",
      "_расчёт матрицы H_: k=3/3, l=2/2\n",
      "Размерность матрицы H: (6, 1)\n",
      "Размерность матрицы J: (6, 6)\n",
      "    J_numb: расчёт строки : 1 / 6\n",
      "    J_numb: расчёт строки : 2 / 6\n",
      "    J_numb: расчёт строки : 3 / 6\n",
      "    J_numb: расчёт строки : 4 / 6\n",
      "    J_numb: расчёт строки : 5 / 6\n",
      "    J_numb: расчёт строки : 6 / 6\n",
      "v = [1.92988077e+00 1.90958695e+00 1.00880593e-01 7.78097834e-02\n",
      " 1.19659073e-03 2.20645298e-06]\n",
      "σₘₙ/σₘₐₓ = 2.206452981417231e-06/1.9298807674138023 = 1.1433105188016656e-06 | σ>10⁻⁵: 5/6 (статья 051)\n",
      "\n",
      "Ранг матрицы: [6, 6, 6, 6, 6, 6] (статья 055)\n",
      "Детерминант матрицы: 8.739287558536382e-06\n",
      "Следующие параметры не должны быть нулевыми:\n",
      "\n",
      "Δ_0 = 0.000136834688266237\n",
      "Δ_1 / Δ_0 = -8.831833667479231e-05\n",
      "Δ_2 / Δ_1 = -0.0006080178314749584\n",
      "Δ_3 / Δ_2 = 4.508677341341916e-05\n",
      "Δ_4 / Δ_3 = 0.00013120771036456155\n",
      "Δ_5 / Δ_4 = -6.27101183842013e-05\n",
      "\n",
      "\u001b[1mВыполнено достаточное условие! Система наблюдаема\u001b[0m\n"
     ]
    }
   ],
   "source": [
    "H_2_1, J_2_1, J_numb_2_1, Δ_2_1, report_2_1 = observe_system(n_c=2, \n",
    "                                                             n_d=1, \n",
    "                                                             is_c_move=True, \n",
    "                                                             is_d_qw=False, \n",
    "                                                             is_angles=False, \n",
    "                                                             is_drag=False, \n",
    "                                                             is_only_xz=False, \n",
    "                                                             testprint=False,\n",
    "                                                             hand_written_deriv=None)"
   ]
  },
  {
   "cell_type": "code",
   "execution_count": 10,
   "id": "971e184d-8cb2-490e-b6dd-f3069ba3ed20",
   "metadata": {},
   "outputs": [
    {
     "name": "stdout",
     "output_type": "stream",
     "text": [
      "\u001b[0m\u001b[1mВектор состояния:\u001b[0m\u001b[0m\n"
     ]
    },
    {
     "data": {
      "text/latex": [
       "$\\displaystyle \\left[\\begin{matrix}r^{d}_{0 x}{\\left(t \\right)} & r^{d}_{0 y}{\\left(t \\right)} & r^{d}_{0 z}{\\left(t \\right)} & v^{d}_{0 x}{\\left(t \\right)} & v^{d}_{0 y}{\\left(t \\right)} & v^{d}_{0 z}{\\left(t \\right)}\\end{matrix}\\right]$"
      ],
      "text/plain": [
       "Matrix([[r_0^d_x(t), r_0^d_y(t), r_0^d_z(t), v_0^d_x(t), v_0^d_y(t), v_0^d_z(t)]])"
      ]
     },
     "metadata": {},
     "output_type": "display_data"
    },
    {
     "name": "stdout",
     "output_type": "stream",
     "text": [
      "\u001b[0m\u001b[1mВектор измерений:\u001b[0m\u001b[0m\n"
     ]
    },
    {
     "data": {
      "text/latex": [
       "$\\displaystyle \\left[\\begin{matrix}\\sqrt{\\left(- r^{c}_{0 x}{\\left(t \\right)} + r^{d}_{0 x}{\\left(t \\right)}\\right)^{2} + \\left(- r^{c}_{0 y}{\\left(t \\right)} + r^{d}_{0 y}{\\left(t \\right)}\\right)^{2} + \\left(- r^{c}_{0 z}{\\left(t \\right)} + r^{d}_{0 z}{\\left(t \\right)}\\right)^{2}}\\\\\\sqrt{\\left(- r^{c}_{0 x}{\\left(t \\right)} + r^{d}_{0 x}{\\left(t \\right)}\\right)^{2} + \\left(- r^{c}_{0 y}{\\left(t \\right)} + r^{d}_{0 y}{\\left(t \\right)}\\right)^{2} + \\left(- r^{c}_{0 z}{\\left(t \\right)} + r^{d}_{0 z}{\\left(t \\right)}\\right)^{2}}\\\\\\sqrt{\\left(r^{d}_{0 x}{\\left(t \\right)} - r^{c}_{1 x}{\\left(t \\right)}\\right)^{2} + \\left(r^{d}_{0 y}{\\left(t \\right)} - r^{c}_{1 y}{\\left(t \\right)}\\right)^{2} + \\left(r^{d}_{0 z}{\\left(t \\right)} - r^{c}_{1 z}{\\left(t \\right)}\\right)^{2}}\\\\\\sqrt{\\left(r^{d}_{0 x}{\\left(t \\right)} - r^{c}_{1 x}{\\left(t \\right)}\\right)^{2} + \\left(r^{d}_{0 y}{\\left(t \\right)} - r^{c}_{1 y}{\\left(t \\right)}\\right)^{2} + \\left(r^{d}_{0 z}{\\left(t \\right)} - r^{c}_{1 z}{\\left(t \\right)}\\right)^{2}}\\\\\\sqrt{\\left(r^{d}_{0 x}{\\left(t \\right)} - r^{c}_{2 x}{\\left(t \\right)}\\right)^{2} + \\left(r^{d}_{0 y}{\\left(t \\right)} - r^{c}_{2 y}{\\left(t \\right)}\\right)^{2} + \\left(r^{d}_{0 z}{\\left(t \\right)} - r^{c}_{2 z}{\\left(t \\right)}\\right)^{2}}\\\\\\sqrt{\\left(r^{d}_{0 x}{\\left(t \\right)} - r^{c}_{2 x}{\\left(t \\right)}\\right)^{2} + \\left(r^{d}_{0 y}{\\left(t \\right)} - r^{c}_{2 y}{\\left(t \\right)}\\right)^{2} + \\left(r^{d}_{0 z}{\\left(t \\right)} - r^{c}_{2 z}{\\left(t \\right)}\\right)^{2}}\\end{matrix}\\right]$"
      ],
      "text/plain": [
       "Matrix([\n",
       "[sqrt((-r_0^c_x(t) + r_0^d_x(t))**2 + (-r_0^c_y(t) + r_0^d_y(t))**2 + (-r_0^c_z(t) + r_0^d_z(t))**2)],\n",
       "[sqrt((-r_0^c_x(t) + r_0^d_x(t))**2 + (-r_0^c_y(t) + r_0^d_y(t))**2 + (-r_0^c_z(t) + r_0^d_z(t))**2)],\n",
       "[   sqrt((r_0^d_x(t) - r_1^c_x(t))**2 + (r_0^d_y(t) - r_1^c_y(t))**2 + (r_0^d_z(t) - r_1^c_z(t))**2)],\n",
       "[   sqrt((r_0^d_x(t) - r_1^c_x(t))**2 + (r_0^d_y(t) - r_1^c_y(t))**2 + (r_0^d_z(t) - r_1^c_z(t))**2)],\n",
       "[   sqrt((r_0^d_x(t) - r_2^c_x(t))**2 + (r_0^d_y(t) - r_2^c_y(t))**2 + (r_0^d_z(t) - r_2^c_z(t))**2)],\n",
       "[   sqrt((r_0^d_x(t) - r_2^c_x(t))**2 + (r_0^d_y(t) - r_2^c_y(t))**2 + (r_0^d_z(t) - r_2^c_z(t))**2)]])"
      ]
     },
     "metadata": {},
     "output_type": "display_data"
    },
    {
     "name": "stdout",
     "output_type": "stream",
     "text": [
      "\u001b[0m\u001b[1mВектор измерений (изменённый):\u001b[0m\u001b[0m\n"
     ]
    },
    {
     "data": {
      "text/latex": [
       "$\\displaystyle \\left[\\begin{matrix}\\sqrt{\\left(- r^{c}_{0 x}{\\left(t \\right)} + r^{d}_{0 x}{\\left(t \\right)}\\right)^{2} + \\left(- r^{c}_{0 y}{\\left(t \\right)} + r^{d}_{0 y}{\\left(t \\right)}\\right)^{2} + \\left(- r^{c}_{0 z}{\\left(t \\right)} + r^{d}_{0 z}{\\left(t \\right)}\\right)^{2}} & \\sqrt{\\left(r^{d}_{0 x}{\\left(t \\right)} - r^{c}_{1 x}{\\left(t \\right)}\\right)^{2} + \\left(r^{d}_{0 y}{\\left(t \\right)} - r^{c}_{1 y}{\\left(t \\right)}\\right)^{2} + \\left(r^{d}_{0 z}{\\left(t \\right)} - r^{c}_{1 z}{\\left(t \\right)}\\right)^{2}} & \\sqrt{\\left(r^{d}_{0 x}{\\left(t \\right)} - r^{c}_{2 x}{\\left(t \\right)}\\right)^{2} + \\left(r^{d}_{0 y}{\\left(t \\right)} - r^{c}_{2 y}{\\left(t \\right)}\\right)^{2} + \\left(r^{d}_{0 z}{\\left(t \\right)} - r^{c}_{2 z}{\\left(t \\right)}\\right)^{2}}\\end{matrix}\\right]$"
      ],
      "text/plain": [
       "Matrix([[sqrt((-r_0^c_x(t) + r_0^d_x(t))**2 + (-r_0^c_y(t) + r_0^d_y(t))**2 + (-r_0^c_z(t) + r_0^d_z(t))**2), sqrt((r_0^d_x(t) - r_1^c_x(t))**2 + (r_0^d_y(t) - r_1^c_y(t))**2 + (r_0^d_z(t) - r_1^c_z(t))**2), sqrt((r_0^d_x(t) - r_2^c_x(t))**2 + (r_0^d_y(t) - r_2^c_y(t))**2 + (r_0^d_z(t) - r_2^c_z(t))**2)]])"
      ]
     },
     "metadata": {},
     "output_type": "display_data"
    },
    {
     "name": "stdout",
     "output_type": "stream",
     "text": [
      "\u001b[0m\u001b[1mКоличество кубсатов: 3\n",
      "Количество чипсатов: 1\n",
      "\u001b[0m\u001b[0m\n",
      "Неизвестные: n = 6 (на каждый чипсат по 6 параметров)\n",
      "Известные: l = 3\n",
      "∃ производные порядка k = 2.0 (Должна быть целой!)\n",
      "Критерий (055): происзводные порядка 9.0\n",
      "_расчёт матрицы H_: k=1/2, l=1/3\n",
      "_расчёт матрицы H_: k=1/2, l=2/3\n",
      "_расчёт матрицы H_: k=1/2, l=3/3\n",
      "_расчёт матрицы H_: k=2/2, l=1/3\n",
      "_расчёт матрицы H_: k=2/2, l=2/3\n",
      "_расчёт матрицы H_: k=2/2, l=3/3\n",
      "Размерность матрицы H: (6, 1)\n",
      "Размерность матрицы J: (6, 6)\n",
      "    J_numb: расчёт строки : 1 / 6\n",
      "    J_numb: расчёт строки : 2 / 6\n",
      "    J_numb: расчёт строки : 3 / 6\n",
      "    J_numb: расчёт строки : 4 / 6\n",
      "    J_numb: расчёт строки : 5 / 6\n",
      "    J_numb: расчёт строки : 6 / 6\n",
      "v = [1.92608954 1.81829476 1.19125186 1.05319309 0.04695186 0.00803984]\n",
      "σₘₙ/σₘₐₓ = 0.008039844240931123/1.9260895375160711 = 0.004174179904065877 | σ>10⁻⁵: 6/6 (статья 051)\n",
      "\n",
      "Ранг матрицы: [6, 6, 6, 6, 6, 6] (статья 055)\n",
      "Детерминант матрицы: 0.04072643480619379\n",
      "Следующие параметры не должны быть нулевыми:\n",
      "\n",
      "Δ_0 = 0.02130463680140075\n",
      "Δ_1 / Δ_0 = -0.012888566582631352\n",
      "Δ_2 / Δ_1 = 0.14121720765893286\n",
      "Δ_3 / Δ_2 = 0.021304636801400767\n",
      "Δ_4 / Δ_3 = -0.012888566582631352\n",
      "Δ_5 / Δ_4 = 0.14121720765893286\n",
      "\n",
      "\u001b[1mВыполнено достаточное условие! Система наблюдаема\u001b[0m\n"
     ]
    }
   ],
   "source": [
    "H_3_1, J_3_1, J_numb_3_1, Δ_3_1, report_3_1 = observe_system(n_c=3, \n",
    "                                                             n_d=1, \n",
    "                                                             is_c_move=True, \n",
    "                                                             is_d_qw=False, \n",
    "                                                             is_angles=False, \n",
    "                                                             is_drag=False, \n",
    "                                                             is_only_xz=False, \n",
    "                                                             testprint=False,\n",
    "                                                             hand_written_deriv=None)"
   ]
  },
  {
   "cell_type": "code",
   "execution_count": 16,
   "id": "0a9b6d24-13b5-4a57-94e0-edd0fe74c59e",
   "metadata": {},
   "outputs": [
    {
     "name": "stdout",
     "output_type": "stream",
     "text": [
      "\u001b[0m\u001b[1mВектор состояния:\u001b[0m\u001b[0m\n"
     ]
    },
    {
     "data": {
      "text/latex": [
       "$\\displaystyle \\left[\\begin{matrix}r^{d}_{0 x}{\\left(t \\right)} & r^{d}_{0 y}{\\left(t \\right)} & r^{d}_{0 z}{\\left(t \\right)} & v^{d}_{0 x}{\\left(t \\right)} & v^{d}_{0 y}{\\left(t \\right)} & v^{d}_{0 z}{\\left(t \\right)}\\end{matrix}\\right]$"
      ],
      "text/plain": [
       "Matrix([[r_0^d_x(t), r_0^d_y(t), r_0^d_z(t), v_0^d_x(t), v_0^d_y(t), v_0^d_z(t)]])"
      ]
     },
     "metadata": {},
     "output_type": "display_data"
    },
    {
     "name": "stdout",
     "output_type": "stream",
     "text": [
      "\u001b[0m\u001b[1mВектор измерений:\u001b[0m\u001b[0m\n"
     ]
    },
    {
     "data": {
      "text/latex": [
       "$\\displaystyle \\left[\\begin{matrix}\\sqrt{\\left(- r^{c}_{0 x}{\\left(t \\right)} + r^{d}_{0 x}{\\left(t \\right)}\\right)^{2} + \\left(- r^{c}_{0 y}{\\left(t \\right)} + r^{d}_{0 y}{\\left(t \\right)}\\right)^{2} + \\left(- r^{c}_{0 z}{\\left(t \\right)} + r^{d}_{0 z}{\\left(t \\right)}\\right)^{2}}\\\\\\sqrt{\\left(- r^{c}_{0 x}{\\left(t \\right)} + r^{d}_{0 x}{\\left(t \\right)}\\right)^{2} + \\left(- r^{c}_{0 y}{\\left(t \\right)} + r^{d}_{0 y}{\\left(t \\right)}\\right)^{2} + \\left(- r^{c}_{0 z}{\\left(t \\right)} + r^{d}_{0 z}{\\left(t \\right)}\\right)^{2}}\\\\\\sqrt{\\left(r^{d}_{0 x}{\\left(t \\right)} - r^{c}_{1 x}{\\left(t \\right)}\\right)^{2} + \\left(r^{d}_{0 y}{\\left(t \\right)} - r^{c}_{1 y}{\\left(t \\right)}\\right)^{2} + \\left(r^{d}_{0 z}{\\left(t \\right)} - r^{c}_{1 z}{\\left(t \\right)}\\right)^{2}}\\\\\\sqrt{\\left(r^{d}_{0 x}{\\left(t \\right)} - r^{c}_{1 x}{\\left(t \\right)}\\right)^{2} + \\left(r^{d}_{0 y}{\\left(t \\right)} - r^{c}_{1 y}{\\left(t \\right)}\\right)^{2} + \\left(r^{d}_{0 z}{\\left(t \\right)} - r^{c}_{1 z}{\\left(t \\right)}\\right)^{2}}\\\\\\sqrt{\\left(r^{d}_{0 x}{\\left(t \\right)} - r^{c}_{2 x}{\\left(t \\right)}\\right)^{2} + \\left(r^{d}_{0 y}{\\left(t \\right)} - r^{c}_{2 y}{\\left(t \\right)}\\right)^{2} + \\left(r^{d}_{0 z}{\\left(t \\right)} - r^{c}_{2 z}{\\left(t \\right)}\\right)^{2}}\\\\\\sqrt{\\left(r^{d}_{0 x}{\\left(t \\right)} - r^{c}_{2 x}{\\left(t \\right)}\\right)^{2} + \\left(r^{d}_{0 y}{\\left(t \\right)} - r^{c}_{2 y}{\\left(t \\right)}\\right)^{2} + \\left(r^{d}_{0 z}{\\left(t \\right)} - r^{c}_{2 z}{\\left(t \\right)}\\right)^{2}}\\\\\\sqrt{\\left(r^{d}_{0 x}{\\left(t \\right)} - r^{c}_{3 x}{\\left(t \\right)}\\right)^{2} + \\left(r^{d}_{0 y}{\\left(t \\right)} - r^{c}_{3 y}{\\left(t \\right)}\\right)^{2} + \\left(r^{d}_{0 z}{\\left(t \\right)} - r^{c}_{3 z}{\\left(t \\right)}\\right)^{2}}\\\\\\sqrt{\\left(r^{d}_{0 x}{\\left(t \\right)} - r^{c}_{3 x}{\\left(t \\right)}\\right)^{2} + \\left(r^{d}_{0 y}{\\left(t \\right)} - r^{c}_{3 y}{\\left(t \\right)}\\right)^{2} + \\left(r^{d}_{0 z}{\\left(t \\right)} - r^{c}_{3 z}{\\left(t \\right)}\\right)^{2}}\\\\\\sqrt{\\left(r^{d}_{0 x}{\\left(t \\right)} - r^{c}_{4 x}{\\left(t \\right)}\\right)^{2} + \\left(r^{d}_{0 y}{\\left(t \\right)} - r^{c}_{4 y}{\\left(t \\right)}\\right)^{2} + \\left(r^{d}_{0 z}{\\left(t \\right)} - r^{c}_{4 z}{\\left(t \\right)}\\right)^{2}}\\\\\\sqrt{\\left(r^{d}_{0 x}{\\left(t \\right)} - r^{c}_{4 x}{\\left(t \\right)}\\right)^{2} + \\left(r^{d}_{0 y}{\\left(t \\right)} - r^{c}_{4 y}{\\left(t \\right)}\\right)^{2} + \\left(r^{d}_{0 z}{\\left(t \\right)} - r^{c}_{4 z}{\\left(t \\right)}\\right)^{2}}\\\\\\sqrt{\\left(r^{d}_{0 x}{\\left(t \\right)} - r^{c}_{5 x}{\\left(t \\right)}\\right)^{2} + \\left(r^{d}_{0 y}{\\left(t \\right)} - r^{c}_{5 y}{\\left(t \\right)}\\right)^{2} + \\left(r^{d}_{0 z}{\\left(t \\right)} - r^{c}_{5 z}{\\left(t \\right)}\\right)^{2}}\\\\\\sqrt{\\left(r^{d}_{0 x}{\\left(t \\right)} - r^{c}_{5 x}{\\left(t \\right)}\\right)^{2} + \\left(r^{d}_{0 y}{\\left(t \\right)} - r^{c}_{5 y}{\\left(t \\right)}\\right)^{2} + \\left(r^{d}_{0 z}{\\left(t \\right)} - r^{c}_{5 z}{\\left(t \\right)}\\right)^{2}}\\end{matrix}\\right]$"
      ],
      "text/plain": [
       "Matrix([\n",
       "[sqrt((-r_0^c_x(t) + r_0^d_x(t))**2 + (-r_0^c_y(t) + r_0^d_y(t))**2 + (-r_0^c_z(t) + r_0^d_z(t))**2)],\n",
       "[sqrt((-r_0^c_x(t) + r_0^d_x(t))**2 + (-r_0^c_y(t) + r_0^d_y(t))**2 + (-r_0^c_z(t) + r_0^d_z(t))**2)],\n",
       "[   sqrt((r_0^d_x(t) - r_1^c_x(t))**2 + (r_0^d_y(t) - r_1^c_y(t))**2 + (r_0^d_z(t) - r_1^c_z(t))**2)],\n",
       "[   sqrt((r_0^d_x(t) - r_1^c_x(t))**2 + (r_0^d_y(t) - r_1^c_y(t))**2 + (r_0^d_z(t) - r_1^c_z(t))**2)],\n",
       "[   sqrt((r_0^d_x(t) - r_2^c_x(t))**2 + (r_0^d_y(t) - r_2^c_y(t))**2 + (r_0^d_z(t) - r_2^c_z(t))**2)],\n",
       "[   sqrt((r_0^d_x(t) - r_2^c_x(t))**2 + (r_0^d_y(t) - r_2^c_y(t))**2 + (r_0^d_z(t) - r_2^c_z(t))**2)],\n",
       "[   sqrt((r_0^d_x(t) - r_3^c_x(t))**2 + (r_0^d_y(t) - r_3^c_y(t))**2 + (r_0^d_z(t) - r_3^c_z(t))**2)],\n",
       "[   sqrt((r_0^d_x(t) - r_3^c_x(t))**2 + (r_0^d_y(t) - r_3^c_y(t))**2 + (r_0^d_z(t) - r_3^c_z(t))**2)],\n",
       "[   sqrt((r_0^d_x(t) - r_4^c_x(t))**2 + (r_0^d_y(t) - r_4^c_y(t))**2 + (r_0^d_z(t) - r_4^c_z(t))**2)],\n",
       "[   sqrt((r_0^d_x(t) - r_4^c_x(t))**2 + (r_0^d_y(t) - r_4^c_y(t))**2 + (r_0^d_z(t) - r_4^c_z(t))**2)],\n",
       "[   sqrt((r_0^d_x(t) - r_5^c_x(t))**2 + (r_0^d_y(t) - r_5^c_y(t))**2 + (r_0^d_z(t) - r_5^c_z(t))**2)],\n",
       "[   sqrt((r_0^d_x(t) - r_5^c_x(t))**2 + (r_0^d_y(t) - r_5^c_y(t))**2 + (r_0^d_z(t) - r_5^c_z(t))**2)]])"
      ]
     },
     "metadata": {},
     "output_type": "display_data"
    },
    {
     "name": "stdout",
     "output_type": "stream",
     "text": [
      "\u001b[0m\u001b[1mВектор измерений (изменённый):\u001b[0m\u001b[0m\n"
     ]
    },
    {
     "data": {
      "text/latex": [
       "$\\displaystyle \\left[\\begin{matrix}\\sqrt{\\left(- r^{c}_{0 x}{\\left(t \\right)} + r^{d}_{0 x}{\\left(t \\right)}\\right)^{2} + \\left(- r^{c}_{0 y}{\\left(t \\right)} + r^{d}_{0 y}{\\left(t \\right)}\\right)^{2} + \\left(- r^{c}_{0 z}{\\left(t \\right)} + r^{d}_{0 z}{\\left(t \\right)}\\right)^{2}} & \\sqrt{\\left(r^{d}_{0 x}{\\left(t \\right)} - r^{c}_{1 x}{\\left(t \\right)}\\right)^{2} + \\left(r^{d}_{0 y}{\\left(t \\right)} - r^{c}_{1 y}{\\left(t \\right)}\\right)^{2} + \\left(r^{d}_{0 z}{\\left(t \\right)} - r^{c}_{1 z}{\\left(t \\right)}\\right)^{2}} & \\sqrt{\\left(r^{d}_{0 x}{\\left(t \\right)} - r^{c}_{2 x}{\\left(t \\right)}\\right)^{2} + \\left(r^{d}_{0 y}{\\left(t \\right)} - r^{c}_{2 y}{\\left(t \\right)}\\right)^{2} + \\left(r^{d}_{0 z}{\\left(t \\right)} - r^{c}_{2 z}{\\left(t \\right)}\\right)^{2}} & \\sqrt{\\left(r^{d}_{0 x}{\\left(t \\right)} - r^{c}_{3 x}{\\left(t \\right)}\\right)^{2} + \\left(r^{d}_{0 y}{\\left(t \\right)} - r^{c}_{3 y}{\\left(t \\right)}\\right)^{2} + \\left(r^{d}_{0 z}{\\left(t \\right)} - r^{c}_{3 z}{\\left(t \\right)}\\right)^{2}} & \\sqrt{\\left(r^{d}_{0 x}{\\left(t \\right)} - r^{c}_{4 x}{\\left(t \\right)}\\right)^{2} + \\left(r^{d}_{0 y}{\\left(t \\right)} - r^{c}_{4 y}{\\left(t \\right)}\\right)^{2} + \\left(r^{d}_{0 z}{\\left(t \\right)} - r^{c}_{4 z}{\\left(t \\right)}\\right)^{2}} & \\sqrt{\\left(r^{d}_{0 x}{\\left(t \\right)} - r^{c}_{5 x}{\\left(t \\right)}\\right)^{2} + \\left(r^{d}_{0 y}{\\left(t \\right)} - r^{c}_{5 y}{\\left(t \\right)}\\right)^{2} + \\left(r^{d}_{0 z}{\\left(t \\right)} - r^{c}_{5 z}{\\left(t \\right)}\\right)^{2}}\\end{matrix}\\right]$"
      ],
      "text/plain": [
       "Matrix([[sqrt((-r_0^c_x(t) + r_0^d_x(t))**2 + (-r_0^c_y(t) + r_0^d_y(t))**2 + (-r_0^c_z(t) + r_0^d_z(t))**2), sqrt((r_0^d_x(t) - r_1^c_x(t))**2 + (r_0^d_y(t) - r_1^c_y(t))**2 + (r_0^d_z(t) - r_1^c_z(t))**2), sqrt((r_0^d_x(t) - r_2^c_x(t))**2 + (r_0^d_y(t) - r_2^c_y(t))**2 + (r_0^d_z(t) - r_2^c_z(t))**2), sqrt((r_0^d_x(t) - r_3^c_x(t))**2 + (r_0^d_y(t) - r_3^c_y(t))**2 + (r_0^d_z(t) - r_3^c_z(t))**2), sqrt((r_0^d_x(t) - r_4^c_x(t))**2 + (r_0^d_y(t) - r_4^c_y(t))**2 + (r_0^d_z(t) - r_4^c_z(t))**2), sqrt((r_0^d_x(t) - r_5^c_x(t))**2 + (r_0^d_y(t) - r_5^c_y(t))**2 + (r_0^d_z(t) - r_5^c_z(t))**2)]])"
      ]
     },
     "metadata": {},
     "output_type": "display_data"
    },
    {
     "name": "stdout",
     "output_type": "stream",
     "text": [
      "\u001b[0m\u001b[1mКоличество кубсатов: 6\n",
      "Количество чипсатов: 1\n",
      "\u001b[0m\u001b[0m\n",
      "Неизвестные: n = 6 (на каждый чипсат по 6 параметров)\n",
      "Известные: l = 6\n",
      "∃ производные порядка k = 1.0 (Должна быть целой!)\n",
      "Критерий (055): происзводные порядка 4.5\n",
      "_расчёт матрицы H_: k=1/1, l=1/6\n",
      "_расчёт матрицы H_: k=1/1, l=2/6\n",
      "_расчёт матрицы H_: k=1/1, l=3/6\n",
      "_расчёт матрицы H_: k=1/1, l=4/6\n",
      "_расчёт матрицы H_: k=1/1, l=5/6\n",
      "_расчёт матрицы H_: k=1/1, l=6/6\n",
      "Размерность матрицы H: (6, 1)\n",
      "Размерность матрицы J: (6, 6)\n",
      "    J_numb: расчёт строки : 1 / 6\n",
      "    J_numb: расчёт строки : 2 / 6\n",
      "    J_numb: расчёт строки : 3 / 6\n",
      "    J_numb: расчёт строки : 4 / 6\n",
      "    J_numb: расчёт строки : 5 / 6\n",
      "    J_numb: расчёт строки : 6 / 6\n",
      "v = [2.69510789 2.09062384 1.21426827 0.         0.         0.        ]\n",
      "σₘₙ/σₘₐₓ = 0.0/2.695107894585057 = 0.0 | σ>10⁻⁵: 3/6 (статья 051)\n",
      "\n",
      "Ранг матрицы: [3, 3, 3, 3, 3, 3] (статья 055)\n",
      "Детерминант матрицы: 0.0\n",
      "Следующие параметры не должны быть нулевыми:\n",
      "\n",
      "Δ_0 = 0.0\n",
      "\n",
      "\u001b[1mНе выполнено достаточное условие. Нулевой параметр: Δ_0 = 0.0\u001b[0m\n"
     ]
    }
   ],
   "source": [
    "H_3_1, J_3_1, J_numb_3_1, Δ_3_1, report_3_1 = observe_system(n_c=6, \n",
    "                                                             n_d=1, \n",
    "                                                             is_c_move=True, \n",
    "                                                             is_d_qw=False, \n",
    "                                                             is_angles=False, \n",
    "                                                             is_drag=False, \n",
    "                                                             is_only_xz=False, \n",
    "                                                             testprint=False,\n",
    "                                                             hand_written_deriv=None)"
   ]
  },
  {
   "cell_type": "code",
   "execution_count": null,
   "id": "7059c550-e120-410a-b117-cc671a7d8c7d",
   "metadata": {},
   "outputs": [],
   "source": [
    "# save_reports([report_11_1, report_11_5, report_11_11, report_11_1_, report_11_3_, report_11_7_], \"AeroOn_AttitudeOff_AntennaOff\")\n",
    "# print(read_reports(\"AeroOn_AttitudeOff_AntennaOff\"))"
   ]
  },
  {
   "cell_type": "markdown",
   "id": "ec908404-8a0a-4100-94f8-2314d33c689c",
   "metadata": {
    "jp-MarkdownHeadingCollapsed": true
   },
   "source": [
    "###### <u>Наблюдаемость системы</u> c аэродинамикой, без углового движения, антенны изотропные"
   ]
  },
  {
   "cell_type": "code",
   "execution_count": 3,
   "id": "778190b3-c8e2-4dbc-b008-0d7079165ff3",
   "metadata": {},
   "outputs": [
    {
     "name": "stdout",
     "output_type": "stream",
     "text": [
      "\u001b[0m\u001b[1mВектор состояния:\u001b[0m\u001b[0m\n"
     ]
    },
    {
     "data": {
      "text/latex": [
       "$\\displaystyle \\left[\\begin{matrix}r^{d}_{0 x}{\\left(t \\right)} & r^{d}_{0 y}{\\left(t \\right)} & r^{d}_{0 z}{\\left(t \\right)} & v^{d}_{0 x}{\\left(t \\right)} & v^{d}_{0 y}{\\left(t \\right)} & v^{d}_{0 z}{\\left(t \\right)}\\end{matrix}\\right]$"
      ],
      "text/plain": [
       "Matrix([[r_0^d_x(t), r_0^d_y(t), r_0^d_z(t), v_0^d_x(t), v_0^d_y(t), v_0^d_z(t)]])"
      ]
     },
     "metadata": {},
     "output_type": "display_data"
    },
    {
     "name": "stdout",
     "output_type": "stream",
     "text": [
      "\u001b[0m\u001b[1mВектор измерений:\u001b[0m\u001b[0m\n"
     ]
    },
    {
     "data": {
      "text/latex": [
       "$\\displaystyle \\left[\\begin{matrix}\\sqrt{\\left(- r^{c}_{0 x}{\\left(t \\right)} + r^{d}_{0 x}{\\left(t \\right)}\\right)^{2} + \\left(- r^{c}_{0 y}{\\left(t \\right)} + r^{d}_{0 y}{\\left(t \\right)}\\right)^{2} + \\left(- r^{c}_{0 z}{\\left(t \\right)} + r^{d}_{0 z}{\\left(t \\right)}\\right)^{2}}\\\\\\sqrt{\\left(- r^{c}_{0 x}{\\left(t \\right)} + r^{d}_{0 x}{\\left(t \\right)}\\right)^{2} + \\left(- r^{c}_{0 y}{\\left(t \\right)} + r^{d}_{0 y}{\\left(t \\right)}\\right)^{2} + \\left(- r^{c}_{0 z}{\\left(t \\right)} + r^{d}_{0 z}{\\left(t \\right)}\\right)^{2}}\\\\\\sqrt{\\left(r^{d}_{0 x}{\\left(t \\right)} - r^{c}_{1 x}{\\left(t \\right)}\\right)^{2} + \\left(r^{d}_{0 y}{\\left(t \\right)} - r^{c}_{1 y}{\\left(t \\right)}\\right)^{2} + \\left(r^{d}_{0 z}{\\left(t \\right)} - r^{c}_{1 z}{\\left(t \\right)}\\right)^{2}}\\\\\\sqrt{\\left(r^{d}_{0 x}{\\left(t \\right)} - r^{c}_{1 x}{\\left(t \\right)}\\right)^{2} + \\left(r^{d}_{0 y}{\\left(t \\right)} - r^{c}_{1 y}{\\left(t \\right)}\\right)^{2} + \\left(r^{d}_{0 z}{\\left(t \\right)} - r^{c}_{1 z}{\\left(t \\right)}\\right)^{2}}\\end{matrix}\\right]$"
      ],
      "text/plain": [
       "Matrix([\n",
       "[sqrt((-r_0^c_x(t) + r_0^d_x(t))**2 + (-r_0^c_y(t) + r_0^d_y(t))**2 + (-r_0^c_z(t) + r_0^d_z(t))**2)],\n",
       "[sqrt((-r_0^c_x(t) + r_0^d_x(t))**2 + (-r_0^c_y(t) + r_0^d_y(t))**2 + (-r_0^c_z(t) + r_0^d_z(t))**2)],\n",
       "[   sqrt((r_0^d_x(t) - r_1^c_x(t))**2 + (r_0^d_y(t) - r_1^c_y(t))**2 + (r_0^d_z(t) - r_1^c_z(t))**2)],\n",
       "[   sqrt((r_0^d_x(t) - r_1^c_x(t))**2 + (r_0^d_y(t) - r_1^c_y(t))**2 + (r_0^d_z(t) - r_1^c_z(t))**2)]])"
      ]
     },
     "metadata": {},
     "output_type": "display_data"
    },
    {
     "name": "stdout",
     "output_type": "stream",
     "text": [
      "\u001b[0m\u001b[1mВектор измерений (изменённый):\u001b[0m\u001b[0m\n"
     ]
    },
    {
     "data": {
      "text/latex": [
       "$\\displaystyle \\left[\\begin{matrix}\\sqrt{\\left(- r^{c}_{0 x}{\\left(t \\right)} + r^{d}_{0 x}{\\left(t \\right)}\\right)^{2} + \\left(- r^{c}_{0 y}{\\left(t \\right)} + r^{d}_{0 y}{\\left(t \\right)}\\right)^{2} + \\left(- r^{c}_{0 z}{\\left(t \\right)} + r^{d}_{0 z}{\\left(t \\right)}\\right)^{2}} & \\sqrt{\\left(r^{d}_{0 x}{\\left(t \\right)} - r^{c}_{1 x}{\\left(t \\right)}\\right)^{2} + \\left(r^{d}_{0 y}{\\left(t \\right)} - r^{c}_{1 y}{\\left(t \\right)}\\right)^{2} + \\left(r^{d}_{0 z}{\\left(t \\right)} - r^{c}_{1 z}{\\left(t \\right)}\\right)^{2}}\\end{matrix}\\right]$"
      ],
      "text/plain": [
       "Matrix([[sqrt((-r_0^c_x(t) + r_0^d_x(t))**2 + (-r_0^c_y(t) + r_0^d_y(t))**2 + (-r_0^c_z(t) + r_0^d_z(t))**2), sqrt((r_0^d_x(t) - r_1^c_x(t))**2 + (r_0^d_y(t) - r_1^c_y(t))**2 + (r_0^d_z(t) - r_1^c_z(t))**2)]])"
      ]
     },
     "metadata": {},
     "output_type": "display_data"
    },
    {
     "name": "stdout",
     "output_type": "stream",
     "text": [
      "\u001b[0m\u001b[1mКоличество кубсатов: 2\n",
      "Количество чипсатов: 1\n",
      "\u001b[0m\u001b[0m\n",
      "Неизвестные: n = 6 (на каждый чипсат по 6 параметров)\n",
      "Известные: l = 2\n",
      "∃ производные порядка k = 3.0 (Должна быть целой!)\n",
      "Критерий (055): происзводные порядка 13.5\n",
      "_расчёт матрицы H_: k=1/3, l=1/2\n",
      "_расчёт матрицы H_: k=1/3, l=2/2\n",
      "_расчёт матрицы H_: k=2/3, l=1/2\n",
      "_расчёт матрицы H_: k=2/3, l=2/2\n",
      "_расчёт матрицы H_: k=3/3, l=1/2\n",
      "_расчёт матрицы H_: k=3/3, l=2/2\n",
      "Размерность матрицы H: (6, 1)\n",
      "Размерность матрицы J: (6, 6)\n",
      "    J_numb: расчёт строки : 1 / 6\n",
      "    J_numb: расчёт строки : 2 / 6\n",
      "    J_numb: расчёт строки : 3 / 6\n",
      "    J_numb: расчёт строки : 4 / 6\n",
      "    J_numb: расчёт строки : 5 / 6\n",
      "    J_numb: расчёт строки : 6 / 6\n",
      "v = [1.56975761e+00 1.54573931e+00 4.57073283e-01 4.33050049e-01\n",
      " 7.67697413e-03 6.18893194e-07]\n",
      "σₘₙ/σₘₐₓ = 6.188931937277983e-07/1.5697576142305296 = 3.942603546670293e-07 | σ>10⁻⁵: 5/6 (статья 051)\n",
      "\n",
      "Ранг матрицы: [5, 6, 6, 6, 6, 6] (статья 055)\n",
      "Детерминант матрицы: 4.776934441805036e-05\n",
      "Следующие параметры не должны быть нулевыми:\n",
      "\n",
      "Δ_0 = -5.116401166922913e-05\n",
      "Δ_1 / Δ_0 = -5.166117766855103e-06\n",
      "Δ_2 / Δ_1 = -0.0014476808778791075\n",
      "Δ_3 / Δ_2 = 0.00021379228184856223\n",
      "Δ_4 / Δ_3 = 0.0008928031521952639\n",
      "Δ_5 / Δ_4 = 0.0012798133035939864\n",
      "\n",
      "\u001b[1mВыполнено достаточное условие! Система наблюдаема\u001b[0m\n"
     ]
    }
   ],
   "source": [
    "H_tmp, J_tmp, J_numb_tmp, Δ_tmp, report_tmp = observe_system(n_c=2, \n",
    "                                                             n_d=1, \n",
    "                                                             is_c_move=True, \n",
    "                                                             is_d_qw=False, \n",
    "                                                             is_angles=False, \n",
    "                                                             is_drag=True, \n",
    "                                                             is_only_xz=False, \n",
    "                                                             testprint=False,\n",
    "                                                             hand_written_deriv=None)"
   ]
  },
  {
   "cell_type": "code",
   "execution_count": 14,
   "id": "7dae3198-160f-4f81-853a-84c864ba2b42",
   "metadata": {},
   "outputs": [
    {
     "name": "stdout",
     "output_type": "stream",
     "text": [
      "\u001b[0m\u001b[1mВектор состояния:\u001b[0m\u001b[0m\n"
     ]
    },
    {
     "data": {
      "text/latex": [
       "$\\displaystyle \\left[\\begin{matrix}r^{d}_{0 x}{\\left(t \\right)} & r^{d}_{0 y}{\\left(t \\right)} & r^{d}_{0 z}{\\left(t \\right)} & v^{d}_{0 x}{\\left(t \\right)} & v^{d}_{0 y}{\\left(t \\right)} & v^{d}_{0 z}{\\left(t \\right)}\\end{matrix}\\right]$"
      ],
      "text/plain": [
       "Matrix([[r_0^d_x(t), r_0^d_y(t), r_0^d_z(t), v_0^d_x(t), v_0^d_y(t), v_0^d_z(t)]])"
      ]
     },
     "metadata": {},
     "output_type": "display_data"
    },
    {
     "name": "stdout",
     "output_type": "stream",
     "text": [
      "\u001b[0m\u001b[1mВектор измерений:\u001b[0m\u001b[0m\n"
     ]
    },
    {
     "data": {
      "text/latex": [
       "$\\displaystyle \\left[\\begin{matrix}\\sqrt{\\left(r^{d}_{0 x}\\right)^{2}{\\left(t \\right)} + \\left(r^{d}_{0 y}\\right)^{2}{\\left(t \\right)} + \\left(r^{d}_{0 z}\\right)^{2}{\\left(t \\right)}}\\\\\\sqrt{\\left(r^{d}_{0 x}\\right)^{2}{\\left(t \\right)} + \\left(r^{d}_{0 y}\\right)^{2}{\\left(t \\right)} + \\left(r^{d}_{0 z}\\right)^{2}{\\left(t \\right)}}\\end{matrix}\\right]$"
      ],
      "text/plain": [
       "Matrix([\n",
       "[sqrt(r_0^d_x(t)**2 + r_0^d_y(t)**2 + r_0^d_z(t)**2)],\n",
       "[sqrt(r_0^d_x(t)**2 + r_0^d_y(t)**2 + r_0^d_z(t)**2)]])"
      ]
     },
     "metadata": {},
     "output_type": "display_data"
    },
    {
     "name": "stdout",
     "output_type": "stream",
     "text": [
      "\u001b[0m\u001b[1mВектор измерений (изменённый):\u001b[0m\u001b[0m\n"
     ]
    },
    {
     "data": {
      "text/latex": [
       "$\\displaystyle \\left[\\begin{matrix}\\sqrt{\\left(r^{d}_{0 x}\\right)^{2}{\\left(t \\right)} + \\left(r^{d}_{0 y}\\right)^{2}{\\left(t \\right)} + \\left(r^{d}_{0 z}\\right)^{2}{\\left(t \\right)}}\\end{matrix}\\right]$"
      ],
      "text/plain": [
       "Matrix([[sqrt(r_0^d_x(t)**2 + r_0^d_y(t)**2 + r_0^d_z(t)**2)]])"
      ]
     },
     "metadata": {},
     "output_type": "display_data"
    },
    {
     "name": "stdout",
     "output_type": "stream",
     "text": [
      "\u001b[0m\u001b[1mВектор состояния (изменённый):\u001b[0m\u001b[0m\n"
     ]
    },
    {
     "data": {
      "text/latex": [
       "$\\displaystyle \\left[\\begin{matrix}r^{d}_{0 x}{\\left(t \\right)}\\\\r^{d}_{0 z}{\\left(t \\right)}\\\\v^{d}_{0 x}{\\left(t \\right)}\\\\v^{d}_{0 z}{\\left(t \\right)}\\end{matrix}\\right]$"
      ],
      "text/plain": [
       "Matrix([\n",
       "[r_0^d_x(t)],\n",
       "[r_0^d_z(t)],\n",
       "[v_0^d_x(t)],\n",
       "[v_0^d_z(t)]])"
      ]
     },
     "metadata": {},
     "output_type": "display_data"
    },
    {
     "name": "stdout",
     "output_type": "stream",
     "text": [
      "\u001b[0m\u001b[1mКоличество кубсатов: 1\n",
      "Количество чипсатов: 1\n",
      "\u001b[0m\u001b[0m\n",
      "Неизвестные: n = 4 (на каждый чипсат по 4 параметров)\n",
      "Известные: l = 1\n",
      "∃ производные порядка k = 4.0 (Должна быть целой!)\n",
      "Критерий (055): происзводные порядка 14.0\n",
      "_расчёт матрицы H_: k=1/4, l=1/1\n",
      "_расчёт матрицы H_: k=2/4, l=1/1\n",
      "_расчёт матрицы H_: k=3/4, l=1/1\n",
      "_расчёт матрицы H_: k=4/4, l=1/1\n",
      "Размерность матрицы H: (4, 1)\n",
      "Размерность матрицы J: (4, 4)\n",
      "    J_numb: расчёт строки : 1 / 4\n",
      "    J_numb: расчёт строки : 2 / 4\n",
      "    J_numb: расчёт строки : 3 / 4\n",
      "    J_numb: расчёт строки : 4 / 4\n",
      "v = [1.01005853e+00 9.91224792e-01 4.11394173e-02 3.18725872e-13]\n",
      "σₘₙ/σₘₐₓ = 3.1872587164221276e-13/1.0100585309839982 = 3.155518832475087e-13 | σ>10⁻⁵: 3/4 (статья 051)\n",
      "\n",
      "Ранг матрицы: [3, 3, 4, 4, 4, 4] (статья 055)\n",
      "Детерминант матрицы: -1.1457174342670641e-07\n",
      "Следующие параметры не должны быть нулевыми:\n",
      "\n",
      "Δ_0 = 0.00022814262825270046\n",
      "Δ_1 / Δ_0 = 0.00520245822266811\n",
      "Δ_2 / Δ_1 = -0.0009497291018764873\n",
      "Δ_3 / Δ_2 = -0.01635263353004185\n",
      "\n",
      "\u001b[1mВыполнено достаточное условие! Система наблюдаема\u001b[0m\n"
     ]
    }
   ],
   "source": [
    "H_tmp, J_tmp, J_numb_tmp, Δ_tmp, report_tmp = observe_system(n_c=1, \n",
    "                                                             n_d=1, \n",
    "                                                             is_c_move=False, \n",
    "                                                             is_d_qw=False, \n",
    "                                                             is_angles=False, \n",
    "                                                             is_drag=True, \n",
    "                                                             is_only_xz=True, \n",
    "                                                             testprint=False,\n",
    "                                                             hand_written_deriv=None)"
   ]
  },
  {
   "cell_type": "code",
   "execution_count": 23,
   "id": "76d1b869-61b2-45f3-a63f-996896f2ffa6",
   "metadata": {},
   "outputs": [
    {
     "name": "stdout",
     "output_type": "stream",
     "text": [
      "\u001b[0m\u001b[1mВектор состояния:\u001b[0m\u001b[0m\n"
     ]
    },
    {
     "data": {
      "text/latex": [
       "$\\displaystyle \\left[\\begin{array}{cccccccccccccccccccccccccccccc}r^{d}_{0 x}{\\left(t \\right)} & r^{d}_{0 y}{\\left(t \\right)} & r^{d}_{0 z}{\\left(t \\right)} & v^{d}_{0 x}{\\left(t \\right)} & v^{d}_{0 y}{\\left(t \\right)} & v^{d}_{0 z}{\\left(t \\right)} & r^{d}_{1 x}{\\left(t \\right)} & r^{d}_{1 y}{\\left(t \\right)} & r^{d}_{1 z}{\\left(t \\right)} & v^{d}_{1 x}{\\left(t \\right)} & v^{d}_{1 y}{\\left(t \\right)} & v^{d}_{1 z}{\\left(t \\right)} & r^{d}_{2 x}{\\left(t \\right)} & r^{d}_{2 y}{\\left(t \\right)} & r^{d}_{2 z}{\\left(t \\right)} & v^{d}_{2 x}{\\left(t \\right)} & v^{d}_{2 y}{\\left(t \\right)} & v^{d}_{2 z}{\\left(t \\right)} & r^{d}_{3 x}{\\left(t \\right)} & r^{d}_{3 y}{\\left(t \\right)} & r^{d}_{3 z}{\\left(t \\right)} & v^{d}_{3 x}{\\left(t \\right)} & v^{d}_{3 y}{\\left(t \\right)} & v^{d}_{3 z}{\\left(t \\right)} & r^{d}_{4 x}{\\left(t \\right)} & r^{d}_{4 y}{\\left(t \\right)} & r^{d}_{4 z}{\\left(t \\right)} & v^{d}_{4 x}{\\left(t \\right)} & v^{d}_{4 y}{\\left(t \\right)} & v^{d}_{4 z}{\\left(t \\right)}\\end{array}\\right]$"
      ],
      "text/plain": [
       "Matrix([[r_0^d_x(t), r_0^d_y(t), r_0^d_z(t), v_0^d_x(t), v_0^d_y(t), v_0^d_z(t), r_1^d_x(t), r_1^d_y(t), r_1^d_z(t), v_1^d_x(t), v_1^d_y(t), v_1^d_z(t), r_2^d_x(t), r_2^d_y(t), r_2^d_z(t), v_2^d_x(t), v_2^d_y(t), v_2^d_z(t), r_3^d_x(t), r_3^d_y(t), r_3^d_z(t), v_3^d_x(t), v_3^d_y(t), v_3^d_z(t), r_4^d_x(t), r_4^d_y(t), r_4^d_z(t), v_4^d_x(t), v_4^d_y(t), v_4^d_z(t)]])"
      ]
     },
     "metadata": {},
     "output_type": "display_data"
    },
    {
     "name": "stdout",
     "output_type": "stream",
     "text": [
      "\u001b[0m\u001b[1mВектор измерений:\u001b[0m\u001b[0m\n"
     ]
    },
    {
     "data": {
      "text/latex": [
       "$\\displaystyle \\left[\\begin{matrix}\\sqrt{\\left(- r^{c}_{0 x}{\\left(t \\right)} + r^{d}_{0 x}{\\left(t \\right)}\\right)^{2} + \\left(- r^{c}_{0 y}{\\left(t \\right)} + r^{d}_{0 y}{\\left(t \\right)}\\right)^{2} + \\left(- r^{c}_{0 z}{\\left(t \\right)} + r^{d}_{0 z}{\\left(t \\right)}\\right)^{2}}\\\\\\sqrt{\\left(- r^{c}_{0 x}{\\left(t \\right)} + r^{d}_{1 x}{\\left(t \\right)}\\right)^{2} + \\left(- r^{c}_{0 y}{\\left(t \\right)} + r^{d}_{1 y}{\\left(t \\right)}\\right)^{2} + \\left(- r^{c}_{0 z}{\\left(t \\right)} + r^{d}_{1 z}{\\left(t \\right)}\\right)^{2}}\\\\\\sqrt{\\left(- r^{c}_{0 x}{\\left(t \\right)} + r^{d}_{2 x}{\\left(t \\right)}\\right)^{2} + \\left(- r^{c}_{0 y}{\\left(t \\right)} + r^{d}_{2 y}{\\left(t \\right)}\\right)^{2} + \\left(- r^{c}_{0 z}{\\left(t \\right)} + r^{d}_{2 z}{\\left(t \\right)}\\right)^{2}}\\\\\\sqrt{\\left(- r^{c}_{0 x}{\\left(t \\right)} + r^{d}_{3 x}{\\left(t \\right)}\\right)^{2} + \\left(- r^{c}_{0 y}{\\left(t \\right)} + r^{d}_{3 y}{\\left(t \\right)}\\right)^{2} + \\left(- r^{c}_{0 z}{\\left(t \\right)} + r^{d}_{3 z}{\\left(t \\right)}\\right)^{2}}\\\\\\sqrt{\\left(- r^{c}_{0 x}{\\left(t \\right)} + r^{d}_{4 x}{\\left(t \\right)}\\right)^{2} + \\left(- r^{c}_{0 y}{\\left(t \\right)} + r^{d}_{4 y}{\\left(t \\right)}\\right)^{2} + \\left(- r^{c}_{0 z}{\\left(t \\right)} + r^{d}_{4 z}{\\left(t \\right)}\\right)^{2}}\\\\\\sqrt{\\left(r^{d}_{0 x}{\\left(t \\right)} - r^{c}_{1 x}{\\left(t \\right)}\\right)^{2} + \\left(r^{d}_{0 y}{\\left(t \\right)} - r^{c}_{1 y}{\\left(t \\right)}\\right)^{2} + \\left(r^{d}_{0 z}{\\left(t \\right)} - r^{c}_{1 z}{\\left(t \\right)}\\right)^{2}}\\\\\\sqrt{\\left(- r^{c}_{1 x}{\\left(t \\right)} + r^{d}_{1 x}{\\left(t \\right)}\\right)^{2} + \\left(- r^{c}_{1 y}{\\left(t \\right)} + r^{d}_{1 y}{\\left(t \\right)}\\right)^{2} + \\left(- r^{c}_{1 z}{\\left(t \\right)} + r^{d}_{1 z}{\\left(t \\right)}\\right)^{2}}\\\\\\sqrt{\\left(- r^{c}_{1 x}{\\left(t \\right)} + r^{d}_{2 x}{\\left(t \\right)}\\right)^{2} + \\left(- r^{c}_{1 y}{\\left(t \\right)} + r^{d}_{2 y}{\\left(t \\right)}\\right)^{2} + \\left(- r^{c}_{1 z}{\\left(t \\right)} + r^{d}_{2 z}{\\left(t \\right)}\\right)^{2}}\\\\\\sqrt{\\left(- r^{c}_{1 x}{\\left(t \\right)} + r^{d}_{3 x}{\\left(t \\right)}\\right)^{2} + \\left(- r^{c}_{1 y}{\\left(t \\right)} + r^{d}_{3 y}{\\left(t \\right)}\\right)^{2} + \\left(- r^{c}_{1 z}{\\left(t \\right)} + r^{d}_{3 z}{\\left(t \\right)}\\right)^{2}}\\\\\\sqrt{\\left(- r^{c}_{1 x}{\\left(t \\right)} + r^{d}_{4 x}{\\left(t \\right)}\\right)^{2} + \\left(- r^{c}_{1 y}{\\left(t \\right)} + r^{d}_{4 y}{\\left(t \\right)}\\right)^{2} + \\left(- r^{c}_{1 z}{\\left(t \\right)} + r^{d}_{4 z}{\\left(t \\right)}\\right)^{2}}\\\\\\sqrt{\\left(r^{d}_{0 x}{\\left(t \\right)} - r^{d}_{1 x}{\\left(t \\right)}\\right)^{2} + \\left(r^{d}_{0 y}{\\left(t \\right)} - r^{d}_{1 y}{\\left(t \\right)}\\right)^{2} + \\left(r^{d}_{0 z}{\\left(t \\right)} - r^{d}_{1 z}{\\left(t \\right)}\\right)^{2}}\\\\\\sqrt{\\left(r^{d}_{0 x}{\\left(t \\right)} - r^{d}_{2 x}{\\left(t \\right)}\\right)^{2} + \\left(r^{d}_{0 y}{\\left(t \\right)} - r^{d}_{2 y}{\\left(t \\right)}\\right)^{2} + \\left(r^{d}_{0 z}{\\left(t \\right)} - r^{d}_{2 z}{\\left(t \\right)}\\right)^{2}}\\\\\\sqrt{\\left(r^{d}_{1 x}{\\left(t \\right)} - r^{d}_{2 x}{\\left(t \\right)}\\right)^{2} + \\left(r^{d}_{1 y}{\\left(t \\right)} - r^{d}_{2 y}{\\left(t \\right)}\\right)^{2} + \\left(r^{d}_{1 z}{\\left(t \\right)} - r^{d}_{2 z}{\\left(t \\right)}\\right)^{2}}\\\\\\sqrt{\\left(r^{d}_{0 x}{\\left(t \\right)} - r^{d}_{3 x}{\\left(t \\right)}\\right)^{2} + \\left(r^{d}_{0 y}{\\left(t \\right)} - r^{d}_{3 y}{\\left(t \\right)}\\right)^{2} + \\left(r^{d}_{0 z}{\\left(t \\right)} - r^{d}_{3 z}{\\left(t \\right)}\\right)^{2}}\\\\\\sqrt{\\left(r^{d}_{1 x}{\\left(t \\right)} - r^{d}_{3 x}{\\left(t \\right)}\\right)^{2} + \\left(r^{d}_{1 y}{\\left(t \\right)} - r^{d}_{3 y}{\\left(t \\right)}\\right)^{2} + \\left(r^{d}_{1 z}{\\left(t \\right)} - r^{d}_{3 z}{\\left(t \\right)}\\right)^{2}}\\\\\\sqrt{\\left(r^{d}_{2 x}{\\left(t \\right)} - r^{d}_{3 x}{\\left(t \\right)}\\right)^{2} + \\left(r^{d}_{2 y}{\\left(t \\right)} - r^{d}_{3 y}{\\left(t \\right)}\\right)^{2} + \\left(r^{d}_{2 z}{\\left(t \\right)} - r^{d}_{3 z}{\\left(t \\right)}\\right)^{2}}\\\\\\sqrt{\\left(r^{d}_{0 x}{\\left(t \\right)} - r^{d}_{4 x}{\\left(t \\right)}\\right)^{2} + \\left(r^{d}_{0 y}{\\left(t \\right)} - r^{d}_{4 y}{\\left(t \\right)}\\right)^{2} + \\left(r^{d}_{0 z}{\\left(t \\right)} - r^{d}_{4 z}{\\left(t \\right)}\\right)^{2}}\\\\\\sqrt{\\left(r^{d}_{1 x}{\\left(t \\right)} - r^{d}_{4 x}{\\left(t \\right)}\\right)^{2} + \\left(r^{d}_{1 y}{\\left(t \\right)} - r^{d}_{4 y}{\\left(t \\right)}\\right)^{2} + \\left(r^{d}_{1 z}{\\left(t \\right)} - r^{d}_{4 z}{\\left(t \\right)}\\right)^{2}}\\\\\\sqrt{\\left(r^{d}_{2 x}{\\left(t \\right)} - r^{d}_{4 x}{\\left(t \\right)}\\right)^{2} + \\left(r^{d}_{2 y}{\\left(t \\right)} - r^{d}_{4 y}{\\left(t \\right)}\\right)^{2} + \\left(r^{d}_{2 z}{\\left(t \\right)} - r^{d}_{4 z}{\\left(t \\right)}\\right)^{2}}\\\\\\sqrt{\\left(r^{d}_{3 x}{\\left(t \\right)} - r^{d}_{4 x}{\\left(t \\right)}\\right)^{2} + \\left(r^{d}_{3 y}{\\left(t \\right)} - r^{d}_{4 y}{\\left(t \\right)}\\right)^{2} + \\left(r^{d}_{3 z}{\\left(t \\right)} - r^{d}_{4 z}{\\left(t \\right)}\\right)^{2}}\\end{matrix}\\right]$"
      ],
      "text/plain": [
       "Matrix([\n",
       "[sqrt((-r_0^c_x(t) + r_0^d_x(t))**2 + (-r_0^c_y(t) + r_0^d_y(t))**2 + (-r_0^c_z(t) + r_0^d_z(t))**2)],\n",
       "[sqrt((-r_0^c_x(t) + r_1^d_x(t))**2 + (-r_0^c_y(t) + r_1^d_y(t))**2 + (-r_0^c_z(t) + r_1^d_z(t))**2)],\n",
       "[sqrt((-r_0^c_x(t) + r_2^d_x(t))**2 + (-r_0^c_y(t) + r_2^d_y(t))**2 + (-r_0^c_z(t) + r_2^d_z(t))**2)],\n",
       "[sqrt((-r_0^c_x(t) + r_3^d_x(t))**2 + (-r_0^c_y(t) + r_3^d_y(t))**2 + (-r_0^c_z(t) + r_3^d_z(t))**2)],\n",
       "[sqrt((-r_0^c_x(t) + r_4^d_x(t))**2 + (-r_0^c_y(t) + r_4^d_y(t))**2 + (-r_0^c_z(t) + r_4^d_z(t))**2)],\n",
       "[   sqrt((r_0^d_x(t) - r_1^c_x(t))**2 + (r_0^d_y(t) - r_1^c_y(t))**2 + (r_0^d_z(t) - r_1^c_z(t))**2)],\n",
       "[sqrt((-r_1^c_x(t) + r_1^d_x(t))**2 + (-r_1^c_y(t) + r_1^d_y(t))**2 + (-r_1^c_z(t) + r_1^d_z(t))**2)],\n",
       "[sqrt((-r_1^c_x(t) + r_2^d_x(t))**2 + (-r_1^c_y(t) + r_2^d_y(t))**2 + (-r_1^c_z(t) + r_2^d_z(t))**2)],\n",
       "[sqrt((-r_1^c_x(t) + r_3^d_x(t))**2 + (-r_1^c_y(t) + r_3^d_y(t))**2 + (-r_1^c_z(t) + r_3^d_z(t))**2)],\n",
       "[sqrt((-r_1^c_x(t) + r_4^d_x(t))**2 + (-r_1^c_y(t) + r_4^d_y(t))**2 + (-r_1^c_z(t) + r_4^d_z(t))**2)],\n",
       "[   sqrt((r_0^d_x(t) - r_1^d_x(t))**2 + (r_0^d_y(t) - r_1^d_y(t))**2 + (r_0^d_z(t) - r_1^d_z(t))**2)],\n",
       "[   sqrt((r_0^d_x(t) - r_2^d_x(t))**2 + (r_0^d_y(t) - r_2^d_y(t))**2 + (r_0^d_z(t) - r_2^d_z(t))**2)],\n",
       "[   sqrt((r_1^d_x(t) - r_2^d_x(t))**2 + (r_1^d_y(t) - r_2^d_y(t))**2 + (r_1^d_z(t) - r_2^d_z(t))**2)],\n",
       "[   sqrt((r_0^d_x(t) - r_3^d_x(t))**2 + (r_0^d_y(t) - r_3^d_y(t))**2 + (r_0^d_z(t) - r_3^d_z(t))**2)],\n",
       "[   sqrt((r_1^d_x(t) - r_3^d_x(t))**2 + (r_1^d_y(t) - r_3^d_y(t))**2 + (r_1^d_z(t) - r_3^d_z(t))**2)],\n",
       "[   sqrt((r_2^d_x(t) - r_3^d_x(t))**2 + (r_2^d_y(t) - r_3^d_y(t))**2 + (r_2^d_z(t) - r_3^d_z(t))**2)],\n",
       "[   sqrt((r_0^d_x(t) - r_4^d_x(t))**2 + (r_0^d_y(t) - r_4^d_y(t))**2 + (r_0^d_z(t) - r_4^d_z(t))**2)],\n",
       "[   sqrt((r_1^d_x(t) - r_4^d_x(t))**2 + (r_1^d_y(t) - r_4^d_y(t))**2 + (r_1^d_z(t) - r_4^d_z(t))**2)],\n",
       "[   sqrt((r_2^d_x(t) - r_4^d_x(t))**2 + (r_2^d_y(t) - r_4^d_y(t))**2 + (r_2^d_z(t) - r_4^d_z(t))**2)],\n",
       "[   sqrt((r_3^d_x(t) - r_4^d_x(t))**2 + (r_3^d_y(t) - r_4^d_y(t))**2 + (r_3^d_z(t) - r_4^d_z(t))**2)]])"
      ]
     },
     "metadata": {},
     "output_type": "display_data"
    },
    {
     "name": "stdout",
     "output_type": "stream",
     "text": [
      "\u001b[0m\u001b[1mВектор измерений (изменённый):\u001b[0m\u001b[0m\n"
     ]
    },
    {
     "data": {
      "text/latex": [
       "$\\displaystyle \\left[\\begin{matrix}\\sqrt{\\left(- r^{c}_{0 x}{\\left(t \\right)} + r^{d}_{0 x}{\\left(t \\right)}\\right)^{2} + \\left(- r^{c}_{0 y}{\\left(t \\right)} + r^{d}_{0 y}{\\left(t \\right)}\\right)^{2} + \\left(- r^{c}_{0 z}{\\left(t \\right)} + r^{d}_{0 z}{\\left(t \\right)}\\right)^{2}} & \\sqrt{\\left(- r^{c}_{0 x}{\\left(t \\right)} + r^{d}_{2 x}{\\left(t \\right)}\\right)^{2} + \\left(- r^{c}_{0 y}{\\left(t \\right)} + r^{d}_{2 y}{\\left(t \\right)}\\right)^{2} + \\left(- r^{c}_{0 z}{\\left(t \\right)} + r^{d}_{2 z}{\\left(t \\right)}\\right)^{2}} & \\sqrt{\\left(- r^{c}_{0 x}{\\left(t \\right)} + r^{d}_{4 x}{\\left(t \\right)}\\right)^{2} + \\left(- r^{c}_{0 y}{\\left(t \\right)} + r^{d}_{4 y}{\\left(t \\right)}\\right)^{2} + \\left(- r^{c}_{0 z}{\\left(t \\right)} + r^{d}_{4 z}{\\left(t \\right)}\\right)^{2}} & \\sqrt{\\left(- r^{c}_{1 x}{\\left(t \\right)} + r^{d}_{1 x}{\\left(t \\right)}\\right)^{2} + \\left(- r^{c}_{1 y}{\\left(t \\right)} + r^{d}_{1 y}{\\left(t \\right)}\\right)^{2} + \\left(- r^{c}_{1 z}{\\left(t \\right)} + r^{d}_{1 z}{\\left(t \\right)}\\right)^{2}} & \\sqrt{\\left(- r^{c}_{1 x}{\\left(t \\right)} + r^{d}_{3 x}{\\left(t \\right)}\\right)^{2} + \\left(- r^{c}_{1 y}{\\left(t \\right)} + r^{d}_{3 y}{\\left(t \\right)}\\right)^{2} + \\left(- r^{c}_{1 z}{\\left(t \\right)} + r^{d}_{3 z}{\\left(t \\right)}\\right)^{2}} & \\sqrt{\\left(r^{d}_{0 x}{\\left(t \\right)} - r^{d}_{1 x}{\\left(t \\right)}\\right)^{2} + \\left(r^{d}_{0 y}{\\left(t \\right)} - r^{d}_{1 y}{\\left(t \\right)}\\right)^{2} + \\left(r^{d}_{0 z}{\\left(t \\right)} - r^{d}_{1 z}{\\left(t \\right)}\\right)^{2}} & \\sqrt{\\left(r^{d}_{1 x}{\\left(t \\right)} - r^{d}_{2 x}{\\left(t \\right)}\\right)^{2} + \\left(r^{d}_{1 y}{\\left(t \\right)} - r^{d}_{2 y}{\\left(t \\right)}\\right)^{2} + \\left(r^{d}_{1 z}{\\left(t \\right)} - r^{d}_{2 z}{\\left(t \\right)}\\right)^{2}} & \\sqrt{\\left(r^{d}_{1 x}{\\left(t \\right)} - r^{d}_{3 x}{\\left(t \\right)}\\right)^{2} + \\left(r^{d}_{1 y}{\\left(t \\right)} - r^{d}_{3 y}{\\left(t \\right)}\\right)^{2} + \\left(r^{d}_{1 z}{\\left(t \\right)} - r^{d}_{3 z}{\\left(t \\right)}\\right)^{2}} & \\sqrt{\\left(r^{d}_{0 x}{\\left(t \\right)} - r^{d}_{4 x}{\\left(t \\right)}\\right)^{2} + \\left(r^{d}_{0 y}{\\left(t \\right)} - r^{d}_{4 y}{\\left(t \\right)}\\right)^{2} + \\left(r^{d}_{0 z}{\\left(t \\right)} - r^{d}_{4 z}{\\left(t \\right)}\\right)^{2}} & \\sqrt{\\left(r^{d}_{2 x}{\\left(t \\right)} - r^{d}_{4 x}{\\left(t \\right)}\\right)^{2} + \\left(r^{d}_{2 y}{\\left(t \\right)} - r^{d}_{4 y}{\\left(t \\right)}\\right)^{2} + \\left(r^{d}_{2 z}{\\left(t \\right)} - r^{d}_{4 z}{\\left(t \\right)}\\right)^{2}}\\end{matrix}\\right]$"
      ],
      "text/plain": [
       "Matrix([[sqrt((-r_0^c_x(t) + r_0^d_x(t))**2 + (-r_0^c_y(t) + r_0^d_y(t))**2 + (-r_0^c_z(t) + r_0^d_z(t))**2), sqrt((-r_0^c_x(t) + r_2^d_x(t))**2 + (-r_0^c_y(t) + r_2^d_y(t))**2 + (-r_0^c_z(t) + r_2^d_z(t))**2), sqrt((-r_0^c_x(t) + r_4^d_x(t))**2 + (-r_0^c_y(t) + r_4^d_y(t))**2 + (-r_0^c_z(t) + r_4^d_z(t))**2), sqrt((-r_1^c_x(t) + r_1^d_x(t))**2 + (-r_1^c_y(t) + r_1^d_y(t))**2 + (-r_1^c_z(t) + r_1^d_z(t))**2), sqrt((-r_1^c_x(t) + r_3^d_x(t))**2 + (-r_1^c_y(t) + r_3^d_y(t))**2 + (-r_1^c_z(t) + r_3^d_z(t))**2), sqrt((r_0^d_x(t) - r_1^d_x(t))**2 + (r_0^d_y(t) - r_1^d_y(t))**2 + (r_0^d_z(t) - r_1^d_z(t))**2), sqrt((r_1^d_x(t) - r_2^d_x(t))**2 + (r_1^d_y(t) - r_2^d_y(t))**2 + (r_1^d_z(t) - r_2^d_z(t))**2), sqrt((r_1^d_x(t) - r_3^d_x(t))**2 + (r_1^d_y(t) - r_3^d_y(t))**2 + (r_1^d_z(t) - r_3^d_z(t))**2), sqrt((r_0^d_x(t) - r_4^d_x(t))**2 + (r_0^d_y(t) - r_4^d_y(t))**2 + (r_0^d_z(t) - r_4^d_z(t))**2), sqrt((r_2^d_x(t) - r_4^d_x(t))**2 + (r_2^d_y(t) - r_4^d_y(t))**2 + (r_2^d_z(t) - r_4^d_z(t))**2)]])"
      ]
     },
     "metadata": {},
     "output_type": "display_data"
    },
    {
     "name": "stdout",
     "output_type": "stream",
     "text": [
      "\u001b[0m\u001b[1mВектор состояния (изменённый):\u001b[0m\u001b[0m\n"
     ]
    },
    {
     "data": {
      "text/latex": [
       "$\\displaystyle \\left[\\begin{matrix}r^{d}_{0 x}{\\left(t \\right)} & r^{d}_{1 x}{\\left(t \\right)} & r^{d}_{2 x}{\\left(t \\right)} & r^{d}_{3 x}{\\left(t \\right)} & r^{d}_{4 x}{\\left(t \\right)}\\\\r^{d}_{0 z}{\\left(t \\right)} & r^{d}_{1 z}{\\left(t \\right)} & r^{d}_{2 z}{\\left(t \\right)} & r^{d}_{3 z}{\\left(t \\right)} & r^{d}_{4 z}{\\left(t \\right)}\\\\v^{d}_{0 x}{\\left(t \\right)} & v^{d}_{1 x}{\\left(t \\right)} & v^{d}_{2 x}{\\left(t \\right)} & v^{d}_{3 x}{\\left(t \\right)} & v^{d}_{4 x}{\\left(t \\right)}\\\\v^{d}_{0 z}{\\left(t \\right)} & v^{d}_{1 z}{\\left(t \\right)} & v^{d}_{2 z}{\\left(t \\right)} & v^{d}_{3 z}{\\left(t \\right)} & v^{d}_{4 z}{\\left(t \\right)}\\end{matrix}\\right]$"
      ],
      "text/plain": [
       "Matrix([\n",
       "[r_0^d_x(t), r_1^d_x(t), r_2^d_x(t), r_3^d_x(t), r_4^d_x(t)],\n",
       "[r_0^d_z(t), r_1^d_z(t), r_2^d_z(t), r_3^d_z(t), r_4^d_z(t)],\n",
       "[v_0^d_x(t), v_1^d_x(t), v_2^d_x(t), v_3^d_x(t), v_4^d_x(t)],\n",
       "[v_0^d_z(t), v_1^d_z(t), v_2^d_z(t), v_3^d_z(t), v_4^d_z(t)]])"
      ]
     },
     "metadata": {},
     "output_type": "display_data"
    },
    {
     "name": "stdout",
     "output_type": "stream",
     "text": [
      "\u001b[0m\u001b[1mКоличество кубсатов: 2\n",
      "Количество чипсатов: 5\n",
      "\u001b[0m\u001b[0m\n",
      "Неизвестные: n = 20 (на каждый чипсат по 4 параметров)\n",
      "Известные: l = 10\n",
      "∃ производные порядка k = 2.0 (Должна быть целой!)\n",
      "Критерий (055): происзводные порядка 23.0\n",
      "_расчёт матрицы H_: k=1/2, l=1/10\n",
      "_расчёт матрицы H_: k=1/2, l=2/10\n",
      "_расчёт матрицы H_: k=1/2, l=3/10\n",
      "_расчёт матрицы H_: k=1/2, l=4/10\n",
      "_расчёт матрицы H_: k=1/2, l=5/10\n",
      "_расчёт матрицы H_: k=1/2, l=6/10\n",
      "_расчёт матрицы H_: k=1/2, l=7/10\n",
      "_расчёт матрицы H_: k=1/2, l=8/10\n",
      "_расчёт матрицы H_: k=1/2, l=9/10\n",
      "_расчёт матрицы H_: k=1/2, l=10/10\n",
      "_расчёт матрицы H_: k=2/2, l=1/10\n",
      "_расчёт матрицы H_: k=2/2, l=2/10\n",
      "_расчёт матрицы H_: k=2/2, l=3/10\n",
      "_расчёт матрицы H_: k=2/2, l=4/10\n",
      "_расчёт матрицы H_: k=2/2, l=5/10\n",
      "_расчёт матрицы H_: k=2/2, l=6/10\n",
      "_расчёт матрицы H_: k=2/2, l=7/10\n",
      "_расчёт матрицы H_: k=2/2, l=8/10\n",
      "_расчёт матрицы H_: k=2/2, l=9/10\n",
      "_расчёт матрицы H_: k=2/2, l=10/10\n",
      "Размерность матрицы H: (20, 1)\n",
      "Размерность матрицы J: (20, 20)\n",
      "    J_numb: расчёт строки : 1 / 20\n",
      "    J_numb: расчёт строки : 2 / 20\n",
      "    J_numb: расчёт строки : 3 / 20\n",
      "    J_numb: расчёт строки : 4 / 20\n",
      "    J_numb: расчёт строки : 5 / 20\n",
      "    J_numb: расчёт строки : 6 / 20\n",
      "    J_numb: расчёт строки : 7 / 20\n",
      "    J_numb: расчёт строки : 8 / 20\n",
      "    J_numb: расчёт строки : 9 / 20\n",
      "    J_numb: расчёт строки : 10 / 20\n",
      "    J_numb: расчёт строки : 11 / 20\n",
      "    J_numb: расчёт строки : 12 / 20\n",
      "    J_numb: расчёт строки : 13 / 20\n",
      "    J_numb: расчёт строки : 14 / 20\n",
      "    J_numb: расчёт строки : 15 / 20\n",
      "    J_numb: расчёт строки : 16 / 20\n",
      "    J_numb: расчёт строки : 17 / 20\n",
      "    J_numb: расчёт строки : 18 / 20\n",
      "    J_numb: расчёт строки : 19 / 20\n",
      "    J_numb: расчёт строки : 20 / 20\n",
      "v = [4.21572469 4.08217424 2.82887474 2.62131294 1.73832082 1.69164416\n",
      " 1.31315853 1.28731707 1.19409066 1.16220174 0.84607616 0.68190477\n",
      " 0.58900764 0.43458899 0.22076858 0.20622114 0.06403638 0.02389515\n",
      " 0.00966936 0.00538927]\n",
      "σₘₙ/σₘₐₓ = 0.005389274128114672/4.215724692470114 = 0.001278374306021616 | σ>10⁻⁵: 20/20 (статья 051)\n",
      "\n",
      "Ранг матрицы: [20, 20, 20, 20, 20, 20] (статья 055)\n",
      "Детерминант матрицы: 0.0006870088496937523\n",
      "Следующие параметры не должны быть нулевыми:\n",
      "\n",
      "Δ_0 = 0.0002719538377192358\n",
      "Δ_1 / Δ_0 = -0.00029146716765526294\n",
      "Δ_2 / Δ_1 = -0.0002737994718340763\n",
      "Δ_3 / Δ_2 = -7.076545366336704e-05\n",
      "Δ_4 / Δ_3 = 0.0\n",
      "\n",
      "\u001b[1mНе выполнено достаточное условие. Нулевой параметр: Δ_4 / Δ_3 = -0.0\u001b[0m\n"
     ]
    }
   ],
   "source": [
    "H_tmp, J_tmp, J_numb_tmp, Δ_tmp, report_tmp = observe_system(n_c=2, \n",
    "                                                             n_d=5, \n",
    "                                                             is_c_move=True, \n",
    "                                                             is_d_qw=False, \n",
    "                                                             is_angles=False, \n",
    "                                                             is_drag=True, \n",
    "                                                             is_only_xz=True, \n",
    "                                                             testprint=False,\n",
    "                                                             hand_written_deriv=None)"
   ]
  },
  {
   "cell_type": "markdown",
   "id": "1ad5a114-b0c3-476c-84f9-f3438a674fe2",
   "metadata": {
    "jp-MarkdownHeadingCollapsed": true
   },
   "source": [
    "###### <u>Наблюдаемость системы</u> с аэродинамикой, с угловым движением, антенны - полуволновой диполь"
   ]
  },
  {
   "cell_type": "code",
   "execution_count": null,
   "id": "2847255e-be92-4fba-b020-fac1fb312934",
   "metadata": {},
   "outputs": [
    {
     "name": "stdout",
     "output_type": "stream",
     "text": [
      "\u001b[0m\u001b[1mВектор состояния:\u001b[0m\u001b[0m\n"
     ]
    },
    {
     "data": {
      "text/latex": [
       "$\\displaystyle \\left[\\begin{array}{cccccccccccc}r^{d}_{0 x}{\\left(t \\right)} & r^{d}_{0 y}{\\left(t \\right)} & r^{d}_{0 z}{\\left(t \\right)} & q^{d}_{0 x}{\\left(t \\right)} & q^{d}_{0 y}{\\left(t \\right)} & q^{d}_{0 z}{\\left(t \\right)} & v^{d}_{0 x}{\\left(t \\right)} & v^{d}_{0 y}{\\left(t \\right)} & v^{d}_{0 z}{\\left(t \\right)} & ω^{d}_{0 x}{\\left(t \\right)} & ω^{d}_{0 y}{\\left(t \\right)} & ω^{d}_{0 z}{\\left(t \\right)}\\end{array}\\right]$"
      ],
      "text/plain": [
       "Matrix([[r_0^d_x(t), r_0^d_y(t), r_0^d_z(t), q_0^d_x(t), q_0^d_y(t), q_0^d_z(t), v_0^d_x(t), v_0^d_y(t), v_0^d_z(t), ω_0^d_x(t), ω_0^d_y(t), ω_0^d_z(t)]])"
      ]
     },
     "metadata": {},
     "output_type": "display_data"
    },
    {
     "name": "stdout",
     "output_type": "stream",
     "text": [
      "\u001b[0m\u001b[1mВектор измерений:\u001b[0m\u001b[0m\n"
     ]
    }
   ],
   "source": [
    "H_3, Js_3, Jn_3, Δ_3, report_3 = observe_system(n_c=2, \n",
    "                                                n_d=1, \n",
    "                                                is_c_move=True, \n",
    "                                                is_d_qw=True, \n",
    "                                                is_angles=True, \n",
    "                                                is_drag=True, \n",
    "                                                is_only_xz=True, \n",
    "                                                testprint=False,\n",
    "                                                hand_written_deriv=None)"
   ]
  },
  {
   "cell_type": "code",
   "execution_count": null,
   "id": "11fdce1f-4599-4452-adc8-d642bb22af64",
   "metadata": {},
   "outputs": [],
   "source": [
    "H_3, Js_3, Jn_3, Δ_3, report_3 = observe_system(n_c=1, \n",
    "                                                n_d=1, \n",
    "                                                is_c_move=True, \n",
    "                                                is_d_qw=True, \n",
    "                                                is_angles=True, \n",
    "                                                is_drag=True, \n",
    "                                                is_only_xz=False, \n",
    "                                                testprint=False,\n",
    "                                                hand_written_deriv=None)"
   ]
  },
  {
   "cell_type": "code",
   "execution_count": null,
   "id": "e2aeda37-66e8-4f43-aca3-00d8ee577521",
   "metadata": {},
   "outputs": [],
   "source": [
    "H_3, Js_3, Jn_3, Δ_3, report_3 = observe_system(n_c=12, \n",
    "                                                n_d=1, \n",
    "                                                is_c_move=True, \n",
    "                                                is_d_qw=True, \n",
    "                                                is_angles=True, \n",
    "                                                is_drag=True, \n",
    "                                                is_only_xz=False, \n",
    "                                                testprint=False,\n",
    "                                                hand_written_deriv=None)"
   ]
  },
  {
   "cell_type": "code",
   "execution_count": null,
   "id": "53b26d75-fd3e-493f-8239-9c05d6380326",
   "metadata": {},
   "outputs": [],
   "source": [
    "H_3, Js_3, Jn_3, Δ_3, report_3 = observe_system(n_c=1, \n",
    "                                                n_d=1, \n",
    "                                                is_c_move=True, \n",
    "                                                is_d_qw=True, \n",
    "                                                is_angles=True, \n",
    "                                                is_drag=True, \n",
    "                                                is_only_xz=True, \n",
    "                                                testprint=False,\n",
    "                                                hand_written_deriv=None)"
   ]
  },
  {
   "cell_type": "code",
   "execution_count": null,
   "id": "a94015a2-fb0d-4af3-8241-7be1940e6f1b",
   "metadata": {},
   "outputs": [],
   "source": []
  },
  {
   "cell_type": "code",
   "execution_count": null,
   "id": "a812600a-2996-4deb-8589-71b1b298937e",
   "metadata": {},
   "outputs": [],
   "source": []
  },
  {
   "cell_type": "code",
   "execution_count": null,
   "id": "3aed42b9-7e9f-4c88-a716-d739f0fe66bc",
   "metadata": {},
   "outputs": [],
   "source": []
  },
  {
   "cell_type": "code",
   "execution_count": null,
   "id": "80a75bc7-d667-4f28-b7f4-6ac854adbe61",
   "metadata": {},
   "outputs": [],
   "source": []
  },
  {
   "cell_type": "code",
   "execution_count": null,
   "id": "66aec060-fc22-482c-9895-79b74555b14d",
   "metadata": {},
   "outputs": [],
   "source": [
    "H_5, Js_5, Jn_5, Δ_5, report_5 = observe_system(n_c=1, \n",
    "                                                n_d=1, \n",
    "                                                is_c_move=True, \n",
    "                                                is_d_qw=True, \n",
    "                                                is_angles=True, \n",
    "                                                is_drag=True, \n",
    "                                                is_only_xz=True, \n",
    "                                                testprint=False,\n",
    "                                                hand_written_deriv=None)"
   ]
  },
  {
   "cell_type": "markdown",
   "id": "18cb6d9d-1722-430e-9e6c-cc7f8567cd7d",
   "metadata": {
    "jp-MarkdownHeadingCollapsed": true
   },
   "source": [
    "##### **<u>Влияние закрутки КА на наблюдаемость</u>**"
   ]
  },
  {
   "cell_type": "markdown",
   "id": "07228efe-c502-48b5-a333-3a51e5bcacd8",
   "metadata": {},
   "source": [
    "###### <u>Инициализация</u>"
   ]
  },
  {
   "cell_type": "code",
   "execution_count": 1,
   "id": "37b74099-c084-4c57-a088-995f992584ad",
   "metadata": {},
   "outputs": [
    {
     "name": "stdout",
     "output_type": "stream",
     "text": [
      "\u001b[32mИнициализация проекта kiam-formation\u001b[0m\n",
      "\u001b[31mПараметры не могут быть загружены! Нет файла: kiamformation/data/config_choose.csv\u001b[0m\n",
      "\u001b[32mМатрицы Ф:(6, 6), Q:(3, 3), P:(6, 6), D:(6, 3)\u001b[0m\n",
      "Высота орбиты: 400 км\n",
      "Период орбиты: 1.54 часов\n",
      "Плотность атмосферы: 6.404751331738951e-12 кг/м³\n"
     ]
    }
   ],
   "source": [
    "from common_func import *\n",
    "\n",
    "n_c, n_d = 1, 1\n",
    "angles = True\n",
    "\n",
    "o, num_params, t, w_0, μ, ρ, r_orb, v_orb = init_symbol_params()\n",
    "o.f.n = n_d\n",
    "o.c.n = n_c\n",
    "o.f.r_orf, o.f.v_orf, o.f.q, o.f.w_irf = get_state_vector(func=kf.get_vars, obj='d', n=n_d)\n",
    "o.c.r_orf, o.c.v_orf, o.c.q, o.c.w_irf = get_state_vector(func=kf.get_vars, obj='c', n=n_c)\n",
    "o.c.gain_mode = o.v.GAIN_MODEL_C = '2 antennas'\n",
    "o.f.gain_mode = o.v.GAIN_MODEL_F = 'isotropic'\n",
    "o.v.N_ANTENNA_C = 2\n",
    "o.v.N_ANTENNA_F = 1\n",
    "o.v.NAVIGATION_ANGLES = True\n",
    "o.v.MULTI_ANTENNA_SEND = True\n",
    "o.v.MULTI_ANTENNA_TAKE = True"
   ]
  },
  {
   "cell_type": "code",
   "execution_count": 2,
   "id": "db938137-e04b-4c6d-8697-39aef82ae430",
   "metadata": {},
   "outputs": [
    {
     "data": {
      "text/plain": [
       "['cf 0 0 0 0 2 1', 'cf 0 0 1 0 2 1']"
      ]
     },
     "execution_count": 2,
     "metadata": {},
     "output_type": "execute_result"
    }
   ],
   "source": [
    "kf.measure_antennas_power(c=o.c, f=o.f, v=o.v, noise=0, produce=True, p=o.p, estimated_params=[])\n",
    "o.v.MEASURES_VECTOR_NOTES\n",
    "# o.v.MEASURES_VECTOR"
   ]
  },
  {
   "cell_type": "markdown",
   "id": "911aae62-151e-46e5-8d18-0d244df30bda",
   "metadata": {
    "jp-MarkdownHeadingCollapsed": true
   },
   "source": [
    "###### <u>Исследование частных случаев</u> (без учёта динамики)"
   ]
  },
  {
   "cell_type": "code",
   "execution_count": 3,
   "id": "f8598581-5d20-466d-b010-5650c0e03d25",
   "metadata": {},
   "outputs": [
    {
     "data": {
      "text/latex": [
       "$\\displaystyle \\left[\\begin{matrix}\\frac{1.0 \\sqrt{\\left(r^{d}_{0 x}\\right)^{2} + \\left(r^{d}_{0 z}\\right)^{2}} \\left(1.0 \\left(r^{d}_{0 x}\\right)^{2} + 1.0 \\left(r^{d}_{0 z}\\right)^{2}\\right)^{\\frac{3}{4}}}{\\left|{r^{d}_{0 x}}\\right|^{\\frac{3}{2}}}\\\\\\frac{1.0 \\sqrt{\\left(r^{d}_{0 x}\\right)^{2} + \\left(r^{d}_{0 z}\\right)^{2}} \\left(1.0 \\left(r^{d}_{0 x}\\right)^{2} + 1.0 \\left(r^{d}_{0 z}\\right)^{2}\\right)^{\\frac{3}{4}}}{\\left|{r^{d}_{0 z}}\\right|^{\\frac{3}{2}}}\\end{matrix}\\right]$"
      ],
      "text/plain": [
       "Matrix([\n",
       "[1.0*sqrt(r_0^d_x**2 + r_0^d_z**2)*(1.0*r_0^d_x**2 + 1.0*r_0^d_z**2)**(3/4)/Abs(r_0^d_x)**(3/2)],\n",
       "[1.0*sqrt(r_0^d_x**2 + r_0^d_z**2)*(1.0*r_0^d_x**2 + 1.0*r_0^d_z**2)**(3/4)/Abs(r_0^d_z)**(3/2)]])"
      ]
     },
     "execution_count": 3,
     "metadata": {},
     "output_type": "execute_result"
    }
   ],
   "source": [
    "params_to_sub = []\n",
    "\n",
    "# Движения в плоскости орбиты\n",
    "params_to_sub += [(o.f.r_orf[0][1], 0), (o.c.r_orf[0][1], 0),\n",
    "                  (o.f.v_orf[0][1], 0), (o.c.v_orf[0][1], 0),]\n",
    "\n",
    "# Ориентация в плоскости орбиты\n",
    "# params_to_sub += [(o.f.q[0][1], 0), (o.c.q[0][1], 0),\n",
    "#                   (o.f.q[0][2], 0), (o.c.q[0][2], 0),]\n",
    "\n",
    "# Кубсат неподвижен в ОСК\n",
    "params_to_sub += [(o.c.r_orf[0][0], 0), (o.c.r_orf[0][1], 0), (o.c.r_orf[0][2], 0), \n",
    "                  (o.c.q[0][1], 0), (o.c.q[0][2], 0), (o.c.q[0][3], 0), ]\n",
    "\n",
    "y = o.v.MEASURES_VECTOR.subs(params_to_sub)\n",
    "y"
   ]
  },
  {
   "cell_type": "code",
   "execution_count": 21,
   "id": "f432aa4d-ca84-42eb-be6a-62a2f468d2ee",
   "metadata": {},
   "outputs": [
    {
     "name": "stdout",
     "output_type": "stream",
     "text": [
      "\u001b[0m\u001b[1mИзмерения:\u001b[0m\u001b[0m\n"
     ]
    },
    {
     "data": {
      "text/latex": [
       "$\\displaystyle \\frac{1.0 \\sqrt{\\left(r^{d}_{0 x}\\right)^{2} + \\left(r^{d}_{0 z}\\right)^{2}} \\left(1.0 \\left(r^{d}_{0 x}\\right)^{2} + 1.0 \\left(r^{d}_{0 z}\\right)^{2}\\right)^{\\frac{3}{4}}}{\\left|{r^{d}_{0 x}}\\right|^{\\frac{3}{2}}}$"
      ],
      "text/plain": [
       "1.0*sqrt(r_0^d_x**2 + r_0^d_z**2)*(1.0*r_0^d_x**2 + 1.0*r_0^d_z**2)**(3/4)/Abs(r_0^d_x)**(3/2)"
      ]
     },
     "metadata": {},
     "output_type": "display_data"
    },
    {
     "data": {
      "text/latex": [
       "$\\displaystyle \\frac{1.0 \\sqrt{\\left(r^{d}_{0 x}\\right)^{2} + \\left(r^{d}_{0 z}\\right)^{2}} \\left(1.0 \\left(r^{d}_{0 x}\\right)^{2} + 1.0 \\left(r^{d}_{0 z}\\right)^{2}\\right)^{\\frac{3}{4}}}{\\left|{r^{d}_{0 z}}\\right|^{\\frac{3}{2}}}$"
      ],
      "text/plain": [
       "1.0*sqrt(r_0^d_x**2 + r_0^d_z**2)*(1.0*r_0^d_x**2 + 1.0*r_0^d_z**2)**(3/4)/Abs(r_0^d_z)**(3/2)"
      ]
     },
     "metadata": {},
     "output_type": "display_data"
    },
    {
     "name": "stdout",
     "output_type": "stream",
     "text": [
      "\u001b[0m\u001b[1mЧё то 1:\u001b[0m\u001b[0m\n"
     ]
    },
    {
     "data": {
      "text/latex": [
       "$\\displaystyle \\frac{0.999999999999999 \\left(\\left|{\\left(r^{d}_{0 x}\\right)^{\\frac{3}{2}}}\\right|^{4} + \\left|{\\left(r^{d}_{0 z}\\right)^{\\frac{3}{2}}}\\right|^{4}\\right)}{\\left(\\left(r^{d}_{0 x}\\right)^{2} + \\left(r^{d}_{0 z}\\right)^{2}\\right)^{5}}$"
      ],
      "text/plain": [
       "0.999999999999999*(Abs(r_0^d_x**(3/2))**4 + Abs(r_0^d_z**(3/2))**4)/(r_0^d_x**2 + r_0^d_z**2)**5"
      ]
     },
     "metadata": {},
     "output_type": "display_data"
    },
    {
     "name": "stdout",
     "output_type": "stream",
     "text": [
      "\u001b[0m\u001b[1mЧё то 2:\u001b[0m\u001b[0m\n"
     ]
    },
    {
     "data": {
      "text/latex": [
       "$\\displaystyle \\frac{1.0 \\left(r^{d}_{0 z}\\right)^{6}}{\\left(r^{d}_{0 x}\\right)^{6}}$"
      ],
      "text/plain": [
       "1.0*r_0^d_z**6/r_0^d_x**6"
      ]
     },
     "metadata": {},
     "output_type": "display_data"
    },
    {
     "name": "stdout",
     "output_type": "stream",
     "text": [
      "\u001b[0m\u001b[1mЧё то 3:\u001b[0m\u001b[0m\n"
     ]
    },
    {
     "data": {
      "text/latex": [
       "$\\displaystyle \\frac{1.0 \\left(\\left(r^{d}_{0 x}\\right)^{2} + \\left(r^{d}_{0 z}\\right)^{2}\\right)^{\\frac{5}{4}} \\left|{\\left(r^{d}_{0 x}\\right)^{\\frac{3}{2}}}\\right|}{\\left|{\\left(r^{d}_{0 x}\\right)^{\\frac{3}{2}}}\\right|^{2} + \\left|{\\left(r^{d}_{0 z}\\right)^{\\frac{3}{2}}}\\right|^{2}}$"
      ],
      "text/plain": [
       "1.0*(r_0^d_x**2 + r_0^d_z**2)**(5/4)*Abs(r_0^d_x**(3/2))/(Abs(r_0^d_x**(3/2))**2 + Abs(r_0^d_z**(3/2))**2)"
      ]
     },
     "metadata": {},
     "output_type": "display_data"
    }
   ],
   "source": [
    "y1 = y[0].simplify()\n",
    "y2 = y[1].simplify()\n",
    "\n",
    "kf.my_print(f\"Измерения:\", bold=True)\n",
    "display(y[0])\n",
    "display(y[1])\n",
    "\n",
    "kf.my_print(f\"Чё то 1:\", bold=True)\n",
    "tmp = (1/y1**4 + 1/y2**4).simplify()\n",
    "display(tmp)\n",
    "\n",
    "kf.my_print(f\"Чё то 2:\", bold=True)\n",
    "tmp = ((y1 / y2)**4).simplify()\n",
    "display(tmp)\n",
    "\n",
    "kf.my_print(f\"Чё то 3:\", bold=True)\n",
    "t1 = 1/y1\n",
    "t2 = 1/y2\n",
    "tmp = (t1 / (t1**2 + t2**2)).simplify()\n",
    "display(tmp)"
   ]
  },
  {
   "cell_type": "markdown",
   "id": "de912c32-aea9-4356-bc30-98feea789eb7",
   "metadata": {},
   "source": [
    "*Та не получается ниче без динамики*"
   ]
  },
  {
   "cell_type": "markdown",
   "id": "2fe8b597-4bb0-4ed6-b631-32cb86aac45d",
   "metadata": {},
   "source": [
    "###### <u>Исследование частных случаев</u> (с учётом динамики)"
   ]
  },
  {
   "cell_type": "code",
   "execution_count": 3,
   "id": "d330d967-9826-45b5-95cf-d3792ed951a8",
   "metadata": {},
   "outputs": [
    {
     "data": {
      "text/latex": [
       "$\\displaystyle \\left[\\begin{matrix}\\frac{1.0 \\sqrt{\\left(4 r^{d}_{0 z} + \\frac{2 v^{d}_{0 x}}{ω_{0}} + \\frac{v^{d}_{0 z} \\sin{\\left(t ω_{0} \\right)}}{ω_{0}} + \\left(- 3 r^{d}_{0 z} - \\frac{2 v^{d}_{0 x}}{ω_{0}}\\right) \\cos{\\left(t ω_{0} \\right)}\\right)^{2} + \\left(r^{d}_{0 x} + t ω_{0} \\left(- 24 r^{d}_{0 z} - \\frac{15 v^{d}_{0 x}}{ω_{0}} - \\frac{6 v^{d}_{0 z} \\sin{\\left(t ω_{0} \\right)}}{ω_{0}} - 6 \\left(- 3 r^{d}_{0 z} - \\frac{2 v^{d}_{0 x}}{ω_{0}}\\right) \\cos{\\left(t ω_{0} \\right)}\\right) + \\frac{2 v^{d}_{0 z} \\cos{\\left(t ω_{0} \\right)}}{ω_{0}} - \\frac{2 v^{d}_{0 z}}{ω_{0}} - \\left(- 24 r^{d}_{0 z} - \\frac{16 v^{d}_{0 x}}{ω_{0}} - \\frac{6 v^{d}_{0 z} \\sin{\\left(t ω_{0} \\right)}}{ω_{0}} - 6 \\left(- 3 r^{d}_{0 z} - \\frac{2 v^{d}_{0 x}}{ω_{0}}\\right) \\cos{\\left(t ω_{0} \\right)}\\right) \\sin{\\left(t ω_{0} \\right)}\\right)^{2}} \\left(1.0 \\left(4 r^{d}_{0 z} + \\frac{2 v^{d}_{0 x}}{ω_{0}} + \\frac{v^{d}_{0 z} \\sin{\\left(t ω_{0} \\right)}}{ω_{0}} + \\left(- 3 r^{d}_{0 z} - \\frac{2 v^{d}_{0 x}}{ω_{0}}\\right) \\cos{\\left(t ω_{0} \\right)}\\right)^{2} + 1.0 \\left(r^{d}_{0 x} + t ω_{0} \\left(- 24 r^{d}_{0 z} - \\frac{15 v^{d}_{0 x}}{ω_{0}} - \\frac{6 v^{d}_{0 z} \\sin{\\left(t ω_{0} \\right)}}{ω_{0}} - 6 \\left(- 3 r^{d}_{0 z} - \\frac{2 v^{d}_{0 x}}{ω_{0}}\\right) \\cos{\\left(t ω_{0} \\right)}\\right) + \\frac{2 v^{d}_{0 z} \\cos{\\left(t ω_{0} \\right)}}{ω_{0}} - \\frac{2 v^{d}_{0 z}}{ω_{0}} - \\left(- 24 r^{d}_{0 z} - \\frac{16 v^{d}_{0 x}}{ω_{0}} - \\frac{6 v^{d}_{0 z} \\sin{\\left(t ω_{0} \\right)}}{ω_{0}} - 6 \\left(- 3 r^{d}_{0 z} - \\frac{2 v^{d}_{0 x}}{ω_{0}}\\right) \\cos{\\left(t ω_{0} \\right)}\\right) \\sin{\\left(t ω_{0} \\right)}\\right)^{2}\\right)^{\\frac{3}{4}}}{\\left|{r^{d}_{0 x} + t ω_{0} \\left(- 24 r^{d}_{0 z} - \\frac{15 v^{d}_{0 x}}{ω_{0}} - \\frac{6 v^{d}_{0 z} \\sin{\\left(t ω_{0} \\right)}}{ω_{0}} - 6 \\left(- 3 r^{d}_{0 z} - \\frac{2 v^{d}_{0 x}}{ω_{0}}\\right) \\cos{\\left(t ω_{0} \\right)}\\right) + \\frac{2 v^{d}_{0 z} \\cos{\\left(t ω_{0} \\right)}}{ω_{0}} - \\frac{2 v^{d}_{0 z}}{ω_{0}} - \\left(- 24 r^{d}_{0 z} - \\frac{16 v^{d}_{0 x}}{ω_{0}} - \\frac{6 v^{d}_{0 z} \\sin{\\left(t ω_{0} \\right)}}{ω_{0}} - 6 \\left(- 3 r^{d}_{0 z} - \\frac{2 v^{d}_{0 x}}{ω_{0}}\\right) \\cos{\\left(t ω_{0} \\right)}\\right) \\sin{\\left(t ω_{0} \\right)}}\\right|^{\\frac{3}{2}}}\\\\\\frac{1.0 \\sqrt{\\left(4 r^{d}_{0 z} + \\frac{2 v^{d}_{0 x}}{ω_{0}} + \\frac{v^{d}_{0 z} \\sin{\\left(t ω_{0} \\right)}}{ω_{0}} + \\left(- 3 r^{d}_{0 z} - \\frac{2 v^{d}_{0 x}}{ω_{0}}\\right) \\cos{\\left(t ω_{0} \\right)}\\right)^{2} + \\left(r^{d}_{0 x} + t ω_{0} \\left(- 24 r^{d}_{0 z} - \\frac{15 v^{d}_{0 x}}{ω_{0}} - \\frac{6 v^{d}_{0 z} \\sin{\\left(t ω_{0} \\right)}}{ω_{0}} - 6 \\left(- 3 r^{d}_{0 z} - \\frac{2 v^{d}_{0 x}}{ω_{0}}\\right) \\cos{\\left(t ω_{0} \\right)}\\right) + \\frac{2 v^{d}_{0 z} \\cos{\\left(t ω_{0} \\right)}}{ω_{0}} - \\frac{2 v^{d}_{0 z}}{ω_{0}} - \\left(- 24 r^{d}_{0 z} - \\frac{16 v^{d}_{0 x}}{ω_{0}} - \\frac{6 v^{d}_{0 z} \\sin{\\left(t ω_{0} \\right)}}{ω_{0}} - 6 \\left(- 3 r^{d}_{0 z} - \\frac{2 v^{d}_{0 x}}{ω_{0}}\\right) \\cos{\\left(t ω_{0} \\right)}\\right) \\sin{\\left(t ω_{0} \\right)}\\right)^{2}} \\left(1.0 \\left(4 r^{d}_{0 z} + \\frac{2 v^{d}_{0 x}}{ω_{0}} + \\frac{v^{d}_{0 z} \\sin{\\left(t ω_{0} \\right)}}{ω_{0}} + \\left(- 3 r^{d}_{0 z} - \\frac{2 v^{d}_{0 x}}{ω_{0}}\\right) \\cos{\\left(t ω_{0} \\right)}\\right)^{2} + 1.0 \\left(r^{d}_{0 x} + t ω_{0} \\left(- 24 r^{d}_{0 z} - \\frac{15 v^{d}_{0 x}}{ω_{0}} - \\frac{6 v^{d}_{0 z} \\sin{\\left(t ω_{0} \\right)}}{ω_{0}} - 6 \\left(- 3 r^{d}_{0 z} - \\frac{2 v^{d}_{0 x}}{ω_{0}}\\right) \\cos{\\left(t ω_{0} \\right)}\\right) + \\frac{2 v^{d}_{0 z} \\cos{\\left(t ω_{0} \\right)}}{ω_{0}} - \\frac{2 v^{d}_{0 z}}{ω_{0}} - \\left(- 24 r^{d}_{0 z} - \\frac{16 v^{d}_{0 x}}{ω_{0}} - \\frac{6 v^{d}_{0 z} \\sin{\\left(t ω_{0} \\right)}}{ω_{0}} - 6 \\left(- 3 r^{d}_{0 z} - \\frac{2 v^{d}_{0 x}}{ω_{0}}\\right) \\cos{\\left(t ω_{0} \\right)}\\right) \\sin{\\left(t ω_{0} \\right)}\\right)^{2}\\right)^{\\frac{3}{4}}}{\\left|{4 r^{d}_{0 z} + \\frac{2 v^{d}_{0 x}}{ω_{0}} + \\frac{v^{d}_{0 z} \\sin{\\left(t ω_{0} \\right)}}{ω_{0}} + \\left(- 3 r^{d}_{0 z} - \\frac{2 v^{d}_{0 x}}{ω_{0}}\\right) \\cos{\\left(t ω_{0} \\right)}}\\right|^{\\frac{3}{2}}}\\end{matrix}\\right]$"
      ],
      "text/plain": [
       "Matrix([\n",
       "[1.0*sqrt((4*r_0^d_z + 2*v_0^d_x/ω_0 + v_0^d_z*sin(t*ω_0)/ω_0 + (-3*r_0^d_z - 2*v_0^d_x/ω_0)*cos(t*ω_0))**2 + (r_0^d_x + t*ω_0*(-24*r_0^d_z - 15*v_0^d_x/ω_0 - 6*v_0^d_z*sin(t*ω_0)/ω_0 - 6*(-3*r_0^d_z - 2*v_0^d_x/ω_0)*cos(t*ω_0)) + 2*v_0^d_z*cos(t*ω_0)/ω_0 - 2*v_0^d_z/ω_0 - (-24*r_0^d_z - 16*v_0^d_x/ω_0 - 6*v_0^d_z*sin(t*ω_0)/ω_0 - 6*(-3*r_0^d_z - 2*v_0^d_x/ω_0)*cos(t*ω_0))*sin(t*ω_0))**2)*(1.0*(4*r_0^d_z + 2*v_0^d_x/ω_0 + v_0^d_z*sin(t*ω_0)/ω_0 + (-3*r_0^d_z - 2*v_0^d_x/ω_0)*cos(t*ω_0))**2 + 1.0*(r_0^d_x + t*ω_0*(-24*r_0^d_z - 15*v_0^d_x/ω_0 - 6*v_0^d_z*sin(t*ω_0)/ω_0 - 6*(-3*r_0^d_z - 2*v_0^d_x/ω_0)*cos(t*ω_0)) + 2*v_0^d_z*cos(t*ω_0)/ω_0 - 2*v_0^d_z/ω_0 - (-24*r_0^d_z - 16*v_0^d_x/ω_0 - 6*v_0^d_z*sin(t*ω_0)/ω_0 - 6*(-3*r_0^d_z - 2*v_0^d_x/ω_0)*cos(t*ω_0))*sin(t*ω_0))**2)**(3/4)/Abs(r_0^d_x + t*ω_0*(-24*r_0^d_z - 15*v_0^d_x/ω_0 - 6*v_0^d_z*sin(t*ω_0)/ω_0 - 6*(-3*r_0^d_z - 2*v_0^d_x/ω_0)*cos(t*ω_0)) + 2*v_0^d_z*cos(t*ω_0)/ω_0 - 2*v_0^d_z/ω_0 - (-24*r_0^d_z - 16*v_0^d_x/ω_0 - 6*v_0^d_z*sin(t*ω_0)/ω_0 - 6*(-3*r_0^d_z - 2*v_0^d_x/ω_0)*cos(t*ω_0))*sin(t*ω_0))**(3/2)],\n",
       "[                                                                                                                                                                                       1.0*sqrt((4*r_0^d_z + 2*v_0^d_x/ω_0 + v_0^d_z*sin(t*ω_0)/ω_0 + (-3*r_0^d_z - 2*v_0^d_x/ω_0)*cos(t*ω_0))**2 + (r_0^d_x + t*ω_0*(-24*r_0^d_z - 15*v_0^d_x/ω_0 - 6*v_0^d_z*sin(t*ω_0)/ω_0 - 6*(-3*r_0^d_z - 2*v_0^d_x/ω_0)*cos(t*ω_0)) + 2*v_0^d_z*cos(t*ω_0)/ω_0 - 2*v_0^d_z/ω_0 - (-24*r_0^d_z - 16*v_0^d_x/ω_0 - 6*v_0^d_z*sin(t*ω_0)/ω_0 - 6*(-3*r_0^d_z - 2*v_0^d_x/ω_0)*cos(t*ω_0))*sin(t*ω_0))**2)*(1.0*(4*r_0^d_z + 2*v_0^d_x/ω_0 + v_0^d_z*sin(t*ω_0)/ω_0 + (-3*r_0^d_z - 2*v_0^d_x/ω_0)*cos(t*ω_0))**2 + 1.0*(r_0^d_x + t*ω_0*(-24*r_0^d_z - 15*v_0^d_x/ω_0 - 6*v_0^d_z*sin(t*ω_0)/ω_0 - 6*(-3*r_0^d_z - 2*v_0^d_x/ω_0)*cos(t*ω_0)) + 2*v_0^d_z*cos(t*ω_0)/ω_0 - 2*v_0^d_z/ω_0 - (-24*r_0^d_z - 16*v_0^d_x/ω_0 - 6*v_0^d_z*sin(t*ω_0)/ω_0 - 6*(-3*r_0^d_z - 2*v_0^d_x/ω_0)*cos(t*ω_0))*sin(t*ω_0))**2)**(3/4)/Abs(4*r_0^d_z + 2*v_0^d_x/ω_0 + v_0^d_z*sin(t*ω_0)/ω_0 + (-3*r_0^d_z - 2*v_0^d_x/ω_0)*cos(t*ω_0))**(3/2)]])"
      ]
     },
     "execution_count": 3,
     "metadata": {},
     "output_type": "execute_result"
    }
   ],
   "source": [
    "params_to_sub = []\n",
    "\n",
    "# Движения в плоскости орбиты\n",
    "params_to_sub += [(o.f.r_orf[0][1], 0), (o.c.r_orf[0][1], 0),\n",
    "                  (o.f.v_orf[0][1], 0), (o.c.v_orf[0][1], 0),]\n",
    "\n",
    "# Ориентация в плоскости орбиты\n",
    "# params_to_sub += [(o.f.q[0][1], 0), (o.c.q[0][1], 0),\n",
    "#                   (o.f.q[0][2], 0), (o.c.q[0][2], 0),]\n",
    "\n",
    "# Кубсат неподвижен в ОСК\n",
    "params_to_sub += [(o.c.r_orf[0][0], 0), (o.c.r_orf[0][1], 0), (o.c.r_orf[0][2], 0), \n",
    "                  (o.c.q[0][1], 0), (o.c.q[0][2], 0), (o.c.q[0][3], 0), ]\n",
    "\n",
    "# Динамика\n",
    "c_f = kf.get_c_hkw(o.f.r_orf[0], o.f.v_orf[0], w_0)\n",
    "r_f = kf.r_hkw(c_f, w_0, t)\n",
    "params_to_sub += [(o.f.r_orf[0][0], r_f[0]), (o.f.r_orf[0][1], r_f[1]), (o.f.r_orf[0][2], r_f[2])]\n",
    "\n",
    "y = o.v.MEASURES_VECTOR.subs(params_to_sub)\n",
    "y"
   ]
  },
  {
   "cell_type": "markdown",
   "id": "0a0b3ece-49f8-4ef4-b4f1-f81c86a2913f",
   "metadata": {},
   "source": [
    "**Симметрия относительно уравнений движения**"
   ]
  },
  {
   "cell_type": "code",
   "execution_count": 50,
   "id": "d800fe04-9503-4054-926f-3f903671d090",
   "metadata": {},
   "outputs": [
    {
     "name": "stdout",
     "output_type": "stream",
     "text": [
      "\u001b[0m\u001b[1mРавные знаменатели:\u001b[0m\u001b[0m\n"
     ]
    },
    {
     "data": {
      "text/latex": [
       "$\\displaystyle 0$"
      ],
      "text/plain": [
       "0"
      ]
     },
     "metadata": {},
     "output_type": "display_data"
    },
    {
     "name": "stdout",
     "output_type": "stream",
     "text": [
      "\u001b[0m\u001b[1mСумма числителей:\u001b[0m\u001b[0m\n"
     ]
    },
    {
     "data": {
      "text/latex": [
       "$\\displaystyle 1.0 \\left|{\\frac{4 r^{d}_{0 z} ω_{0} + 2 v^{d}_{0 x} + v^{d}_{0 z} \\sin{\\left(t ω_{0} \\right)} - \\left(3 r^{d}_{0 z} ω_{0} + 2 v^{d}_{0 x}\\right) \\cos{\\left(t ω_{0} \\right)}}{ω_{0}}}\\right|^{3} + 1.0 \\left|{\\frac{2 v^{d}_{0 z} \\cos{\\left(t ω_{0} \\right)} - 2 v^{d}_{0 z} + ω_{0} \\left(r^{d}_{0 x} - 3 t \\left(8 r^{d}_{0 z} ω_{0} + 5 v^{d}_{0 x} + 2 v^{d}_{0 z} \\sin{\\left(t ω_{0} \\right)} - \\left(6 r^{d}_{0 z} ω_{0} + 4 v^{d}_{0 x}\\right) \\cos{\\left(t ω_{0} \\right)}\\right)\\right) + 2 \\left(12 r^{d}_{0 z} ω_{0} + 8 v^{d}_{0 x} + 3 v^{d}_{0 z} \\sin{\\left(t ω_{0} \\right)} - \\left(9 r^{d}_{0 z} ω_{0} + 6 v^{d}_{0 x}\\right) \\cos{\\left(t ω_{0} \\right)}\\right) \\sin{\\left(t ω_{0} \\right)}}{ω_{0}}}\\right|^{3}$"
      ],
      "text/plain": [
       "1.0*Abs((4*r_0^d_z*ω_0 + 2*v_0^d_x + v_0^d_z*sin(t*ω_0) - (3*r_0^d_z*ω_0 + 2*v_0^d_x)*cos(t*ω_0))/ω_0)**3 + 1.0*Abs((2*v_0^d_z*cos(t*ω_0) - 2*v_0^d_z + ω_0*(r_0^d_x - 3*t*(8*r_0^d_z*ω_0 + 5*v_0^d_x + 2*v_0^d_z*sin(t*ω_0) - (6*r_0^d_z*ω_0 + 4*v_0^d_x)*cos(t*ω_0))) + 2*(12*r_0^d_z*ω_0 + 8*v_0^d_x + 3*v_0^d_z*sin(t*ω_0) - (9*r_0^d_z*ω_0 + 6*v_0^d_x)*cos(t*ω_0))*sin(t*ω_0))/ω_0)**3"
      ]
     },
     "metadata": {},
     "output_type": "display_data"
    }
   ],
   "source": [
    "t1_n, t1_d = fraction(t1**2)  # Разделение на числитель и знаменатель\n",
    "t2_n, t2_d = fraction(t2**2)\n",
    "\n",
    "kf.my_print(f\"Равные знаменатели:\", bold=True)\n",
    "display((t1_d - t2_d).simplify())\n",
    "\n",
    "kf.my_print(f\"Сумма числителей:\", bold=True)\n",
    "tmp_01 = ((t1_n + t2_n) ).simplify()\n",
    "display(tmp_01)"
   ]
  }
 ],
 "metadata": {
  "kernelspec": {
   "display_name": "Python 3 (ipykernel)",
   "language": "python",
   "name": "python3"
  },
  "language_info": {
   "codemirror_mode": {
    "name": "ipython",
    "version": 3
   },
   "file_extension": ".py",
   "mimetype": "text/x-python",
   "name": "python",
   "nbconvert_exporter": "python",
   "pygments_lexer": "ipython3",
   "version": "3.10.12"
  }
 },
 "nbformat": 4,
 "nbformat_minor": 5
}
