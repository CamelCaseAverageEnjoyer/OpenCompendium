{
 "cells": [
  {
   "cell_type": "markdown",
   "id": "af80236e-9cce-4c88-b3ca-68225373eda8",
   "metadata": {},
   "source": [
    "![](img/28_observability.png)"
   ]
  },
  {
   "cell_type": "markdown",
   "id": "fa32b67b-5e46-4431-a6f7-f11c50f0199d",
   "metadata": {},
   "source": [
    "##### **<u>Согласно статье</u> 038 (Shauying R.K.) Observability of Nonlinear Systems**"
   ]
  },
  {
   "cell_type": "markdown",
   "id": "e23f1582-78ea-4667-96f7-a845736c1c4d",
   "metadata": {},
   "source": [
    "<span style=\"color:#2b817d\">Примечание:</span>     $km \\geq n$\n",
    "\n",
    "<span style=\"color:#0ab49a\">Согласно статье</span> <span style=\"color:#A254FC\">055 (Yujiro Inowe) On the Observability of Autonomous Nonlinear Systems</span> <span style=\"color:#0ab49a\">надо просто проверить ранг во всём $R^n$!</span>    $rg\\frac{\\partial \\boldsymbol{H}_d}{\\partial \\boldsymbol{x}} (\\boldsymbol{x}) = n \\hskip20px \\forall x \\in R^n,$\n",
    "$$d = n \\frac{n +3}{2}.$$\n",
    "\n",
    "<span style=\"color:#0ab49a\">Согласно статье</span> <span style=\"color:#A254FC\">051 (Andrew J. Whalen) Observability and Controllability of Nonlinear Networks The Role of Symmetry</span> <span style=\"color:#0ab49a\">надо проверить</span> $\\delta(x) = \\frac{|\\sigma_{min}[O^T O]|}{|\\sigma_{max}[O^T O]|}.$"
   ]
  },
  {
   "cell_type": "markdown",
   "id": "da7fe0ed-5aa5-49e7-b661-5bfde30733a2",
   "metadata": {},
   "source": [
    "###### <u>Инициализация</u>"
   ]
  },
  {
   "cell_type": "code",
   "execution_count": 1,
   "id": "c5b0fe04-c03e-4378-a7c0-0dc446d20e16",
   "metadata": {},
   "outputs": [
    {
     "name": "stdout",
     "output_type": "stream",
     "text": [
      "\u001b[32mИнициализация проекта kiam-formation\u001b[0m\n",
      "Высота орбиты: 500 км\n",
      "Период орбиты: 1.57 часов\n",
      "Плотность атмосферы: 5.264107768251325e-13 кг/м³\n"
     ]
    }
   ],
   "source": [
    "from common_func import *\n",
    "o, num_params, t, ω, μ, ρ, r_orb, v_orb = init_symbol_params()"
   ]
  },
  {
   "cell_type": "markdown",
   "id": "5f5a87fb-8dc9-4946-a868-4c553fc0a530",
   "metadata": {},
   "source": [
    "###### <u>Алгоритм</u> (новое)"
   ]
  },
  {
   "cell_type": "code",
   "execution_count": 2,
   "id": "e5b23c17-8442-4eb8-9a5b-28c6b3f31055",
   "metadata": {},
   "outputs": [],
   "source": [
    "def my_diff(expr, power: int = 1, n_c=1, n_d=1):\n",
    "    \"\"\"Функция дифференцирует выражение, подставля\n",
    "    :param expr: Выражение, от которого надо взять производную по времени t\n",
    "    :param power: Степень производной\n",
    "    :param n_c: Количество материнских КА\n",
    "    :param n_d: Количество дочерних КА\n",
    "    \"\"\"    \n",
    "    global r_d, v_d, q_d, ω_d, r_c, v_c, q_c, ω_c\n",
    "    global dr_d, dv_d, dq_d, dω_d, dr_c, dv_c, dq_c, dω_c\n",
    "    if power == 0:\n",
    "        return expr\n",
    "    subses, anw = [], (expr if power == 1 else my_diff(expr, power - 1))\n",
    "    for j in range(3):\n",
    "        for i in range(n_d):\n",
    "            subses.extend([(Derivative(r_d[i][j], t), dr_d[i][j]), (Derivative(v_d[i][j], t), dv_d[i][j]), \n",
    "                           (Derivative(q_d[i][j+1], t), dq_d[i][j+1]), (Derivative(ω_d[i][j], t), dω_d[i][j])])\n",
    "        for i in range(n_c):\n",
    "            subses.extend([(Derivative(r_c[i][j], t), dr_c[i][j]), (Derivative(v_c[i][j], t), dv_c[i][j]),\n",
    "                           (Derivative(q_c[i][j+1], t), dq_c[i][j+1]), (Derivative(ω_c[i][j], t), dω_c[i][j])])\n",
    "    anw = anw.diff(t).subs(subses)\n",
    "    anw.simplify()\n",
    "    return anw\n",
    "\n",
    "def SubRandParams(o, J, n_d: int, n_c: int, n_x: int, n_y: int):\n",
    "    \"\"\"Берёт матрицу J размером n_x на n_y, подставляет случайные значения\"\"\"\n",
    "    global r_d, v_d, q_d, ω_d, r_c, v_c, q_c, ω_c\n",
    "    # Генерация случайных параметров движения\n",
    "    s_r = lambda: o.v.spread(param='r', name=\"FemtoSat\")[0]\n",
    "    s_v = lambda: o.v.spread(param='v', name=\"FemtoSat\")[0]\n",
    "    s_w = lambda: o.v.spread(param='w', name=\"FemtoSat\")[0]\n",
    "    rand_params = [(ω, num_params['ω0']), (pi, np.pi), (ρ, num_params['ρ']), (v_orb, num_params['v0']), \n",
    "                   (o.f.c_resist, num_params['Cd']), (o.c.c_resist, num_params['Cc']), \n",
    "                   (o.f.mass, num_params['md']), (o.c.mass, num_params['mc']),\n",
    "                   (o.f.size[0], num_params['sd'][0]), (o.f.size[1], num_params['sd'][1]),\n",
    "                   (o.c.size[0], num_params['sc'][0]), (o.c.size[1], num_params['sc'][1]),\n",
    "                   (o.f.J[0, 0], num_params['Jd'][0, 0]), (o.f.J[1, 1], num_params['Jd'][1, 1]), (o.f.J[2, 2], num_params['Jd'][2, 2])] \n",
    "    for i in range(n_d):\n",
    "        q = np.random.uniform(-1, 1, 4)\n",
    "        for j in range(3):\n",
    "            _r, _v, _w, _q = [o.v.specific_initial[f\"ChipSat {c}\"][j] for c in ['r','v','w','q-vec']] if i==0 else [s_r(), s_v(), s_w(), q[j+1] / np.linalg.norm(q)]\n",
    "            rand_params.extend([(r_d[i][j], _r), (v_d[i][j], _v), (??_d[i][j], _w), (q_d[i][j+1], _q)])\n",
    "    for i in range(n_c):\n",
    "        q = np.random.uniform(-1, 1, 4)\n",
    "        for j in range(3):\n",
    "            _r, _v, _w, _q = [o.v.specific_initial[f\"CubeSat {c}\"][j] for c in ['r','v','w','q-vec']] if i==0 else [s_r(), s_v(), s_w(), q[j+1] / np.linalg.norm(q)]\n",
    "            rand_params.extend([(r_c[i][j], _r), (v_c[i][j], _v), (??_c[i][j], _w), (q_c[i][j+1], _q)])\n",
    "\n",
    "    # Якобиан матрицы наблюдаемости: J[измерение (H), состояние (X)] \n",
    "    J_numb = np.array([[float(J[i, j].subs(rand_params).subs(t,0)) for j in range(n_x)] for i in range(n_y)])\n",
    "    return J_numb\n",
    "\n",
    "def ShauyingObservabilitySufficientCondition(o, n_d: int, n_c: int, X: list, Y: list, hand_written_deriv: int = None, is_only_xz: bool = False):\n",
    "    \"\"\"Проверка достаточного условия наблюдаемости системы. Проверка равномерного отношения миноров матрицы наблюдаемости.\n",
    "    :param n_d: Количество чипсатов\n",
    "    :param X: Список неизвестных параметров, которые необходимо найти\n",
    "    :param Y: Список известных параметров (измерений системы в t₀=0)\n",
    "    :param my_diff: Функция взятия производной по времени\"\"\"\n",
    "    global r_d, v_d, q_d, ω_d, r_c, v_c, q_c, ω_c\n",
    "    def print_and_record(report: str, lcl_txt: str):\n",
    "        print(lcl_txt)\n",
    "        return report + lcl_txt + \"\\n\"\n",
    "    report = kf.my_print(f\"Количество кубсатов: {n_c}\\nКоличество чипсатов: {n_d}\\n\", if_return=True, bold=True)\n",
    "\n",
    "    # Количество одномоментных измерений\n",
    "    l = len(Y)\n",
    "    # Требуемое количество существующих производных функции измерения\n",
    "    k = int(len(X) // len(Y)) if hand_written_deriv is None else hand_written_deriv\n",
    "    txt = f\"\" if hand_written_deriv is None else f\"\\033[1mВнимание! Рассчитывается не отношение миноров, а ранг расширенного Якобиана\\033[0m\\n\"\n",
    "    report = print_and_record(report, txt + f\"Неизвестные: n = {len(X)} (на каждый чипсат по {int(len(X) // n_d)} параметров)\\nИзвестные: l = {l}\\n∃ производные порядка k = {len(X) / len(Y)} (Должна быть целой!)\")\n",
    "\n",
    "    # >>>>>>>> РАССЧЁТ ОТОБРАЖЕНИЯ НАБЛЮДАЕМОСТИ H <<<<<<<< #\n",
    "    if is_only_xz:\n",
    "        f = Matrix([Matrix([*dr_d[i][::2], *dv_d[i][::2]]) for i in range(len(dr_d))])\n",
    "    else:\n",
    "        f = Matrix([Matrix([*dr_d[i], *dv_d[i]]) for i in range(len(dr_d))])\n",
    "        # f = Matrix([Matrix([*dr_d[i], *dq_d[i][1:4], *dv_d[i], *dω_d[i]]) for i in range(len(dr_d))]) if o.v.NAVIGATION_ANGLES else Matrix([Matrix([*dr_d[i], *dv_d[i]]) for i in range(len(dr_d))])\n",
    "    h, H = Y, []\n",
    "    for kk in range(k):\n",
    "        if kk > 0:\n",
    "            dhdx = Matrix([[h[ll].diff(X[j]) for j in range(len(X))] for ll in range(l)])\n",
    "            dhdx_f = dhdx @ f\n",
    "            dhdx_f.simplify()\n",
    "            for ll in range(l):\n",
    "                print(f\"__расчёт матрицы H_: k={(kk+1)}/{k}, l={(ll+1)}/{l}\")\n",
    "                h[ll] = my_diff(h[ll], n_c=n_c, n_d=n_d) + dhdx_f[ll]\n",
    "        H.extend(h)\n",
    "    H = Matrix(H)\n",
    "    report = print_and_record(report, f\"Размерность матрицы H: {shape(H)}\")\n",
    "\n",
    "    # Якобиан матрицы наблюдаемости: J[измерение (H), состояние (X)]\n",
    "    J = Matrix([[H[i].diff(X[j]) for j in range(len(X))] for i in range(k * l)])\n",
    "    report = print_and_record(report, f\"Размерность матрицы J: {shape(J)}\")\n",
    "\n",
    "    # Подстановка конкретных значений\n",
    "    J_numb = SubRandParams(o=o, J=J, n_c=n_c, n_d=n_d, n_x=len(X), n_y=k*l)\n",
    "    _, v, _ = np.linalg.svd(J_numb.T @ J_numb)\n",
    "    report = print_and_record(report, f\"v = {v}\")\n",
    "    report = print_and_record(report, f\"σₘₙ/σₘₐₓ = {np.min(v)}/{np.max(v)} = {np.min(v) / np.max(v)} | σ>10⁻⁷: {np.sum(v>1e-7)}/{len(v)} (f-051)\")\n",
    "\n",
    "    # Достаточное условие\n",
    "    txt = f\"\\nРанг матрицы: {[np.linalg.matrix_rank(J_numb, tol=tol) for tol in [1e-3, 1e-5, 1e-7, 1e-10, 1e-12, 1e-15]]} (f-055)\\n\"\n",
    "    txt += f\"Детерминант матрицы: {np.linalg.det(J_numb)}\\n\" if J_numb.shape[0] == J_numb.shape[1] else \"\"\n",
    "    if hand_written_deriv is None:\n",
    "        A = np.eye(J_numb.shape[0])\n",
    "    else:\n",
    "        A = np.repeat(np.eye(len(X)), k, axis=0).reshape(len(X), len(X)*k)[:,:len(Y)*k]\n",
    "    report = print_and_record(report, txt + f\"Следующие параметры не должны быть нулевыми:\\n\")\n",
    "    d, Δ, flag, i_min = [], [], True, -1\n",
    "    print(f\"A: {A.shape}, J: {J_numb.shape}\")\n",
    "    for i in range(len(X)):\n",
    "        tmp = kf.principal_minor(A @ J_numb, i)\n",
    "        d += [tmp if i == 0 else tmp / Δ[-1]]\n",
    "        Δ += [tmp]\n",
    "        report = print_and_record(report, f\"Δ_{i} = {d[-1]}\" if i == 0 else f\"Δ_{i} / Δ_{i-1} = {d[-1]}\")\n",
    "    \n",
    "        # Чек наблюдаемости\n",
    "        if flag and abs(d[-1]) < 1e-10:\n",
    "            i_min = i\n",
    "            flag = False\n",
    "        if not flag:\n",
    "            break\n",
    "\n",
    "    # Вывод\n",
    "    if flag:\n",
    "        txt = f\"\\n\\033[1mВыполнено достаточное условие! Система наблюдаема\\033[0m\"\n",
    "    else:\n",
    "        in_txt = f\"Δ_{i_min}\" if i_min == 0 else f\"Δ_{i_min} / Δ_{i_min-1}\"\n",
    "        txt = f\"\\n\\033[1mНе выполнено достаточное условие. Нулевой параметр: {in_txt} = {d[i_min]}\\033[0m\"\n",
    "    # report = print_and_record(report, txt)\n",
    "    # return H, J, J_numb, Δ, report\n",
    "    report = print_and_record(report, txt)\n",
    "    return H, J, J_numb, None, report\n",
    "    \n",
    "\n",
    "def observe_system(n_c, n_d, is_d_qw, gains, is_drag, is_only_xz, hand_written_deriv, disp: bool = True, Hcheck: bool = True):\n",
    "    global r_d, v_d, q_d, ω_d, r_c, v_c, q_c, ω_c, t\n",
    "    global dr_d, dv_d, dq_d, dω_d, dr_c, dv_c, dq_c, dω_c, dydq\n",
    "    \n",
    "    o.v.GAIN_MODEL_C_N = gains['cN']\n",
    "    o.v.GAIN_MODEL_F_N = gains['dN']\n",
    "    o.v.init_choice_params()\n",
    "    o.c.gain_mode = o.v.GAIN_MODEL_C = o.v.GAIN_MODES[gains['cN']]\n",
    "    o.f.gain_mode = o.v.GAIN_MODEL_F = o.v.GAIN_MODES[gains['dN']]\n",
    "    o.v.NAVIGATION_ANGLES = is_d_qw\n",
    "    o.v.DYNAMIC_MODEL['aero drag'] = is_drag\n",
    "    o.v.MULTI_ANTENNA_TAKE = True\n",
    "    o.v.MULTI_ANTENNA_SEND = True\n",
    "    o.v.ANCHOR.r_irf[0] = Matrix([r_orb, 0, 0])\n",
    "    o.v.P = r_orb  # * (1 - self.ECCENTRICITY**2)  # Фокальный параметр\n",
    "    o.v.MU = μ\n",
    "    o.v.W_ORB = ω\n",
    "    o.v.R_ORB = r_orb\n",
    "    o.v.V_ORB = v_orb\n",
    "    o.v.RHO = ρ\n",
    "    \n",
    "    r_d, v_d, q_d, ω_d = get_state_vector(func=kf.get_func, obj='d', n=n_d)\n",
    "    r_c, v_c, q_c, ω_c = get_state_vector(func=kf.get_func, obj='c', n=n_c)\n",
    "\n",
    "    o.c.n = n_c\n",
    "    o.f.n = n_d\n",
    "    o.f.r_orf, o.f.v_orf, o.f.q, o.f.w_brf = r_d, v_d, q_d, ω_d\n",
    "    o.c.r_orf, o.c.v_orf, o.c.q, o.c.w_brf = r_c, v_c, q_c, ω_c\n",
    "\n",
    "    x = []\n",
    "    for i in range(n_d):\n",
    "        x.extend(r_d[i])\n",
    "        if is_d_qw:\n",
    "            x.extend(q_d[i][1:4])\n",
    "        x.extend(v_d[i])\n",
    "        if is_d_qw:\n",
    "            x.extend(ω_d[i])\n",
    "    x = Matrix(x)\n",
    "    \n",
    "    kf.my_print(f\"Вектор состояния:\", bold=True)\n",
    "    display(x.T)\n",
    "\n",
    "    if is_only_xz:\n",
    "        tmp = []\n",
    "        for i in range(n_d):\n",
    "            tmp.extend([r_d[i][0], r_d[i][2], v_d[i][0], v_d[i][2]])\n",
    "        x = Matrix(tmp)\n",
    "        kf.my_print(f\"Вектор состояния (изменённый):\", bold=True)\n",
    "        display(x.T)\n",
    "\n",
    "    dr_d, dv_d, dq_d, dω_d = ([0 for _ in range(n_d)] for _ in range(4))\n",
    "    dr_c, dv_c, dq_c, dω_c = ([0 for _ in range(n_c)] for _ in range(4))\n",
    "    for i in range(n_d):\n",
    "        dr_d[i], dv_d[i] = kf.translate_rhs(vrs=o.v, obj=o.f, i=i, rv=(r_d[i], v_d[i]), w=ω, mu=μ, rho=ρ)\n",
    "        dq_d[i], dω_d[i] = kf.attitude_rhs(vrs=o.v, obj=o.f, t=t, i=i, qw=(q_d[i], ω_d[i]))\n",
    "    for i in range(n_c):\n",
    "        dr_c[i], dv_c[i] = kf.translate_rhs(vrs=o.v, obj=o.c, i=i, rv=(r_c[i], v_c[i]), w=ω, mu=μ, rho=ρ)\n",
    "        dq_c[i], dω_c[i] = kf.attitude_rhs(vrs=o.v, obj=o.c, t=t, i=i, qw=(q_c[i], ω_c[i]))\n",
    "    if disp:\n",
    "        kf.my_print(f\"Динамика: \\n{' '*10}dr = \", bold=True)\n",
    "        display(dr_d[0])\n",
    "        kf.my_print(f\"{' '*10}dv = \", bold=True)\n",
    "        display(dv_d[0])\n",
    "        kf.my_print(f\"{' '*10}dq = \", bold=True)\n",
    "        display(dq_d[0])\n",
    "        # kf.my_print(f\"{' '*10}dω = \", bold=True)\n",
    "    \n",
    "    y, _, notes = kf.measure_antennas_power(c=o.c, f=o.f, vrs=o.v, p=o.p, j=int(len(x) // n_d), estimated_params=x, t=t)\n",
    "\n",
    "    # >>>>>>>>>>>>>>>>> Проверка матрицы H <<<<<<<<<<<<<<<<<\n",
    "    if Hcheck:\n",
    "        H_1 = kf.h_matrix(t=t, v=o.v, f=o.f, c=o.c, r_f=r_d, r_c=r_c, \n",
    "                          q_f=[Matrix(q_d[i][1:4]) for i in range(o.f.n)], q_c=[Matrix(q_c[i][1:4]) for i in range(o.c.n)])\n",
    "        H_2 = zeros(*H_1.shape)\n",
    "        for ix, xx in enumerate(x):\n",
    "            for iy, yy in enumerate(y):\n",
    "                H_2[iy, ix] = yy.diff(xx)\n",
    "        kf.my_print(\"Проверка матрицы H:\", bold=True)\n",
    "        tmp = H_1 - H_2\n",
    "        tmp.simplify()\n",
    "        display(tmp)\n",
    "    \n",
    "    return ShauyingObservabilitySufficientCondition(o=o, n_c=n_c, n_d=n_d, X=x, Y=y, hand_written_deriv=hand_written_deriv, is_only_xz=is_only_xz)"
   ]
  },
  {
   "cell_type": "markdown",
   "id": "bbbb47dc-3d51-4f8d-be80-6136926c961c",
   "metadata": {},
   "source": [
    "###### <u>Case №1</u>: No?"
   ]
  },
  {
   "cell_type": "code",
   "execution_count": null,
   "id": "2c86bc56-fc27-4d34-954c-3e15dbe42cf4",
   "metadata": {},
   "outputs": [],
   "source": [
    "H, J, Jn, Δ, report = observe_system(n_c=1, n_d=1, \n",
    "                                     is_d_qw=False, \n",
    "                                     is_drag=False, \n",
    "                                     is_only_xz=True, \n",
    "                                     gains={'cN': 0, 'dN': 0},\n",
    "                                     hand_written_deriv=None, disp=False, Hcheck=False)"
   ]
  },
  {
   "cell_type": "code",
   "execution_count": null,
   "id": "b85f6d28-08a4-4063-861d-e0a360634a17",
   "metadata": {},
   "outputs": [],
   "source": [
    "H, J, Jn, Δ, report = observe_system(n_c=1, n_d=2, \n",
    "                                     is_d_qw=False, \n",
    "                                     is_drag=False, \n",
    "                                     is_only_xz=True, \n",
    "                                     gains={'cN': 0, 'dN': 0},\n",
    "                                     hand_written_deriv=None, disp=False, Hcheck=False)"
   ]
  },
  {
   "cell_type": "markdown",
   "id": "5fb07c9d-db5d-4928-9e37-faa42e2d7de0",
   "metadata": {},
   "source": [
    "###### <u>Case №2</u>: Yes?"
   ]
  },
  {
   "cell_type": "code",
   "execution_count": null,
   "id": "c4f5e1c1-718e-4790-ab8b-2a1cee94464a",
   "metadata": {},
   "outputs": [],
   "source": [
    "H, J, Jn, Δ, report = observe_system(n_c=2, n_d=1, \n",
    "                                     is_d_qw=False, \n",
    "                                     is_drag=False, \n",
    "                                     is_only_xz=True, \n",
    "                                     gains={'cN': 0, 'dN': 0},\n",
    "                                     hand_written_deriv=None, disp=False, Hcheck=False)"
   ]
  },
  {
   "cell_type": "markdown",
   "id": "f9ebd4c2-c7dd-4a31-b491-1b8995eea4a7",
   "metadata": {},
   "source": [
    "###### <u>Case №3</u>: Yes?"
   ]
  },
  {
   "cell_type": "code",
   "execution_count": null,
   "id": "ecdc6818-8686-4b18-b93a-2b066e407730",
   "metadata": {},
   "outputs": [],
   "source": [
    "H, J, Jn, Δ, report = observe_system(n_c=3, n_d=1, \n",
    "                                     is_d_qw=False, \n",
    "                                     is_drag=False, \n",
    "                                     is_only_xz=False, \n",
    "                                     gains={'cN': 0, 'dN': 0},\n",
    "                                     hand_written_deriv=None, disp=False, Hcheck=False)"
   ]
  },
  {
   "cell_type": "markdown",
   "id": "b9f8b7d3-cc4e-468c-8db5-c9859a3ccbe0",
   "metadata": {},
   "source": [
    "###### <u>Case №4</u>: Yes?"
   ]
  },
  {
   "cell_type": "code",
   "execution_count": null,
   "id": "66359827-08ef-4768-b13b-b7afd96b19ca",
   "metadata": {},
   "outputs": [],
   "source": [
    "H, J, Jn, Δ, report = observe_system(n_c=1, n_d=1, \n",
    "                                     is_d_qw=False, \n",
    "                                     is_drag=True, \n",
    "                                     is_only_xz=True, \n",
    "                                     gains={'cN': 0, 'dN': 0},\n",
    "                                     hand_written_deriv=None, disp=False, Hcheck=False)"
   ]
  },
  {
   "cell_type": "markdown",
   "id": "09b1a458-a083-40e2-9a22-58e48ff261b2",
   "metadata": {},
   "source": [
    "###### <u>Case №5</u>: Yes?"
   ]
  },
  {
   "cell_type": "code",
   "execution_count": null,
   "id": "d9d7219a-d15d-481b-93ce-e49053db6f13",
   "metadata": {},
   "outputs": [],
   "source": [
    "H, J, Jn, Δ, report = observe_system(n_c=2, n_d=1, \n",
    "                                     is_d_qw=False, \n",
    "                                     is_drag=True, \n",
    "                                     is_only_xz=False, \n",
    "                                     gains={'cN': 0, 'dN': 0},\n",
    "                                     hand_written_deriv=None, disp=False, Hcheck=False)"
   ]
  },
  {
   "cell_type": "markdown",
   "id": "a161f439-8e85-463f-bdb3-4e7aaccbd74a",
   "metadata": {},
   "source": [
    "###### <u>Case №6</u>: Yes?"
   ]
  },
  {
   "cell_type": "code",
   "execution_count": null,
   "id": "16aba277-5883-4735-95f0-110db4974d70",
   "metadata": {},
   "outputs": [],
   "source": [
    "H, J, Jn, Δ, report = observe_system(n_c=1, n_d=1, \n",
    "                                     is_d_qw=False, \n",
    "                                     is_drag=False, \n",
    "                                     is_only_xz=False, \n",
    "                                     gains={'cN': 3, 'dN': 0},\n",
    "                                     hand_written_deriv=None, disp=False, Hcheck=False)"
   ]
  },
  {
   "cell_type": "markdown",
   "id": "d01abdb9-9c86-4d37-83b4-fc8869d5d136",
   "metadata": {},
   "source": [
    "###### <u>Case №7</u>: Yes?"
   ]
  },
  {
   "cell_type": "code",
   "execution_count": null,
   "id": "ccbe21d3-ffa5-40ad-a43c-dd67fd125ff8",
   "metadata": {},
   "outputs": [],
   "source": [
    "H, J, Jn, Δ, report = observe_system(n_c=1, n_d=1, \n",
    "                                     is_d_qw=False, \n",
    "                                     is_drag=True, \n",
    "                                     is_only_xz=False, \n",
    "                                     gains={'cN': 3, 'dN': 0},\n",
    "                                     hand_written_deriv=None, disp=False, Hcheck=False)"
   ]
  },
  {
   "cell_type": "markdown",
   "id": "001e8fc3-8758-44f9-ab6d-14a897f62dae",
   "metadata": {},
   "source": [
    "###### <u>Case №8</u>: No?"
   ]
  },
  {
   "cell_type": "code",
   "execution_count": null,
   "id": "83661466-d123-4975-855e-a004f0d46595",
   "metadata": {},
   "outputs": [],
   "source": [
    "H, J, Jn, Δ, report = observe_system(n_c=1, n_d=1, \n",
    "                                     is_d_qw=False, \n",
    "                                     is_drag=True, \n",
    "                                     is_only_xz=False, \n",
    "                                     gains={'cN': 3, 'dN': 0},\n",
    "                                     hand_written_deriv=None, disp=False, Hcheck=False)"
   ]
  },
  {
   "cell_type": "markdown",
   "id": "1984beba-8d59-4992-87c4-f84dc5a4d620",
   "metadata": {},
   "source": [
    "###### <u>Case №9</u>: Yes?"
   ]
  },
  {
   "cell_type": "code",
   "execution_count": null,
   "id": "c694be5a-34f7-4d85-b00f-d2969c1785e3",
   "metadata": {},
   "outputs": [],
   "source": [
    "H, J, Jn, Δ, report = observe_system(n_c=1, n_d=1, \n",
    "                                     is_d_qw=False, \n",
    "                                     is_drag=True, \n",
    "                                     is_only_xz=False, \n",
    "                                     gains={'cN': 3, 'dN': 0},\n",
    "                                     hand_written_deriv=None, disp=False, Hcheck=False)"
   ]
  },
  {
   "cell_type": "code",
   "execution_count": null,
   "id": "5a5ba4c9-75a3-461d-947c-0aef6020558b",
   "metadata": {
    "scrolled": true
   },
   "outputs": [],
   "source": []
  },
  {
   "cell_type": "code",
   "execution_count": null,
   "id": "778190b3-c8e2-4dbc-b008-0d7079165ff3",
   "metadata": {},
   "outputs": [],
   "source": [
    "H, J, Jn, Δ, report = observe_system(n_c=2, \n",
    "                                     n_d=1, \n",
    "                                     is_d_qw=False, \n",
    "                                     is_drag=True, \n",
    "                                     is_only_xz=False, \n",
    "                                     gains={'cN': 0, 'cModel': 'isotropic', 'dN': 0, 'dModel': 'isotropic'},\n",
    "                                     hand_written_deriv=None, disp=True, Hcheck=True)"
   ]
  },
  {
   "cell_type": "code",
   "execution_count": null,
   "id": "7dae3198-160f-4f81-853a-84c864ba2b42",
   "metadata": {},
   "outputs": [],
   "source": [
    "H, J, Jn, Δ, report = observe_system(n_c=1, \n",
    "                                     n_d=1, \n",
    "                                     is_d_qw=False, \n",
    "                                     is_drag=True, \n",
    "                                     is_only_xz=True, \n",
    "                                     gains={'cN': 0, 'cModel': 'isotropic', 'dN': 0, 'dModel': 'isotropic'},\n",
    "                                     hand_written_deriv=None, disp=True, Hcheck=True)"
   ]
  },
  {
   "cell_type": "code",
   "execution_count": null,
   "id": "76d1b869-61b2-45f3-a63f-996896f2ffa6",
   "metadata": {},
   "outputs": [],
   "source": [
    "H, J, Jn, Δ, report = observe_system(n_c=2, \n",
    "                                     n_d=5, \n",
    "                                     is_d_qw=False, \n",
    "                                     is_drag=True, \n",
    "                                     is_only_xz=True, \n",
    "                                     gains={'cN': 0, 'cModel': 'isotropic', 'dN': 0, 'dModel': 'isotropic'},\n",
    "                                     hand_written_deriv=None, disp=True, Hcheck=True)"
   ]
  },
  {
   "cell_type": "markdown",
   "id": "18cb6d9d-1722-430e-9e6c-cc7f8567cd7d",
   "metadata": {
    "jp-MarkdownHeadingCollapsed": true
   },
   "source": [
    "##### **<u>Влияние закрутки КА на наблюдаемость</u>**"
   ]
  },
  {
   "cell_type": "markdown",
   "id": "07228efe-c502-48b5-a333-3a51e5bcacd8",
   "metadata": {},
   "source": [
    "###### <u>Инициализация</u>"
   ]
  },
  {
   "cell_type": "code",
   "execution_count": 1,
   "id": "37b74099-c084-4c57-a088-995f992584ad",
   "metadata": {},
   "outputs": [
    {
     "name": "stdout",
     "output_type": "stream",
     "text": [
      "\u001b[32mИнициализация проекта kiam-formation\u001b[0m\n",
      "\u001b[31mПараметры не могут быть загружены! Нет файла: kiamformation/data/config_choose.csv\u001b[0m\n",
      "\u001b[32mМатрицы Ф:(6, 6), Q:(3, 3), P:(6, 6), D:(6, 3)\u001b[0m\n",
      "Высота орбиты: 400 км\n",
      "Период орбиты: 1.54 часов\n",
      "Плотность атмосферы: 6.404751331738951e-12 кг/м³\n"
     ]
    }
   ],
   "source": [
    "from common_func import *\n",
    "\n",
    "n_c, n_d = 1, 1\n",
    "angles = True\n",
    "\n",
    "o, num_params, t, w_0, μ, ρ, r_orb, v_orb = init_symbol_params()\n",
    "o.f.n = n_d\n",
    "o.c.n = n_c\n",
    "o.f.r_orf, o.f.v_orf, o.f.q, o.f.w_irf = get_state_vector(func=kf.get_vars, obj='d', n=n_d)\n",
    "o.c.r_orf, o.c.v_orf, o.c.q, o.c.w_irf = get_state_vector(func=kf.get_vars, obj='c', n=n_c)\n",
    "o.c.gain_mode = o.v.GAIN_MODEL_C = '2 antennas'\n",
    "o.f.gain_mode = o.v.GAIN_MODEL_F = 'isotropic'\n",
    "o.v.N_ANTENNA_C = 2\n",
    "o.v.N_ANTENNA_F = 1\n",
    "o.v.NAVIGATION_ANGLES = True\n",
    "o.v.MULTI_ANTENNA_SEND = True\n",
    "o.v.MULTI_ANTENNA_TAKE = True"
   ]
  },
  {
   "cell_type": "code",
   "execution_count": 2,
   "id": "db938137-e04b-4c6d-8697-39aef82ae430",
   "metadata": {},
   "outputs": [
    {
     "data": {
      "text/plain": [
       "['cf 0 0 0 0 2 1', 'cf 0 0 1 0 2 1']"
      ]
     },
     "execution_count": 2,
     "metadata": {},
     "output_type": "execute_result"
    }
   ],
   "source": [
    "kf.measure_antennas_power(c=o.c, f=o.f, v=o.v, noise=0, produce=True, p=o.p, estimated_params=[])\n",
    "o.v.MEASURES_VECTOR_NOTES\n",
    "# o.v.MEASURES_VECTOR"
   ]
  },
  {
   "cell_type": "markdown",
   "id": "911aae62-151e-46e5-8d18-0d244df30bda",
   "metadata": {
    "jp-MarkdownHeadingCollapsed": true
   },
   "source": [
    "###### <u>Исследование частных случаев</u> (без учёта динамики)"
   ]
  },
  {
   "cell_type": "code",
   "execution_count": 3,
   "id": "f8598581-5d20-466d-b010-5650c0e03d25",
   "metadata": {},
   "outputs": [
    {
     "data": {
      "text/latex": [
       "$\\displaystyle \\left[\\begin{matrix}\\frac{1.0 \\sqrt{\\left(r^{d}_{0 x}\\right)^{2} + \\left(r^{d}_{0 z}\\right)^{2}} \\left(1.0 \\left(r^{d}_{0 x}\\right)^{2} + 1.0 \\left(r^{d}_{0 z}\\right)^{2}\\right)^{\\frac{3}{4}}}{\\left|{r^{d}_{0 x}}\\right|^{\\frac{3}{2}}}\\\\\\frac{1.0 \\sqrt{\\left(r^{d}_{0 x}\\right)^{2} + \\left(r^{d}_{0 z}\\right)^{2}} \\left(1.0 \\left(r^{d}_{0 x}\\right)^{2} + 1.0 \\left(r^{d}_{0 z}\\right)^{2}\\right)^{\\frac{3}{4}}}{\\left|{r^{d}_{0 z}}\\right|^{\\frac{3}{2}}}\\end{matrix}\\right]$"
      ],
      "text/plain": [
       "Matrix([\n",
       "[1.0*sqrt(r_0^d_x**2 + r_0^d_z**2)*(1.0*r_0^d_x**2 + 1.0*r_0^d_z**2)**(3/4)/Abs(r_0^d_x)**(3/2)],\n",
       "[1.0*sqrt(r_0^d_x**2 + r_0^d_z**2)*(1.0*r_0^d_x**2 + 1.0*r_0^d_z**2)**(3/4)/Abs(r_0^d_z)**(3/2)]])"
      ]
     },
     "execution_count": 3,
     "metadata": {},
     "output_type": "execute_result"
    }
   ],
   "source": [
    "params_to_sub = []\n",
    "\n",
    "# Движения в плоскости орбиты\n",
    "params_to_sub += [(o.f.r_orf[0][1], 0), (o.c.r_orf[0][1], 0),\n",
    "                  (o.f.v_orf[0][1], 0), (o.c.v_orf[0][1], 0),]\n",
    "\n",
    "# Ориентация в плоскости орбиты\n",
    "# params_to_sub += [(o.f.q[0][1], 0), (o.c.q[0][1], 0),\n",
    "#                   (o.f.q[0][2], 0), (o.c.q[0][2], 0),]\n",
    "\n",
    "# Кубсат неподвижен в ОСК\n",
    "params_to_sub += [(o.c.r_orf[0][0], 0), (o.c.r_orf[0][1], 0), (o.c.r_orf[0][2], 0), \n",
    "                  (o.c.q[0][1], 0), (o.c.q[0][2], 0), (o.c.q[0][3], 0), ]\n",
    "\n",
    "y = o.v.MEASURES_VECTOR.subs(params_to_sub)\n",
    "y"
   ]
  },
  {
   "cell_type": "code",
   "execution_count": 21,
   "id": "f432aa4d-ca84-42eb-be6a-62a2f468d2ee",
   "metadata": {},
   "outputs": [
    {
     "name": "stdout",
     "output_type": "stream",
     "text": [
      "\u001b[0m\u001b[1mИзмерения:\u001b[0m\u001b[0m\n"
     ]
    },
    {
     "data": {
      "text/latex": [
       "$\\displaystyle \\frac{1.0 \\sqrt{\\left(r^{d}_{0 x}\\right)^{2} + \\left(r^{d}_{0 z}\\right)^{2}} \\left(1.0 \\left(r^{d}_{0 x}\\right)^{2} + 1.0 \\left(r^{d}_{0 z}\\right)^{2}\\right)^{\\frac{3}{4}}}{\\left|{r^{d}_{0 x}}\\right|^{\\frac{3}{2}}}$"
      ],
      "text/plain": [
       "1.0*sqrt(r_0^d_x**2 + r_0^d_z**2)*(1.0*r_0^d_x**2 + 1.0*r_0^d_z**2)**(3/4)/Abs(r_0^d_x)**(3/2)"
      ]
     },
     "metadata": {},
     "output_type": "display_data"
    },
    {
     "data": {
      "text/latex": [
       "$\\displaystyle \\frac{1.0 \\sqrt{\\left(r^{d}_{0 x}\\right)^{2} + \\left(r^{d}_{0 z}\\right)^{2}} \\left(1.0 \\left(r^{d}_{0 x}\\right)^{2} + 1.0 \\left(r^{d}_{0 z}\\right)^{2}\\right)^{\\frac{3}{4}}}{\\left|{r^{d}_{0 z}}\\right|^{\\frac{3}{2}}}$"
      ],
      "text/plain": [
       "1.0*sqrt(r_0^d_x**2 + r_0^d_z**2)*(1.0*r_0^d_x**2 + 1.0*r_0^d_z**2)**(3/4)/Abs(r_0^d_z)**(3/2)"
      ]
     },
     "metadata": {},
     "output_type": "display_data"
    },
    {
     "name": "stdout",
     "output_type": "stream",
     "text": [
      "\u001b[0m\u001b[1mЧё то 1:\u001b[0m\u001b[0m\n"
     ]
    },
    {
     "data": {
      "text/latex": [
       "$\\displaystyle \\frac{0.999999999999999 \\left(\\left|{\\left(r^{d}_{0 x}\\right)^{\\frac{3}{2}}}\\right|^{4} + \\left|{\\left(r^{d}_{0 z}\\right)^{\\frac{3}{2}}}\\right|^{4}\\right)}{\\left(\\left(r^{d}_{0 x}\\right)^{2} + \\left(r^{d}_{0 z}\\right)^{2}\\right)^{5}}$"
      ],
      "text/plain": [
       "0.999999999999999*(Abs(r_0^d_x**(3/2))**4 + Abs(r_0^d_z**(3/2))**4)/(r_0^d_x**2 + r_0^d_z**2)**5"
      ]
     },
     "metadata": {},
     "output_type": "display_data"
    },
    {
     "name": "stdout",
     "output_type": "stream",
     "text": [
      "\u001b[0m\u001b[1mЧё то 2:\u001b[0m\u001b[0m\n"
     ]
    },
    {
     "data": {
      "text/latex": [
       "$\\displaystyle \\frac{1.0 \\left(r^{d}_{0 z}\\right)^{6}}{\\left(r^{d}_{0 x}\\right)^{6}}$"
      ],
      "text/plain": [
       "1.0*r_0^d_z**6/r_0^d_x**6"
      ]
     },
     "metadata": {},
     "output_type": "display_data"
    },
    {
     "name": "stdout",
     "output_type": "stream",
     "text": [
      "\u001b[0m\u001b[1mЧё то 3:\u001b[0m\u001b[0m\n"
     ]
    },
    {
     "data": {
      "text/latex": [
       "$\\displaystyle \\frac{1.0 \\left(\\left(r^{d}_{0 x}\\right)^{2} + \\left(r^{d}_{0 z}\\right)^{2}\\right)^{\\frac{5}{4}} \\left|{\\left(r^{d}_{0 x}\\right)^{\\frac{3}{2}}}\\right|}{\\left|{\\left(r^{d}_{0 x}\\right)^{\\frac{3}{2}}}\\right|^{2} + \\left|{\\left(r^{d}_{0 z}\\right)^{\\frac{3}{2}}}\\right|^{2}}$"
      ],
      "text/plain": [
       "1.0*(r_0^d_x**2 + r_0^d_z**2)**(5/4)*Abs(r_0^d_x**(3/2))/(Abs(r_0^d_x**(3/2))**2 + Abs(r_0^d_z**(3/2))**2)"
      ]
     },
     "metadata": {},
     "output_type": "display_data"
    }
   ],
   "source": [
    "y1 = y[0].simplify()\n",
    "y2 = y[1].simplify()\n",
    "\n",
    "kf.my_print(f\"Измерения:\", bold=True)\n",
    "display(y[0])\n",
    "display(y[1])\n",
    "\n",
    "kf.my_print(f\"Чё то 1:\", bold=True)\n",
    "tmp = (1/y1**4 + 1/y2**4).simplify()\n",
    "display(tmp)\n",
    "\n",
    "kf.my_print(f\"Чё то 2:\", bold=True)\n",
    "tmp = ((y1 / y2)**4).simplify()\n",
    "display(tmp)\n",
    "\n",
    "kf.my_print(f\"Чё то 3:\", bold=True)\n",
    "t1 = 1/y1\n",
    "t2 = 1/y2\n",
    "tmp = (t1 / (t1**2 + t2**2)).simplify()\n",
    "display(tmp)"
   ]
  },
  {
   "cell_type": "markdown",
   "id": "de912c32-aea9-4356-bc30-98feea789eb7",
   "metadata": {},
   "source": [
    "*Та не получается ниче без динамики*"
   ]
  },
  {
   "cell_type": "markdown",
   "id": "2fe8b597-4bb0-4ed6-b631-32cb86aac45d",
   "metadata": {
    "jp-MarkdownHeadingCollapsed": true
   },
   "source": [
    "###### <u>Исследование частных случаев</u> (с учётом динамики)"
   ]
  },
  {
   "cell_type": "code",
   "execution_count": 3,
   "id": "d330d967-9826-45b5-95cf-d3792ed951a8",
   "metadata": {},
   "outputs": [
    {
     "data": {
      "text/latex": [
       "$\\displaystyle \\left[\\begin{matrix}\\frac{1.0 \\sqrt{\\left(4 r^{d}_{0 z} + \\frac{2 v^{d}_{0 x}}{ω_{0}} + \\frac{v^{d}_{0 z} \\sin{\\left(t ω_{0} \\right)}}{ω_{0}} + \\left(- 3 r^{d}_{0 z} - \\frac{2 v^{d}_{0 x}}{ω_{0}}\\right) \\cos{\\left(t ω_{0} \\right)}\\right)^{2} + \\left(r^{d}_{0 x} + t ω_{0} \\left(- 24 r^{d}_{0 z} - \\frac{15 v^{d}_{0 x}}{ω_{0}} - \\frac{6 v^{d}_{0 z} \\sin{\\left(t ω_{0} \\right)}}{ω_{0}} - 6 \\left(- 3 r^{d}_{0 z} - \\frac{2 v^{d}_{0 x}}{ω_{0}}\\right) \\cos{\\left(t ω_{0} \\right)}\\right) + \\frac{2 v^{d}_{0 z} \\cos{\\left(t ω_{0} \\right)}}{ω_{0}} - \\frac{2 v^{d}_{0 z}}{ω_{0}} - \\left(- 24 r^{d}_{0 z} - \\frac{16 v^{d}_{0 x}}{ω_{0}} - \\frac{6 v^{d}_{0 z} \\sin{\\left(t ω_{0} \\right)}}{ω_{0}} - 6 \\left(- 3 r^{d}_{0 z} - \\frac{2 v^{d}_{0 x}}{ω_{0}}\\right) \\cos{\\left(t ω_{0} \\right)}\\right) \\sin{\\left(t ω_{0} \\right)}\\right)^{2}} \\left(1.0 \\left(4 r^{d}_{0 z} + \\frac{2 v^{d}_{0 x}}{ω_{0}} + \\frac{v^{d}_{0 z} \\sin{\\left(t ω_{0} \\right)}}{ω_{0}} + \\left(- 3 r^{d}_{0 z} - \\frac{2 v^{d}_{0 x}}{ω_{0}}\\right) \\cos{\\left(t ω_{0} \\right)}\\right)^{2} + 1.0 \\left(r^{d}_{0 x} + t ω_{0} \\left(- 24 r^{d}_{0 z} - \\frac{15 v^{d}_{0 x}}{ω_{0}} - \\frac{6 v^{d}_{0 z} \\sin{\\left(t ω_{0} \\right)}}{ω_{0}} - 6 \\left(- 3 r^{d}_{0 z} - \\frac{2 v^{d}_{0 x}}{ω_{0}}\\right) \\cos{\\left(t ω_{0} \\right)}\\right) + \\frac{2 v^{d}_{0 z} \\cos{\\left(t ω_{0} \\right)}}{ω_{0}} - \\frac{2 v^{d}_{0 z}}{ω_{0}} - \\left(- 24 r^{d}_{0 z} - \\frac{16 v^{d}_{0 x}}{ω_{0}} - \\frac{6 v^{d}_{0 z} \\sin{\\left(t ω_{0} \\right)}}{ω_{0}} - 6 \\left(- 3 r^{d}_{0 z} - \\frac{2 v^{d}_{0 x}}{ω_{0}}\\right) \\cos{\\left(t ω_{0} \\right)}\\right) \\sin{\\left(t ω_{0} \\right)}\\right)^{2}\\right)^{\\frac{3}{4}}}{\\left|{r^{d}_{0 x} + t ω_{0} \\left(- 24 r^{d}_{0 z} - \\frac{15 v^{d}_{0 x}}{ω_{0}} - \\frac{6 v^{d}_{0 z} \\sin{\\left(t ω_{0} \\right)}}{ω_{0}} - 6 \\left(- 3 r^{d}_{0 z} - \\frac{2 v^{d}_{0 x}}{ω_{0}}\\right) \\cos{\\left(t ω_{0} \\right)}\\right) + \\frac{2 v^{d}_{0 z} \\cos{\\left(t ω_{0} \\right)}}{ω_{0}} - \\frac{2 v^{d}_{0 z}}{ω_{0}} - \\left(- 24 r^{d}_{0 z} - \\frac{16 v^{d}_{0 x}}{ω_{0}} - \\frac{6 v^{d}_{0 z} \\sin{\\left(t ω_{0} \\right)}}{ω_{0}} - 6 \\left(- 3 r^{d}_{0 z} - \\frac{2 v^{d}_{0 x}}{ω_{0}}\\right) \\cos{\\left(t ω_{0} \\right)}\\right) \\sin{\\left(t ω_{0} \\right)}}\\right|^{\\frac{3}{2}}}\\\\\\frac{1.0 \\sqrt{\\left(4 r^{d}_{0 z} + \\frac{2 v^{d}_{0 x}}{ω_{0}} + \\frac{v^{d}_{0 z} \\sin{\\left(t ω_{0} \\right)}}{ω_{0}} + \\left(- 3 r^{d}_{0 z} - \\frac{2 v^{d}_{0 x}}{ω_{0}}\\right) \\cos{\\left(t ω_{0} \\right)}\\right)^{2} + \\left(r^{d}_{0 x} + t ω_{0} \\left(- 24 r^{d}_{0 z} - \\frac{15 v^{d}_{0 x}}{ω_{0}} - \\frac{6 v^{d}_{0 z} \\sin{\\left(t ω_{0} \\right)}}{ω_{0}} - 6 \\left(- 3 r^{d}_{0 z} - \\frac{2 v^{d}_{0 x}}{ω_{0}}\\right) \\cos{\\left(t ω_{0} \\right)}\\right) + \\frac{2 v^{d}_{0 z} \\cos{\\left(t ω_{0} \\right)}}{ω_{0}} - \\frac{2 v^{d}_{0 z}}{ω_{0}} - \\left(- 24 r^{d}_{0 z} - \\frac{16 v^{d}_{0 x}}{ω_{0}} - \\frac{6 v^{d}_{0 z} \\sin{\\left(t ω_{0} \\right)}}{ω_{0}} - 6 \\left(- 3 r^{d}_{0 z} - \\frac{2 v^{d}_{0 x}}{ω_{0}}\\right) \\cos{\\left(t ω_{0} \\right)}\\right) \\sin{\\left(t ω_{0} \\right)}\\right)^{2}} \\left(1.0 \\left(4 r^{d}_{0 z} + \\frac{2 v^{d}_{0 x}}{ω_{0}} + \\frac{v^{d}_{0 z} \\sin{\\left(t ω_{0} \\right)}}{ω_{0}} + \\left(- 3 r^{d}_{0 z} - \\frac{2 v^{d}_{0 x}}{ω_{0}}\\right) \\cos{\\left(t ω_{0} \\right)}\\right)^{2} + 1.0 \\left(r^{d}_{0 x} + t ω_{0} \\left(- 24 r^{d}_{0 z} - \\frac{15 v^{d}_{0 x}}{ω_{0}} - \\frac{6 v^{d}_{0 z} \\sin{\\left(t ω_{0} \\right)}}{ω_{0}} - 6 \\left(- 3 r^{d}_{0 z} - \\frac{2 v^{d}_{0 x}}{ω_{0}}\\right) \\cos{\\left(t ω_{0} \\right)}\\right) + \\frac{2 v^{d}_{0 z} \\cos{\\left(t ω_{0} \\right)}}{ω_{0}} - \\frac{2 v^{d}_{0 z}}{ω_{0}} - \\left(- 24 r^{d}_{0 z} - \\frac{16 v^{d}_{0 x}}{ω_{0}} - \\frac{6 v^{d}_{0 z} \\sin{\\left(t ω_{0} \\right)}}{ω_{0}} - 6 \\left(- 3 r^{d}_{0 z} - \\frac{2 v^{d}_{0 x}}{ω_{0}}\\right) \\cos{\\left(t ω_{0} \\right)}\\right) \\sin{\\left(t ω_{0} \\right)}\\right)^{2}\\right)^{\\frac{3}{4}}}{\\left|{4 r^{d}_{0 z} + \\frac{2 v^{d}_{0 x}}{ω_{0}} + \\frac{v^{d}_{0 z} \\sin{\\left(t ω_{0} \\right)}}{ω_{0}} + \\left(- 3 r^{d}_{0 z} - \\frac{2 v^{d}_{0 x}}{ω_{0}}\\right) \\cos{\\left(t ω_{0} \\right)}}\\right|^{\\frac{3}{2}}}\\end{matrix}\\right]$"
      ],
      "text/plain": [
       "Matrix([\n",
       "[1.0*sqrt((4*r_0^d_z + 2*v_0^d_x/ω_0 + v_0^d_z*sin(t*ω_0)/ω_0 + (-3*r_0^d_z - 2*v_0^d_x/ω_0)*cos(t*ω_0))**2 + (r_0^d_x + t*ω_0*(-24*r_0^d_z - 15*v_0^d_x/ω_0 - 6*v_0^d_z*sin(t*ω_0)/ω_0 - 6*(-3*r_0^d_z - 2*v_0^d_x/ω_0)*cos(t*ω_0)) + 2*v_0^d_z*cos(t*ω_0)/ω_0 - 2*v_0^d_z/ω_0 - (-24*r_0^d_z - 16*v_0^d_x/ω_0 - 6*v_0^d_z*sin(t*ω_0)/ω_0 - 6*(-3*r_0^d_z - 2*v_0^d_x/ω_0)*cos(t*ω_0))*sin(t*ω_0))**2)*(1.0*(4*r_0^d_z + 2*v_0^d_x/ω_0 + v_0^d_z*sin(t*ω_0)/ω_0 + (-3*r_0^d_z - 2*v_0^d_x/ω_0)*cos(t*ω_0))**2 + 1.0*(r_0^d_x + t*ω_0*(-24*r_0^d_z - 15*v_0^d_x/ω_0 - 6*v_0^d_z*sin(t*ω_0)/ω_0 - 6*(-3*r_0^d_z - 2*v_0^d_x/ω_0)*cos(t*ω_0)) + 2*v_0^d_z*cos(t*ω_0)/ω_0 - 2*v_0^d_z/ω_0 - (-24*r_0^d_z - 16*v_0^d_x/ω_0 - 6*v_0^d_z*sin(t*ω_0)/ω_0 - 6*(-3*r_0^d_z - 2*v_0^d_x/ω_0)*cos(t*ω_0))*sin(t*ω_0))**2)**(3/4)/Abs(r_0^d_x + t*ω_0*(-24*r_0^d_z - 15*v_0^d_x/ω_0 - 6*v_0^d_z*sin(t*ω_0)/ω_0 - 6*(-3*r_0^d_z - 2*v_0^d_x/ω_0)*cos(t*ω_0)) + 2*v_0^d_z*cos(t*ω_0)/ω_0 - 2*v_0^d_z/ω_0 - (-24*r_0^d_z - 16*v_0^d_x/ω_0 - 6*v_0^d_z*sin(t*ω_0)/ω_0 - 6*(-3*r_0^d_z - 2*v_0^d_x/ω_0)*cos(t*ω_0))*sin(t*ω_0))**(3/2)],\n",
       "[                                                                                                                                                                                       1.0*sqrt((4*r_0^d_z + 2*v_0^d_x/ω_0 + v_0^d_z*sin(t*ω_0)/ω_0 + (-3*r_0^d_z - 2*v_0^d_x/ω_0)*cos(t*ω_0))**2 + (r_0^d_x + t*ω_0*(-24*r_0^d_z - 15*v_0^d_x/ω_0 - 6*v_0^d_z*sin(t*ω_0)/ω_0 - 6*(-3*r_0^d_z - 2*v_0^d_x/ω_0)*cos(t*ω_0)) + 2*v_0^d_z*cos(t*ω_0)/ω_0 - 2*v_0^d_z/ω_0 - (-24*r_0^d_z - 16*v_0^d_x/ω_0 - 6*v_0^d_z*sin(t*ω_0)/ω_0 - 6*(-3*r_0^d_z - 2*v_0^d_x/ω_0)*cos(t*ω_0))*sin(t*ω_0))**2)*(1.0*(4*r_0^d_z + 2*v_0^d_x/ω_0 + v_0^d_z*sin(t*ω_0)/ω_0 + (-3*r_0^d_z - 2*v_0^d_x/ω_0)*cos(t*ω_0))**2 + 1.0*(r_0^d_x + t*ω_0*(-24*r_0^d_z - 15*v_0^d_x/ω_0 - 6*v_0^d_z*sin(t*ω_0)/ω_0 - 6*(-3*r_0^d_z - 2*v_0^d_x/ω_0)*cos(t*ω_0)) + 2*v_0^d_z*cos(t*ω_0)/ω_0 - 2*v_0^d_z/ω_0 - (-24*r_0^d_z - 16*v_0^d_x/ω_0 - 6*v_0^d_z*sin(t*ω_0)/ω_0 - 6*(-3*r_0^d_z - 2*v_0^d_x/ω_0)*cos(t*ω_0))*sin(t*ω_0))**2)**(3/4)/Abs(4*r_0^d_z + 2*v_0^d_x/ω_0 + v_0^d_z*sin(t*ω_0)/ω_0 + (-3*r_0^d_z - 2*v_0^d_x/ω_0)*cos(t*ω_0))**(3/2)]])"
      ]
     },
     "execution_count": 3,
     "metadata": {},
     "output_type": "execute_result"
    }
   ],
   "source": [
    "params_to_sub = []\n",
    "\n",
    "# Движения в плоскости орбиты\n",
    "params_to_sub += [(o.f.r_orf[0][1], 0), (o.c.r_orf[0][1], 0),\n",
    "                  (o.f.v_orf[0][1], 0), (o.c.v_orf[0][1], 0),]\n",
    "\n",
    "# Ориентация в плоскости орбиты\n",
    "# params_to_sub += [(o.f.q[0][1], 0), (o.c.q[0][1], 0),\n",
    "#                   (o.f.q[0][2], 0), (o.c.q[0][2], 0),]\n",
    "\n",
    "# Кубсат неподвижен в ОСК\n",
    "params_to_sub += [(o.c.r_orf[0][0], 0), (o.c.r_orf[0][1], 0), (o.c.r_orf[0][2], 0), \n",
    "                  (o.c.q[0][1], 0), (o.c.q[0][2], 0), (o.c.q[0][3], 0), ]\n",
    "\n",
    "# Динамика\n",
    "c_f = kf.get_c_hkw(o.f.r_orf[0], o.f.v_orf[0], w_0)\n",
    "r_f = kf.r_hkw(c_f, w_0, t)\n",
    "params_to_sub += [(o.f.r_orf[0][0], r_f[0]), (o.f.r_orf[0][1], r_f[1]), (o.f.r_orf[0][2], r_f[2])]\n",
    "\n",
    "y = o.v.MEASURES_VECTOR.subs(params_to_sub)\n",
    "y"
   ]
  },
  {
   "cell_type": "markdown",
   "id": "0a0b3ece-49f8-4ef4-b4f1-f81c86a2913f",
   "metadata": {},
   "source": [
    "**Симметрия относительно уравнений движения**"
   ]
  },
  {
   "cell_type": "code",
   "execution_count": 50,
   "id": "d800fe04-9503-4054-926f-3f903671d090",
   "metadata": {},
   "outputs": [
    {
     "name": "stdout",
     "output_type": "stream",
     "text": [
      "\u001b[0m\u001b[1mРавные знаменатели:\u001b[0m\u001b[0m\n"
     ]
    },
    {
     "data": {
      "text/latex": [
       "$\\displaystyle 0$"
      ],
      "text/plain": [
       "0"
      ]
     },
     "metadata": {},
     "output_type": "display_data"
    },
    {
     "name": "stdout",
     "output_type": "stream",
     "text": [
      "\u001b[0m\u001b[1mСумма числителей:\u001b[0m\u001b[0m\n"
     ]
    },
    {
     "data": {
      "text/latex": [
       "$\\displaystyle 1.0 \\left|{\\frac{4 r^{d}_{0 z} ω_{0} + 2 v^{d}_{0 x} + v^{d}_{0 z} \\sin{\\left(t ω_{0} \\right)} - \\left(3 r^{d}_{0 z} ω_{0} + 2 v^{d}_{0 x}\\right) \\cos{\\left(t ω_{0} \\right)}}{ω_{0}}}\\right|^{3} + 1.0 \\left|{\\frac{2 v^{d}_{0 z} \\cos{\\left(t ω_{0} \\right)} - 2 v^{d}_{0 z} + ω_{0} \\left(r^{d}_{0 x} - 3 t \\left(8 r^{d}_{0 z} ω_{0} + 5 v^{d}_{0 x} + 2 v^{d}_{0 z} \\sin{\\left(t ω_{0} \\right)} - \\left(6 r^{d}_{0 z} ω_{0} + 4 v^{d}_{0 x}\\right) \\cos{\\left(t ω_{0} \\right)}\\right)\\right) + 2 \\left(12 r^{d}_{0 z} ω_{0} + 8 v^{d}_{0 x} + 3 v^{d}_{0 z} \\sin{\\left(t ω_{0} \\right)} - \\left(9 r^{d}_{0 z} ω_{0} + 6 v^{d}_{0 x}\\right) \\cos{\\left(t ω_{0} \\right)}\\right) \\sin{\\left(t ω_{0} \\right)}}{ω_{0}}}\\right|^{3}$"
      ],
      "text/plain": [
       "1.0*Abs((4*r_0^d_z*ω_0 + 2*v_0^d_x + v_0^d_z*sin(t*ω_0) - (3*r_0^d_z*ω_0 + 2*v_0^d_x)*cos(t*ω_0))/ω_0)**3 + 1.0*Abs((2*v_0^d_z*cos(t*ω_0) - 2*v_0^d_z + ω_0*(r_0^d_x - 3*t*(8*r_0^d_z*ω_0 + 5*v_0^d_x + 2*v_0^d_z*sin(t*ω_0) - (6*r_0^d_z*ω_0 + 4*v_0^d_x)*cos(t*ω_0))) + 2*(12*r_0^d_z*ω_0 + 8*v_0^d_x + 3*v_0^d_z*sin(t*ω_0) - (9*r_0^d_z*ω_0 + 6*v_0^d_x)*cos(t*ω_0))*sin(t*ω_0))/ω_0)**3"
      ]
     },
     "metadata": {},
     "output_type": "display_data"
    }
   ],
   "source": [
    "t1_n, t1_d = fraction(t1**2)  # Разделение на числитель и знаменатель\n",
    "t2_n, t2_d = fraction(t2**2)\n",
    "\n",
    "kf.my_print(f\"Равные знаменатели:\", bold=True)\n",
    "display((t1_d - t2_d).simplify())\n",
    "\n",
    "kf.my_print(f\"Сумма числителей:\", bold=True)\n",
    "tmp_01 = ((t1_n + t2_n) ).simplify()\n",
    "display(tmp_01)"
   ]
  }
 ],
 "metadata": {
  "kernelspec": {
   "display_name": "Python 3 (ipykernel)",
   "language": "python",
   "name": "python3"
  },
  "language_info": {
   "codemirror_mode": {
    "name": "ipython",
    "version": 3
   },
   "file_extension": ".py",
   "mimetype": "text/x-python",
   "name": "python",
   "nbconvert_exporter": "python",
   "pygments_lexer": "ipython3",
   "version": "3.10.12"
  }
 },
 "nbformat": 4,
 "nbformat_minor": 5
}
