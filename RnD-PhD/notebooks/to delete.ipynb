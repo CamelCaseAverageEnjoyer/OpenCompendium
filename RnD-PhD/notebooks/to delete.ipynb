{
 "cells": [
  {
   "cell_type": "markdown",
   "id": "bb37cff5-60ad-4bc2-9314-081186218b47",
   "metadata": {},
   "source": [
    "<u>Сравнить матрицы в Matlab</u>"
   ]
  },
  {
   "cell_type": "code",
   "execution_count": 1,
   "id": "98cacb0a-465c-461c-ab8c-aeba70bd703c",
   "metadata": {},
   "outputs": [
    {
     "name": "stdin",
     "output_type": "stream",
     "text": [
      " 1\n"
     ]
    },
    {
     "name": "stdout",
     "output_type": "stream",
     "text": [
      "\n",
      "1\n"
     ]
    }
   ],
   "source": [
    "import clipboard\n",
    "text = input()\n",
    "text = text.replace(\"[[\", \"[\")\n",
    "text = text.replace(\"]]\", \"]\")\n",
    "text = text.replace(\"], [\", \"; \")\n",
    "clipboard.copy(text)\n",
    "print(f\"\\n{text}\")"
   ]
  },
  {
   "cell_type": "markdown",
   "id": "60450b1d-353a-43cb-ab34-6a1ba3cb697b",
   "metadata": {},
   "source": [
    "<u>Ручная проверка на вшивость</u>"
   ]
  },
  {
   "cell_type": "code",
   "execution_count": 1,
   "id": "d2eb86b8-1006-42a5-9091-3a8a90b5e0dd",
   "metadata": {},
   "outputs": [
    {
     "data": {
      "text/latex": [
       "$\\displaystyle \\left(\\frac{y^{2}}{\\left(x^{2} + y^{2} + z^{2}\\right)^{1.0}} + \\frac{z^{2}}{\\left(x^{2} + y^{2} + z^{2}\\right)^{1.0}}\\right)^{1.5}$"
      ],
      "text/plain": [
       "(y**2/(x**2 + y**2 + z**2)**1.0 + z**2/(x**2 + y**2 + z**2)**1.0)**1.5"
      ]
     },
     "metadata": {},
     "output_type": "display_data"
    },
    {
     "data": {
      "text/latex": [
       "$\\displaystyle \\left(\\frac{x^{2}}{\\left(x^{2} + y^{2} + z^{2}\\right)^{1.0}} + \\frac{z^{2}}{\\left(x^{2} + y^{2} + z^{2}\\right)^{1.0}}\\right)^{1.5}$"
      ],
      "text/plain": [
       "(x**2/(x**2 + y**2 + z**2)**1.0 + z**2/(x**2 + y**2 + z**2)**1.0)**1.5"
      ]
     },
     "metadata": {},
     "output_type": "display_data"
    },
    {
     "data": {
      "text/latex": [
       "$\\displaystyle \\left(\\frac{x^{2}}{\\left(x^{2} + y^{2} + z^{2}\\right)^{1.0}} + \\frac{y^{2}}{\\left(x^{2} + y^{2} + z^{2}\\right)^{1.0}}\\right)^{1.5}$"
      ],
      "text/plain": [
       "(x**2/(x**2 + y**2 + z**2)**1.0 + y**2/(x**2 + y**2 + z**2)**1.0)**1.5"
      ]
     },
     "metadata": {},
     "output_type": "display_data"
    }
   ],
   "source": [
    "from sympy import *\n",
    "x, y, z, ax, ay, az = var('x y z a_x a_y a_z')\n",
    "G = (((ay*x)/((x)**2 + (y)**2 + (z)**2)**(1/2) - (ax*y)/((x)**2 + (y)**2 + (z)**2)**(1/2))**2 + ((az*x)/((x)**2 + (y)**2 + (z)**2)**(1/2) - (ax*z)/((x)**2 + (y)**2 + (z)**2)**(1/2))**2 + ((az*y)/((x)**2 + (y)**2 + (z)**2)**(1/2) - (ay*z)/((x)**2 + (y)**2 + (z)**2)**(1/2))**2)**(3/2);\n",
    "display(G.subs([(ax, 1), (ay, 0), (az, 0)]))\n",
    "display(G.subs([(ax, 0), (ay, 1), (az, 0)]))\n",
    "display(G.subs([(ax, 0), (ay, 0), (az, 1)]))"
   ]
  },
  {
   "cell_type": "code",
   "execution_count": 2,
   "id": "a424e17b-dd11-4cff-a2ed-575f7f5995b0",
   "metadata": {},
   "outputs": [
    {
     "name": "stdout",
     "output_type": "stream",
     "text": [
      "\u001b[32mИнициализация проекта kiam-formation\u001b[0m\n",
      "\u001b[31mПараметры не могут быть загружены! Нет файла: kiamformation/data/config_choose.csv\u001b[0m\n",
      "\u001b[32mМатрицы Ф:(6, 6), Q:(3, 3), P:(6, 6), D:(6, 3)\u001b[0m\n",
      "Высота орбиты: 400 км\n",
      "Период орбиты: 1.54 часов\n",
      "Плотность атмосферы: 6.404751331738951e-12 кг/м³\n"
     ]
    },
    {
     "data": {
      "text/latex": [
       "$\\displaystyle \\left(\\frac{y^{2}}{x^{2} + y^{2} + z^{2}} + \\frac{z^{2}}{x^{2} + y^{2} + z^{2}}\\right)^{\\frac{3}{2}}$"
      ],
      "text/plain": [
       "(y**2/(x**2 + y**2 + z**2) + z**2/(x**2 + y**2 + z**2))**(3/2)"
      ]
     },
     "metadata": {},
     "output_type": "display_data"
    },
    {
     "data": {
      "text/latex": [
       "$\\displaystyle \\left(\\frac{x^{2}}{x^{2} + y^{2} + z^{2}} + \\frac{z^{2}}{x^{2} + y^{2} + z^{2}}\\right)^{\\frac{3}{2}}$"
      ],
      "text/plain": [
       "(x**2/(x**2 + y**2 + z**2) + z**2/(x**2 + y**2 + z**2))**(3/2)"
      ]
     },
     "metadata": {},
     "output_type": "display_data"
    },
    {
     "data": {
      "text/latex": [
       "$\\displaystyle \\left(\\frac{x^{2}}{x^{2} + y^{2} + z^{2}} + \\frac{z^{2}}{x^{2} + y^{2} + z^{2}}\\right)^{\\frac{3}{2}}$"
      ],
      "text/plain": [
       "(x**2/(x**2 + y**2 + z**2) + z**2/(x**2 + y**2 + z**2))**(3/2)"
      ]
     },
     "metadata": {},
     "output_type": "display_data"
    }
   ],
   "source": [
    "from common_func import *\n",
    "\n",
    "o, num_params, t, ω, μ, ρ, r_orb, v_orb = init_symbol_params()\n",
    "G1 = kf.local_dipole(v=o.v, r=Matrix([x,y,z]), ind='x')\n",
    "display(G1)\n",
    "G2 = kf.local_dipole(v=o.v, r=Matrix([x,y,z]), ind='y')\n",
    "display(G2)\n",
    "G3 = kf.local_dipole(v=o.v, r=Matrix([x,y,z]), ind='y')\n",
    "display(G3)"
   ]
  },
  {
   "cell_type": "markdown",
   "id": "878f3a18-af5d-4f46-8081-65a9542b43dc",
   "metadata": {},
   "source": [
    "**Так, G хотя бы одинаковый...**"
   ]
  },
  {
   "cell_type": "code",
   "execution_count": 3,
   "id": "ad3d5dcf-b4f2-4405-bf0c-8333e84783c8",
   "metadata": {},
   "outputs": [
    {
     "data": {
      "text/latex": [
       "$\\displaystyle - \\frac{2 x \\left(\\frac{y^{2}}{x^{2} + y^{2} + z^{2}} + \\frac{z^{2}}{x^{2} + y^{2} + z^{2}}\\right)^{\\frac{3}{2}}}{\\left(x^{2} + y^{2} + z^{2}\\right)^{2}} + \\frac{\\sqrt{\\frac{y^{2}}{x^{2} + y^{2} + z^{2}} + \\frac{z^{2}}{x^{2} + y^{2} + z^{2}}} \\left(- \\frac{3 x y^{2}}{\\left(x^{2} + y^{2} + z^{2}\\right)^{2}} - \\frac{3 x z^{2}}{\\left(x^{2} + y^{2} + z^{2}\\right)^{2}}\\right)}{x^{2} + y^{2} + z^{2}}$"
      ],
      "text/plain": [
       "-2*x*(y**2/(x**2 + y**2 + z**2) + z**2/(x**2 + y**2 + z**2))**(3/2)/(x**2 + y**2 + z**2)**2 + sqrt(y**2/(x**2 + y**2 + z**2) + z**2/(x**2 + y**2 + z**2))*(-3*x*y**2/(x**2 + y**2 + z**2)**2 - 3*x*z**2/(x**2 + y**2 + z**2)**2)/(x**2 + y**2 + z**2)"
      ]
     },
     "metadata": {},
     "output_type": "display_data"
    }
   ],
   "source": [
    "z1 = G1 / (x**2 + y**2 + z**2)\n",
    "H3_00 = z1.diff(x)\n",
    "display(H3_00)"
   ]
  },
  {
   "cell_type": "code",
   "execution_count": 4,
   "id": "3443b19d-fd35-4e5d-9033-509fef96025f",
   "metadata": {},
   "outputs": [
    {
     "data": {
      "text/latex": [
       "$\\displaystyle - \\frac{2 x \\left(\\frac{y^{2}}{\\left(x^{2} + y^{2} + z^{2}\\right)^{1.0}} + \\frac{z^{2}}{\\left(x^{2} + y^{2} + z^{2}\\right)^{1.0}}\\right)^{1.5}}{\\left(x^{2} + y^{2} + z^{2}\\right)^{2}} + \\frac{3 \\left(\\frac{y^{2}}{\\left(x^{2} + y^{2} + z^{2}\\right)^{1.0}} + \\frac{z^{2}}{\\left(x^{2} + y^{2} + z^{2}\\right)^{1.0}}\\right)^{0.5} \\left(\\frac{2 x y^{2} \\operatorname{sign}{\\left(x \\right)} \\operatorname{sign}{\\left(\\frac{y}{\\left(x^{2} + y^{2} + z^{2}\\right)^{0.5}} \\right)}}{\\left(x^{2} + y^{2} + z^{2}\\right)^{2.0}} + \\frac{2 x z^{2} \\operatorname{sign}{\\left(x \\right)} \\operatorname{sign}{\\left(\\frac{z}{\\left(x^{2} + y^{2} + z^{2}\\right)^{0.5}} \\right)}}{\\left(x^{2} + y^{2} + z^{2}\\right)^{2.0}}\\right)}{2 x^{2} + 2 y^{2} + 2 z^{2}}$"
      ],
      "text/plain": [
       "-2*x*(y**2/(x**2 + y**2 + z**2)**1.0 + z**2/(x**2 + y**2 + z**2)**1.0)**1.5/(x**2 + y**2 + z**2)**2 + 3*(y**2/(x**2 + y**2 + z**2)**1.0 + z**2/(x**2 + y**2 + z**2)**1.0)**0.5*(2*x*y**2*sign(x)*sign(y/(x**2 + y**2 + z**2)**0.5)/(x**2 + y**2 + z**2)**2.0 + 2*x*z**2*sign(x)*sign(z/(x**2 + y**2 + z**2)**0.5)/(x**2 + y**2 + z**2)**2.0)/(2*x**2 + 2*y**2 + 2*z**2)"
      ]
     },
     "metadata": {},
     "output_type": "display_data"
    }
   ],
   "source": [
    "H1 = (3*(((ay*x)/((x)**2 + (y)**2 + (z)**2)**(1/2) - (ax*y)/((x)**2 + (y)**2 + (z)**2)**(1/2))**2 + ((az*x)/((x)**2 + (y)**2 + (z)**2)**(1/2) - (ax*z)/((x)**2 + (y)**2 + (z)**2)**(1/2))**2 + ((az*y)/((x)**2 + (y)**2 + (z)**2)**(1/2) - (ay*z)/((x)**2 + (y)**2 + (z)**2)**(1/2))**2)**(1/2)*(2*((ay*x)/((x)**2 + (y)**2 + (z)**2)**(1/2) - (ax*y)/((x)**2 + (y)**2 + (z)**2)**(1/2))*sign((ay*x)/((x)**2 + (y)**2 + (z)**2)**(1/2) - (ax*y)/((x)**2 + (y)**2 + (z)**2)**(1/2))*(ay/((x)**2 + (y)**2 + (z)**2)**(1/2) - (ay*x*(x)*sign(x))/((x)**2 + (y)**2 + (z)**2)**(3/2) + (ax*y*(x)*sign(x))/((x)**2 + (y)**2 + (z)**2)**(3/2)) - 2*((az*y)/((x)**2 + (y)**2 + (z)**2)**(1/2) - (ay*z)/((x)**2 + (y)**2 + (z)**2)**(1/2))*sign((az*y)/((x)**2 + (y)**2 + (z)**2)**(1/2) - (ay*z)/((x)**2 + (y)**2 + (z)**2)**(1/2))*((az*y*(x)*sign(x))/((x)**2 + (y)**2 + (z)**2)**(3/2) - (ay*z*(x)*sign(x))/((x)**2 + (y)**2 + (z)**2)**(3/2)) + 2*((az*x)/((x)**2 + (y)**2 + (z)**2)**(1/2) - (ax*z)/((x)**2 + (y)**2 + (z)**2)**(1/2))*sign((az*x)/((x)**2 + (y)**2 + (z)**2)**(1/2) - (ax*z)/((x)**2 + (y)**2 + (z)**2)**(1/2))*(az/((x)**2 + (y)**2 + (z)**2)**(1/2) - (az*x*(x)*sign(x))/((x)**2 + (y)**2 + (z)**2)**(3/2) + (ax*z*(x)*sign(x))/((x)**2 + (y)**2 + (z)**2)**(3/2))))/(2*(x**2 + y**2 + z**2)) - (2*x*(((ay*x)/((x)**2 + (y)**2 + (z)**2)**(1/2) - (ax*y)/((x)**2 + (y)**2 + (z)**2)**(1/2))**2 + ((az*x)/((x)**2 + (y)**2 + (z)**2)**(1/2) - (ax*z)/((x)**2 + (y)**2 + (z)**2)**(1/2))**2 + ((az*y)/((x)**2 + (y)**2 + (z)**2)**(1/2) - (ay*z)/((x)**2 + (y)**2 + (z)**2)**(1/2))**2)**(3/2))/(x**2 + y**2 + z**2)**2\n",
    "H1_00 = H1.subs([(ax, 1), (ay, 0), (az, 0)])\n",
    "display(H1_00)\n",
    "# display(H1.subs([(ax, 0), (ay, 1), (az, 0)]))\n",
    "# display(H1.subs([(ax, 0), (ay, 0), (az, 1)]))"
   ]
  },
  {
   "cell_type": "code",
   "execution_count": 5,
   "id": "f0a80630-6a76-40c8-9e30-62833ec819da",
   "metadata": {},
   "outputs": [],
   "source": [
    "r_d, v_d, q_d, ω_d = get_state_vector(func=kf.get_func, obj='d', n=1)\n",
    "r_c, v_c, q_c, ω_c = get_state_vector(func=kf.get_func, obj='c', n=1)\n",
    "o.v.GAIN_MODEL_C_N = 3\n",
    "o.v.GAIN_MODEL_F_N = 0\n",
    "o.v.init_choice_params()\n",
    "o.c.gain_mode = o.v.GAIN_MODEL_C = \"3 antennas\"\n",
    "o.f.gain_mode = o.v.GAIN_MODEL_F = \"isotropic\"\n",
    "o.c.n = 1\n",
    "o.f.n = 1\n",
    "o.v.NAVIGATION_ANGLES = False\n",
    "o.v.DYNAMIC_MODEL['aero drag'] = False\n",
    "o.v.MULTI_ANTENNA_TAKE = True\n",
    "o.v.MULTI_ANTENNA_SEND = True\n",
    "o.f.r_orf, o.f.v_orf, o.f.q, o.f.w_brf = r_d, v_d, q_d, ω_d\n",
    "o.c.r_orf, o.c.v_orf, o.c.q, o.c.w_brf = [Matrix([0,0,0])], v_c, q_c, ω_c\n",
    "H2 = kf.h_matrix(t=t, v=o.v, f=o.f, c=o.c, r_f=r_d, r_c=[Matrix([0,0,0])], \n",
    "                          q_f=[Matrix(q_d[i][1:4]) for i in range(o.f.n)], q_c=[Matrix((-1/2, -1/2, -1/2)) for i in range(o.c.n)])\n",
    "H2_00 = H2[0,0]"
   ]
  },
  {
   "cell_type": "code",
   "execution_count": 6,
   "id": "027b8b1d-3fea-4c06-aabf-94f3689fa462",
   "metadata": {},
   "outputs": [
    {
     "data": {
      "text/latex": [
       "$\\displaystyle \\frac{\\sqrt{\\frac{\\left(r^{d}_{0 y}\\right)^{2}{\\left(t \\right)}}{\\left(r^{d}_{0 x}\\right)^{2}{\\left(t \\right)} + \\left(r^{d}_{0 y}\\right)^{2}{\\left(t \\right)} + \\left(r^{d}_{0 z}\\right)^{2}{\\left(t \\right)}} + \\frac{\\left(r^{d}_{0 z}\\right)^{2}{\\left(t \\right)}}{\\left(r^{d}_{0 x}\\right)^{2}{\\left(t \\right)} + \\left(r^{d}_{0 y}\\right)^{2}{\\left(t \\right)} + \\left(r^{d}_{0 z}\\right)^{2}{\\left(t \\right)}}} \\left(- \\frac{3 r^{d}_{0 x}{\\left(t \\right)} \\left(r^{d}_{0 y}\\right)^{2}{\\left(t \\right)}}{\\left(\\left(r^{d}_{0 x}\\right)^{2}{\\left(t \\right)} + \\left(r^{d}_{0 y}\\right)^{2}{\\left(t \\right)} + \\left(r^{d}_{0 z}\\right)^{2}{\\left(t \\right)}\\right)^{2}} - \\frac{3 r^{d}_{0 x}{\\left(t \\right)} \\left(r^{d}_{0 z}\\right)^{2}{\\left(t \\right)}}{\\left(\\left(r^{d}_{0 x}\\right)^{2}{\\left(t \\right)} + \\left(r^{d}_{0 y}\\right)^{2}{\\left(t \\right)} + \\left(r^{d}_{0 z}\\right)^{2}{\\left(t \\right)}\\right)^{2}}\\right)}{\\left(r^{d}_{0 x}\\right)^{2}{\\left(t \\right)} + \\left(r^{d}_{0 y}\\right)^{2}{\\left(t \\right)} + \\left(r^{d}_{0 z}\\right)^{2}{\\left(t \\right)}} - \\frac{2 \\left(\\frac{\\left(r^{d}_{0 y}\\right)^{2}{\\left(t \\right)}}{\\left(r^{d}_{0 x}\\right)^{2}{\\left(t \\right)} + \\left(r^{d}_{0 y}\\right)^{2}{\\left(t \\right)} + \\left(r^{d}_{0 z}\\right)^{2}{\\left(t \\right)}} + \\frac{\\left(r^{d}_{0 z}\\right)^{2}{\\left(t \\right)}}{\\left(r^{d}_{0 x}\\right)^{2}{\\left(t \\right)} + \\left(r^{d}_{0 y}\\right)^{2}{\\left(t \\right)} + \\left(r^{d}_{0 z}\\right)^{2}{\\left(t \\right)}}\\right)^{1.5} r^{d}_{0 x}{\\left(t \\right)}}{\\left(\\left(r^{d}_{0 x}\\right)^{2}{\\left(t \\right)} + \\left(r^{d}_{0 y}\\right)^{2}{\\left(t \\right)} + \\left(r^{d}_{0 z}\\right)^{2}{\\left(t \\right)}\\right)^{2}}$"
      ],
      "text/plain": [
       "sqrt(r_0^d_y(t)**2/(r_0^d_x(t)**2 + r_0^d_y(t)**2 + r_0^d_z(t)**2) + r_0^d_z(t)**2/(r_0^d_x(t)**2 + r_0^d_y(t)**2 + r_0^d_z(t)**2))*(-3*r_0^d_x(t)*r_0^d_y(t)**2/(r_0^d_x(t)**2 + r_0^d_y(t)**2 + r_0^d_z(t)**2)**2 - 3*r_0^d_x(t)*r_0^d_z(t)**2/(r_0^d_x(t)**2 + r_0^d_y(t)**2 + r_0^d_z(t)**2)**2)/(r_0^d_x(t)**2 + r_0^d_y(t)**2 + r_0^d_z(t)**2) - 2*(r_0^d_y(t)**2/(r_0^d_x(t)**2 + r_0^d_y(t)**2 + r_0^d_z(t)**2) + r_0^d_z(t)**2/(r_0^d_x(t)**2 + r_0^d_y(t)**2 + r_0^d_z(t)**2))**1.5*r_0^d_x(t)/(r_0^d_x(t)**2 + r_0^d_y(t)**2 + r_0^d_z(t)**2)**2"
      ]
     },
     "execution_count": 6,
     "metadata": {},
     "output_type": "execute_result"
    }
   ],
   "source": [
    "H2_00"
   ]
  },
  {
   "cell_type": "code",
   "execution_count": 7,
   "id": "19e8a662-ad93-4a1f-a34f-1a9f99708504",
   "metadata": {},
   "outputs": [
    {
     "data": {
      "text/plain": [
       "-2.2826372907384494e-05"
      ]
     },
     "execution_count": 7,
     "metadata": {},
     "output_type": "execute_result"
    }
   ],
   "source": [
    "float(H3_00.subs([(x, 10), (y, 20), (z, 30)]))"
   ]
  },
  {
   "cell_type": "code",
   "execution_count": 8,
   "id": "4559f434-7f77-4f6a-ad56-b8b0f398d177",
   "metadata": {},
   "outputs": [
    {
     "data": {
      "text/latex": [
       "$\\displaystyle 6.29755048215271 \\cdot 10^{-6}$"
      ],
      "text/plain": [
       "6.29755048215271e-6"
      ]
     },
     "execution_count": 8,
     "metadata": {},
     "output_type": "execute_result"
    }
   ],
   "source": [
    "H2_00.subs([(o.f.r_orf[0][0], 10), (o.f.r_orf[0][1], 20), (o.f.r_orf[0][2], 30), (t, 0)])"
   ]
  },
  {
   "cell_type": "code",
   "execution_count": 9,
   "id": "026d7eea-3277-4d50-9162-e833535f92c2",
   "metadata": {},
   "outputs": [
    {
     "data": {
      "text/latex": [
       "$\\displaystyle 4.5652745814769 \\cdot 10^{-6}$"
      ],
      "text/plain": [
       "4.56527458147690e-6"
      ]
     },
     "execution_count": 9,
     "metadata": {},
     "output_type": "execute_result"
    }
   ],
   "source": [
    "H1_00.subs([(x, 10), (y, 20), (z, 30)])"
   ]
  },
  {
   "cell_type": "markdown",
   "id": "945b0fd4-a63c-4505-9e34-11ad9065c8fe",
   "metadata": {},
   "source": [
    "**А ВОТ МАТРИЦА H РАЗНАЯ**<br>\n",
    "а че с измерениями"
   ]
  },
  {
   "cell_type": "code",
   "execution_count": 75,
   "id": "50f7c6a9-de7e-4a4d-86db-d6ceae7eb678",
   "metadata": {},
   "outputs": [
    {
     "data": {
      "text/latex": [
       "$\\displaystyle \\frac{\\left(\\frac{\\left(r^{d}_{0 x}\\right)^{2}{\\left(t \\right)}}{\\left(r^{d}_{0 x}\\right)^{2}{\\left(t \\right)} + \\left(r^{d}_{0 y}\\right)^{2}{\\left(t \\right)} + \\left(r^{d}_{0 z}\\right)^{2}{\\left(t \\right)}} + \\frac{\\left(r^{d}_{0 z}\\right)^{2}{\\left(t \\right)}}{\\left(r^{d}_{0 x}\\right)^{2}{\\left(t \\right)} + \\left(r^{d}_{0 y}\\right)^{2}{\\left(t \\right)} + \\left(r^{d}_{0 z}\\right)^{2}{\\left(t \\right)}}\\right)^{\\frac{3}{2}}}{\\left(r^{d}_{0 x}\\right)^{2}{\\left(t \\right)} + \\left(r^{d}_{0 y}\\right)^{2}{\\left(t \\right)} + \\left(r^{d}_{0 z}\\right)^{2}{\\left(t \\right)}}$"
      ],
      "text/plain": [
       "(r_0^d_x(t)**2/(r_0^d_x(t)**2 + r_0^d_y(t)**2 + r_0^d_z(t)**2) + r_0^d_z(t)**2/(r_0^d_x(t)**2 + r_0^d_y(t)**2 + r_0^d_z(t)**2))**(3/2)/(r_0^d_x(t)**2 + r_0^d_y(t)**2 + r_0^d_z(t)**2)"
      ]
     },
     "execution_count": 75,
     "metadata": {},
     "output_type": "execute_result"
    }
   ],
   "source": [
    "# В коде\n",
    "y, notes = kf.measure_antennas_power(c=o.c, f=o.f, v=o.v, p=o.p, j=len(r_d), estimated_params=r_d, t=t)\n",
    "y[0]"
   ]
  },
  {
   "cell_type": "code",
   "execution_count": 73,
   "id": "179a34f9-e564-4db2-9e30-4cd2b1547056",
   "metadata": {},
   "outputs": [
    {
     "data": {
      "text/latex": [
       "$\\displaystyle \\frac{\\left(\\frac{y^{2}}{x^{2} + y^{2} + z^{2}} + \\frac{z^{2}}{x^{2} + y^{2} + z^{2}}\\right)^{\\frac{3}{2}}}{x^{2} + y^{2} + z^{2}}$"
      ],
      "text/plain": [
       "(y**2/(x**2 + y**2 + z**2) + z**2/(x**2 + y**2 + z**2))**(3/2)/(x**2 + y**2 + z**2)"
      ]
     },
     "execution_count": 73,
     "metadata": {},
     "output_type": "execute_result"
    }
   ],
   "source": [
    "# Как должно быть\n",
    "z1"
   ]
  },
  {
   "cell_type": "markdown",
   "id": "2c3a48b2-65ea-4a05-a90a-d63c7bd5c409",
   "metadata": {},
   "source": [
    "а че с гейном"
   ]
  },
  {
   "cell_type": "code",
   "execution_count": 81,
   "id": "e225acb0-be49-417e-8949-6be2a8bb2bea",
   "metadata": {},
   "outputs": [
    {
     "data": {
      "text/latex": [
       "$\\displaystyle \\left(\\frac{y^{2}}{x^{2} + y^{2} + z^{2}} + \\frac{z^{2}}{x^{2} + y^{2} + z^{2}}\\right)^{\\frac{3}{2}}$"
      ],
      "text/plain": [
       "(y**2/(x**2 + y**2 + z**2) + z**2/(x**2 + y**2 + z**2))**(3/2)"
      ]
     },
     "metadata": {},
     "output_type": "display_data"
    },
    {
     "data": {
      "text/latex": [
       "$\\displaystyle \\left(\\frac{x^{2}}{x^{2} + y^{2} + z^{2}} + \\frac{z^{2}}{x^{2} + y^{2} + z^{2}}\\right)^{\\frac{3}{2}}$"
      ],
      "text/plain": [
       "(x**2/(x**2 + y**2 + z**2) + z**2/(x**2 + y**2 + z**2))**(3/2)"
      ]
     },
     "metadata": {},
     "output_type": "display_data"
    },
    {
     "data": {
      "text/latex": [
       "$\\displaystyle \\left(\\frac{x^{2}}{x^{2} + y^{2} + z^{2}} + \\frac{y^{2}}{x^{2} + y^{2} + z^{2}}\\right)^{\\frac{3}{2}}$"
      ],
      "text/plain": [
       "(x**2/(x**2 + y**2 + z**2) + y**2/(x**2 + y**2 + z**2))**(3/2)"
      ]
     },
     "metadata": {},
     "output_type": "display_data"
    }
   ],
   "source": [
    "Gmy1 = kf.get_gain(v=o.v, obj=o.c, r=Matrix([x,y,z]), if_take=False, if_send=True)\n",
    "for g in Gmy1:\n",
    "    display(g)"
   ]
  },
  {
   "cell_type": "code",
   "execution_count": null,
   "id": "23fc747e-475c-4f70-8926-e9f203545fe8",
   "metadata": {},
   "outputs": [],
   "source": []
  },
  {
   "cell_type": "markdown",
   "id": "24618263-1451-4941-a5e5-e535d2c79fd9",
   "metadata": {},
   "source": []
  }
 ],
 "metadata": {
  "kernelspec": {
   "display_name": "Python 3 (ipykernel)",
   "language": "python",
   "name": "python3"
  },
  "language_info": {
   "codemirror_mode": {
    "name": "ipython",
    "version": 3
   },
   "file_extension": ".py",
   "mimetype": "text/x-python",
   "name": "python",
   "nbconvert_exporter": "python",
   "pygments_lexer": "ipython3",
   "version": "3.10.12"
  }
 },
 "nbformat": 4,
 "nbformat_minor": 5
}
