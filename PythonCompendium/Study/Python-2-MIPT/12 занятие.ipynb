{
 "cells": [
  {
   "cell_type": "markdown",
   "id": "415edbc2",
   "metadata": {},
   "source": [
    "### Занятие №12: Полиморфизм внутри и вне здравого смысла."
   ]
  },
  {
   "cell_type": "markdown",
   "id": "b82ff661",
   "metadata": {},
   "source": [
    "###### <span style=\"color:#0ab49a\">Задача:</span> смоделировать функции, возвращающие импульс и момент импульса в симольном и численном вычислении \n",
    "- Импульс: $$\\vec{p} = m \\vec{v}$$\n",
    "- Момент импульса: $$\\vec{M} = m [\\vec{r}\\times\\vec{v}]$$"
   ]
  },
  {
   "cell_type": "markdown",
   "id": "597469e3",
   "metadata": {},
   "source": [
    "<u>Вариант 1</u>"
   ]
  },
  {
   "cell_type": "code",
   "execution_count": 36,
   "id": "2b5181b0",
   "metadata": {},
   "outputs": [],
   "source": [
    "def get_impetus(m, v):\n",
    "    return m * v\n",
    "\n",
    "def cross(a, b):\n",
    "    if isinstance(a, np.ndarray | list):\n",
    "        return np.cross(a, b)\n",
    "    else:\n",
    "        return a.cross(b)\n",
    "\n",
    "def get_momentum(m, r, v):\n",
    "    return m * cross(r, v)"
   ]
  },
  {
   "cell_type": "markdown",
   "id": "f88cc205",
   "metadata": {},
   "source": [
    "<u>Вариант 2</u>"
   ]
  },
  {
   "cell_type": "code",
   "execution_count": 28,
   "id": "8e33cb82-6935-457a-9d4f-4f5afdffdc4a",
   "metadata": {},
   "outputs": [],
   "source": [
    "def decorator(if_arg, is_type):\n",
    "    def actual_decorator(func):\n",
    "        def wrapper(*args, **kwargs):\n",
    "\n",
    "            if isinstance(args[if_arg[0]], is_type):\n",
    "                kwargs['cross'] = np.cross\n",
    "            else:\n",
    "                kwargs['cross'] = lambda a,b: a.cross(b)\n",
    "            \n",
    "            value = func(*args, **kwargs)\n",
    "            \n",
    "            return value\n",
    "            \n",
    "        return wrapper\n",
    "    return actual_decorator\n",
    "\n",
    "def get_impetus(m, v):\n",
    "    return m * v\n",
    "\n",
    "@decorator(if_arg = [0, 'm'], is_type=(int, float))\n",
    "def get_momentum(m, r, v, **kwargs):\n",
    "    return m * kwargs['cross'](r, v)"
   ]
  },
  {
   "cell_type": "markdown",
   "id": "074b578f-d3cd-46e4-8c36-c75e2b8a8d34",
   "metadata": {},
   "source": [
    "<u>Численное вычисление</u>"
   ]
  },
  {
   "cell_type": "code",
   "execution_count": 34,
   "id": "c17e856f-20d6-47cc-916f-b07108634989",
   "metadata": {},
   "outputs": [
    {
     "name": "stdout",
     "output_type": "stream",
     "text": [
      "Импульс = [1. 2. 3.]\n",
      "Момент импульса = [10. -5.  0.]\n"
     ]
    }
   ],
   "source": [
    "import numpy as np\n",
    "\n",
    "m = 1.\n",
    "v = np.array([1, 2, 3])\n",
    "r = np.array([2, 4, 1])\n",
    "\n",
    "print(f\"Импульс = {get_impetus(m, v)}\")\n",
    "print(f\"Момент импульса = {get_momentum(m, r, v)}\")"
   ]
  },
  {
   "cell_type": "markdown",
   "id": "974e6491-8f6e-4a05-828e-50970548f71a",
   "metadata": {},
   "source": [
    "<u>Символьное вычисление</u>"
   ]
  },
  {
   "cell_type": "code",
   "execution_count": 35,
   "id": "54c46c43-f14c-4db1-858d-b698a8d3a9eb",
   "metadata": {},
   "outputs": [
    {
     "name": "stdout",
     "output_type": "stream",
     "text": [
      "Импульс = Matrix([[m*v_x], [m*v_y], [m*v_z]])\n",
      "Момент импульса = Matrix([[m*(-v_y*z + v_z*y)], [m*(v_x*z - v_z*x)], [m*(-v_x*y + v_y*x)]])\n"
     ]
    }
   ],
   "source": [
    "import sympy as sp\n",
    "\n",
    "m, v1, v2, v3, r1, r2, r3 = sp.var('m v_x v_y v_z x y z')\n",
    "v = sp.Matrix([v1, v2, v3])\n",
    "r = sp.Matrix([r1, r2, r3])\n",
    "\n",
    "print(f\"Импульс = {get_impetus(m, v)}\")\n",
    "print(f\"Момент импульса = {get_momentum(m, r, v)}\")"
   ]
  },
  {
   "cell_type": "markdown",
   "id": "f71bd6bc-e666-4b9a-b433-9113697905ad",
   "metadata": {},
   "source": [
    "###### обычный декоратор"
   ]
  },
  {
   "cell_type": "code",
   "execution_count": null,
   "id": "3c2b790d-6711-4ab1-8e53-10c21e5d429c",
   "metadata": {},
   "outputs": [],
   "source": [
    "def decorator(func):\n",
    "    def wrapper(*args, **kwargs):\n",
    "        value = func(*args, **kwargs)\n",
    "        return value\n",
    "    return wrapper"
   ]
  },
  {
   "cell_type": "markdown",
   "id": "1db21d41-95ed-4107-9c26-cb2b4344beb1",
   "metadata": {},
   "source": [
    "###### тройной декоратор"
   ]
  },
  {
   "cell_type": "code",
   "execution_count": null,
   "id": "3325e489-e056-4207-9c53-77d6e8ec36a1",
   "metadata": {},
   "outputs": [],
   "source": [
    "def decorator():\n",
    "    def actual_decorator(func):\n",
    "        def wrapper(*args, **kwargs):\n",
    "            value = func(*args, **kwargs)\n",
    "            return value\n",
    "        return wrapper\n",
    "    return actual_decorator"
   ]
  }
 ],
 "metadata": {
  "kernelspec": {
   "display_name": "Python 3 (ipykernel)",
   "language": "python",
   "name": "python3"
  },
  "language_info": {
   "codemirror_mode": {
    "name": "ipython",
    "version": 3
   },
   "file_extension": ".py",
   "mimetype": "text/x-python",
   "name": "python",
   "nbconvert_exporter": "python",
   "pygments_lexer": "ipython3",
   "version": "3.10.12"
  }
 },
 "nbformat": 4,
 "nbformat_minor": 5
}
