{
 "cells": [
  {
   "cell_type": "markdown",
   "id": "d9cca75d-31c9-430f-bb26-349973e2282c",
   "metadata": {},
   "source": [
    "##### <u>NEF to JPG</u>"
   ]
  },
  {
   "cell_type": "code",
   "execution_count": null,
   "id": "4eb5c53e-a562-447d-ac7c-0c8cecb4d633",
   "metadata": {},
   "outputs": [],
   "source": [
    "a=\"photofolder/*.NEF\"\n",
    "\n",
    "# Import\n",
    "import rawpy\n",
    "import imageio\n",
    "from tqdm.notebook import tqdm\n",
    "\n",
    "# Algorythm\n",
    "for i in tqdm(a):\n",
    "    with rawpy.imread(i) as raw:\n",
    "        rgb = raw.postprocess()\n",
    "    imageio.imsave(i.replace('NEF','jpg'), rgb)"
   ]
  },
  {
   "cell_type": "markdown",
   "id": "6c51fcf4-f14c-43b8-8651-3bfb8088cb46",
   "metadata": {},
   "source": [
    "##### <u>MP4 to GIF</u>"
   ]
  },
  {
   "cell_type": "code",
   "execution_count": 4,
   "id": "be7fa4ee-b6fa-4d4b-a59e-c7b8cb50b417",
   "metadata": {
    "scrolled": true
   },
   "outputs": [],
   "source": [
    "a=\"storage/files/iss-1.mp4\"\n",
    "\n",
    "import os\n",
    "os.system(f\"ffmpeg -i {a} -an -vf setpts=0.05*PTS {a.replace('.mp4', '_tmp.mp4')}\")\n",
    "os.system(f\"ffmpeg -i {a.replace('.mp4', '_tmp.mp4')} {a.replace('.mp4', '.gif')}\")\n",
    "os.remove(a.replace('.mp4', '_tmp.mp4'))"
   ]
  }
 ],
 "metadata": {
  "kernelspec": {
   "display_name": "Python 3 (ipykernel)",
   "language": "python",
   "name": "python3"
  },
  "language_info": {
   "codemirror_mode": {
    "name": "ipython",
    "version": 3
   },
   "file_extension": ".py",
   "mimetype": "text/x-python",
   "name": "python",
   "nbconvert_exporter": "python",
   "pygments_lexer": "ipython3",
   "version": "3.10.12"
  }
 },
 "nbformat": 4,
 "nbformat_minor": 5
}
